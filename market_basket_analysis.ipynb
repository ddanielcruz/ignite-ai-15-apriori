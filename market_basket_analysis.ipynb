{
 "cells": [
  {
   "cell_type": "code",
   "execution_count": 1,
   "metadata": {},
   "outputs": [],
   "source": [
    "import pandas as pd\n",
    "import numpy as np\n",
    "import matplotlib.pyplot as plt\n",
    "import seaborn as sns\n",
    "import plotly.express as px\n",
    "import plotly.io as pio\n",
    "from plotly.subplots import make_subplots\n",
    "from mlxtend.frequent_patterns import apriori, association_rules\n",
    "\n",
    "\n",
    "# Set Plotly theme\n",
    "pio.templates.default = \"plotly_dark\""
   ]
  },
  {
   "cell_type": "markdown",
   "metadata": {},
   "source": [
    "## Loading the transactions\n"
   ]
  },
  {
   "cell_type": "code",
   "execution_count": 2,
   "metadata": {},
   "outputs": [],
   "source": [
    "df_transactions = pd.read_csv(\"./data/transactions.csv\")"
   ]
  },
  {
   "cell_type": "code",
   "execution_count": 3,
   "metadata": {},
   "outputs": [
    {
     "name": "stdout",
     "output_type": "stream",
     "text": [
      "<class 'pandas.core.frame.DataFrame'>\n",
      "RangeIndex: 4539 entries, 0 to 4538\n",
      "Data columns (total 4 columns):\n",
      " #   Column   Non-Null Count  Dtype \n",
      "---  ------   --------------  ----- \n",
      " 0   POS Txn  4539 non-null   uint64\n",
      " 1   Dept     4539 non-null   object\n",
      " 2   ID       4539 non-null   int64 \n",
      " 3   Sales U  4539 non-null   int64 \n",
      "dtypes: int64(2), object(1), uint64(1)\n",
      "memory usage: 142.0+ KB\n"
     ]
    }
   ],
   "source": [
    "df_transactions.info()"
   ]
  },
  {
   "cell_type": "code",
   "execution_count": 4,
   "metadata": {},
   "outputs": [
    {
     "data": {
      "text/html": [
       "<div>\n",
       "<style scoped>\n",
       "    .dataframe tbody tr th:only-of-type {\n",
       "        vertical-align: middle;\n",
       "    }\n",
       "\n",
       "    .dataframe tbody tr th {\n",
       "        vertical-align: top;\n",
       "    }\n",
       "\n",
       "    .dataframe thead th {\n",
       "        text-align: right;\n",
       "    }\n",
       "</style>\n",
       "<table border=\"1\" class=\"dataframe\">\n",
       "  <thead>\n",
       "    <tr style=\"text-align: right;\">\n",
       "      <th></th>\n",
       "      <th>POS Txn</th>\n",
       "      <th>Dept</th>\n",
       "      <th>ID</th>\n",
       "      <th>Sales U</th>\n",
       "    </tr>\n",
       "  </thead>\n",
       "  <tbody>\n",
       "    <tr>\n",
       "      <th>0</th>\n",
       "      <td>16120100160021008773</td>\n",
       "      <td>0261:HOSIERY</td>\n",
       "      <td>250</td>\n",
       "      <td>2</td>\n",
       "    </tr>\n",
       "    <tr>\n",
       "      <th>1</th>\n",
       "      <td>16120100160021008773</td>\n",
       "      <td>0634:VITAMINS &amp; HLTH AIDS</td>\n",
       "      <td>102</td>\n",
       "      <td>1</td>\n",
       "    </tr>\n",
       "    <tr>\n",
       "      <th>2</th>\n",
       "      <td>16120100160021008773</td>\n",
       "      <td>0879:PET SUPPLIES</td>\n",
       "      <td>158</td>\n",
       "      <td>2</td>\n",
       "    </tr>\n",
       "    <tr>\n",
       "      <th>3</th>\n",
       "      <td>16120100160021008773</td>\n",
       "      <td>0973:CANDY</td>\n",
       "      <td>175</td>\n",
       "      <td>2</td>\n",
       "    </tr>\n",
       "    <tr>\n",
       "      <th>4</th>\n",
       "      <td>16120100160021008773</td>\n",
       "      <td>0982:SPIRITS</td>\n",
       "      <td>176</td>\n",
       "      <td>1</td>\n",
       "    </tr>\n",
       "  </tbody>\n",
       "</table>\n",
       "</div>"
      ],
      "text/plain": [
       "                POS Txn                       Dept   ID  Sales U\n",
       "0  16120100160021008773               0261:HOSIERY  250        2\n",
       "1  16120100160021008773  0634:VITAMINS & HLTH AIDS  102        1\n",
       "2  16120100160021008773          0879:PET SUPPLIES  158        2\n",
       "3  16120100160021008773                 0973:CANDY  175        2\n",
       "4  16120100160021008773               0982:SPIRITS  176        1"
      ]
     },
     "execution_count": 4,
     "metadata": {},
     "output_type": "execute_result"
    }
   ],
   "source": [
    "df_transactions.head()"
   ]
  },
  {
   "cell_type": "markdown",
   "metadata": {},
   "source": [
    "## Exploratory Data Analysis\n"
   ]
  },
  {
   "cell_type": "code",
   "execution_count": 5,
   "metadata": {},
   "outputs": [
    {
     "data": {
      "text/html": [
       "<div>\n",
       "<style scoped>\n",
       "    .dataframe tbody tr th:only-of-type {\n",
       "        vertical-align: middle;\n",
       "    }\n",
       "\n",
       "    .dataframe tbody tr th {\n",
       "        vertical-align: top;\n",
       "    }\n",
       "\n",
       "    .dataframe thead th {\n",
       "        text-align: right;\n",
       "    }\n",
       "</style>\n",
       "<table border=\"1\" class=\"dataframe\">\n",
       "  <thead>\n",
       "    <tr style=\"text-align: right;\">\n",
       "      <th></th>\n",
       "      <th>transaction_id</th>\n",
       "      <th>department</th>\n",
       "      <th>department_id</th>\n",
       "      <th>units</th>\n",
       "    </tr>\n",
       "  </thead>\n",
       "  <tbody>\n",
       "    <tr>\n",
       "      <th>0</th>\n",
       "      <td>16120100160021008773</td>\n",
       "      <td>0261:HOSIERY</td>\n",
       "      <td>250</td>\n",
       "      <td>2</td>\n",
       "    </tr>\n",
       "    <tr>\n",
       "      <th>1</th>\n",
       "      <td>16120100160021008773</td>\n",
       "      <td>0634:VITAMINS &amp; HLTH AIDS</td>\n",
       "      <td>102</td>\n",
       "      <td>1</td>\n",
       "    </tr>\n",
       "    <tr>\n",
       "      <th>2</th>\n",
       "      <td>16120100160021008773</td>\n",
       "      <td>0879:PET SUPPLIES</td>\n",
       "      <td>158</td>\n",
       "      <td>2</td>\n",
       "    </tr>\n",
       "    <tr>\n",
       "      <th>3</th>\n",
       "      <td>16120100160021008773</td>\n",
       "      <td>0973:CANDY</td>\n",
       "      <td>175</td>\n",
       "      <td>2</td>\n",
       "    </tr>\n",
       "    <tr>\n",
       "      <th>4</th>\n",
       "      <td>16120100160021008773</td>\n",
       "      <td>0982:SPIRITS</td>\n",
       "      <td>176</td>\n",
       "      <td>1</td>\n",
       "    </tr>\n",
       "  </tbody>\n",
       "</table>\n",
       "</div>"
      ],
      "text/plain": [
       "         transaction_id                 department  department_id  units\n",
       "0  16120100160021008773               0261:HOSIERY            250      2\n",
       "1  16120100160021008773  0634:VITAMINS & HLTH AIDS            102      1\n",
       "2  16120100160021008773          0879:PET SUPPLIES            158      2\n",
       "3  16120100160021008773                 0973:CANDY            175      2\n",
       "4  16120100160021008773               0982:SPIRITS            176      1"
      ]
     },
     "execution_count": 5,
     "metadata": {},
     "output_type": "execute_result"
    }
   ],
   "source": [
    "# Rename columns\n",
    "df_transactions.columns = [\"transaction_id\", \"department\", \"department_id\", \"units\"]\n",
    "df_transactions.head()"
   ]
  },
  {
   "cell_type": "code",
   "execution_count": 6,
   "metadata": {},
   "outputs": [
    {
     "name": "stdout",
     "output_type": "stream",
     "text": [
      "Number of departments: 160\n"
     ]
    }
   ],
   "source": [
    "num_of_departments = df_transactions[\"department\"].nunique()\n",
    "print(f\"Number of departments: {num_of_departments}\")"
   ]
  },
  {
   "cell_type": "code",
   "execution_count": 7,
   "metadata": {},
   "outputs": [
    {
     "name": "stdout",
     "output_type": "stream",
     "text": [
      "Number of department IDs: 160\n"
     ]
    }
   ],
   "source": [
    "num_of_departments = df_transactions[\"department_id\"].nunique()\n",
    "print(f\"Number of department IDs: {num_of_departments}\")"
   ]
  },
  {
   "cell_type": "code",
   "execution_count": 8,
   "metadata": {},
   "outputs": [
    {
     "name": "stdout",
     "output_type": "stream",
     "text": [
      "Number of transactions: 2064\n"
     ]
    }
   ],
   "source": [
    "num_of_tx = df_transactions[\"transaction_id\"].nunique()\n",
    "print(f\"Number of transactions: {num_of_tx}\")"
   ]
  },
  {
   "cell_type": "code",
   "execution_count": 9,
   "metadata": {},
   "outputs": [
    {
     "data": {
      "text/html": [
       "<div>\n",
       "<style scoped>\n",
       "    .dataframe tbody tr th:only-of-type {\n",
       "        vertical-align: middle;\n",
       "    }\n",
       "\n",
       "    .dataframe tbody tr th {\n",
       "        vertical-align: top;\n",
       "    }\n",
       "\n",
       "    .dataframe thead th {\n",
       "        text-align: right;\n",
       "    }\n",
       "</style>\n",
       "<table border=\"1\" class=\"dataframe\">\n",
       "  <thead>\n",
       "    <tr style=\"text-align: right;\">\n",
       "      <th></th>\n",
       "      <th>transaction_id</th>\n",
       "      <th>department</th>\n",
       "      <th>count</th>\n",
       "    </tr>\n",
       "  </thead>\n",
       "  <tbody>\n",
       "    <tr>\n",
       "      <th>0</th>\n",
       "      <td>16120100160021008773</td>\n",
       "      <td>0261:HOSIERY</td>\n",
       "      <td>1</td>\n",
       "    </tr>\n",
       "    <tr>\n",
       "      <th>1</th>\n",
       "      <td>16120100160021008773</td>\n",
       "      <td>0634:VITAMINS &amp; HLTH AIDS</td>\n",
       "      <td>1</td>\n",
       "    </tr>\n",
       "    <tr>\n",
       "      <th>2</th>\n",
       "      <td>16120100160021008773</td>\n",
       "      <td>0879:PET SUPPLIES</td>\n",
       "      <td>1</td>\n",
       "    </tr>\n",
       "    <tr>\n",
       "      <th>3</th>\n",
       "      <td>16120100160021008773</td>\n",
       "      <td>0973:CANDY</td>\n",
       "      <td>1</td>\n",
       "    </tr>\n",
       "    <tr>\n",
       "      <th>4</th>\n",
       "      <td>16120100160021008773</td>\n",
       "      <td>0982:SPIRITS</td>\n",
       "      <td>1</td>\n",
       "    </tr>\n",
       "    <tr>\n",
       "      <th>5</th>\n",
       "      <td>16120100160021008773</td>\n",
       "      <td>0983:WINE</td>\n",
       "      <td>1</td>\n",
       "    </tr>\n",
       "    <tr>\n",
       "      <th>6</th>\n",
       "      <td>16120100160021008773</td>\n",
       "      <td>0991:TOBACCO</td>\n",
       "      <td>1</td>\n",
       "    </tr>\n",
       "    <tr>\n",
       "      <th>7</th>\n",
       "      <td>16120100160021008774</td>\n",
       "      <td>0597:HEALTH AIDS</td>\n",
       "      <td>1</td>\n",
       "    </tr>\n",
       "    <tr>\n",
       "      <th>8</th>\n",
       "      <td>16120100160021008774</td>\n",
       "      <td>0604:PERSONAL CARE</td>\n",
       "      <td>1</td>\n",
       "    </tr>\n",
       "    <tr>\n",
       "      <th>9</th>\n",
       "      <td>16120100160021008775</td>\n",
       "      <td>0819:PRE-RECORDED A/V</td>\n",
       "      <td>1</td>\n",
       "    </tr>\n",
       "  </tbody>\n",
       "</table>\n",
       "</div>"
      ],
      "text/plain": [
       "         transaction_id                 department  count\n",
       "0  16120100160021008773               0261:HOSIERY      1\n",
       "1  16120100160021008773  0634:VITAMINS & HLTH AIDS      1\n",
       "2  16120100160021008773          0879:PET SUPPLIES      1\n",
       "3  16120100160021008773                 0973:CANDY      1\n",
       "4  16120100160021008773               0982:SPIRITS      1\n",
       "5  16120100160021008773                  0983:WINE      1\n",
       "6  16120100160021008773               0991:TOBACCO      1\n",
       "7  16120100160021008774           0597:HEALTH AIDS      1\n",
       "8  16120100160021008774         0604:PERSONAL CARE      1\n",
       "9  16120100160021008775      0819:PRE-RECORDED A/V      1"
      ]
     },
     "execution_count": 9,
     "metadata": {},
     "output_type": "execute_result"
    }
   ],
   "source": [
    "# Can a department (product) appear multiple times in the same transaction?\n",
    "df_transactions.groupby([\"transaction_id\", \"department\"]).size().reset_index(\n",
    "    name=\"count\"\n",
    ").head(10)"
   ]
  },
  {
   "cell_type": "code",
   "execution_count": 10,
   "metadata": {},
   "outputs": [
    {
     "data": {
      "text/html": [
       "<div>\n",
       "<style scoped>\n",
       "    .dataframe tbody tr th:only-of-type {\n",
       "        vertical-align: middle;\n",
       "    }\n",
       "\n",
       "    .dataframe tbody tr th {\n",
       "        vertical-align: top;\n",
       "    }\n",
       "\n",
       "    .dataframe thead th {\n",
       "        text-align: right;\n",
       "    }\n",
       "</style>\n",
       "<table border=\"1\" class=\"dataframe\">\n",
       "  <thead>\n",
       "    <tr style=\"text-align: right;\">\n",
       "      <th></th>\n",
       "      <th>transaction_id</th>\n",
       "      <th>department</th>\n",
       "      <th>department_id</th>\n",
       "      <th>units</th>\n",
       "    </tr>\n",
       "  </thead>\n",
       "  <tbody>\n",
       "    <tr>\n",
       "      <th>1301</th>\n",
       "      <td>16120100160024002255</td>\n",
       "      <td>0984:BEER</td>\n",
       "      <td>178</td>\n",
       "      <td>-1</td>\n",
       "    </tr>\n",
       "    <tr>\n",
       "      <th>2490</th>\n",
       "      <td>16120100160035008740</td>\n",
       "      <td>0845:AS SEEN ON TV</td>\n",
       "      <td>146</td>\n",
       "      <td>-1</td>\n",
       "    </tr>\n",
       "    <tr>\n",
       "      <th>2533</th>\n",
       "      <td>16120100160035008757</td>\n",
       "      <td>0380:MENS ACTIVEWEAR</td>\n",
       "      <td>46</td>\n",
       "      <td>-1</td>\n",
       "    </tr>\n",
       "    <tr>\n",
       "      <th>3731</th>\n",
       "      <td>16120100160077007433</td>\n",
       "      <td>0411:PEGABLES</td>\n",
       "      <td>50</td>\n",
       "      <td>-1</td>\n",
       "    </tr>\n",
       "    <tr>\n",
       "      <th>3732</th>\n",
       "      <td>16120100160077007434</td>\n",
       "      <td>0291:WOMENS FTWR:DRS/CAS</td>\n",
       "      <td>28</td>\n",
       "      <td>-1</td>\n",
       "    </tr>\n",
       "    <tr>\n",
       "      <th>3733</th>\n",
       "      <td>16120100160077007436</td>\n",
       "      <td>0834:COOKWARE</td>\n",
       "      <td>295</td>\n",
       "      <td>-1</td>\n",
       "    </tr>\n",
       "    <tr>\n",
       "      <th>3734</th>\n",
       "      <td>16120100160077007439</td>\n",
       "      <td>0411:PEGABLES</td>\n",
       "      <td>50</td>\n",
       "      <td>-2</td>\n",
       "    </tr>\n",
       "    <tr>\n",
       "      <th>3735</th>\n",
       "      <td>16120100160077007439</td>\n",
       "      <td>0593:PRESTIGE COSMETICS</td>\n",
       "      <td>270</td>\n",
       "      <td>-1</td>\n",
       "    </tr>\n",
       "    <tr>\n",
       "      <th>3736</th>\n",
       "      <td>16120100160077007439</td>\n",
       "      <td>0603:BEAUTY CARE</td>\n",
       "      <td>99</td>\n",
       "      <td>-1</td>\n",
       "    </tr>\n",
       "    <tr>\n",
       "      <th>3737</th>\n",
       "      <td>16120100160077007441</td>\n",
       "      <td>0291:WOMENS FTWR:DRS/CAS</td>\n",
       "      <td>28</td>\n",
       "      <td>-1</td>\n",
       "    </tr>\n",
       "  </tbody>\n",
       "</table>\n",
       "</div>"
      ],
      "text/plain": [
       "            transaction_id                department  department_id  units\n",
       "1301  16120100160024002255                 0984:BEER            178     -1\n",
       "2490  16120100160035008740        0845:AS SEEN ON TV            146     -1\n",
       "2533  16120100160035008757      0380:MENS ACTIVEWEAR             46     -1\n",
       "3731  16120100160077007433             0411:PEGABLES             50     -1\n",
       "3732  16120100160077007434  0291:WOMENS FTWR:DRS/CAS             28     -1\n",
       "3733  16120100160077007436             0834:COOKWARE            295     -1\n",
       "3734  16120100160077007439             0411:PEGABLES             50     -2\n",
       "3735  16120100160077007439   0593:PRESTIGE COSMETICS            270     -1\n",
       "3736  16120100160077007439          0603:BEAUTY CARE             99     -1\n",
       "3737  16120100160077007441  0291:WOMENS FTWR:DRS/CAS             28     -1"
      ]
     },
     "execution_count": 10,
     "metadata": {},
     "output_type": "execute_result"
    }
   ],
   "source": [
    "# Check for negative units\n",
    "df_transactions[df_transactions[\"units\"] < 0].head(10)"
   ]
  },
  {
   "cell_type": "code",
   "execution_count": 11,
   "metadata": {},
   "outputs": [],
   "source": [
    "# Drop rows with negative units\n",
    "df_transactions = df_transactions[df_transactions[\"units\"] > 0]"
   ]
  },
  {
   "cell_type": "code",
   "execution_count": 12,
   "metadata": {},
   "outputs": [
    {
     "data": {
      "application/vnd.plotly.v1+json": {
       "config": {
        "plotlyServerURL": "https://plot.ly"
       },
       "data": [
        {
         "alignmentgroup": "True",
         "hovertemplate": "department=%{y}<br>Number of transactions=%{x}<extra></extra>",
         "legendgroup": "0982:SPIRITS",
         "marker": {
          "color": "#636efa",
          "pattern": {
           "shape": ""
          }
         },
         "name": "0982:SPIRITS",
         "offsetgroup": "0982:SPIRITS",
         "orientation": "h",
         "showlegend": true,
         "textposition": "auto",
         "type": "bar",
         "x": [
          314
         ],
         "xaxis": "x",
         "y": [
          "0982:SPIRITS"
         ],
         "yaxis": "y"
        },
        {
         "alignmentgroup": "True",
         "hovertemplate": "department=%{y}<br>Number of transactions=%{x}<extra></extra>",
         "legendgroup": "0973:CANDY",
         "marker": {
          "color": "#EF553B",
          "pattern": {
           "shape": ""
          }
         },
         "name": "0973:CANDY",
         "offsetgroup": "0973:CANDY",
         "orientation": "h",
         "showlegend": true,
         "textposition": "auto",
         "type": "bar",
         "x": [
          275
         ],
         "xaxis": "x",
         "y": [
          "0973:CANDY"
         ],
         "yaxis": "y"
        },
        {
         "alignmentgroup": "True",
         "hovertemplate": "department=%{y}<br>Number of transactions=%{x}<extra></extra>",
         "legendgroup": "0962:BEVERAGES",
         "marker": {
          "color": "#00cc96",
          "pattern": {
           "shape": ""
          }
         },
         "name": "0962:BEVERAGES",
         "offsetgroup": "0962:BEVERAGES",
         "orientation": "h",
         "showlegend": true,
         "textposition": "auto",
         "type": "bar",
         "x": [
          253
         ],
         "xaxis": "x",
         "y": [
          "0962:BEVERAGES"
         ],
         "yaxis": "y"
        },
        {
         "alignmentgroup": "True",
         "hovertemplate": "department=%{y}<br>Number of transactions=%{x}<extra></extra>",
         "legendgroup": "0597:HEALTH AIDS",
         "marker": {
          "color": "#ab63fa",
          "pattern": {
           "shape": ""
          }
         },
         "name": "0597:HEALTH AIDS",
         "offsetgroup": "0597:HEALTH AIDS",
         "orientation": "h",
         "showlegend": true,
         "textposition": "auto",
         "type": "bar",
         "x": [
          200
         ],
         "xaxis": "x",
         "y": [
          "0597:HEALTH AIDS"
         ],
         "yaxis": "y"
        },
        {
         "alignmentgroup": "True",
         "hovertemplate": "department=%{y}<br>Number of transactions=%{x}<extra></extra>",
         "legendgroup": "0983:WINE",
         "marker": {
          "color": "#FFA15A",
          "pattern": {
           "shape": ""
          }
         },
         "name": "0983:WINE",
         "offsetgroup": "0983:WINE",
         "orientation": "h",
         "showlegend": true,
         "textposition": "auto",
         "type": "bar",
         "x": [
          191
         ],
         "xaxis": "x",
         "y": [
          "0983:WINE"
         ],
         "yaxis": "y"
        },
        {
         "alignmentgroup": "True",
         "hovertemplate": "department=%{y}<br>Number of transactions=%{x}<extra></extra>",
         "legendgroup": "0991:TOBACCO",
         "marker": {
          "color": "#19d3f3",
          "pattern": {
           "shape": ""
          }
         },
         "name": "0991:TOBACCO",
         "offsetgroup": "0991:TOBACCO",
         "orientation": "h",
         "showlegend": true,
         "textposition": "auto",
         "type": "bar",
         "x": [
          185
         ],
         "xaxis": "x",
         "y": [
          "0991:TOBACCO"
         ],
         "yaxis": "y"
        },
        {
         "alignmentgroup": "True",
         "hovertemplate": "department=%{y}<br>Number of transactions=%{x}<extra></extra>",
         "legendgroup": "0836:HOUSEHOLD CLEANING",
         "marker": {
          "color": "#FF6692",
          "pattern": {
           "shape": ""
          }
         },
         "name": "0836:HOUSEHOLD CLEANING",
         "offsetgroup": "0836:HOUSEHOLD CLEANING",
         "orientation": "h",
         "showlegend": true,
         "textposition": "auto",
         "type": "bar",
         "x": [
          158
         ],
         "xaxis": "x",
         "y": [
          "0836:HOUSEHOLD CLEANING"
         ],
         "yaxis": "y"
        },
        {
         "alignmentgroup": "True",
         "hovertemplate": "department=%{y}<br>Number of transactions=%{x}<extra></extra>",
         "legendgroup": "0604:PERSONAL CARE",
         "marker": {
          "color": "#B6E880",
          "pattern": {
           "shape": ""
          }
         },
         "name": "0604:PERSONAL CARE",
         "offsetgroup": "0604:PERSONAL CARE",
         "orientation": "h",
         "showlegend": true,
         "textposition": "auto",
         "type": "bar",
         "x": [
          150
         ],
         "xaxis": "x",
         "y": [
          "0604:PERSONAL CARE"
         ],
         "yaxis": "y"
        },
        {
         "alignmentgroup": "True",
         "hovertemplate": "department=%{y}<br>Number of transactions=%{x}<extra></extra>",
         "legendgroup": "0984:BEER",
         "marker": {
          "color": "#FF97FF",
          "pattern": {
           "shape": ""
          }
         },
         "name": "0984:BEER",
         "offsetgroup": "0984:BEER",
         "orientation": "h",
         "showlegend": true,
         "textposition": "auto",
         "type": "bar",
         "x": [
          132
         ],
         "xaxis": "x",
         "y": [
          "0984:BEER"
         ],
         "yaxis": "y"
        },
        {
         "alignmentgroup": "True",
         "hovertemplate": "department=%{y}<br>Number of transactions=%{x}<extra></extra>",
         "legendgroup": "0603:BEAUTY CARE",
         "marker": {
          "color": "#FECB52",
          "pattern": {
           "shape": ""
          }
         },
         "name": "0603:BEAUTY CARE",
         "offsetgroup": "0603:BEAUTY CARE",
         "orientation": "h",
         "showlegend": true,
         "textposition": "auto",
         "type": "bar",
         "x": [
          132
         ],
         "xaxis": "x",
         "y": [
          "0603:BEAUTY CARE"
         ],
         "yaxis": "y"
        }
       ],
       "layout": {
        "barmode": "relative",
        "legend": {
         "title": {
          "text": "department"
         },
         "tracegroupgap": 0
        },
        "showlegend": false,
        "template": {
         "data": {
          "bar": [
           {
            "error_x": {
             "color": "#f2f5fa"
            },
            "error_y": {
             "color": "#f2f5fa"
            },
            "marker": {
             "line": {
              "color": "rgb(17,17,17)",
              "width": 0.5
             },
             "pattern": {
              "fillmode": "overlay",
              "size": 10,
              "solidity": 0.2
             }
            },
            "type": "bar"
           }
          ],
          "barpolar": [
           {
            "marker": {
             "line": {
              "color": "rgb(17,17,17)",
              "width": 0.5
             },
             "pattern": {
              "fillmode": "overlay",
              "size": 10,
              "solidity": 0.2
             }
            },
            "type": "barpolar"
           }
          ],
          "carpet": [
           {
            "aaxis": {
             "endlinecolor": "#A2B1C6",
             "gridcolor": "#506784",
             "linecolor": "#506784",
             "minorgridcolor": "#506784",
             "startlinecolor": "#A2B1C6"
            },
            "baxis": {
             "endlinecolor": "#A2B1C6",
             "gridcolor": "#506784",
             "linecolor": "#506784",
             "minorgridcolor": "#506784",
             "startlinecolor": "#A2B1C6"
            },
            "type": "carpet"
           }
          ],
          "choropleth": [
           {
            "colorbar": {
             "outlinewidth": 0,
             "ticks": ""
            },
            "type": "choropleth"
           }
          ],
          "contour": [
           {
            "colorbar": {
             "outlinewidth": 0,
             "ticks": ""
            },
            "colorscale": [
             [
              0,
              "#0d0887"
             ],
             [
              0.1111111111111111,
              "#46039f"
             ],
             [
              0.2222222222222222,
              "#7201a8"
             ],
             [
              0.3333333333333333,
              "#9c179e"
             ],
             [
              0.4444444444444444,
              "#bd3786"
             ],
             [
              0.5555555555555556,
              "#d8576b"
             ],
             [
              0.6666666666666666,
              "#ed7953"
             ],
             [
              0.7777777777777778,
              "#fb9f3a"
             ],
             [
              0.8888888888888888,
              "#fdca26"
             ],
             [
              1,
              "#f0f921"
             ]
            ],
            "type": "contour"
           }
          ],
          "contourcarpet": [
           {
            "colorbar": {
             "outlinewidth": 0,
             "ticks": ""
            },
            "type": "contourcarpet"
           }
          ],
          "heatmap": [
           {
            "colorbar": {
             "outlinewidth": 0,
             "ticks": ""
            },
            "colorscale": [
             [
              0,
              "#0d0887"
             ],
             [
              0.1111111111111111,
              "#46039f"
             ],
             [
              0.2222222222222222,
              "#7201a8"
             ],
             [
              0.3333333333333333,
              "#9c179e"
             ],
             [
              0.4444444444444444,
              "#bd3786"
             ],
             [
              0.5555555555555556,
              "#d8576b"
             ],
             [
              0.6666666666666666,
              "#ed7953"
             ],
             [
              0.7777777777777778,
              "#fb9f3a"
             ],
             [
              0.8888888888888888,
              "#fdca26"
             ],
             [
              1,
              "#f0f921"
             ]
            ],
            "type": "heatmap"
           }
          ],
          "heatmapgl": [
           {
            "colorbar": {
             "outlinewidth": 0,
             "ticks": ""
            },
            "colorscale": [
             [
              0,
              "#0d0887"
             ],
             [
              0.1111111111111111,
              "#46039f"
             ],
             [
              0.2222222222222222,
              "#7201a8"
             ],
             [
              0.3333333333333333,
              "#9c179e"
             ],
             [
              0.4444444444444444,
              "#bd3786"
             ],
             [
              0.5555555555555556,
              "#d8576b"
             ],
             [
              0.6666666666666666,
              "#ed7953"
             ],
             [
              0.7777777777777778,
              "#fb9f3a"
             ],
             [
              0.8888888888888888,
              "#fdca26"
             ],
             [
              1,
              "#f0f921"
             ]
            ],
            "type": "heatmapgl"
           }
          ],
          "histogram": [
           {
            "marker": {
             "pattern": {
              "fillmode": "overlay",
              "size": 10,
              "solidity": 0.2
             }
            },
            "type": "histogram"
           }
          ],
          "histogram2d": [
           {
            "colorbar": {
             "outlinewidth": 0,
             "ticks": ""
            },
            "colorscale": [
             [
              0,
              "#0d0887"
             ],
             [
              0.1111111111111111,
              "#46039f"
             ],
             [
              0.2222222222222222,
              "#7201a8"
             ],
             [
              0.3333333333333333,
              "#9c179e"
             ],
             [
              0.4444444444444444,
              "#bd3786"
             ],
             [
              0.5555555555555556,
              "#d8576b"
             ],
             [
              0.6666666666666666,
              "#ed7953"
             ],
             [
              0.7777777777777778,
              "#fb9f3a"
             ],
             [
              0.8888888888888888,
              "#fdca26"
             ],
             [
              1,
              "#f0f921"
             ]
            ],
            "type": "histogram2d"
           }
          ],
          "histogram2dcontour": [
           {
            "colorbar": {
             "outlinewidth": 0,
             "ticks": ""
            },
            "colorscale": [
             [
              0,
              "#0d0887"
             ],
             [
              0.1111111111111111,
              "#46039f"
             ],
             [
              0.2222222222222222,
              "#7201a8"
             ],
             [
              0.3333333333333333,
              "#9c179e"
             ],
             [
              0.4444444444444444,
              "#bd3786"
             ],
             [
              0.5555555555555556,
              "#d8576b"
             ],
             [
              0.6666666666666666,
              "#ed7953"
             ],
             [
              0.7777777777777778,
              "#fb9f3a"
             ],
             [
              0.8888888888888888,
              "#fdca26"
             ],
             [
              1,
              "#f0f921"
             ]
            ],
            "type": "histogram2dcontour"
           }
          ],
          "mesh3d": [
           {
            "colorbar": {
             "outlinewidth": 0,
             "ticks": ""
            },
            "type": "mesh3d"
           }
          ],
          "parcoords": [
           {
            "line": {
             "colorbar": {
              "outlinewidth": 0,
              "ticks": ""
             }
            },
            "type": "parcoords"
           }
          ],
          "pie": [
           {
            "automargin": true,
            "type": "pie"
           }
          ],
          "scatter": [
           {
            "marker": {
             "line": {
              "color": "#283442"
             }
            },
            "type": "scatter"
           }
          ],
          "scatter3d": [
           {
            "line": {
             "colorbar": {
              "outlinewidth": 0,
              "ticks": ""
             }
            },
            "marker": {
             "colorbar": {
              "outlinewidth": 0,
              "ticks": ""
             }
            },
            "type": "scatter3d"
           }
          ],
          "scattercarpet": [
           {
            "marker": {
             "colorbar": {
              "outlinewidth": 0,
              "ticks": ""
             }
            },
            "type": "scattercarpet"
           }
          ],
          "scattergeo": [
           {
            "marker": {
             "colorbar": {
              "outlinewidth": 0,
              "ticks": ""
             }
            },
            "type": "scattergeo"
           }
          ],
          "scattergl": [
           {
            "marker": {
             "line": {
              "color": "#283442"
             }
            },
            "type": "scattergl"
           }
          ],
          "scattermapbox": [
           {
            "marker": {
             "colorbar": {
              "outlinewidth": 0,
              "ticks": ""
             }
            },
            "type": "scattermapbox"
           }
          ],
          "scatterpolar": [
           {
            "marker": {
             "colorbar": {
              "outlinewidth": 0,
              "ticks": ""
             }
            },
            "type": "scatterpolar"
           }
          ],
          "scatterpolargl": [
           {
            "marker": {
             "colorbar": {
              "outlinewidth": 0,
              "ticks": ""
             }
            },
            "type": "scatterpolargl"
           }
          ],
          "scatterternary": [
           {
            "marker": {
             "colorbar": {
              "outlinewidth": 0,
              "ticks": ""
             }
            },
            "type": "scatterternary"
           }
          ],
          "surface": [
           {
            "colorbar": {
             "outlinewidth": 0,
             "ticks": ""
            },
            "colorscale": [
             [
              0,
              "#0d0887"
             ],
             [
              0.1111111111111111,
              "#46039f"
             ],
             [
              0.2222222222222222,
              "#7201a8"
             ],
             [
              0.3333333333333333,
              "#9c179e"
             ],
             [
              0.4444444444444444,
              "#bd3786"
             ],
             [
              0.5555555555555556,
              "#d8576b"
             ],
             [
              0.6666666666666666,
              "#ed7953"
             ],
             [
              0.7777777777777778,
              "#fb9f3a"
             ],
             [
              0.8888888888888888,
              "#fdca26"
             ],
             [
              1,
              "#f0f921"
             ]
            ],
            "type": "surface"
           }
          ],
          "table": [
           {
            "cells": {
             "fill": {
              "color": "#506784"
             },
             "line": {
              "color": "rgb(17,17,17)"
             }
            },
            "header": {
             "fill": {
              "color": "#2a3f5f"
             },
             "line": {
              "color": "rgb(17,17,17)"
             }
            },
            "type": "table"
           }
          ]
         },
         "layout": {
          "annotationdefaults": {
           "arrowcolor": "#f2f5fa",
           "arrowhead": 0,
           "arrowwidth": 1
          },
          "autotypenumbers": "strict",
          "coloraxis": {
           "colorbar": {
            "outlinewidth": 0,
            "ticks": ""
           }
          },
          "colorscale": {
           "diverging": [
            [
             0,
             "#8e0152"
            ],
            [
             0.1,
             "#c51b7d"
            ],
            [
             0.2,
             "#de77ae"
            ],
            [
             0.3,
             "#f1b6da"
            ],
            [
             0.4,
             "#fde0ef"
            ],
            [
             0.5,
             "#f7f7f7"
            ],
            [
             0.6,
             "#e6f5d0"
            ],
            [
             0.7,
             "#b8e186"
            ],
            [
             0.8,
             "#7fbc41"
            ],
            [
             0.9,
             "#4d9221"
            ],
            [
             1,
             "#276419"
            ]
           ],
           "sequential": [
            [
             0,
             "#0d0887"
            ],
            [
             0.1111111111111111,
             "#46039f"
            ],
            [
             0.2222222222222222,
             "#7201a8"
            ],
            [
             0.3333333333333333,
             "#9c179e"
            ],
            [
             0.4444444444444444,
             "#bd3786"
            ],
            [
             0.5555555555555556,
             "#d8576b"
            ],
            [
             0.6666666666666666,
             "#ed7953"
            ],
            [
             0.7777777777777778,
             "#fb9f3a"
            ],
            [
             0.8888888888888888,
             "#fdca26"
            ],
            [
             1,
             "#f0f921"
            ]
           ],
           "sequentialminus": [
            [
             0,
             "#0d0887"
            ],
            [
             0.1111111111111111,
             "#46039f"
            ],
            [
             0.2222222222222222,
             "#7201a8"
            ],
            [
             0.3333333333333333,
             "#9c179e"
            ],
            [
             0.4444444444444444,
             "#bd3786"
            ],
            [
             0.5555555555555556,
             "#d8576b"
            ],
            [
             0.6666666666666666,
             "#ed7953"
            ],
            [
             0.7777777777777778,
             "#fb9f3a"
            ],
            [
             0.8888888888888888,
             "#fdca26"
            ],
            [
             1,
             "#f0f921"
            ]
           ]
          },
          "colorway": [
           "#636efa",
           "#EF553B",
           "#00cc96",
           "#ab63fa",
           "#FFA15A",
           "#19d3f3",
           "#FF6692",
           "#B6E880",
           "#FF97FF",
           "#FECB52"
          ],
          "font": {
           "color": "#f2f5fa"
          },
          "geo": {
           "bgcolor": "rgb(17,17,17)",
           "lakecolor": "rgb(17,17,17)",
           "landcolor": "rgb(17,17,17)",
           "showlakes": true,
           "showland": true,
           "subunitcolor": "#506784"
          },
          "hoverlabel": {
           "align": "left"
          },
          "hovermode": "closest",
          "mapbox": {
           "style": "dark"
          },
          "paper_bgcolor": "rgb(17,17,17)",
          "plot_bgcolor": "rgb(17,17,17)",
          "polar": {
           "angularaxis": {
            "gridcolor": "#506784",
            "linecolor": "#506784",
            "ticks": ""
           },
           "bgcolor": "rgb(17,17,17)",
           "radialaxis": {
            "gridcolor": "#506784",
            "linecolor": "#506784",
            "ticks": ""
           }
          },
          "scene": {
           "xaxis": {
            "backgroundcolor": "rgb(17,17,17)",
            "gridcolor": "#506784",
            "gridwidth": 2,
            "linecolor": "#506784",
            "showbackground": true,
            "ticks": "",
            "zerolinecolor": "#C8D4E3"
           },
           "yaxis": {
            "backgroundcolor": "rgb(17,17,17)",
            "gridcolor": "#506784",
            "gridwidth": 2,
            "linecolor": "#506784",
            "showbackground": true,
            "ticks": "",
            "zerolinecolor": "#C8D4E3"
           },
           "zaxis": {
            "backgroundcolor": "rgb(17,17,17)",
            "gridcolor": "#506784",
            "gridwidth": 2,
            "linecolor": "#506784",
            "showbackground": true,
            "ticks": "",
            "zerolinecolor": "#C8D4E3"
           }
          },
          "shapedefaults": {
           "line": {
            "color": "#f2f5fa"
           }
          },
          "sliderdefaults": {
           "bgcolor": "#C8D4E3",
           "bordercolor": "rgb(17,17,17)",
           "borderwidth": 1,
           "tickwidth": 0
          },
          "ternary": {
           "aaxis": {
            "gridcolor": "#506784",
            "linecolor": "#506784",
            "ticks": ""
           },
           "baxis": {
            "gridcolor": "#506784",
            "linecolor": "#506784",
            "ticks": ""
           },
           "bgcolor": "rgb(17,17,17)",
           "caxis": {
            "gridcolor": "#506784",
            "linecolor": "#506784",
            "ticks": ""
           }
          },
          "title": {
           "x": 0.05
          },
          "updatemenudefaults": {
           "bgcolor": "#506784",
           "borderwidth": 0
          },
          "xaxis": {
           "automargin": true,
           "gridcolor": "#283442",
           "linecolor": "#506784",
           "ticks": "",
           "title": {
            "standoff": 15
           },
           "zerolinecolor": "#283442",
           "zerolinewidth": 2
          },
          "yaxis": {
           "automargin": true,
           "gridcolor": "#283442",
           "linecolor": "#506784",
           "ticks": "",
           "title": {
            "standoff": 15
           },
           "zerolinecolor": "#283442",
           "zerolinewidth": 2
          }
         }
        },
        "title": {
         "text": "Top 10 departments with the most transactions"
        },
        "xaxis": {
         "anchor": "y",
         "domain": [
          0,
          1
         ],
         "title": {
          "text": "Number of transactions"
         }
        },
        "yaxis": {
         "anchor": "x",
         "categoryarray": [
          "0603:BEAUTY CARE",
          "0984:BEER",
          "0604:PERSONAL CARE",
          "0836:HOUSEHOLD CLEANING",
          "0991:TOBACCO",
          "0983:WINE",
          "0597:HEALTH AIDS",
          "0962:BEVERAGES",
          "0973:CANDY",
          "0982:SPIRITS"
         ],
         "categoryorder": "array",
         "domain": [
          0,
          1
         ],
         "title": {
          "text": "department"
         }
        }
       }
      }
     },
     "metadata": {},
     "output_type": "display_data"
    }
   ],
   "source": [
    "# Count departments with biggest number of transactions\n",
    "tx_count_by_department = df_transactions[\"department\"].value_counts().head(10)\n",
    "\n",
    "tx_count_fig = px.bar(\n",
    "    tx_count_by_department,\n",
    "    color=tx_count_by_department.index,\n",
    "    title=\"Top 10 departments with the most transactions\",\n",
    "    labels={\"value\": \"Number of transactions\"},\n",
    "    orientation=\"h\",\n",
    ")\n",
    "tx_count_fig.update_layout(showlegend=False)\n",
    "tx_count_fig.show()"
   ]
  },
  {
   "cell_type": "code",
   "execution_count": 13,
   "metadata": {},
   "outputs": [
    {
     "data": {
      "application/vnd.plotly.v1+json": {
       "config": {
        "plotlyServerURL": "https://plot.ly"
       },
       "data": [
        {
         "alignmentgroup": "True",
         "hovertemplate": "department=%{y}<br>Units sold=%{x}<extra></extra>",
         "legendgroup": "0982:SPIRITS",
         "marker": {
          "color": "#636efa",
          "pattern": {
           "shape": ""
          }
         },
         "name": "0982:SPIRITS",
         "offsetgroup": "0982:SPIRITS",
         "orientation": "h",
         "showlegend": true,
         "textposition": "auto",
         "type": "bar",
         "x": [
          661
         ],
         "xaxis": "x",
         "y": [
          "0982:SPIRITS"
         ],
         "yaxis": "y"
        },
        {
         "alignmentgroup": "True",
         "hovertemplate": "department=%{y}<br>Units sold=%{x}<extra></extra>",
         "legendgroup": "0973:CANDY",
         "marker": {
          "color": "#EF553B",
          "pattern": {
           "shape": ""
          }
         },
         "name": "0973:CANDY",
         "offsetgroup": "0973:CANDY",
         "orientation": "h",
         "showlegend": true,
         "textposition": "auto",
         "type": "bar",
         "x": [
          646
         ],
         "xaxis": "x",
         "y": [
          "0973:CANDY"
         ],
         "yaxis": "y"
        },
        {
         "alignmentgroup": "True",
         "hovertemplate": "department=%{y}<br>Units sold=%{x}<extra></extra>",
         "legendgroup": "0983:WINE",
         "marker": {
          "color": "#00cc96",
          "pattern": {
           "shape": ""
          }
         },
         "name": "0983:WINE",
         "offsetgroup": "0983:WINE",
         "orientation": "h",
         "showlegend": true,
         "textposition": "auto",
         "type": "bar",
         "x": [
          528
         ],
         "xaxis": "x",
         "y": [
          "0983:WINE"
         ],
         "yaxis": "y"
        },
        {
         "alignmentgroup": "True",
         "hovertemplate": "department=%{y}<br>Units sold=%{x}<extra></extra>",
         "legendgroup": "0962:BEVERAGES",
         "marker": {
          "color": "#ab63fa",
          "pattern": {
           "shape": ""
          }
         },
         "name": "0962:BEVERAGES",
         "offsetgroup": "0962:BEVERAGES",
         "orientation": "h",
         "showlegend": true,
         "textposition": "auto",
         "type": "bar",
         "x": [
          418
         ],
         "xaxis": "x",
         "y": [
          "0962:BEVERAGES"
         ],
         "yaxis": "y"
        },
        {
         "alignmentgroup": "True",
         "hovertemplate": "department=%{y}<br>Units sold=%{x}<extra></extra>",
         "legendgroup": "0836:HOUSEHOLD CLEANING",
         "marker": {
          "color": "#FFA15A",
          "pattern": {
           "shape": ""
          }
         },
         "name": "0836:HOUSEHOLD CLEANING",
         "offsetgroup": "0836:HOUSEHOLD CLEANING",
         "orientation": "h",
         "showlegend": true,
         "textposition": "auto",
         "type": "bar",
         "x": [
          371
         ],
         "xaxis": "x",
         "y": [
          "0836:HOUSEHOLD CLEANING"
         ],
         "yaxis": "y"
        },
        {
         "alignmentgroup": "True",
         "hovertemplate": "department=%{y}<br>Units sold=%{x}<extra></extra>",
         "legendgroup": "0597:HEALTH AIDS",
         "marker": {
          "color": "#19d3f3",
          "pattern": {
           "shape": ""
          }
         },
         "name": "0597:HEALTH AIDS",
         "offsetgroup": "0597:HEALTH AIDS",
         "orientation": "h",
         "showlegend": true,
         "textposition": "auto",
         "type": "bar",
         "x": [
          342
         ],
         "xaxis": "x",
         "y": [
          "0597:HEALTH AIDS"
         ],
         "yaxis": "y"
        },
        {
         "alignmentgroup": "True",
         "hovertemplate": "department=%{y}<br>Units sold=%{x}<extra></extra>",
         "legendgroup": "0646:SEASONAL",
         "marker": {
          "color": "#FF6692",
          "pattern": {
           "shape": ""
          }
         },
         "name": "0646:SEASONAL",
         "offsetgroup": "0646:SEASONAL",
         "orientation": "h",
         "showlegend": true,
         "textposition": "auto",
         "type": "bar",
         "x": [
          326
         ],
         "xaxis": "x",
         "y": [
          "0646:SEASONAL"
         ],
         "yaxis": "y"
        },
        {
         "alignmentgroup": "True",
         "hovertemplate": "department=%{y}<br>Units sold=%{x}<extra></extra>",
         "legendgroup": "0991:TOBACCO",
         "marker": {
          "color": "#B6E880",
          "pattern": {
           "shape": ""
          }
         },
         "name": "0991:TOBACCO",
         "offsetgroup": "0991:TOBACCO",
         "orientation": "h",
         "showlegend": true,
         "textposition": "auto",
         "type": "bar",
         "x": [
          313
         ],
         "xaxis": "x",
         "y": [
          "0991:TOBACCO"
         ],
         "yaxis": "y"
        },
        {
         "alignmentgroup": "True",
         "hovertemplate": "department=%{y}<br>Units sold=%{x}<extra></extra>",
         "legendgroup": "0604:PERSONAL CARE",
         "marker": {
          "color": "#FF97FF",
          "pattern": {
           "shape": ""
          }
         },
         "name": "0604:PERSONAL CARE",
         "offsetgroup": "0604:PERSONAL CARE",
         "orientation": "h",
         "showlegend": true,
         "textposition": "auto",
         "type": "bar",
         "x": [
          292
         ],
         "xaxis": "x",
         "y": [
          "0604:PERSONAL CARE"
         ],
         "yaxis": "y"
        },
        {
         "alignmentgroup": "True",
         "hovertemplate": "department=%{y}<br>Units sold=%{x}<extra></extra>",
         "legendgroup": "0879:PET SUPPLIES",
         "marker": {
          "color": "#FECB52",
          "pattern": {
           "shape": ""
          }
         },
         "name": "0879:PET SUPPLIES",
         "offsetgroup": "0879:PET SUPPLIES",
         "orientation": "h",
         "showlegend": true,
         "textposition": "auto",
         "type": "bar",
         "x": [
          243
         ],
         "xaxis": "x",
         "y": [
          "0879:PET SUPPLIES"
         ],
         "yaxis": "y"
        }
       ],
       "layout": {
        "barmode": "relative",
        "legend": {
         "title": {
          "text": "department"
         },
         "tracegroupgap": 0
        },
        "showlegend": false,
        "template": {
         "data": {
          "bar": [
           {
            "error_x": {
             "color": "#f2f5fa"
            },
            "error_y": {
             "color": "#f2f5fa"
            },
            "marker": {
             "line": {
              "color": "rgb(17,17,17)",
              "width": 0.5
             },
             "pattern": {
              "fillmode": "overlay",
              "size": 10,
              "solidity": 0.2
             }
            },
            "type": "bar"
           }
          ],
          "barpolar": [
           {
            "marker": {
             "line": {
              "color": "rgb(17,17,17)",
              "width": 0.5
             },
             "pattern": {
              "fillmode": "overlay",
              "size": 10,
              "solidity": 0.2
             }
            },
            "type": "barpolar"
           }
          ],
          "carpet": [
           {
            "aaxis": {
             "endlinecolor": "#A2B1C6",
             "gridcolor": "#506784",
             "linecolor": "#506784",
             "minorgridcolor": "#506784",
             "startlinecolor": "#A2B1C6"
            },
            "baxis": {
             "endlinecolor": "#A2B1C6",
             "gridcolor": "#506784",
             "linecolor": "#506784",
             "minorgridcolor": "#506784",
             "startlinecolor": "#A2B1C6"
            },
            "type": "carpet"
           }
          ],
          "choropleth": [
           {
            "colorbar": {
             "outlinewidth": 0,
             "ticks": ""
            },
            "type": "choropleth"
           }
          ],
          "contour": [
           {
            "colorbar": {
             "outlinewidth": 0,
             "ticks": ""
            },
            "colorscale": [
             [
              0,
              "#0d0887"
             ],
             [
              0.1111111111111111,
              "#46039f"
             ],
             [
              0.2222222222222222,
              "#7201a8"
             ],
             [
              0.3333333333333333,
              "#9c179e"
             ],
             [
              0.4444444444444444,
              "#bd3786"
             ],
             [
              0.5555555555555556,
              "#d8576b"
             ],
             [
              0.6666666666666666,
              "#ed7953"
             ],
             [
              0.7777777777777778,
              "#fb9f3a"
             ],
             [
              0.8888888888888888,
              "#fdca26"
             ],
             [
              1,
              "#f0f921"
             ]
            ],
            "type": "contour"
           }
          ],
          "contourcarpet": [
           {
            "colorbar": {
             "outlinewidth": 0,
             "ticks": ""
            },
            "type": "contourcarpet"
           }
          ],
          "heatmap": [
           {
            "colorbar": {
             "outlinewidth": 0,
             "ticks": ""
            },
            "colorscale": [
             [
              0,
              "#0d0887"
             ],
             [
              0.1111111111111111,
              "#46039f"
             ],
             [
              0.2222222222222222,
              "#7201a8"
             ],
             [
              0.3333333333333333,
              "#9c179e"
             ],
             [
              0.4444444444444444,
              "#bd3786"
             ],
             [
              0.5555555555555556,
              "#d8576b"
             ],
             [
              0.6666666666666666,
              "#ed7953"
             ],
             [
              0.7777777777777778,
              "#fb9f3a"
             ],
             [
              0.8888888888888888,
              "#fdca26"
             ],
             [
              1,
              "#f0f921"
             ]
            ],
            "type": "heatmap"
           }
          ],
          "heatmapgl": [
           {
            "colorbar": {
             "outlinewidth": 0,
             "ticks": ""
            },
            "colorscale": [
             [
              0,
              "#0d0887"
             ],
             [
              0.1111111111111111,
              "#46039f"
             ],
             [
              0.2222222222222222,
              "#7201a8"
             ],
             [
              0.3333333333333333,
              "#9c179e"
             ],
             [
              0.4444444444444444,
              "#bd3786"
             ],
             [
              0.5555555555555556,
              "#d8576b"
             ],
             [
              0.6666666666666666,
              "#ed7953"
             ],
             [
              0.7777777777777778,
              "#fb9f3a"
             ],
             [
              0.8888888888888888,
              "#fdca26"
             ],
             [
              1,
              "#f0f921"
             ]
            ],
            "type": "heatmapgl"
           }
          ],
          "histogram": [
           {
            "marker": {
             "pattern": {
              "fillmode": "overlay",
              "size": 10,
              "solidity": 0.2
             }
            },
            "type": "histogram"
           }
          ],
          "histogram2d": [
           {
            "colorbar": {
             "outlinewidth": 0,
             "ticks": ""
            },
            "colorscale": [
             [
              0,
              "#0d0887"
             ],
             [
              0.1111111111111111,
              "#46039f"
             ],
             [
              0.2222222222222222,
              "#7201a8"
             ],
             [
              0.3333333333333333,
              "#9c179e"
             ],
             [
              0.4444444444444444,
              "#bd3786"
             ],
             [
              0.5555555555555556,
              "#d8576b"
             ],
             [
              0.6666666666666666,
              "#ed7953"
             ],
             [
              0.7777777777777778,
              "#fb9f3a"
             ],
             [
              0.8888888888888888,
              "#fdca26"
             ],
             [
              1,
              "#f0f921"
             ]
            ],
            "type": "histogram2d"
           }
          ],
          "histogram2dcontour": [
           {
            "colorbar": {
             "outlinewidth": 0,
             "ticks": ""
            },
            "colorscale": [
             [
              0,
              "#0d0887"
             ],
             [
              0.1111111111111111,
              "#46039f"
             ],
             [
              0.2222222222222222,
              "#7201a8"
             ],
             [
              0.3333333333333333,
              "#9c179e"
             ],
             [
              0.4444444444444444,
              "#bd3786"
             ],
             [
              0.5555555555555556,
              "#d8576b"
             ],
             [
              0.6666666666666666,
              "#ed7953"
             ],
             [
              0.7777777777777778,
              "#fb9f3a"
             ],
             [
              0.8888888888888888,
              "#fdca26"
             ],
             [
              1,
              "#f0f921"
             ]
            ],
            "type": "histogram2dcontour"
           }
          ],
          "mesh3d": [
           {
            "colorbar": {
             "outlinewidth": 0,
             "ticks": ""
            },
            "type": "mesh3d"
           }
          ],
          "parcoords": [
           {
            "line": {
             "colorbar": {
              "outlinewidth": 0,
              "ticks": ""
             }
            },
            "type": "parcoords"
           }
          ],
          "pie": [
           {
            "automargin": true,
            "type": "pie"
           }
          ],
          "scatter": [
           {
            "marker": {
             "line": {
              "color": "#283442"
             }
            },
            "type": "scatter"
           }
          ],
          "scatter3d": [
           {
            "line": {
             "colorbar": {
              "outlinewidth": 0,
              "ticks": ""
             }
            },
            "marker": {
             "colorbar": {
              "outlinewidth": 0,
              "ticks": ""
             }
            },
            "type": "scatter3d"
           }
          ],
          "scattercarpet": [
           {
            "marker": {
             "colorbar": {
              "outlinewidth": 0,
              "ticks": ""
             }
            },
            "type": "scattercarpet"
           }
          ],
          "scattergeo": [
           {
            "marker": {
             "colorbar": {
              "outlinewidth": 0,
              "ticks": ""
             }
            },
            "type": "scattergeo"
           }
          ],
          "scattergl": [
           {
            "marker": {
             "line": {
              "color": "#283442"
             }
            },
            "type": "scattergl"
           }
          ],
          "scattermapbox": [
           {
            "marker": {
             "colorbar": {
              "outlinewidth": 0,
              "ticks": ""
             }
            },
            "type": "scattermapbox"
           }
          ],
          "scatterpolar": [
           {
            "marker": {
             "colorbar": {
              "outlinewidth": 0,
              "ticks": ""
             }
            },
            "type": "scatterpolar"
           }
          ],
          "scatterpolargl": [
           {
            "marker": {
             "colorbar": {
              "outlinewidth": 0,
              "ticks": ""
             }
            },
            "type": "scatterpolargl"
           }
          ],
          "scatterternary": [
           {
            "marker": {
             "colorbar": {
              "outlinewidth": 0,
              "ticks": ""
             }
            },
            "type": "scatterternary"
           }
          ],
          "surface": [
           {
            "colorbar": {
             "outlinewidth": 0,
             "ticks": ""
            },
            "colorscale": [
             [
              0,
              "#0d0887"
             ],
             [
              0.1111111111111111,
              "#46039f"
             ],
             [
              0.2222222222222222,
              "#7201a8"
             ],
             [
              0.3333333333333333,
              "#9c179e"
             ],
             [
              0.4444444444444444,
              "#bd3786"
             ],
             [
              0.5555555555555556,
              "#d8576b"
             ],
             [
              0.6666666666666666,
              "#ed7953"
             ],
             [
              0.7777777777777778,
              "#fb9f3a"
             ],
             [
              0.8888888888888888,
              "#fdca26"
             ],
             [
              1,
              "#f0f921"
             ]
            ],
            "type": "surface"
           }
          ],
          "table": [
           {
            "cells": {
             "fill": {
              "color": "#506784"
             },
             "line": {
              "color": "rgb(17,17,17)"
             }
            },
            "header": {
             "fill": {
              "color": "#2a3f5f"
             },
             "line": {
              "color": "rgb(17,17,17)"
             }
            },
            "type": "table"
           }
          ]
         },
         "layout": {
          "annotationdefaults": {
           "arrowcolor": "#f2f5fa",
           "arrowhead": 0,
           "arrowwidth": 1
          },
          "autotypenumbers": "strict",
          "coloraxis": {
           "colorbar": {
            "outlinewidth": 0,
            "ticks": ""
           }
          },
          "colorscale": {
           "diverging": [
            [
             0,
             "#8e0152"
            ],
            [
             0.1,
             "#c51b7d"
            ],
            [
             0.2,
             "#de77ae"
            ],
            [
             0.3,
             "#f1b6da"
            ],
            [
             0.4,
             "#fde0ef"
            ],
            [
             0.5,
             "#f7f7f7"
            ],
            [
             0.6,
             "#e6f5d0"
            ],
            [
             0.7,
             "#b8e186"
            ],
            [
             0.8,
             "#7fbc41"
            ],
            [
             0.9,
             "#4d9221"
            ],
            [
             1,
             "#276419"
            ]
           ],
           "sequential": [
            [
             0,
             "#0d0887"
            ],
            [
             0.1111111111111111,
             "#46039f"
            ],
            [
             0.2222222222222222,
             "#7201a8"
            ],
            [
             0.3333333333333333,
             "#9c179e"
            ],
            [
             0.4444444444444444,
             "#bd3786"
            ],
            [
             0.5555555555555556,
             "#d8576b"
            ],
            [
             0.6666666666666666,
             "#ed7953"
            ],
            [
             0.7777777777777778,
             "#fb9f3a"
            ],
            [
             0.8888888888888888,
             "#fdca26"
            ],
            [
             1,
             "#f0f921"
            ]
           ],
           "sequentialminus": [
            [
             0,
             "#0d0887"
            ],
            [
             0.1111111111111111,
             "#46039f"
            ],
            [
             0.2222222222222222,
             "#7201a8"
            ],
            [
             0.3333333333333333,
             "#9c179e"
            ],
            [
             0.4444444444444444,
             "#bd3786"
            ],
            [
             0.5555555555555556,
             "#d8576b"
            ],
            [
             0.6666666666666666,
             "#ed7953"
            ],
            [
             0.7777777777777778,
             "#fb9f3a"
            ],
            [
             0.8888888888888888,
             "#fdca26"
            ],
            [
             1,
             "#f0f921"
            ]
           ]
          },
          "colorway": [
           "#636efa",
           "#EF553B",
           "#00cc96",
           "#ab63fa",
           "#FFA15A",
           "#19d3f3",
           "#FF6692",
           "#B6E880",
           "#FF97FF",
           "#FECB52"
          ],
          "font": {
           "color": "#f2f5fa"
          },
          "geo": {
           "bgcolor": "rgb(17,17,17)",
           "lakecolor": "rgb(17,17,17)",
           "landcolor": "rgb(17,17,17)",
           "showlakes": true,
           "showland": true,
           "subunitcolor": "#506784"
          },
          "hoverlabel": {
           "align": "left"
          },
          "hovermode": "closest",
          "mapbox": {
           "style": "dark"
          },
          "paper_bgcolor": "rgb(17,17,17)",
          "plot_bgcolor": "rgb(17,17,17)",
          "polar": {
           "angularaxis": {
            "gridcolor": "#506784",
            "linecolor": "#506784",
            "ticks": ""
           },
           "bgcolor": "rgb(17,17,17)",
           "radialaxis": {
            "gridcolor": "#506784",
            "linecolor": "#506784",
            "ticks": ""
           }
          },
          "scene": {
           "xaxis": {
            "backgroundcolor": "rgb(17,17,17)",
            "gridcolor": "#506784",
            "gridwidth": 2,
            "linecolor": "#506784",
            "showbackground": true,
            "ticks": "",
            "zerolinecolor": "#C8D4E3"
           },
           "yaxis": {
            "backgroundcolor": "rgb(17,17,17)",
            "gridcolor": "#506784",
            "gridwidth": 2,
            "linecolor": "#506784",
            "showbackground": true,
            "ticks": "",
            "zerolinecolor": "#C8D4E3"
           },
           "zaxis": {
            "backgroundcolor": "rgb(17,17,17)",
            "gridcolor": "#506784",
            "gridwidth": 2,
            "linecolor": "#506784",
            "showbackground": true,
            "ticks": "",
            "zerolinecolor": "#C8D4E3"
           }
          },
          "shapedefaults": {
           "line": {
            "color": "#f2f5fa"
           }
          },
          "sliderdefaults": {
           "bgcolor": "#C8D4E3",
           "bordercolor": "rgb(17,17,17)",
           "borderwidth": 1,
           "tickwidth": 0
          },
          "ternary": {
           "aaxis": {
            "gridcolor": "#506784",
            "linecolor": "#506784",
            "ticks": ""
           },
           "baxis": {
            "gridcolor": "#506784",
            "linecolor": "#506784",
            "ticks": ""
           },
           "bgcolor": "rgb(17,17,17)",
           "caxis": {
            "gridcolor": "#506784",
            "linecolor": "#506784",
            "ticks": ""
           }
          },
          "title": {
           "x": 0.05
          },
          "updatemenudefaults": {
           "bgcolor": "#506784",
           "borderwidth": 0
          },
          "xaxis": {
           "automargin": true,
           "gridcolor": "#283442",
           "linecolor": "#506784",
           "ticks": "",
           "title": {
            "standoff": 15
           },
           "zerolinecolor": "#283442",
           "zerolinewidth": 2
          },
          "yaxis": {
           "automargin": true,
           "gridcolor": "#283442",
           "linecolor": "#506784",
           "ticks": "",
           "title": {
            "standoff": 15
           },
           "zerolinecolor": "#283442",
           "zerolinewidth": 2
          }
         }
        },
        "title": {
         "text": "Top 10 departments with the most units sold"
        },
        "xaxis": {
         "anchor": "y",
         "domain": [
          0,
          1
         ],
         "title": {
          "text": "Units sold"
         }
        },
        "yaxis": {
         "anchor": "x",
         "categoryarray": [
          "0879:PET SUPPLIES",
          "0604:PERSONAL CARE",
          "0991:TOBACCO",
          "0646:SEASONAL",
          "0597:HEALTH AIDS",
          "0836:HOUSEHOLD CLEANING",
          "0962:BEVERAGES",
          "0983:WINE",
          "0973:CANDY",
          "0982:SPIRITS"
         ],
         "categoryorder": "array",
         "domain": [
          0,
          1
         ],
         "title": {
          "text": "department"
         }
        }
       }
      }
     },
     "metadata": {},
     "output_type": "display_data"
    }
   ],
   "source": [
    "# Count sold units per department\n",
    "units_sold_by_department = (\n",
    "    df_transactions.groupby(\"department\")[\"units\"]\n",
    "    .sum()\n",
    "    .sort_values(ascending=False)\n",
    "    .head(10)\n",
    ")\n",
    "\n",
    "sold_units_fig = px.bar(\n",
    "    units_sold_by_department,\n",
    "    color=units_sold_by_department.index,\n",
    "    title=\"Top 10 departments with the most units sold\",\n",
    "    labels={\"value\": \"Units sold\"},\n",
    "    orientation=\"h\",\n",
    ")\n",
    "sold_units_fig.update_layout(showlegend=False)\n",
    "sold_units_fig.show()"
   ]
  },
  {
   "cell_type": "code",
   "execution_count": 14,
   "metadata": {},
   "outputs": [
    {
     "data": {
      "application/vnd.plotly.v1+json": {
       "config": {
        "plotlyServerURL": "https://plot.ly"
       },
       "data": [
        {
         "alignmentgroup": "True",
         "hovertemplate": "department=%{y}<br>Number of transactions=%{x}<extra></extra>",
         "legendgroup": "0982:SPIRITS",
         "marker": {
          "color": "#636efa",
          "pattern": {
           "shape": ""
          }
         },
         "name": "0982:SPIRITS",
         "offsetgroup": "0982:SPIRITS",
         "orientation": "h",
         "showlegend": true,
         "textposition": "auto",
         "type": "bar",
         "x": [
          314
         ],
         "xaxis": "x",
         "y": [
          "0982:SPIRITS"
         ],
         "yaxis": "y"
        },
        {
         "alignmentgroup": "True",
         "hovertemplate": "department=%{y}<br>Number of transactions=%{x}<extra></extra>",
         "legendgroup": "0973:CANDY",
         "marker": {
          "color": "#EF553B",
          "pattern": {
           "shape": ""
          }
         },
         "name": "0973:CANDY",
         "offsetgroup": "0973:CANDY",
         "orientation": "h",
         "showlegend": true,
         "textposition": "auto",
         "type": "bar",
         "x": [
          275
         ],
         "xaxis": "x",
         "y": [
          "0973:CANDY"
         ],
         "yaxis": "y"
        },
        {
         "alignmentgroup": "True",
         "hovertemplate": "department=%{y}<br>Number of transactions=%{x}<extra></extra>",
         "legendgroup": "0962:BEVERAGES",
         "marker": {
          "color": "#00cc96",
          "pattern": {
           "shape": ""
          }
         },
         "name": "0962:BEVERAGES",
         "offsetgroup": "0962:BEVERAGES",
         "orientation": "h",
         "showlegend": true,
         "textposition": "auto",
         "type": "bar",
         "x": [
          253
         ],
         "xaxis": "x",
         "y": [
          "0962:BEVERAGES"
         ],
         "yaxis": "y"
        },
        {
         "alignmentgroup": "True",
         "hovertemplate": "department=%{y}<br>Number of transactions=%{x}<extra></extra>",
         "legendgroup": "0597:HEALTH AIDS",
         "marker": {
          "color": "#ab63fa",
          "pattern": {
           "shape": ""
          }
         },
         "name": "0597:HEALTH AIDS",
         "offsetgroup": "0597:HEALTH AIDS",
         "orientation": "h",
         "showlegend": true,
         "textposition": "auto",
         "type": "bar",
         "x": [
          200
         ],
         "xaxis": "x",
         "y": [
          "0597:HEALTH AIDS"
         ],
         "yaxis": "y"
        },
        {
         "alignmentgroup": "True",
         "hovertemplate": "department=%{y}<br>Number of transactions=%{x}<extra></extra>",
         "legendgroup": "0983:WINE",
         "marker": {
          "color": "#FFA15A",
          "pattern": {
           "shape": ""
          }
         },
         "name": "0983:WINE",
         "offsetgroup": "0983:WINE",
         "orientation": "h",
         "showlegend": true,
         "textposition": "auto",
         "type": "bar",
         "x": [
          191
         ],
         "xaxis": "x",
         "y": [
          "0983:WINE"
         ],
         "yaxis": "y"
        },
        {
         "alignmentgroup": "True",
         "hovertemplate": "department=%{y}<br>Number of transactions=%{x}<extra></extra>",
         "legendgroup": "0991:TOBACCO",
         "marker": {
          "color": "#19d3f3",
          "pattern": {
           "shape": ""
          }
         },
         "name": "0991:TOBACCO",
         "offsetgroup": "0991:TOBACCO",
         "orientation": "h",
         "showlegend": true,
         "textposition": "auto",
         "type": "bar",
         "x": [
          185
         ],
         "xaxis": "x",
         "y": [
          "0991:TOBACCO"
         ],
         "yaxis": "y"
        },
        {
         "alignmentgroup": "True",
         "hovertemplate": "department=%{y}<br>Number of transactions=%{x}<extra></extra>",
         "legendgroup": "0836:HOUSEHOLD CLEANING",
         "marker": {
          "color": "#FF6692",
          "pattern": {
           "shape": ""
          }
         },
         "name": "0836:HOUSEHOLD CLEANING",
         "offsetgroup": "0836:HOUSEHOLD CLEANING",
         "orientation": "h",
         "showlegend": true,
         "textposition": "auto",
         "type": "bar",
         "x": [
          158
         ],
         "xaxis": "x",
         "y": [
          "0836:HOUSEHOLD CLEANING"
         ],
         "yaxis": "y"
        },
        {
         "alignmentgroup": "True",
         "hovertemplate": "department=%{y}<br>Number of transactions=%{x}<extra></extra>",
         "legendgroup": "0604:PERSONAL CARE",
         "marker": {
          "color": "#B6E880",
          "pattern": {
           "shape": ""
          }
         },
         "name": "0604:PERSONAL CARE",
         "offsetgroup": "0604:PERSONAL CARE",
         "orientation": "h",
         "showlegend": true,
         "textposition": "auto",
         "type": "bar",
         "x": [
          150
         ],
         "xaxis": "x",
         "y": [
          "0604:PERSONAL CARE"
         ],
         "yaxis": "y"
        },
        {
         "alignmentgroup": "True",
         "hovertemplate": "department=%{y}<br>Number of transactions=%{x}<extra></extra>",
         "legendgroup": "0984:BEER",
         "marker": {
          "color": "#FF97FF",
          "pattern": {
           "shape": ""
          }
         },
         "name": "0984:BEER",
         "offsetgroup": "0984:BEER",
         "orientation": "h",
         "showlegend": true,
         "textposition": "auto",
         "type": "bar",
         "x": [
          132
         ],
         "xaxis": "x",
         "y": [
          "0984:BEER"
         ],
         "yaxis": "y"
        },
        {
         "alignmentgroup": "True",
         "hovertemplate": "department=%{y}<br>Number of transactions=%{x}<extra></extra>",
         "legendgroup": "0603:BEAUTY CARE",
         "marker": {
          "color": "#FECB52",
          "pattern": {
           "shape": ""
          }
         },
         "name": "0603:BEAUTY CARE",
         "offsetgroup": "0603:BEAUTY CARE",
         "orientation": "h",
         "showlegend": true,
         "textposition": "auto",
         "type": "bar",
         "x": [
          132
         ],
         "xaxis": "x",
         "y": [
          "0603:BEAUTY CARE"
         ],
         "yaxis": "y"
        },
        {
         "alignmentgroup": "True",
         "hovertemplate": "department=%{y}<br>Units sold=%{x}<extra></extra>",
         "legendgroup": "0982:SPIRITS",
         "marker": {
          "color": "#636efa",
          "pattern": {
           "shape": ""
          }
         },
         "name": "0982:SPIRITS",
         "offsetgroup": "0982:SPIRITS",
         "orientation": "h",
         "showlegend": true,
         "textposition": "auto",
         "type": "bar",
         "x": [
          661
         ],
         "xaxis": "x2",
         "y": [
          "0982:SPIRITS"
         ],
         "yaxis": "y2"
        },
        {
         "alignmentgroup": "True",
         "hovertemplate": "department=%{y}<br>Units sold=%{x}<extra></extra>",
         "legendgroup": "0973:CANDY",
         "marker": {
          "color": "#EF553B",
          "pattern": {
           "shape": ""
          }
         },
         "name": "0973:CANDY",
         "offsetgroup": "0973:CANDY",
         "orientation": "h",
         "showlegend": true,
         "textposition": "auto",
         "type": "bar",
         "x": [
          646
         ],
         "xaxis": "x2",
         "y": [
          "0973:CANDY"
         ],
         "yaxis": "y2"
        },
        {
         "alignmentgroup": "True",
         "hovertemplate": "department=%{y}<br>Units sold=%{x}<extra></extra>",
         "legendgroup": "0983:WINE",
         "marker": {
          "color": "#00cc96",
          "pattern": {
           "shape": ""
          }
         },
         "name": "0983:WINE",
         "offsetgroup": "0983:WINE",
         "orientation": "h",
         "showlegend": true,
         "textposition": "auto",
         "type": "bar",
         "x": [
          528
         ],
         "xaxis": "x2",
         "y": [
          "0983:WINE"
         ],
         "yaxis": "y2"
        },
        {
         "alignmentgroup": "True",
         "hovertemplate": "department=%{y}<br>Units sold=%{x}<extra></extra>",
         "legendgroup": "0962:BEVERAGES",
         "marker": {
          "color": "#ab63fa",
          "pattern": {
           "shape": ""
          }
         },
         "name": "0962:BEVERAGES",
         "offsetgroup": "0962:BEVERAGES",
         "orientation": "h",
         "showlegend": true,
         "textposition": "auto",
         "type": "bar",
         "x": [
          418
         ],
         "xaxis": "x2",
         "y": [
          "0962:BEVERAGES"
         ],
         "yaxis": "y2"
        },
        {
         "alignmentgroup": "True",
         "hovertemplate": "department=%{y}<br>Units sold=%{x}<extra></extra>",
         "legendgroup": "0836:HOUSEHOLD CLEANING",
         "marker": {
          "color": "#FFA15A",
          "pattern": {
           "shape": ""
          }
         },
         "name": "0836:HOUSEHOLD CLEANING",
         "offsetgroup": "0836:HOUSEHOLD CLEANING",
         "orientation": "h",
         "showlegend": true,
         "textposition": "auto",
         "type": "bar",
         "x": [
          371
         ],
         "xaxis": "x2",
         "y": [
          "0836:HOUSEHOLD CLEANING"
         ],
         "yaxis": "y2"
        },
        {
         "alignmentgroup": "True",
         "hovertemplate": "department=%{y}<br>Units sold=%{x}<extra></extra>",
         "legendgroup": "0597:HEALTH AIDS",
         "marker": {
          "color": "#19d3f3",
          "pattern": {
           "shape": ""
          }
         },
         "name": "0597:HEALTH AIDS",
         "offsetgroup": "0597:HEALTH AIDS",
         "orientation": "h",
         "showlegend": true,
         "textposition": "auto",
         "type": "bar",
         "x": [
          342
         ],
         "xaxis": "x2",
         "y": [
          "0597:HEALTH AIDS"
         ],
         "yaxis": "y2"
        },
        {
         "alignmentgroup": "True",
         "hovertemplate": "department=%{y}<br>Units sold=%{x}<extra></extra>",
         "legendgroup": "0646:SEASONAL",
         "marker": {
          "color": "#FF6692",
          "pattern": {
           "shape": ""
          }
         },
         "name": "0646:SEASONAL",
         "offsetgroup": "0646:SEASONAL",
         "orientation": "h",
         "showlegend": true,
         "textposition": "auto",
         "type": "bar",
         "x": [
          326
         ],
         "xaxis": "x2",
         "y": [
          "0646:SEASONAL"
         ],
         "yaxis": "y2"
        },
        {
         "alignmentgroup": "True",
         "hovertemplate": "department=%{y}<br>Units sold=%{x}<extra></extra>",
         "legendgroup": "0991:TOBACCO",
         "marker": {
          "color": "#B6E880",
          "pattern": {
           "shape": ""
          }
         },
         "name": "0991:TOBACCO",
         "offsetgroup": "0991:TOBACCO",
         "orientation": "h",
         "showlegend": true,
         "textposition": "auto",
         "type": "bar",
         "x": [
          313
         ],
         "xaxis": "x2",
         "y": [
          "0991:TOBACCO"
         ],
         "yaxis": "y2"
        },
        {
         "alignmentgroup": "True",
         "hovertemplate": "department=%{y}<br>Units sold=%{x}<extra></extra>",
         "legendgroup": "0604:PERSONAL CARE",
         "marker": {
          "color": "#FF97FF",
          "pattern": {
           "shape": ""
          }
         },
         "name": "0604:PERSONAL CARE",
         "offsetgroup": "0604:PERSONAL CARE",
         "orientation": "h",
         "showlegend": true,
         "textposition": "auto",
         "type": "bar",
         "x": [
          292
         ],
         "xaxis": "x2",
         "y": [
          "0604:PERSONAL CARE"
         ],
         "yaxis": "y2"
        },
        {
         "alignmentgroup": "True",
         "hovertemplate": "department=%{y}<br>Units sold=%{x}<extra></extra>",
         "legendgroup": "0879:PET SUPPLIES",
         "marker": {
          "color": "#FECB52",
          "pattern": {
           "shape": ""
          }
         },
         "name": "0879:PET SUPPLIES",
         "offsetgroup": "0879:PET SUPPLIES",
         "orientation": "h",
         "showlegend": true,
         "textposition": "auto",
         "type": "bar",
         "x": [
          243
         ],
         "xaxis": "x2",
         "y": [
          "0879:PET SUPPLIES"
         ],
         "yaxis": "y2"
        }
       ],
       "layout": {
        "annotations": [
         {
          "font": {
           "size": 16
          },
          "showarrow": false,
          "text": "Number of transactions",
          "x": 0.225,
          "xanchor": "center",
          "xref": "paper",
          "y": 1,
          "yanchor": "bottom",
          "yref": "paper"
         },
         {
          "font": {
           "size": 16
          },
          "showarrow": false,
          "text": "Units sold",
          "x": 0.775,
          "xanchor": "center",
          "xref": "paper",
          "y": 1,
          "yanchor": "bottom",
          "yref": "paper"
         }
        ],
        "showlegend": false,
        "template": {
         "data": {
          "bar": [
           {
            "error_x": {
             "color": "#f2f5fa"
            },
            "error_y": {
             "color": "#f2f5fa"
            },
            "marker": {
             "line": {
              "color": "rgb(17,17,17)",
              "width": 0.5
             },
             "pattern": {
              "fillmode": "overlay",
              "size": 10,
              "solidity": 0.2
             }
            },
            "type": "bar"
           }
          ],
          "barpolar": [
           {
            "marker": {
             "line": {
              "color": "rgb(17,17,17)",
              "width": 0.5
             },
             "pattern": {
              "fillmode": "overlay",
              "size": 10,
              "solidity": 0.2
             }
            },
            "type": "barpolar"
           }
          ],
          "carpet": [
           {
            "aaxis": {
             "endlinecolor": "#A2B1C6",
             "gridcolor": "#506784",
             "linecolor": "#506784",
             "minorgridcolor": "#506784",
             "startlinecolor": "#A2B1C6"
            },
            "baxis": {
             "endlinecolor": "#A2B1C6",
             "gridcolor": "#506784",
             "linecolor": "#506784",
             "minorgridcolor": "#506784",
             "startlinecolor": "#A2B1C6"
            },
            "type": "carpet"
           }
          ],
          "choropleth": [
           {
            "colorbar": {
             "outlinewidth": 0,
             "ticks": ""
            },
            "type": "choropleth"
           }
          ],
          "contour": [
           {
            "colorbar": {
             "outlinewidth": 0,
             "ticks": ""
            },
            "colorscale": [
             [
              0,
              "#0d0887"
             ],
             [
              0.1111111111111111,
              "#46039f"
             ],
             [
              0.2222222222222222,
              "#7201a8"
             ],
             [
              0.3333333333333333,
              "#9c179e"
             ],
             [
              0.4444444444444444,
              "#bd3786"
             ],
             [
              0.5555555555555556,
              "#d8576b"
             ],
             [
              0.6666666666666666,
              "#ed7953"
             ],
             [
              0.7777777777777778,
              "#fb9f3a"
             ],
             [
              0.8888888888888888,
              "#fdca26"
             ],
             [
              1,
              "#f0f921"
             ]
            ],
            "type": "contour"
           }
          ],
          "contourcarpet": [
           {
            "colorbar": {
             "outlinewidth": 0,
             "ticks": ""
            },
            "type": "contourcarpet"
           }
          ],
          "heatmap": [
           {
            "colorbar": {
             "outlinewidth": 0,
             "ticks": ""
            },
            "colorscale": [
             [
              0,
              "#0d0887"
             ],
             [
              0.1111111111111111,
              "#46039f"
             ],
             [
              0.2222222222222222,
              "#7201a8"
             ],
             [
              0.3333333333333333,
              "#9c179e"
             ],
             [
              0.4444444444444444,
              "#bd3786"
             ],
             [
              0.5555555555555556,
              "#d8576b"
             ],
             [
              0.6666666666666666,
              "#ed7953"
             ],
             [
              0.7777777777777778,
              "#fb9f3a"
             ],
             [
              0.8888888888888888,
              "#fdca26"
             ],
             [
              1,
              "#f0f921"
             ]
            ],
            "type": "heatmap"
           }
          ],
          "heatmapgl": [
           {
            "colorbar": {
             "outlinewidth": 0,
             "ticks": ""
            },
            "colorscale": [
             [
              0,
              "#0d0887"
             ],
             [
              0.1111111111111111,
              "#46039f"
             ],
             [
              0.2222222222222222,
              "#7201a8"
             ],
             [
              0.3333333333333333,
              "#9c179e"
             ],
             [
              0.4444444444444444,
              "#bd3786"
             ],
             [
              0.5555555555555556,
              "#d8576b"
             ],
             [
              0.6666666666666666,
              "#ed7953"
             ],
             [
              0.7777777777777778,
              "#fb9f3a"
             ],
             [
              0.8888888888888888,
              "#fdca26"
             ],
             [
              1,
              "#f0f921"
             ]
            ],
            "type": "heatmapgl"
           }
          ],
          "histogram": [
           {
            "marker": {
             "pattern": {
              "fillmode": "overlay",
              "size": 10,
              "solidity": 0.2
             }
            },
            "type": "histogram"
           }
          ],
          "histogram2d": [
           {
            "colorbar": {
             "outlinewidth": 0,
             "ticks": ""
            },
            "colorscale": [
             [
              0,
              "#0d0887"
             ],
             [
              0.1111111111111111,
              "#46039f"
             ],
             [
              0.2222222222222222,
              "#7201a8"
             ],
             [
              0.3333333333333333,
              "#9c179e"
             ],
             [
              0.4444444444444444,
              "#bd3786"
             ],
             [
              0.5555555555555556,
              "#d8576b"
             ],
             [
              0.6666666666666666,
              "#ed7953"
             ],
             [
              0.7777777777777778,
              "#fb9f3a"
             ],
             [
              0.8888888888888888,
              "#fdca26"
             ],
             [
              1,
              "#f0f921"
             ]
            ],
            "type": "histogram2d"
           }
          ],
          "histogram2dcontour": [
           {
            "colorbar": {
             "outlinewidth": 0,
             "ticks": ""
            },
            "colorscale": [
             [
              0,
              "#0d0887"
             ],
             [
              0.1111111111111111,
              "#46039f"
             ],
             [
              0.2222222222222222,
              "#7201a8"
             ],
             [
              0.3333333333333333,
              "#9c179e"
             ],
             [
              0.4444444444444444,
              "#bd3786"
             ],
             [
              0.5555555555555556,
              "#d8576b"
             ],
             [
              0.6666666666666666,
              "#ed7953"
             ],
             [
              0.7777777777777778,
              "#fb9f3a"
             ],
             [
              0.8888888888888888,
              "#fdca26"
             ],
             [
              1,
              "#f0f921"
             ]
            ],
            "type": "histogram2dcontour"
           }
          ],
          "mesh3d": [
           {
            "colorbar": {
             "outlinewidth": 0,
             "ticks": ""
            },
            "type": "mesh3d"
           }
          ],
          "parcoords": [
           {
            "line": {
             "colorbar": {
              "outlinewidth": 0,
              "ticks": ""
             }
            },
            "type": "parcoords"
           }
          ],
          "pie": [
           {
            "automargin": true,
            "type": "pie"
           }
          ],
          "scatter": [
           {
            "marker": {
             "line": {
              "color": "#283442"
             }
            },
            "type": "scatter"
           }
          ],
          "scatter3d": [
           {
            "line": {
             "colorbar": {
              "outlinewidth": 0,
              "ticks": ""
             }
            },
            "marker": {
             "colorbar": {
              "outlinewidth": 0,
              "ticks": ""
             }
            },
            "type": "scatter3d"
           }
          ],
          "scattercarpet": [
           {
            "marker": {
             "colorbar": {
              "outlinewidth": 0,
              "ticks": ""
             }
            },
            "type": "scattercarpet"
           }
          ],
          "scattergeo": [
           {
            "marker": {
             "colorbar": {
              "outlinewidth": 0,
              "ticks": ""
             }
            },
            "type": "scattergeo"
           }
          ],
          "scattergl": [
           {
            "marker": {
             "line": {
              "color": "#283442"
             }
            },
            "type": "scattergl"
           }
          ],
          "scattermapbox": [
           {
            "marker": {
             "colorbar": {
              "outlinewidth": 0,
              "ticks": ""
             }
            },
            "type": "scattermapbox"
           }
          ],
          "scatterpolar": [
           {
            "marker": {
             "colorbar": {
              "outlinewidth": 0,
              "ticks": ""
             }
            },
            "type": "scatterpolar"
           }
          ],
          "scatterpolargl": [
           {
            "marker": {
             "colorbar": {
              "outlinewidth": 0,
              "ticks": ""
             }
            },
            "type": "scatterpolargl"
           }
          ],
          "scatterternary": [
           {
            "marker": {
             "colorbar": {
              "outlinewidth": 0,
              "ticks": ""
             }
            },
            "type": "scatterternary"
           }
          ],
          "surface": [
           {
            "colorbar": {
             "outlinewidth": 0,
             "ticks": ""
            },
            "colorscale": [
             [
              0,
              "#0d0887"
             ],
             [
              0.1111111111111111,
              "#46039f"
             ],
             [
              0.2222222222222222,
              "#7201a8"
             ],
             [
              0.3333333333333333,
              "#9c179e"
             ],
             [
              0.4444444444444444,
              "#bd3786"
             ],
             [
              0.5555555555555556,
              "#d8576b"
             ],
             [
              0.6666666666666666,
              "#ed7953"
             ],
             [
              0.7777777777777778,
              "#fb9f3a"
             ],
             [
              0.8888888888888888,
              "#fdca26"
             ],
             [
              1,
              "#f0f921"
             ]
            ],
            "type": "surface"
           }
          ],
          "table": [
           {
            "cells": {
             "fill": {
              "color": "#506784"
             },
             "line": {
              "color": "rgb(17,17,17)"
             }
            },
            "header": {
             "fill": {
              "color": "#2a3f5f"
             },
             "line": {
              "color": "rgb(17,17,17)"
             }
            },
            "type": "table"
           }
          ]
         },
         "layout": {
          "annotationdefaults": {
           "arrowcolor": "#f2f5fa",
           "arrowhead": 0,
           "arrowwidth": 1
          },
          "autotypenumbers": "strict",
          "coloraxis": {
           "colorbar": {
            "outlinewidth": 0,
            "ticks": ""
           }
          },
          "colorscale": {
           "diverging": [
            [
             0,
             "#8e0152"
            ],
            [
             0.1,
             "#c51b7d"
            ],
            [
             0.2,
             "#de77ae"
            ],
            [
             0.3,
             "#f1b6da"
            ],
            [
             0.4,
             "#fde0ef"
            ],
            [
             0.5,
             "#f7f7f7"
            ],
            [
             0.6,
             "#e6f5d0"
            ],
            [
             0.7,
             "#b8e186"
            ],
            [
             0.8,
             "#7fbc41"
            ],
            [
             0.9,
             "#4d9221"
            ],
            [
             1,
             "#276419"
            ]
           ],
           "sequential": [
            [
             0,
             "#0d0887"
            ],
            [
             0.1111111111111111,
             "#46039f"
            ],
            [
             0.2222222222222222,
             "#7201a8"
            ],
            [
             0.3333333333333333,
             "#9c179e"
            ],
            [
             0.4444444444444444,
             "#bd3786"
            ],
            [
             0.5555555555555556,
             "#d8576b"
            ],
            [
             0.6666666666666666,
             "#ed7953"
            ],
            [
             0.7777777777777778,
             "#fb9f3a"
            ],
            [
             0.8888888888888888,
             "#fdca26"
            ],
            [
             1,
             "#f0f921"
            ]
           ],
           "sequentialminus": [
            [
             0,
             "#0d0887"
            ],
            [
             0.1111111111111111,
             "#46039f"
            ],
            [
             0.2222222222222222,
             "#7201a8"
            ],
            [
             0.3333333333333333,
             "#9c179e"
            ],
            [
             0.4444444444444444,
             "#bd3786"
            ],
            [
             0.5555555555555556,
             "#d8576b"
            ],
            [
             0.6666666666666666,
             "#ed7953"
            ],
            [
             0.7777777777777778,
             "#fb9f3a"
            ],
            [
             0.8888888888888888,
             "#fdca26"
            ],
            [
             1,
             "#f0f921"
            ]
           ]
          },
          "colorway": [
           "#636efa",
           "#EF553B",
           "#00cc96",
           "#ab63fa",
           "#FFA15A",
           "#19d3f3",
           "#FF6692",
           "#B6E880",
           "#FF97FF",
           "#FECB52"
          ],
          "font": {
           "color": "#f2f5fa"
          },
          "geo": {
           "bgcolor": "rgb(17,17,17)",
           "lakecolor": "rgb(17,17,17)",
           "landcolor": "rgb(17,17,17)",
           "showlakes": true,
           "showland": true,
           "subunitcolor": "#506784"
          },
          "hoverlabel": {
           "align": "left"
          },
          "hovermode": "closest",
          "mapbox": {
           "style": "dark"
          },
          "paper_bgcolor": "rgb(17,17,17)",
          "plot_bgcolor": "rgb(17,17,17)",
          "polar": {
           "angularaxis": {
            "gridcolor": "#506784",
            "linecolor": "#506784",
            "ticks": ""
           },
           "bgcolor": "rgb(17,17,17)",
           "radialaxis": {
            "gridcolor": "#506784",
            "linecolor": "#506784",
            "ticks": ""
           }
          },
          "scene": {
           "xaxis": {
            "backgroundcolor": "rgb(17,17,17)",
            "gridcolor": "#506784",
            "gridwidth": 2,
            "linecolor": "#506784",
            "showbackground": true,
            "ticks": "",
            "zerolinecolor": "#C8D4E3"
           },
           "yaxis": {
            "backgroundcolor": "rgb(17,17,17)",
            "gridcolor": "#506784",
            "gridwidth": 2,
            "linecolor": "#506784",
            "showbackground": true,
            "ticks": "",
            "zerolinecolor": "#C8D4E3"
           },
           "zaxis": {
            "backgroundcolor": "rgb(17,17,17)",
            "gridcolor": "#506784",
            "gridwidth": 2,
            "linecolor": "#506784",
            "showbackground": true,
            "ticks": "",
            "zerolinecolor": "#C8D4E3"
           }
          },
          "shapedefaults": {
           "line": {
            "color": "#f2f5fa"
           }
          },
          "sliderdefaults": {
           "bgcolor": "#C8D4E3",
           "bordercolor": "rgb(17,17,17)",
           "borderwidth": 1,
           "tickwidth": 0
          },
          "ternary": {
           "aaxis": {
            "gridcolor": "#506784",
            "linecolor": "#506784",
            "ticks": ""
           },
           "baxis": {
            "gridcolor": "#506784",
            "linecolor": "#506784",
            "ticks": ""
           },
           "bgcolor": "rgb(17,17,17)",
           "caxis": {
            "gridcolor": "#506784",
            "linecolor": "#506784",
            "ticks": ""
           }
          },
          "title": {
           "x": 0.05
          },
          "updatemenudefaults": {
           "bgcolor": "#506784",
           "borderwidth": 0
          },
          "xaxis": {
           "automargin": true,
           "gridcolor": "#283442",
           "linecolor": "#506784",
           "ticks": "",
           "title": {
            "standoff": 15
           },
           "zerolinecolor": "#283442",
           "zerolinewidth": 2
          },
          "yaxis": {
           "automargin": true,
           "gridcolor": "#283442",
           "linecolor": "#506784",
           "ticks": "",
           "title": {
            "standoff": 15
           },
           "zerolinecolor": "#283442",
           "zerolinewidth": 2
          }
         }
        },
        "title": {
         "text": "Top 10 departments with the most transactions and units sold"
        },
        "xaxis": {
         "anchor": "y",
         "domain": [
          0,
          0.45
         ]
        },
        "xaxis2": {
         "anchor": "y2",
         "domain": [
          0.55,
          1
         ]
        },
        "yaxis": {
         "anchor": "x",
         "domain": [
          0,
          1
         ]
        },
        "yaxis2": {
         "anchor": "x2",
         "domain": [
          0,
          1
         ]
        }
       }
      }
     },
     "metadata": {},
     "output_type": "display_data"
    }
   ],
   "source": [
    "# Unify count charts\n",
    "fig = make_subplots(\n",
    "    rows=1, cols=2, subplot_titles=(\"Number of transactions\", \"Units sold\")\n",
    ")\n",
    "\n",
    "for trace in tx_count_fig.data:\n",
    "    fig.add_trace(trace, row=1, col=1)\n",
    "\n",
    "for trace in sold_units_fig.data:\n",
    "    fig.add_trace(trace, row=1, col=2)\n",
    "\n",
    "fig.update_layout(\n",
    "    showlegend=False,\n",
    "    title_text=\"Top 10 departments with the most transactions and units sold\",\n",
    ")\n",
    "\n",
    "fig.show()"
   ]
  },
  {
   "cell_type": "code",
   "execution_count": 15,
   "metadata": {},
   "outputs": [
    {
     "data": {
      "application/vnd.plotly.v1+json": {
       "config": {
        "plotlyServerURL": "https://plot.ly"
       },
       "data": [
        {
         "alignmentgroup": "True",
         "hovertemplate": "department=%{y}<br>Variance=%{x}<extra></extra>",
         "legendgroup": "0533:PAPYRUS",
         "marker": {
          "color": "#636efa",
          "pattern": {
           "shape": ""
          }
         },
         "name": "0533:PAPYRUS",
         "offsetgroup": "0533:PAPYRUS",
         "orientation": "h",
         "showlegend": true,
         "textposition": "auto",
         "type": "bar",
         "x": [
          4.041451884327381
         ],
         "xaxis": "x",
         "y": [
          "0533:PAPYRUS"
         ],
         "yaxis": "y"
        },
        {
         "alignmentgroup": "True",
         "hovertemplate": "department=%{y}<br>Variance=%{x}<extra></extra>",
         "legendgroup": "0646:SEASONAL",
         "marker": {
          "color": "#EF553B",
          "pattern": {
           "shape": ""
          }
         },
         "name": "0646:SEASONAL",
         "offsetgroup": "0646:SEASONAL",
         "orientation": "h",
         "showlegend": true,
         "textposition": "auto",
         "type": "bar",
         "x": [
          3.6319588884717278
         ],
         "xaxis": "x",
         "y": [
          "0646:SEASONAL"
         ],
         "yaxis": "y"
        },
        {
         "alignmentgroup": "True",
         "hovertemplate": "department=%{y}<br>Variance=%{x}<extra></extra>",
         "legendgroup": "0983:WINE",
         "marker": {
          "color": "#00cc96",
          "pattern": {
           "shape": ""
          }
         },
         "name": "0983:WINE",
         "offsetgroup": "0983:WINE",
         "orientation": "h",
         "showlegend": true,
         "textposition": "auto",
         "type": "bar",
         "x": [
          3.4507038990229844
         ],
         "xaxis": "x",
         "y": [
          "0983:WINE"
         ],
         "yaxis": "y"
        },
        {
         "alignmentgroup": "True",
         "hovertemplate": "department=%{y}<br>Variance=%{x}<extra></extra>",
         "legendgroup": "0440:GIRLS 7-16 CLOTHING",
         "marker": {
          "color": "#ab63fa",
          "pattern": {
           "shape": ""
          }
         },
         "name": "0440:GIRLS 7-16 CLOTHING",
         "offsetgroup": "0440:GIRLS 7-16 CLOTHING",
         "orientation": "h",
         "showlegend": true,
         "textposition": "auto",
         "type": "bar",
         "x": [
          3.3349995835415362
         ],
         "xaxis": "x",
         "y": [
          "0440:GIRLS 7-16 CLOTHING"
         ],
         "yaxis": "y"
        },
        {
         "alignmentgroup": "True",
         "hovertemplate": "department=%{y}<br>Variance=%{x}<extra></extra>",
         "legendgroup": "0644:SPORTS NUTRITION",
         "marker": {
          "color": "#FFA15A",
          "pattern": {
           "shape": ""
          }
         },
         "name": "0644:SPORTS NUTRITION",
         "offsetgroup": "0644:SPORTS NUTRITION",
         "orientation": "h",
         "showlegend": true,
         "textposition": "auto",
         "type": "bar",
         "x": [
          2.9514591494904874
         ],
         "xaxis": "x",
         "y": [
          "0644:SPORTS NUTRITION"
         ],
         "yaxis": "y"
        },
        {
         "alignmentgroup": "True",
         "hovertemplate": "department=%{y}<br>Variance=%{x}<extra></extra>",
         "legendgroup": "0879:PET SUPPLIES",
         "marker": {
          "color": "#19d3f3",
          "pattern": {
           "shape": ""
          }
         },
         "name": "0879:PET SUPPLIES",
         "offsetgroup": "0879:PET SUPPLIES",
         "orientation": "h",
         "showlegend": true,
         "textposition": "auto",
         "type": "bar",
         "x": [
          2.7574561386240846
         ],
         "xaxis": "x",
         "y": [
          "0879:PET SUPPLIES"
         ],
         "yaxis": "y"
        },
        {
         "alignmentgroup": "True",
         "hovertemplate": "department=%{y}<br>Variance=%{x}<extra></extra>",
         "legendgroup": "0210:FOUNDATIONS",
         "marker": {
          "color": "#FF6692",
          "pattern": {
           "shape": ""
          }
         },
         "name": "0210:FOUNDATIONS",
         "offsetgroup": "0210:FOUNDATIONS",
         "orientation": "h",
         "showlegend": true,
         "textposition": "auto",
         "type": "bar",
         "x": [
          2.753785273643051
         ],
         "xaxis": "x",
         "y": [
          "0210:FOUNDATIONS"
         ],
         "yaxis": "y"
        },
        {
         "alignmentgroup": "True",
         "hovertemplate": "department=%{y}<br>Variance=%{x}<extra></extra>",
         "legendgroup": "0973:CANDY",
         "marker": {
          "color": "#B6E880",
          "pattern": {
           "shape": ""
          }
         },
         "name": "0973:CANDY",
         "offsetgroup": "0973:CANDY",
         "orientation": "h",
         "showlegend": true,
         "textposition": "auto",
         "type": "bar",
         "x": [
          2.552004559699546
         ],
         "xaxis": "x",
         "y": [
          "0973:CANDY"
         ],
         "yaxis": "y"
        },
        {
         "alignmentgroup": "True",
         "hovertemplate": "department=%{y}<br>Variance=%{x}<extra></extra>",
         "legendgroup": "0530:SCHOOL/OFFIC SUPP",
         "marker": {
          "color": "#FF97FF",
          "pattern": {
           "shape": ""
          }
         },
         "name": "0530:SCHOOL/OFFIC SUPP",
         "offsetgroup": "0530:SCHOOL/OFFIC SUPP",
         "orientation": "h",
         "showlegend": true,
         "textposition": "auto",
         "type": "bar",
         "x": [
          2.5161308329755463
         ],
         "xaxis": "x",
         "y": [
          "0530:SCHOOL/OFFIC SUPP"
         ],
         "yaxis": "y"
        },
        {
         "alignmentgroup": "True",
         "hovertemplate": "department=%{y}<br>Variance=%{x}<extra></extra>",
         "legendgroup": "0930:TABLE TOP & KITCHEN",
         "marker": {
          "color": "#FECB52",
          "pattern": {
           "shape": ""
          }
         },
         "name": "0930:TABLE TOP & KITCHEN",
         "offsetgroup": "0930:TABLE TOP & KITCHEN",
         "orientation": "h",
         "showlegend": true,
         "textposition": "auto",
         "type": "bar",
         "x": [
          2.436369724794953
         ],
         "xaxis": "x",
         "y": [
          "0930:TABLE TOP & KITCHEN"
         ],
         "yaxis": "y"
        },
        {
         "alignmentgroup": "True",
         "hovertemplate": "department=%{y}<br>Variance=%{x}<extra></extra>",
         "legendgroup": "0012:LOCAL GIFTS/FOODS",
         "marker": {
          "color": "#636efa",
          "pattern": {
           "shape": ""
          }
         },
         "name": "0012:LOCAL GIFTS/FOODS",
         "offsetgroup": "0012:LOCAL GIFTS/FOODS",
         "orientation": "h",
         "showlegend": true,
         "textposition": "auto",
         "type": "bar",
         "x": [
          2.3804761428476167
         ],
         "xaxis": "x",
         "y": [
          "0012:LOCAL GIFTS/FOODS"
         ],
         "yaxis": "y"
        },
        {
         "alignmentgroup": "True",
         "hovertemplate": "department=%{y}<br>Variance=%{x}<extra></extra>",
         "legendgroup": "0795:HOME DECOR",
         "marker": {
          "color": "#EF553B",
          "pattern": {
           "shape": ""
          }
         },
         "name": "0795:HOME DECOR",
         "offsetgroup": "0795:HOME DECOR",
         "orientation": "h",
         "showlegend": true,
         "textposition": "auto",
         "type": "bar",
         "x": [
          2.2360679774997894
         ],
         "xaxis": "x",
         "y": [
          "0795:HOME DECOR"
         ],
         "yaxis": "y"
        },
        {
         "alignmentgroup": "True",
         "hovertemplate": "department=%{y}<br>Variance=%{x}<extra></extra>",
         "legendgroup": "0230:DAYWEAR",
         "marker": {
          "color": "#00cc96",
          "pattern": {
           "shape": ""
          }
         },
         "name": "0230:DAYWEAR",
         "offsetgroup": "0230:DAYWEAR",
         "orientation": "h",
         "showlegend": true,
         "textposition": "auto",
         "type": "bar",
         "x": [
          2.2211108331943574
         ],
         "xaxis": "x",
         "y": [
          "0230:DAYWEAR"
         ],
         "yaxis": "y"
        },
        {
         "alignmentgroup": "True",
         "hovertemplate": "department=%{y}<br>Variance=%{x}<extra></extra>",
         "legendgroup": "0640:TOYS",
         "marker": {
          "color": "#ab63fa",
          "pattern": {
           "shape": ""
          }
         },
         "name": "0640:TOYS",
         "offsetgroup": "0640:TOYS",
         "orientation": "h",
         "showlegend": true,
         "textposition": "auto",
         "type": "bar",
         "x": [
          2.149798738343805
         ],
         "xaxis": "x",
         "y": [
          "0640:TOYS"
         ],
         "yaxis": "y"
        },
        {
         "alignmentgroup": "True",
         "hovertemplate": "department=%{y}<br>Variance=%{x}<extra></extra>",
         "legendgroup": "0165:LIFE IS GOOD",
         "marker": {
          "color": "#FFA15A",
          "pattern": {
           "shape": ""
          }
         },
         "name": "0165:LIFE IS GOOD",
         "offsetgroup": "0165:LIFE IS GOOD",
         "orientation": "h",
         "showlegend": true,
         "textposition": "auto",
         "type": "bar",
         "x": [
          2.1213203435596424
         ],
         "xaxis": "x",
         "y": [
          "0165:LIFE IS GOOD"
         ],
         "yaxis": "y"
        },
        {
         "alignmentgroup": "True",
         "hovertemplate": "department=%{y}<br>Variance=%{x}<extra></extra>",
         "legendgroup": "0598:BABY CARE",
         "marker": {
          "color": "#19d3f3",
          "pattern": {
           "shape": ""
          }
         },
         "name": "0598:BABY CARE",
         "offsetgroup": "0598:BABY CARE",
         "orientation": "h",
         "showlegend": true,
         "textposition": "auto",
         "type": "bar",
         "x": [
          2.111001654603745
         ],
         "xaxis": "x",
         "y": [
          "0598:BABY CARE"
         ],
         "yaxis": "y"
        },
        {
         "alignmentgroup": "True",
         "hovertemplate": "department=%{y}<br>Variance=%{x}<extra></extra>",
         "legendgroup": "0531:STATIONERY SUNDRIES",
         "marker": {
          "color": "#FF6692",
          "pattern": {
           "shape": ""
          }
         },
         "name": "0531:STATIONERY SUNDRIES",
         "offsetgroup": "0531:STATIONERY SUNDRIES",
         "orientation": "h",
         "showlegend": true,
         "textposition": "auto",
         "type": "bar",
         "x": [
          2.064741604835056
         ],
         "xaxis": "x",
         "y": [
          "0531:STATIONERY SUNDRIES"
         ],
         "yaxis": "y"
        },
        {
         "alignmentgroup": "True",
         "hovertemplate": "department=%{y}<br>Variance=%{x}<extra></extra>",
         "legendgroup": "0240:SLEEPWEAR/LOUNGEWEAR",
         "marker": {
          "color": "#B6E880",
          "pattern": {
           "shape": ""
          }
         },
         "name": "0240:SLEEPWEAR/LOUNGEWEAR",
         "offsetgroup": "0240:SLEEPWEAR/LOUNGEWEAR",
         "orientation": "h",
         "showlegend": true,
         "textposition": "auto",
         "type": "bar",
         "x": [
          2.0575065816014617
         ],
         "xaxis": "x",
         "y": [
          "0240:SLEEPWEAR/LOUNGEWEAR"
         ],
         "yaxis": "y"
        },
        {
         "alignmentgroup": "True",
         "hovertemplate": "department=%{y}<br>Variance=%{x}<extra></extra>",
         "legendgroup": "0836:HOUSEHOLD CLEANING",
         "marker": {
          "color": "#FF97FF",
          "pattern": {
           "shape": ""
          }
         },
         "name": "0836:HOUSEHOLD CLEANING",
         "offsetgroup": "0836:HOUSEHOLD CLEANING",
         "orientation": "h",
         "showlegend": true,
         "textposition": "auto",
         "type": "bar",
         "x": [
          2.0219408447056098
         ],
         "xaxis": "x",
         "y": [
          "0836:HOUSEHOLD CLEANING"
         ],
         "yaxis": "y"
        },
        {
         "alignmentgroup": "True",
         "hovertemplate": "department=%{y}<br>Variance=%{x}<extra></extra>",
         "legendgroup": "0130:JUNIORS SURF",
         "marker": {
          "color": "#FECB52",
          "pattern": {
           "shape": ""
          }
         },
         "name": "0130:JUNIORS SURF",
         "offsetgroup": "0130:JUNIORS SURF",
         "orientation": "h",
         "showlegend": true,
         "textposition": "auto",
         "type": "bar",
         "x": [
          2
         ],
         "xaxis": "x",
         "y": [
          "0130:JUNIORS SURF"
         ],
         "yaxis": "y"
        },
        {
         "alignmentgroup": "True",
         "hovertemplate": "department=%{y}<br>Variance=%{x}<extra></extra>",
         "legendgroup": "0638:GEN SPORTING GOODS",
         "marker": {
          "color": "#636efa",
          "pattern": {
           "shape": ""
          }
         },
         "name": "0638:GEN SPORTING GOODS",
         "offsetgroup": "0638:GEN SPORTING GOODS",
         "orientation": "h",
         "showlegend": true,
         "textposition": "auto",
         "type": "bar",
         "x": [
          1.9784553859730358
         ],
         "xaxis": "x",
         "y": [
          "0638:GEN SPORTING GOODS"
         ],
         "yaxis": "y"
        },
        {
         "alignmentgroup": "True",
         "hovertemplate": "department=%{y}<br>Variance=%{x}<extra></extra>",
         "legendgroup": "0449:GIRLS ACCESSORIES",
         "marker": {
          "color": "#EF553B",
          "pattern": {
           "shape": ""
          }
         },
         "name": "0449:GIRLS ACCESSORIES",
         "offsetgroup": "0449:GIRLS ACCESSORIES",
         "orientation": "h",
         "showlegend": true,
         "textposition": "auto",
         "type": "bar",
         "x": [
          1.9681530361296538
         ],
         "xaxis": "x",
         "y": [
          "0449:GIRLS ACCESSORIES"
         ],
         "yaxis": "y"
        },
        {
         "alignmentgroup": "True",
         "hovertemplate": "department=%{y}<br>Variance=%{x}<extra></extra>",
         "legendgroup": "0469:BOYS ACCESSORIES",
         "marker": {
          "color": "#00cc96",
          "pattern": {
           "shape": ""
          }
         },
         "name": "0469:BOYS ACCESSORIES",
         "offsetgroup": "0469:BOYS ACCESSORIES",
         "orientation": "h",
         "showlegend": true,
         "textposition": "auto",
         "type": "bar",
         "x": [
          1.859043828435456
         ],
         "xaxis": "x",
         "y": [
          "0469:BOYS ACCESSORIES"
         ],
         "yaxis": "y"
        },
        {
         "alignmentgroup": "True",
         "hovertemplate": "department=%{y}<br>Variance=%{x}<extra></extra>",
         "legendgroup": "0815:AUDIO ELECTRONICS",
         "marker": {
          "color": "#ab63fa",
          "pattern": {
           "shape": ""
          }
         },
         "name": "0815:AUDIO ELECTRONICS",
         "offsetgroup": "0815:AUDIO ELECTRONICS",
         "orientation": "h",
         "showlegend": true,
         "textposition": "auto",
         "type": "bar",
         "x": [
          1.7737657847891128
         ],
         "xaxis": "x",
         "y": [
          "0815:AUDIO ELECTRONICS"
         ],
         "yaxis": "y"
        },
        {
         "alignmentgroup": "True",
         "hovertemplate": "department=%{y}<br>Variance=%{x}<extra></extra>",
         "legendgroup": "0982:SPIRITS",
         "marker": {
          "color": "#FFA15A",
          "pattern": {
           "shape": ""
          }
         },
         "name": "0982:SPIRITS",
         "offsetgroup": "0982:SPIRITS",
         "orientation": "h",
         "showlegend": true,
         "textposition": "auto",
         "type": "bar",
         "x": [
          1.7690377947565676
         ],
         "xaxis": "x",
         "y": [
          "0982:SPIRITS"
         ],
         "yaxis": "y"
        }
       ],
       "layout": {
        "barmode": "relative",
        "legend": {
         "title": {
          "text": "department"
         },
         "tracegroupgap": 0
        },
        "showlegend": false,
        "template": {
         "data": {
          "bar": [
           {
            "error_x": {
             "color": "#f2f5fa"
            },
            "error_y": {
             "color": "#f2f5fa"
            },
            "marker": {
             "line": {
              "color": "rgb(17,17,17)",
              "width": 0.5
             },
             "pattern": {
              "fillmode": "overlay",
              "size": 10,
              "solidity": 0.2
             }
            },
            "type": "bar"
           }
          ],
          "barpolar": [
           {
            "marker": {
             "line": {
              "color": "rgb(17,17,17)",
              "width": 0.5
             },
             "pattern": {
              "fillmode": "overlay",
              "size": 10,
              "solidity": 0.2
             }
            },
            "type": "barpolar"
           }
          ],
          "carpet": [
           {
            "aaxis": {
             "endlinecolor": "#A2B1C6",
             "gridcolor": "#506784",
             "linecolor": "#506784",
             "minorgridcolor": "#506784",
             "startlinecolor": "#A2B1C6"
            },
            "baxis": {
             "endlinecolor": "#A2B1C6",
             "gridcolor": "#506784",
             "linecolor": "#506784",
             "minorgridcolor": "#506784",
             "startlinecolor": "#A2B1C6"
            },
            "type": "carpet"
           }
          ],
          "choropleth": [
           {
            "colorbar": {
             "outlinewidth": 0,
             "ticks": ""
            },
            "type": "choropleth"
           }
          ],
          "contour": [
           {
            "colorbar": {
             "outlinewidth": 0,
             "ticks": ""
            },
            "colorscale": [
             [
              0,
              "#0d0887"
             ],
             [
              0.1111111111111111,
              "#46039f"
             ],
             [
              0.2222222222222222,
              "#7201a8"
             ],
             [
              0.3333333333333333,
              "#9c179e"
             ],
             [
              0.4444444444444444,
              "#bd3786"
             ],
             [
              0.5555555555555556,
              "#d8576b"
             ],
             [
              0.6666666666666666,
              "#ed7953"
             ],
             [
              0.7777777777777778,
              "#fb9f3a"
             ],
             [
              0.8888888888888888,
              "#fdca26"
             ],
             [
              1,
              "#f0f921"
             ]
            ],
            "type": "contour"
           }
          ],
          "contourcarpet": [
           {
            "colorbar": {
             "outlinewidth": 0,
             "ticks": ""
            },
            "type": "contourcarpet"
           }
          ],
          "heatmap": [
           {
            "colorbar": {
             "outlinewidth": 0,
             "ticks": ""
            },
            "colorscale": [
             [
              0,
              "#0d0887"
             ],
             [
              0.1111111111111111,
              "#46039f"
             ],
             [
              0.2222222222222222,
              "#7201a8"
             ],
             [
              0.3333333333333333,
              "#9c179e"
             ],
             [
              0.4444444444444444,
              "#bd3786"
             ],
             [
              0.5555555555555556,
              "#d8576b"
             ],
             [
              0.6666666666666666,
              "#ed7953"
             ],
             [
              0.7777777777777778,
              "#fb9f3a"
             ],
             [
              0.8888888888888888,
              "#fdca26"
             ],
             [
              1,
              "#f0f921"
             ]
            ],
            "type": "heatmap"
           }
          ],
          "heatmapgl": [
           {
            "colorbar": {
             "outlinewidth": 0,
             "ticks": ""
            },
            "colorscale": [
             [
              0,
              "#0d0887"
             ],
             [
              0.1111111111111111,
              "#46039f"
             ],
             [
              0.2222222222222222,
              "#7201a8"
             ],
             [
              0.3333333333333333,
              "#9c179e"
             ],
             [
              0.4444444444444444,
              "#bd3786"
             ],
             [
              0.5555555555555556,
              "#d8576b"
             ],
             [
              0.6666666666666666,
              "#ed7953"
             ],
             [
              0.7777777777777778,
              "#fb9f3a"
             ],
             [
              0.8888888888888888,
              "#fdca26"
             ],
             [
              1,
              "#f0f921"
             ]
            ],
            "type": "heatmapgl"
           }
          ],
          "histogram": [
           {
            "marker": {
             "pattern": {
              "fillmode": "overlay",
              "size": 10,
              "solidity": 0.2
             }
            },
            "type": "histogram"
           }
          ],
          "histogram2d": [
           {
            "colorbar": {
             "outlinewidth": 0,
             "ticks": ""
            },
            "colorscale": [
             [
              0,
              "#0d0887"
             ],
             [
              0.1111111111111111,
              "#46039f"
             ],
             [
              0.2222222222222222,
              "#7201a8"
             ],
             [
              0.3333333333333333,
              "#9c179e"
             ],
             [
              0.4444444444444444,
              "#bd3786"
             ],
             [
              0.5555555555555556,
              "#d8576b"
             ],
             [
              0.6666666666666666,
              "#ed7953"
             ],
             [
              0.7777777777777778,
              "#fb9f3a"
             ],
             [
              0.8888888888888888,
              "#fdca26"
             ],
             [
              1,
              "#f0f921"
             ]
            ],
            "type": "histogram2d"
           }
          ],
          "histogram2dcontour": [
           {
            "colorbar": {
             "outlinewidth": 0,
             "ticks": ""
            },
            "colorscale": [
             [
              0,
              "#0d0887"
             ],
             [
              0.1111111111111111,
              "#46039f"
             ],
             [
              0.2222222222222222,
              "#7201a8"
             ],
             [
              0.3333333333333333,
              "#9c179e"
             ],
             [
              0.4444444444444444,
              "#bd3786"
             ],
             [
              0.5555555555555556,
              "#d8576b"
             ],
             [
              0.6666666666666666,
              "#ed7953"
             ],
             [
              0.7777777777777778,
              "#fb9f3a"
             ],
             [
              0.8888888888888888,
              "#fdca26"
             ],
             [
              1,
              "#f0f921"
             ]
            ],
            "type": "histogram2dcontour"
           }
          ],
          "mesh3d": [
           {
            "colorbar": {
             "outlinewidth": 0,
             "ticks": ""
            },
            "type": "mesh3d"
           }
          ],
          "parcoords": [
           {
            "line": {
             "colorbar": {
              "outlinewidth": 0,
              "ticks": ""
             }
            },
            "type": "parcoords"
           }
          ],
          "pie": [
           {
            "automargin": true,
            "type": "pie"
           }
          ],
          "scatter": [
           {
            "marker": {
             "line": {
              "color": "#283442"
             }
            },
            "type": "scatter"
           }
          ],
          "scatter3d": [
           {
            "line": {
             "colorbar": {
              "outlinewidth": 0,
              "ticks": ""
             }
            },
            "marker": {
             "colorbar": {
              "outlinewidth": 0,
              "ticks": ""
             }
            },
            "type": "scatter3d"
           }
          ],
          "scattercarpet": [
           {
            "marker": {
             "colorbar": {
              "outlinewidth": 0,
              "ticks": ""
             }
            },
            "type": "scattercarpet"
           }
          ],
          "scattergeo": [
           {
            "marker": {
             "colorbar": {
              "outlinewidth": 0,
              "ticks": ""
             }
            },
            "type": "scattergeo"
           }
          ],
          "scattergl": [
           {
            "marker": {
             "line": {
              "color": "#283442"
             }
            },
            "type": "scattergl"
           }
          ],
          "scattermapbox": [
           {
            "marker": {
             "colorbar": {
              "outlinewidth": 0,
              "ticks": ""
             }
            },
            "type": "scattermapbox"
           }
          ],
          "scatterpolar": [
           {
            "marker": {
             "colorbar": {
              "outlinewidth": 0,
              "ticks": ""
             }
            },
            "type": "scatterpolar"
           }
          ],
          "scatterpolargl": [
           {
            "marker": {
             "colorbar": {
              "outlinewidth": 0,
              "ticks": ""
             }
            },
            "type": "scatterpolargl"
           }
          ],
          "scatterternary": [
           {
            "marker": {
             "colorbar": {
              "outlinewidth": 0,
              "ticks": ""
             }
            },
            "type": "scatterternary"
           }
          ],
          "surface": [
           {
            "colorbar": {
             "outlinewidth": 0,
             "ticks": ""
            },
            "colorscale": [
             [
              0,
              "#0d0887"
             ],
             [
              0.1111111111111111,
              "#46039f"
             ],
             [
              0.2222222222222222,
              "#7201a8"
             ],
             [
              0.3333333333333333,
              "#9c179e"
             ],
             [
              0.4444444444444444,
              "#bd3786"
             ],
             [
              0.5555555555555556,
              "#d8576b"
             ],
             [
              0.6666666666666666,
              "#ed7953"
             ],
             [
              0.7777777777777778,
              "#fb9f3a"
             ],
             [
              0.8888888888888888,
              "#fdca26"
             ],
             [
              1,
              "#f0f921"
             ]
            ],
            "type": "surface"
           }
          ],
          "table": [
           {
            "cells": {
             "fill": {
              "color": "#506784"
             },
             "line": {
              "color": "rgb(17,17,17)"
             }
            },
            "header": {
             "fill": {
              "color": "#2a3f5f"
             },
             "line": {
              "color": "rgb(17,17,17)"
             }
            },
            "type": "table"
           }
          ]
         },
         "layout": {
          "annotationdefaults": {
           "arrowcolor": "#f2f5fa",
           "arrowhead": 0,
           "arrowwidth": 1
          },
          "autotypenumbers": "strict",
          "coloraxis": {
           "colorbar": {
            "outlinewidth": 0,
            "ticks": ""
           }
          },
          "colorscale": {
           "diverging": [
            [
             0,
             "#8e0152"
            ],
            [
             0.1,
             "#c51b7d"
            ],
            [
             0.2,
             "#de77ae"
            ],
            [
             0.3,
             "#f1b6da"
            ],
            [
             0.4,
             "#fde0ef"
            ],
            [
             0.5,
             "#f7f7f7"
            ],
            [
             0.6,
             "#e6f5d0"
            ],
            [
             0.7,
             "#b8e186"
            ],
            [
             0.8,
             "#7fbc41"
            ],
            [
             0.9,
             "#4d9221"
            ],
            [
             1,
             "#276419"
            ]
           ],
           "sequential": [
            [
             0,
             "#0d0887"
            ],
            [
             0.1111111111111111,
             "#46039f"
            ],
            [
             0.2222222222222222,
             "#7201a8"
            ],
            [
             0.3333333333333333,
             "#9c179e"
            ],
            [
             0.4444444444444444,
             "#bd3786"
            ],
            [
             0.5555555555555556,
             "#d8576b"
            ],
            [
             0.6666666666666666,
             "#ed7953"
            ],
            [
             0.7777777777777778,
             "#fb9f3a"
            ],
            [
             0.8888888888888888,
             "#fdca26"
            ],
            [
             1,
             "#f0f921"
            ]
           ],
           "sequentialminus": [
            [
             0,
             "#0d0887"
            ],
            [
             0.1111111111111111,
             "#46039f"
            ],
            [
             0.2222222222222222,
             "#7201a8"
            ],
            [
             0.3333333333333333,
             "#9c179e"
            ],
            [
             0.4444444444444444,
             "#bd3786"
            ],
            [
             0.5555555555555556,
             "#d8576b"
            ],
            [
             0.6666666666666666,
             "#ed7953"
            ],
            [
             0.7777777777777778,
             "#fb9f3a"
            ],
            [
             0.8888888888888888,
             "#fdca26"
            ],
            [
             1,
             "#f0f921"
            ]
           ]
          },
          "colorway": [
           "#636efa",
           "#EF553B",
           "#00cc96",
           "#ab63fa",
           "#FFA15A",
           "#19d3f3",
           "#FF6692",
           "#B6E880",
           "#FF97FF",
           "#FECB52"
          ],
          "font": {
           "color": "#f2f5fa"
          },
          "geo": {
           "bgcolor": "rgb(17,17,17)",
           "lakecolor": "rgb(17,17,17)",
           "landcolor": "rgb(17,17,17)",
           "showlakes": true,
           "showland": true,
           "subunitcolor": "#506784"
          },
          "hoverlabel": {
           "align": "left"
          },
          "hovermode": "closest",
          "mapbox": {
           "style": "dark"
          },
          "paper_bgcolor": "rgb(17,17,17)",
          "plot_bgcolor": "rgb(17,17,17)",
          "polar": {
           "angularaxis": {
            "gridcolor": "#506784",
            "linecolor": "#506784",
            "ticks": ""
           },
           "bgcolor": "rgb(17,17,17)",
           "radialaxis": {
            "gridcolor": "#506784",
            "linecolor": "#506784",
            "ticks": ""
           }
          },
          "scene": {
           "xaxis": {
            "backgroundcolor": "rgb(17,17,17)",
            "gridcolor": "#506784",
            "gridwidth": 2,
            "linecolor": "#506784",
            "showbackground": true,
            "ticks": "",
            "zerolinecolor": "#C8D4E3"
           },
           "yaxis": {
            "backgroundcolor": "rgb(17,17,17)",
            "gridcolor": "#506784",
            "gridwidth": 2,
            "linecolor": "#506784",
            "showbackground": true,
            "ticks": "",
            "zerolinecolor": "#C8D4E3"
           },
           "zaxis": {
            "backgroundcolor": "rgb(17,17,17)",
            "gridcolor": "#506784",
            "gridwidth": 2,
            "linecolor": "#506784",
            "showbackground": true,
            "ticks": "",
            "zerolinecolor": "#C8D4E3"
           }
          },
          "shapedefaults": {
           "line": {
            "color": "#f2f5fa"
           }
          },
          "sliderdefaults": {
           "bgcolor": "#C8D4E3",
           "bordercolor": "rgb(17,17,17)",
           "borderwidth": 1,
           "tickwidth": 0
          },
          "ternary": {
           "aaxis": {
            "gridcolor": "#506784",
            "linecolor": "#506784",
            "ticks": ""
           },
           "baxis": {
            "gridcolor": "#506784",
            "linecolor": "#506784",
            "ticks": ""
           },
           "bgcolor": "rgb(17,17,17)",
           "caxis": {
            "gridcolor": "#506784",
            "linecolor": "#506784",
            "ticks": ""
           }
          },
          "title": {
           "x": 0.05
          },
          "updatemenudefaults": {
           "bgcolor": "#506784",
           "borderwidth": 0
          },
          "xaxis": {
           "automargin": true,
           "gridcolor": "#283442",
           "linecolor": "#506784",
           "ticks": "",
           "title": {
            "standoff": 15
           },
           "zerolinecolor": "#283442",
           "zerolinewidth": 2
          },
          "yaxis": {
           "automargin": true,
           "gridcolor": "#283442",
           "linecolor": "#506784",
           "ticks": "",
           "title": {
            "standoff": 15
           },
           "zerolinecolor": "#283442",
           "zerolinewidth": 2
          }
         }
        },
        "title": {
         "text": "Top 25 departments with the highest variance in units sold"
        },
        "xaxis": {
         "anchor": "y",
         "domain": [
          0,
          1
         ],
         "title": {
          "text": "Variance"
         }
        },
        "yaxis": {
         "anchor": "x",
         "categoryarray": [
          "0982:SPIRITS",
          "0815:AUDIO ELECTRONICS",
          "0469:BOYS ACCESSORIES",
          "0449:GIRLS ACCESSORIES",
          "0638:GEN SPORTING GOODS",
          "0130:JUNIORS SURF",
          "0836:HOUSEHOLD CLEANING",
          "0240:SLEEPWEAR/LOUNGEWEAR",
          "0531:STATIONERY SUNDRIES",
          "0598:BABY CARE",
          "0165:LIFE IS GOOD",
          "0640:TOYS",
          "0230:DAYWEAR",
          "0795:HOME DECOR",
          "0012:LOCAL GIFTS/FOODS",
          "0930:TABLE TOP & KITCHEN",
          "0530:SCHOOL/OFFIC SUPP",
          "0973:CANDY",
          "0210:FOUNDATIONS",
          "0879:PET SUPPLIES",
          "0644:SPORTS NUTRITION",
          "0440:GIRLS 7-16 CLOTHING",
          "0983:WINE",
          "0646:SEASONAL",
          "0533:PAPYRUS"
         ],
         "categoryorder": "array",
         "domain": [
          0,
          1
         ],
         "title": {
          "text": "department"
         }
        }
       }
      }
     },
     "metadata": {},
     "output_type": "display_data"
    }
   ],
   "source": [
    "# Which departments have the highest variance in the number of units sold?\n",
    "units_sold_variance = (\n",
    "    df_transactions.groupby(\"department\")[\"units\"]\n",
    "    .std()\n",
    "    .sort_values(ascending=False)\n",
    "    .head(25)\n",
    ")\n",
    "\n",
    "units_sold_variance_fig = px.bar(\n",
    "    units_sold_variance,\n",
    "    color=units_sold_variance.index,\n",
    "    title=\"Top 25 departments with the highest variance in units sold\",\n",
    "    labels={\"value\": \"Variance\"},\n",
    "    orientation=\"h\",\n",
    ")\n",
    "units_sold_variance_fig.update_layout(showlegend=False)\n",
    "units_sold_variance_fig.show()"
   ]
  },
  {
   "cell_type": "code",
   "execution_count": 16,
   "metadata": {},
   "outputs": [
    {
     "data": {
      "application/vnd.plotly.v1+json": {
       "config": {
        "plotlyServerURL": "https://plot.ly"
       },
       "data": [
        {
         "alignmentgroup": "True",
         "hovertemplate": "department=%{x}<br>Units sold=%{y}<extra></extra>",
         "legendgroup": "",
         "marker": {
          "color": "#636efa"
         },
         "name": "",
         "notched": false,
         "offsetgroup": "",
         "orientation": "v",
         "showlegend": false,
         "type": "box",
         "x": [
          "0261:HOSIERY",
          "0634:VITAMINS & HLTH AIDS",
          "0879:PET SUPPLIES",
          "0973:CANDY",
          "0982:SPIRITS",
          "0983:WINE",
          "0991:TOBACCO",
          "0597:HEALTH AIDS",
          "0604:PERSONAL CARE",
          "0819:PRE-RECORDED A/V",
          "0826:SMALL ELECTRICS",
          "0982:SPIRITS",
          "0961:GENERAL GROCERIES",
          "0982:SPIRITS",
          "0982:SPIRITS",
          "0991:TOBACCO",
          "0879:PET SUPPLIES",
          "0982:SPIRITS",
          "0983:WINE",
          "0984:BEER",
          "0530:SCHOOL/OFFIC SUPP",
          "0597:HEALTH AIDS",
          "0601:VALUE ZONE",
          "0634:VITAMINS & HLTH AIDS",
          "0836:HOUSEHOLD CLEANING",
          "0593:PRESTIGE COSMETICS",
          "0597:HEALTH AIDS",
          "0598:BABY CARE",
          "0836:HOUSEHOLD CLEANING",
          "0965:PERISHABLES",
          "0973:CANDY",
          "0983:WINE",
          "0837:GENERAL HOUSEWARES",
          "0982:SPIRITS",
          "0879:PET SUPPLIES",
          "0973:CANDY",
          "0984:BEER",
          "0983:WINE",
          "0962:BEVERAGES",
          "0982:SPIRITS",
          "0982:SPIRITS",
          "0983:WINE",
          "0982:SPIRITS",
          "0638:GEN SPORTING GOODS",
          "0961:GENERAL GROCERIES",
          "0973:CANDY",
          "0991:TOBACCO",
          "0646:SEASONAL",
          "0991:TOBACCO",
          "0962:BEVERAGES",
          "0982:SPIRITS",
          "0983:WINE",
          "0982:SPIRITS",
          "0982:SPIRITS",
          "0983:WINE",
          "0962:BEVERAGES",
          "0982:SPIRITS",
          "0603:BEAUTY CARE",
          "0604:PERSONAL CARE",
          "0962:BEVERAGES",
          "0962:BEVERAGES",
          "0982:SPIRITS",
          "0962:BEVERAGES",
          "0071:BEAUTY RETAIL",
          "0603:BEAUTY CARE",
          "0795:HOME DECOR",
          "0982:SPIRITS",
          "0991:TOBACCO",
          "0603:BEAUTY CARE",
          "0604:PERSONAL CARE",
          "0638:GEN SPORTING GOODS",
          "0644:SPORTS NUTRITION",
          "0680:AUTOMOTIVE",
          "0961:GENERAL GROCERIES",
          "0962:BEVERAGES",
          "0973:CANDY",
          "0597:HEALTH AIDS",
          "0644:SPORTS NUTRITION",
          "0836:HOUSEHOLD CLEANING",
          "0836:HOUSEHOLD CLEANING",
          "0983:WINE",
          "0984:BEER",
          "0961:GENERAL GROCERIES",
          "0982:SPIRITS",
          "0962:BEVERAGES",
          "0982:SPIRITS",
          "0984:BEER",
          "0961:GENERAL GROCERIES",
          "0644:SPORTS NUTRITION",
          "0961:GENERAL GROCERIES",
          "0962:BEVERAGES",
          "0604:PERSONAL CARE",
          "0836:HOUSEHOLD CLEANING",
          "0983:WINE",
          "0280:FASHION ACCESSORIES",
          "0961:GENERAL GROCERIES",
          "0962:BEVERAGES",
          "0982:SPIRITS",
          "0982:SPIRITS",
          "0826:SMALL ELECTRICS",
          "0982:SPIRITS",
          "0984:BEER",
          "0991:TOBACCO",
          "0991:TOBACCO",
          "0836:HOUSEHOLD CLEANING",
          "0884:LAWN & GARDEN",
          "0991:TOBACCO",
          "0551:CAMERAS & EQUIP",
          "0597:HEALTH AIDS",
          "0834:COOKWARE",
          "0836:HOUSEHOLD CLEANING",
          "0532:AMERICAN GREETINGS",
          "0983:WINE",
          "0984:BEER",
          "0983:WINE",
          "0644:SPORTS NUTRITION",
          "0861:GENERAL HARDWARE",
          "0961:GENERAL GROCERIES",
          "0982:SPIRITS",
          "0983:WINE",
          "0961:GENERAL GROCERIES",
          "0962:BEVERAGES",
          "0646:SEASONAL",
          "0879:PET SUPPLIES",
          "0982:SPIRITS",
          "0983:WINE",
          "0984:BEER",
          "0991:TOBACCO",
          "0593:PRESTIGE COSMETICS",
          "0982:SPIRITS",
          "0984:BEER",
          "0991:TOBACCO",
          "0983:WINE",
          "0991:TOBACCO",
          "0532:AMERICAN GREETINGS",
          "0982:SPIRITS",
          "0983:WINE",
          "0982:SPIRITS",
          "0644:SPORTS NUTRITION",
          "0991:TOBACCO",
          "0962:BEVERAGES",
          "0982:SPIRITS",
          "0879:PET SUPPLIES",
          "0973:CANDY",
          "0991:TOBACCO",
          "0604:PERSONAL CARE",
          "0644:SPORTS NUTRITION",
          "0012:LOCAL GIFTS/FOODS",
          "0530:SCHOOL/OFFIC SUPP",
          "0532:AMERICAN GREETINGS",
          "0604:PERSONAL CARE",
          "0879:PET SUPPLIES",
          "0973:CANDY",
          "0983:WINE",
          "0644:SPORTS NUTRITION",
          "0962:BEVERAGES",
          "0991:TOBACCO",
          "0646:SEASONAL",
          "0982:SPIRITS",
          "0983:WINE",
          "0962:BEVERAGES",
          "0230:DAYWEAR",
          "0531:STATIONERY SUNDRIES",
          "0598:BABY CARE",
          "0983:WINE",
          "0646:SEASONAL",
          "0590:MASS COSMETICS",
          "0597:HEALTH AIDS",
          "0982:SPIRITS",
          "0983:WINE",
          "0983:WINE",
          "0071:BEAUTY RETAIL",
          "0646:SEASONAL",
          "0962:BEVERAGES",
          "0973:CANDY",
          "0982:SPIRITS",
          "0983:WINE",
          "0991:TOBACCO",
          "0879:PET SUPPLIES",
          "0836:HOUSEHOLD CLEANING",
          "0879:PET SUPPLIES",
          "0879:PET SUPPLIES",
          "0962:BEVERAGES",
          "0982:SPIRITS",
          "0603:BEAUTY CARE",
          "0680:AUTOMOTIVE",
          "0984:BEER",
          "0846:BATTERIES",
          "0961:GENERAL GROCERIES",
          "0962:BEVERAGES",
          "0973:CANDY",
          "0991:TOBACCO",
          "0961:GENERAL GROCERIES",
          "0973:CANDY",
          "0597:HEALTH AIDS",
          "0603:BEAUTY CARE",
          "0604:PERSONAL CARE",
          "0836:HOUSEHOLD CLEANING",
          "0983:WINE",
          "0343:MENS DENIM JEANS",
          "0879:PET SUPPLIES",
          "0597:HEALTH AIDS",
          "0982:SPIRITS",
          "0991:TOBACCO",
          "0589:SUNGLASSES",
          "0597:HEALTH AIDS",
          "0603:BEAUTY CARE",
          "0604:PERSONAL CARE",
          "0836:HOUSEHOLD CLEANING",
          "0879:PET SUPPLIES",
          "0884:LAWN & GARDEN",
          "0590:MASS COSMETICS",
          "0640:TOYS",
          "0962:BEVERAGES",
          "0973:CANDY",
          "0640:TOYS",
          "0646:SEASONAL",
          "0962:BEVERAGES",
          "0982:SPIRITS",
          "0982:SPIRITS",
          "0983:WINE",
          "0604:PERSONAL CARE",
          "0982:SPIRITS",
          "0597:HEALTH AIDS",
          "0846:BATTERIES",
          "0961:GENERAL GROCERIES",
          "0962:BEVERAGES",
          "0597:HEALTH AIDS",
          "0603:BEAUTY CARE",
          "0604:PERSONAL CARE",
          "0982:SPIRITS",
          "0984:BEER",
          "0991:TOBACCO",
          "0879:PET SUPPLIES",
          "0982:SPIRITS",
          "0991:TOBACCO",
          "0637:FISHING",
          "0597:HEALTH AIDS",
          "0604:PERSONAL CARE",
          "0836:HOUSEHOLD CLEANING",
          "0984:BEER",
          "0991:TOBACCO",
          "0982:SPIRITS",
          "0983:WINE",
          "0982:SPIRITS",
          "0984:BEER",
          "0597:HEALTH AIDS",
          "0861:GENERAL HARDWARE",
          "0962:BEVERAGES",
          "0982:SPIRITS",
          "0982:SPIRITS",
          "0982:SPIRITS",
          "0991:TOBACCO",
          "0836:HOUSEHOLD CLEANING",
          "0982:SPIRITS",
          "0991:TOBACCO",
          "0983:WINE",
          "0991:TOBACCO",
          "0991:TOBACCO",
          "0597:HEALTH AIDS",
          "0879:PET SUPPLIES",
          "0973:CANDY",
          "0822:THIRD PARTY GIFTCARD",
          "0879:PET SUPPLIES",
          "0991:TOBACCO",
          "0983:WINE",
          "0359:MENS ACCESSORIES",
          "0973:CANDY",
          "0645:BIKES",
          "0846:BATTERIES",
          "0982:SPIRITS",
          "0983:WINE",
          "0861:GENERAL HARDWARE",
          "0597:HEALTH AIDS",
          "0982:SPIRITS",
          "0983:WINE",
          "0861:GENERAL HARDWARE",
          "0836:HOUSEHOLD CLEANING",
          "0982:SPIRITS",
          "0991:TOBACCO",
          "0532:AMERICAN GREETINGS",
          "0603:BEAUTY CARE",
          "0638:GEN SPORTING GOODS",
          "0973:CANDY",
          "0982:SPIRITS",
          "0983:WINE",
          "0984:BEER",
          "0983:WINE",
          "0532:AMERICAN GREETINGS",
          "0640:TOYS",
          "0646:SEASONAL",
          "0879:PET SUPPLIES",
          "0541:BOOKS AND MAPS",
          "0973:CANDY",
          "0597:HEALTH AIDS",
          "0973:CANDY",
          "0983:WINE",
          "0984:BEER",
          "0861:GENERAL HARDWARE",
          "0638:GEN SPORTING GOODS",
          "0983:WINE",
          "0597:HEALTH AIDS",
          "0984:BEER",
          "0982:SPIRITS",
          "0982:SPIRITS",
          "0590:MASS COSMETICS",
          "0973:CANDY",
          "0982:SPIRITS",
          "0983:WINE",
          "0984:BEER",
          "0982:SPIRITS",
          "0983:WINE",
          "0884:LAWN & GARDEN",
          "0983:WINE",
          "0531:STATIONERY SUNDRIES",
          "0597:HEALTH AIDS",
          "0603:BEAUTY CARE",
          "0836:HOUSEHOLD CLEANING",
          "0879:PET SUPPLIES",
          "0973:CANDY",
          "0991:TOBACCO",
          "0879:PET SUPPLIES",
          "0982:SPIRITS",
          "0982:SPIRITS",
          "0991:TOBACCO",
          "0532:AMERICAN GREETINGS",
          "0836:HOUSEHOLD CLEANING",
          "0879:PET SUPPLIES",
          "0982:SPIRITS",
          "0991:TOBACCO",
          "0962:BEVERAGES",
          "0991:TOBACCO",
          "0982:SPIRITS",
          "0984:BEER",
          "0982:SPIRITS",
          "0991:TOBACCO",
          "0982:SPIRITS",
          "0991:TOBACCO",
          "0973:CANDY",
          "0982:SPIRITS",
          "0391:MENS SHOES",
          "0638:GEN SPORTING GOODS",
          "0644:SPORTS NUTRITION",
          "0973:CANDY",
          "0597:HEALTH AIDS",
          "0836:HOUSEHOLD CLEANING",
          "0646:SEASONAL",
          "0861:GENERAL HARDWARE",
          "0797:SEASONAL GIFTS",
          "0983:WINE",
          "0984:BEER",
          "0982:SPIRITS",
          "0991:TOBACCO",
          "0884:LAWN & GARDEN",
          "0982:SPIRITS",
          "0983:WINE",
          "0984:BEER",
          "0071:BEAUTY RETAIL",
          "0983:WINE",
          "0991:TOBACCO",
          "0826:SMALL ELECTRICS",
          "0973:CANDY",
          "0982:SPIRITS",
          "0983:WINE",
          "0991:TOBACCO",
          "0982:SPIRITS",
          "0991:TOBACCO",
          "0395:MENS ATHLETIC SHOES",
          "0961:GENERAL GROCERIES",
          "0982:SPIRITS",
          "0962:BEVERAGES",
          "0984:BEER",
          "0984:BEER",
          "0991:TOBACCO",
          "0110:LDS OUTERWEAR/OUTDR",
          "0240:SLEEPWEAR/LOUNGEWEAR",
          "0380:MENS ACTIVEWEAR",
          "0470:BOYS 8-20 CLOTHING",
          "0603:BEAUTY CARE",
          "0722:OUTDOOR LIVING",
          "0837:GENERAL HOUSEWARES",
          "0845:AS SEEN ON TV",
          "0982:SPIRITS",
          "0983:WINE",
          "0984:BEER",
          "0991:TOBACCO",
          "0879:PET SUPPLIES",
          "0991:TOBACCO",
          "0962:BEVERAGES",
          "0982:SPIRITS",
          "0879:PET SUPPLIES",
          "0982:SPIRITS",
          "0991:TOBACCO",
          "0836:HOUSEHOLD CLEANING",
          "0854:VIDEO GAMES",
          "0590:MASS COSMETICS",
          "0983:WINE",
          "0984:BEER",
          "0962:BEVERAGES",
          "0603:BEAUTY CARE",
          "0983:WINE",
          "0603:BEAUTY CARE",
          "0879:PET SUPPLIES",
          "0984:BEER",
          "0640:TOYS",
          "0645:BIKES",
          "0680:AUTOMOTIVE",
          "0879:PET SUPPLIES",
          "0991:TOBACCO",
          "0879:PET SUPPLIES",
          "0983:WINE",
          "0646:SEASONAL",
          "0836:HOUSEHOLD CLEANING",
          "0852:COMPUTER SOFTWARE",
          "0982:SPIRITS",
          "0973:CANDY",
          "0982:SPIRITS",
          "0983:WINE",
          "0991:TOBACCO",
          "0644:SPORTS NUTRITION",
          "0836:HOUSEHOLD CLEANING",
          "0597:HEALTH AIDS",
          "0604:PERSONAL CARE",
          "0961:GENERAL GROCERIES",
          "0962:BEVERAGES",
          "0982:SPIRITS",
          "0826:SMALL ELECTRICS",
          "0962:BEVERAGES",
          "0982:SPIRITS",
          "0984:BEER",
          "0991:TOBACCO",
          "0982:SPIRITS",
          "0982:SPIRITS",
          "0991:TOBACCO",
          "0983:WINE",
          "0879:PET SUPPLIES",
          "0530:SCHOOL/OFFIC SUPP",
          "0532:AMERICAN GREETINGS",
          "0644:SPORTS NUTRITION",
          "0962:BEVERAGES",
          "0973:CANDY",
          "0983:WINE",
          "0984:BEER",
          "0982:SPIRITS",
          "0597:HEALTH AIDS",
          "0644:SPORTS NUTRITION",
          "0961:GENERAL GROCERIES",
          "0982:SPIRITS",
          "0983:WINE",
          "0962:BEVERAGES",
          "0991:TOBACCO",
          "0982:SPIRITS",
          "0982:SPIRITS",
          "0983:WINE",
          "0962:BEVERAGES",
          "0982:SPIRITS",
          "0983:WINE",
          "0983:WINE",
          "0836:HOUSEHOLD CLEANING",
          "0962:BEVERAGES",
          "0973:CANDY",
          "0991:TOBACCO",
          "0836:HOUSEHOLD CLEANING",
          "0846:BATTERIES",
          "0982:SPIRITS",
          "0991:TOBACCO",
          "0973:CANDY",
          "0984:BEER",
          "0597:HEALTH AIDS",
          "0604:PERSONAL CARE",
          "0836:HOUSEHOLD CLEANING",
          "0961:GENERAL GROCERIES",
          "0962:BEVERAGES",
          "0973:CANDY",
          "0531:STATIONERY SUNDRIES",
          "0644:SPORTS NUTRITION",
          "0856:GLUES/TAPES/ACC",
          "0982:SPIRITS",
          "0532:AMERICAN GREETINGS",
          "0962:BEVERAGES",
          "0846:BATTERIES",
          "0861:GENERAL HARDWARE",
          "0863:POWER EQUIPMENT",
          "0161:MISSY KAREN SCOTT",
          "0593:PRESTIGE COSMETICS",
          "0982:SPIRITS",
          "0983:WINE",
          "0961:GENERAL GROCERIES",
          "0984:BEER",
          "0879:PET SUPPLIES",
          "0982:SPIRITS",
          "0056:SOUVENIR",
          "0532:AMERICAN GREETINGS",
          "0603:BEAUTY CARE",
          "0646:SEASONAL",
          "0861:GENERAL HARDWARE",
          "0973:CANDY",
          "0982:SPIRITS",
          "0982:SPIRITS",
          "0983:WINE",
          "0380:MENS ACTIVEWEAR",
          "0982:SPIRITS",
          "0982:SPIRITS",
          "0991:TOBACCO",
          "0983:WINE",
          "0353:MENS OUTDOOR",
          "0597:HEALTH AIDS",
          "0604:PERSONAL CARE",
          "0982:SPIRITS",
          "0861:GENERAL HARDWARE",
          "0961:GENERAL GROCERIES",
          "0597:HEALTH AIDS",
          "0982:SPIRITS",
          "0836:HOUSEHOLD CLEANING",
          "0861:GENERAL HARDWARE",
          "0973:CANDY",
          "0982:SPIRITS",
          "0604:PERSONAL CARE",
          "0962:BEVERAGES",
          "0879:PET SUPPLIES",
          "0982:SPIRITS",
          "0984:BEER",
          "0640:TOYS",
          "0982:SPIRITS",
          "0983:WINE",
          "0604:PERSONAL CARE",
          "0639:TEAM SPORTING GOODS",
          "0961:GENERAL GROCERIES",
          "0982:SPIRITS",
          "0353:MENS OUTDOOR",
          "0644:SPORTS NUTRITION",
          "0646:SEASONAL",
          "0991:TOBACCO",
          "0962:BEVERAGES",
          "0982:SPIRITS",
          "0449:GIRLS ACCESSORIES",
          "0532:AMERICAN GREETINGS",
          "0597:HEALTH AIDS",
          "0838:FLOOR CARE",
          "0973:CANDY",
          "0983:WINE",
          "0982:SPIRITS",
          "0984:BEER",
          "0604:PERSONAL CARE",
          "0646:SEASONAL",
          "0973:CANDY",
          "0640:TOYS",
          "0983:WINE",
          "0982:SPIRITS",
          "0983:WINE",
          "0984:BEER",
          "0961:GENERAL GROCERIES",
          "0973:CANDY",
          "0604:PERSONAL CARE",
          "0991:TOBACCO",
          "0983:WINE",
          "0531:STATIONERY SUNDRIES",
          "0532:AMERICAN GREETINGS",
          "0982:SPIRITS",
          "0983:WINE",
          "0983:WINE",
          "0984:BEER",
          "0983:WINE",
          "0836:HOUSEHOLD CLEANING",
          "0982:SPIRITS",
          "0597:HEALTH AIDS",
          "0991:TOBACCO",
          "0879:PET SUPPLIES",
          "0884:LAWN & GARDEN",
          "0982:SPIRITS",
          "0984:BEER",
          "0982:SPIRITS",
          "0991:TOBACCO",
          "0984:BEER",
          "0991:TOBACCO",
          "0353:MENS OUTDOOR",
          "0380:MENS ACTIVEWEAR",
          "0982:SPIRITS",
          "0983:WINE",
          "0532:AMERICAN GREETINGS",
          "0597:HEALTH AIDS",
          "0961:GENERAL GROCERIES",
          "0962:BEVERAGES",
          "0983:WINE",
          "0982:SPIRITS",
          "0983:WINE",
          "0380:MENS ACTIVEWEAR",
          "0590:MASS COSMETICS",
          "0597:HEALTH AIDS",
          "0343:MENS DENIM JEANS",
          "0532:AMERICAN GREETINGS",
          "0722:OUTDOOR LIVING",
          "0973:CANDY",
          "0962:BEVERAGES",
          "0632:DIGITAL FITNESS",
          "0962:BEVERAGES",
          "0982:SPIRITS",
          "0983:WINE",
          "0532:AMERICAN GREETINGS",
          "0962:BEVERAGES",
          "0991:TOBACCO",
          "0639:TEAM SPORTING GOODS",
          "0991:TOBACCO",
          "0597:HEALTH AIDS",
          "0589:SUNGLASSES",
          "0597:HEALTH AIDS",
          "0638:GEN SPORTING GOODS",
          "0836:HOUSEHOLD CLEANING",
          "0961:GENERAL GROCERIES",
          "0984:BEER",
          "0991:TOBACCO",
          "0531:STATIONERY SUNDRIES",
          "0982:SPIRITS",
          "0644:SPORTS NUTRITION",
          "0646:SEASONAL",
          "0854:VIDEO GAMES",
          "0982:SPIRITS",
          "0982:SPIRITS",
          "0597:HEALTH AIDS",
          "0826:SMALL ELECTRICS",
          "0836:HOUSEHOLD CLEANING",
          "0845:AS SEEN ON TV",
          "0861:GENERAL HARDWARE",
          "0991:TOBACCO",
          "0640:TOYS",
          "0982:SPIRITS",
          "0984:BEER",
          "0884:LAWN & GARDEN",
          "0991:TOBACCO",
          "0532:AMERICAN GREETINGS",
          "0161:MISSY KAREN SCOTT",
          "0167:MISSY TOPS",
          "0261:HOSIERY",
          "0983:WINE",
          "0984:BEER",
          "0511:NAVY PRIDE SOFTLINES",
          "0603:BEAUTY CARE",
          "0836:HOUSEHOLD CLEANING",
          "0879:PET SUPPLIES",
          "0592:WMNS PRESTIGE FRAG",
          "0973:CANDY",
          "0879:PET SUPPLIES",
          "0836:HOUSEHOLD CLEANING",
          "0973:CANDY",
          "0982:SPIRITS",
          "0604:PERSONAL CARE",
          "0636:FITNESS/EXERCISE",
          "0879:PET SUPPLIES",
          "0597:HEALTH AIDS",
          "0962:BEVERAGES",
          "0601:VALUE ZONE",
          "0983:WINE",
          "0637:FISHING",
          "0640:TOYS",
          "0962:BEVERAGES",
          "0597:HEALTH AIDS",
          "0634:VITAMINS & HLTH AIDS",
          "0815:AUDIO ELECTRONICS",
          "0961:GENERAL GROCERIES",
          "0532:AMERICAN GREETINGS",
          "0639:TEAM SPORTING GOODS",
          "0991:TOBACCO",
          "0186:JUNIOR DRESSES",
          "0230:DAYWEAR",
          "0355:MENS SPORT SHIRTS",
          "0416:INFANT APPAREL",
          "0532:AMERICAN GREETINGS",
          "0837:GENERAL HOUSEWARES",
          "0846:BATTERIES",
          "0879:PET SUPPLIES",
          "0982:SPIRITS",
          "0984:BEER",
          "0982:SPIRITS",
          "0640:TOYS",
          "0645:BIKES",
          "0646:SEASONAL",
          "0982:SPIRITS",
          "0983:WINE",
          "0110:LDS OUTERWEAR/OUTDR",
          "0603:BEAUTY CARE",
          "0604:PERSONAL CARE",
          "0982:SPIRITS",
          "0634:VITAMINS & HLTH AIDS",
          "0982:SPIRITS",
          "0984:BEER",
          "0984:BEER",
          "0597:HEALTH AIDS",
          "0056:SOUVENIR",
          "0470:BOYS 8-20 CLOTHING",
          "0837:GENERAL HOUSEWARES",
          "0982:SPIRITS",
          "0815:AUDIO ELECTRONICS",
          "0634:VITAMINS & HLTH AIDS",
          "0644:SPORTS NUTRITION",
          "0962:BEVERAGES",
          "0973:CANDY",
          "0982:SPIRITS",
          "0982:SPIRITS",
          "0983:WINE",
          "0973:CANDY",
          "0982:SPIRITS",
          "0984:BEER",
          "0359:MENS ACCESSORIES",
          "0983:WINE",
          "0984:BEER",
          "0962:BEVERAGES",
          "0982:SPIRITS",
          "0597:HEALTH AIDS",
          "0961:GENERAL GROCERIES",
          "0983:WINE",
          "0961:GENERAL GROCERIES",
          "0962:BEVERAGES",
          "0982:SPIRITS",
          "0983:WINE",
          "0982:SPIRITS",
          "0982:SPIRITS",
          "0449:GIRLS ACCESSORIES",
          "0597:HEALTH AIDS",
          "0826:SMALL ELECTRICS",
          "0973:CANDY",
          "0982:SPIRITS",
          "0983:WINE",
          "0984:BEER",
          "0991:TOBACCO",
          "0646:SEASONAL",
          "0646:SEASONAL",
          "0861:GENERAL HARDWARE",
          "0002:BARBER RETAIL",
          "0071:BEAUTY RETAIL",
          "0983:WINE",
          "0836:HOUSEHOLD CLEANING",
          "0982:SPIRITS",
          "0597:HEALTH AIDS",
          "0603:BEAUTY CARE",
          "0604:PERSONAL CARE",
          "0991:TOBACCO",
          "0597:HEALTH AIDS",
          "0982:SPIRITS",
          "0983:WINE",
          "0961:GENERAL GROCERIES",
          "0962:BEVERAGES",
          "0973:CANDY",
          "0973:CANDY",
          "0597:HEALTH AIDS",
          "0603:BEAUTY CARE",
          "0597:HEALTH AIDS",
          "0603:BEAUTY CARE",
          "0973:CANDY",
          "0983:WINE",
          "0961:GENERAL GROCERIES",
          "0962:BEVERAGES",
          "0879:PET SUPPLIES",
          "0982:SPIRITS",
          "0983:WINE",
          "0984:BEER",
          "0603:BEAUTY CARE",
          "0604:PERSONAL CARE",
          "0961:GENERAL GROCERIES",
          "0962:BEVERAGES",
          "0983:WINE",
          "0640:TOYS",
          "0646:SEASONAL",
          "0861:GENERAL HARDWARE",
          "0879:PET SUPPLIES",
          "0999:UNSCANNED ITEMS",
          "0982:SPIRITS",
          "0983:WINE",
          "0644:SPORTS NUTRITION",
          "0983:WINE",
          "0983:WINE",
          "0071:BEAUTY RETAIL",
          "0532:AMERICAN GREETINGS",
          "0603:BEAUTY CARE",
          "0984:BEER",
          "0991:TOBACCO",
          "0837:GENERAL HOUSEWARES",
          "0962:BEVERAGES",
          "0983:WINE",
          "0984:BEER",
          "0071:BEAUTY RETAIL",
          "0530:SCHOOL/OFFIC SUPP",
          "0590:MASS COSMETICS",
          "0646:SEASONAL",
          "0973:CANDY",
          "0982:SPIRITS",
          "0359:MENS ACCESSORIES",
          "0962:BEVERAGES",
          "0973:CANDY",
          "0982:SPIRITS",
          "0961:GENERAL GROCERIES",
          "0962:BEVERAGES",
          "0982:SPIRITS",
          "0984:BEER",
          "0991:TOBACCO",
          "0604:PERSONAL CARE",
          "0646:SEASONAL",
          "0836:HOUSEHOLD CLEANING",
          "0962:BEVERAGES",
          "0973:CANDY",
          "0983:WINE",
          "0991:TOBACCO",
          "0991:TOBACCO",
          "0646:SEASONAL",
          "0982:SPIRITS",
          "0983:WINE",
          "0640:TOYS",
          "0884:LAWN & GARDEN",
          "0982:SPIRITS",
          "0983:WINE",
          "0991:TOBACCO",
          "0973:CANDY",
          "0984:BEER",
          "0604:PERSONAL CARE",
          "0343:MENS DENIM JEANS",
          "0360:MENS FURNISHINGS",
          "0369:YOUNG MENS",
          "0982:SPIRITS",
          "0983:WINE",
          "0632:DIGITAL FITNESS",
          "0636:FITNESS/EXERCISE",
          "0962:BEVERAGES",
          "0983:WINE",
          "0449:GIRLS ACCESSORIES",
          "0640:TOYS",
          "0797:SEASONAL GIFTS",
          "0879:PET SUPPLIES",
          "0982:SPIRITS",
          "0983:WINE",
          "0984:BEER",
          "0982:SPIRITS",
          "0984:BEER",
          "0982:SPIRITS",
          "0532:AMERICAN GREETINGS",
          "0604:PERSONAL CARE",
          "0640:TOYS",
          "0983:WINE",
          "0991:TOBACCO",
          "0982:SPIRITS",
          "0982:SPIRITS",
          "0983:WINE",
          "0984:BEER",
          "0879:PET SUPPLIES",
          "0982:SPIRITS",
          "0982:SPIRITS",
          "0071:BEAUTY RETAIL",
          "0603:BEAUTY CARE",
          "0879:PET SUPPLIES",
          "0973:CANDY",
          "0511:NAVY PRIDE SOFTLINES",
          "0982:SPIRITS",
          "0984:BEER",
          "0982:SPIRITS",
          "0982:SPIRITS",
          "0983:WINE",
          "0983:WINE",
          "0604:PERSONAL CARE",
          "0879:PET SUPPLIES",
          "0983:WINE",
          "0984:BEER",
          "0991:TOBACCO",
          "0983:WINE",
          "0973:CANDY",
          "0982:SPIRITS",
          "0983:WINE",
          "0984:BEER",
          "0597:HEALTH AIDS",
          "0603:BEAUTY CARE",
          "0634:VITAMINS & HLTH AIDS",
          "0836:HOUSEHOLD CLEANING",
          "0879:PET SUPPLIES",
          "0360:MENS FURNISHINGS",
          "0833:TABLETOP",
          "0837:GENERAL HOUSEWARES",
          "0839:HOME ORG/SOLUTIONS",
          "0931:BATH",
          "0941:BEDDING",
          "0982:SPIRITS",
          "0991:TOBACCO",
          "0962:BEVERAGES",
          "0982:SPIRITS",
          "0982:SPIRITS",
          "0597:HEALTH AIDS",
          "0603:BEAUTY CARE",
          "0604:PERSONAL CARE",
          "0982:SPIRITS",
          "0983:WINE",
          "0638:GEN SPORTING GOODS",
          "0597:HEALTH AIDS",
          "0982:SPIRITS",
          "0983:WINE",
          "0962:BEVERAGES",
          "0884:LAWN & GARDEN",
          "0982:SPIRITS",
          "0984:BEER",
          "0962:BEVERAGES",
          "0982:SPIRITS",
          "0983:WINE",
          "0984:BEER",
          "0360:MENS FURNISHINGS",
          "0982:SPIRITS",
          "0983:WINE",
          "0982:SPIRITS",
          "0991:TOBACCO",
          "0836:HOUSEHOLD CLEANING",
          "0861:GENERAL HARDWARE",
          "0973:CANDY",
          "0983:WINE",
          "0984:BEER",
          "0982:SPIRITS",
          "0962:BEVERAGES",
          "0982:SPIRITS",
          "0984:BEER",
          "0604:PERSONAL CARE",
          "0991:TOBACCO",
          "0961:GENERAL GROCERIES",
          "0991:TOBACCO",
          "0982:SPIRITS",
          "0973:CANDY",
          "0982:SPIRITS",
          "0597:HEALTH AIDS",
          "0603:BEAUTY CARE",
          "0680:AUTOMOTIVE",
          "0856:GLUES/TAPES/ACC",
          "0879:PET SUPPLIES",
          "0962:BEVERAGES",
          "0646:SEASONAL",
          "0879:PET SUPPLIES",
          "0962:BEVERAGES",
          "0856:GLUES/TAPES/ACC",
          "0879:PET SUPPLIES",
          "0597:HEALTH AIDS",
          "0982:SPIRITS",
          "0983:WINE",
          "0984:BEER",
          "0597:HEALTH AIDS",
          "0604:PERSONAL CARE",
          "0636:FITNESS/EXERCISE",
          "0961:GENERAL GROCERIES",
          "0983:WINE",
          "0632:DIGITAL FITNESS",
          "0640:TOYS",
          "0973:CANDY",
          "0983:WINE",
          "0982:SPIRITS",
          "0984:BEER",
          "0395:MENS ATHLETIC SHOES",
          "0597:HEALTH AIDS",
          "0603:BEAUTY CARE",
          "0982:SPIRITS",
          "0983:WINE",
          "0984:BEER",
          "0530:SCHOOL/OFFIC SUPP",
          "0646:SEASONAL",
          "0822:THIRD PARTY GIFTCARD",
          "0973:CANDY",
          "0983:WINE",
          "0991:TOBACCO",
          "0646:SEASONAL",
          "0597:HEALTH AIDS",
          "0973:CANDY",
          "0982:SPIRITS",
          "0983:WINE",
          "0597:HEALTH AIDS",
          "0603:BEAUTY CARE",
          "0962:BEVERAGES",
          "0982:SPIRITS",
          "0984:BEER",
          "0991:TOBACCO",
          "0638:GEN SPORTING GOODS",
          "0836:HOUSEHOLD CLEANING",
          "0532:AMERICAN GREETINGS",
          "0640:TOYS",
          "0962:BEVERAGES",
          "0983:WINE",
          "0984:BEER",
          "0991:TOBACCO",
          "0962:BEVERAGES",
          "0983:WINE",
          "0982:SPIRITS",
          "0984:BEER",
          "0982:SPIRITS",
          "0984:BEER",
          "0603:BEAUTY CARE",
          "0879:PET SUPPLIES",
          "0962:BEVERAGES",
          "0973:CANDY",
          "0884:LAWN & GARDEN",
          "0640:TOYS",
          "0984:BEER",
          "0416:INFANT APPAREL",
          "0585:WATCHES",
          "0837:GENERAL HOUSEWARES",
          "0984:BEER",
          "0638:GEN SPORTING GOODS",
          "0991:TOBACCO",
          "0961:GENERAL GROCERIES",
          "0973:CANDY",
          "0982:SPIRITS",
          "0593:PRESTIGE COSMETICS",
          "0603:BEAUTY CARE",
          "0644:SPORTS NUTRITION",
          "0646:SEASONAL",
          "0879:PET SUPPLIES",
          "0636:FITNESS/EXERCISE",
          "0636:FITNESS/EXERCISE",
          "0099:MISC CUSTOM SERVICES",
          "0991:TOBACCO",
          "0991:TOBACCO",
          "0449:GIRLS ACCESSORIES",
          "0640:TOYS",
          "0982:SPIRITS",
          "0983:WINE",
          "0984:BEER",
          "0982:SPIRITS",
          "0836:HOUSEHOLD CLEANING",
          "0961:GENERAL GROCERIES",
          "0973:CANDY",
          "0991:TOBACCO",
          "0983:WINE",
          "0991:TOBACCO",
          "0640:TOYS",
          "0646:SEASONAL",
          "0961:GENERAL GROCERIES",
          "0982:SPIRITS",
          "0982:SPIRITS",
          "0879:PET SUPPLIES",
          "0982:SPIRITS",
          "0991:TOBACCO",
          "0961:GENERAL GROCERIES",
          "0962:BEVERAGES",
          "0879:PET SUPPLIES",
          "0984:BEER",
          "0644:SPORTS NUTRITION",
          "0836:HOUSEHOLD CLEANING",
          "0973:CANDY",
          "0646:SEASONAL",
          "0983:WINE",
          "0033:VENDING RETAIL",
          "0962:BEVERAGES",
          "0982:SPIRITS",
          "0962:BEVERAGES",
          "0983:WINE",
          "0984:BEER",
          "0984:BEER",
          "0597:HEALTH AIDS",
          "0603:BEAUTY CARE",
          "0836:HOUSEHOLD CLEANING",
          "0532:AMERICAN GREETINGS",
          "0636:FITNESS/EXERCISE",
          "0833:TABLETOP",
          "0837:GENERAL HOUSEWARES",
          "0983:WINE",
          "0984:BEER",
          "0879:PET SUPPLIES",
          "0982:SPIRITS",
          "0984:BEER",
          "0982:SPIRITS",
          "0597:HEALTH AIDS",
          "0836:HOUSEHOLD CLEANING",
          "0962:BEVERAGES",
          "0983:WINE",
          "0984:BEER",
          "0879:PET SUPPLIES",
          "0982:SPIRITS",
          "0984:BEER",
          "0982:SPIRITS",
          "0982:SPIRITS",
          "0961:GENERAL GROCERIES",
          "0962:BEVERAGES",
          "0983:WINE",
          "0644:SPORTS NUTRITION",
          "0982:SPIRITS",
          "0983:WINE",
          "0983:WINE",
          "0982:SPIRITS",
          "0991:TOBACCO",
          "0879:PET SUPPLIES",
          "0982:SPIRITS",
          "0836:HOUSEHOLD CLEANING",
          "0982:SPIRITS",
          "0983:WINE",
          "0879:PET SUPPLIES",
          "0991:TOBACCO",
          "0982:SPIRITS",
          "0984:BEER",
          "0590:MASS COSMETICS",
          "0597:HEALTH AIDS",
          "0603:BEAUTY CARE",
          "0879:PET SUPPLIES",
          "0983:WINE",
          "0982:SPIRITS",
          "0601:VALUE ZONE",
          "0983:WINE",
          "0984:BEER",
          "0380:MENS ACTIVEWEAR",
          "0941:BEDDING",
          "0973:CANDY",
          "0982:SPIRITS",
          "0597:HEALTH AIDS",
          "0604:PERSONAL CARE",
          "0797:SEASONAL GIFTS",
          "0991:TOBACCO",
          "0983:WINE",
          "0597:HEALTH AIDS",
          "0836:HOUSEHOLD CLEANING",
          "0962:BEVERAGES",
          "0982:SPIRITS",
          "0961:GENERAL GROCERIES",
          "0962:BEVERAGES",
          "0597:HEALTH AIDS",
          "0836:HOUSEHOLD CLEANING",
          "0961:GENERAL GROCERIES",
          "0982:SPIRITS",
          "0532:AMERICAN GREETINGS",
          "0597:HEALTH AIDS",
          "0634:VITAMINS & HLTH AIDS",
          "0836:HOUSEHOLD CLEANING",
          "0984:BEER",
          "0836:HOUSEHOLD CLEANING",
          "0961:GENERAL GROCERIES",
          "0973:CANDY",
          "0826:SMALL ELECTRICS",
          "0836:HOUSEHOLD CLEANING",
          "0879:PET SUPPLIES",
          "0230:DAYWEAR",
          "0597:HEALTH AIDS",
          "0644:SPORTS NUTRITION",
          "0071:BEAUTY RETAIL",
          "0532:AMERICAN GREETINGS",
          "0590:MASS COSMETICS",
          "0593:PRESTIGE COSMETICS",
          "0595:HOME/BATH",
          "0603:BEAUTY CARE",
          "0982:SPIRITS",
          "0983:WINE",
          "0532:AMERICAN GREETINGS",
          "0884:LAWN & GARDEN",
          "0982:SPIRITS",
          "0983:WINE",
          "0161:MISSY KAREN SCOTT",
          "0962:BEVERAGES",
          "0973:CANDY",
          "0984:BEER",
          "0879:PET SUPPLIES",
          "0590:MASS COSMETICS",
          "0603:BEAUTY CARE",
          "0962:BEVERAGES",
          "0973:CANDY",
          "0634:VITAMINS & HLTH AIDS",
          "0982:SPIRITS",
          "0984:BEER",
          "0962:BEVERAGES",
          "0982:SPIRITS",
          "0991:TOBACCO",
          "0597:HEALTH AIDS",
          "0836:HOUSEHOLD CLEANING",
          "0982:SPIRITS",
          "0178:DENIM COLLECTIONS",
          "0295:WOMENS ATHLTIC SHOES",
          "0360:MENS FURNISHINGS",
          "0369:YOUNG MENS",
          "0962:BEVERAGES",
          "0973:CANDY",
          "0982:SPIRITS",
          "0983:WINE",
          "0130:JUNIORS SURF",
          "0179:MODERATE DENIM",
          "0369:YOUNG MENS",
          "0440:GIRLS 7-16 CLOTHING",
          "0603:BEAUTY CARE",
          "0962:BEVERAGES",
          "0982:SPIRITS",
          "0991:TOBACCO",
          "0161:MISSY KAREN SCOTT",
          "0271:HANDBAGS",
          "0280:FASHION ACCESSORIES",
          "0360:MENS FURNISHINGS",
          "0380:MENS ACTIVEWEAR",
          "0590:MASS COSMETICS",
          "0644:SPORTS NUTRITION",
          "0646:SEASONAL",
          "0861:GENERAL HARDWARE",
          "0973:CANDY",
          "0982:SPIRITS",
          "0983:WINE",
          "0597:HEALTH AIDS",
          "0822:THIRD PARTY GIFTCARD",
          "0983:WINE",
          "0510:NAVY PRIDE HARDLINES",
          "0585:WATCHES",
          "0604:PERSONAL CARE",
          "0982:SPIRITS",
          "0640:TOYS",
          "0984:BEER",
          "0961:GENERAL GROCERIES",
          "0973:CANDY",
          "0973:CANDY",
          "0597:HEALTH AIDS",
          "0836:HOUSEHOLD CLEANING",
          "0597:HEALTH AIDS",
          "0983:WINE",
          "0983:WINE",
          "0984:BEER",
          "0603:BEAUTY CARE",
          "0973:CANDY",
          "0861:GENERAL HARDWARE",
          "0604:PERSONAL CARE",
          "0640:TOYS",
          "0836:HOUSEHOLD CLEANING",
          "0984:BEER",
          "0879:PET SUPPLIES",
          "0532:AMERICAN GREETINGS",
          "0590:MASS COSMETICS",
          "0593:PRESTIGE COSMETICS",
          "0640:TOYS",
          "0360:MENS FURNISHINGS",
          "0836:HOUSEHOLD CLEANING",
          "0879:PET SUPPLIES",
          "0982:SPIRITS",
          "0982:SPIRITS",
          "0982:SPIRITS",
          "0991:TOBACCO",
          "0991:TOBACCO",
          "0962:BEVERAGES",
          "0973:CANDY",
          "0984:BEER",
          "0962:BEVERAGES",
          "0982:SPIRITS",
          "0983:WINE",
          "0983:WINE",
          "0982:SPIRITS",
          "0984:BEER",
          "0982:SPIRITS",
          "0984:BEER",
          "0634:VITAMINS & HLTH AIDS",
          "0991:TOBACCO",
          "0836:HOUSEHOLD CLEANING",
          "0360:MENS FURNISHINGS",
          "0391:MENS SHOES",
          "0973:CANDY",
          "0590:MASS COSMETICS",
          "0982:SPIRITS",
          "0962:BEVERAGES",
          "0391:MENS SHOES",
          "0597:HEALTH AIDS",
          "0604:PERSONAL CARE",
          "0836:HOUSEHOLD CLEANING",
          "0962:BEVERAGES",
          "0644:SPORTS NUTRITION",
          "0861:GENERAL HARDWARE",
          "0962:BEVERAGES",
          "0984:BEER",
          "0646:SEASONAL",
          "0826:SMALL ELECTRICS",
          "0991:TOBACCO",
          "0982:SPIRITS",
          "0984:BEER",
          "0531:STATIONERY SUNDRIES",
          "0962:BEVERAGES",
          "0982:SPIRITS",
          "0983:WINE",
          "0991:TOBACCO",
          "0411:PEGABLES",
          "0415:NEWBORN APPAREL",
          "0598:BABY CARE",
          "0604:PERSONAL CARE",
          "0836:HOUSEHOLD CLEANING",
          "0879:PET SUPPLIES",
          "0982:SPIRITS",
          "0984:BEER",
          "0638:GEN SPORTING GOODS",
          "0836:HOUSEHOLD CLEANING",
          "0961:GENERAL GROCERIES",
          "0965:PERISHABLES",
          "0982:SPIRITS",
          "0984:BEER",
          "0991:TOBACCO",
          "0879:PET SUPPLIES",
          "0982:SPIRITS",
          "0991:TOBACCO",
          "0962:BEVERAGES",
          "0982:SPIRITS",
          "0991:TOBACCO",
          "0597:HEALTH AIDS",
          "0604:PERSONAL CARE",
          "0836:HOUSEHOLD CLEANING",
          "0962:BEVERAGES",
          "0965:PERISHABLES",
          "0982:SPIRITS",
          "0962:BEVERAGES",
          "0982:SPIRITS",
          "0991:TOBACCO",
          "0879:PET SUPPLIES",
          "0597:HEALTH AIDS",
          "0604:PERSONAL CARE",
          "0836:HOUSEHOLD CLEANING",
          "0961:GENERAL GROCERIES",
          "0597:HEALTH AIDS",
          "0991:TOBACCO",
          "0644:SPORTS NUTRITION",
          "0984:BEER",
          "0982:SPIRITS",
          "0850:PC HDWR & OFFICE EQP",
          "0984:BEER",
          "0603:BEAUTY CARE",
          "0532:AMERICAN GREETINGS",
          "0595:HOME/BATH",
          "0983:WINE",
          "0597:HEALTH AIDS",
          "0604:PERSONAL CARE",
          "0962:BEVERAGES",
          "0982:SPIRITS",
          "0982:SPIRITS",
          "0984:BEER",
          "0836:HOUSEHOLD CLEANING",
          "0603:BEAUTY CARE",
          "0604:PERSONAL CARE",
          "0962:BEVERAGES",
          "0982:SPIRITS",
          "0440:GIRLS 7-16 CLOTHING",
          "0646:SEASONAL",
          "0962:BEVERAGES",
          "0359:MENS ACCESSORIES",
          "0597:HEALTH AIDS",
          "0604:PERSONAL CARE",
          "0634:VITAMINS & HLTH AIDS",
          "0836:HOUSEHOLD CLEANING",
          "0982:SPIRITS",
          "0991:TOBACCO",
          "0639:TEAM SPORTING GOODS",
          "0991:TOBACCO",
          "0797:SEASONAL GIFTS",
          "0982:SPIRITS",
          "0982:SPIRITS",
          "0982:SPIRITS",
          "0991:TOBACCO",
          "0991:TOBACCO",
          "0597:HEALTH AIDS",
          "0604:PERSONAL CARE",
          "0982:SPIRITS",
          "0597:HEALTH AIDS",
          "0604:PERSONAL CARE",
          "0836:HOUSEHOLD CLEANING",
          "0597:HEALTH AIDS",
          "0973:CANDY",
          "0597:HEALTH AIDS",
          "0984:BEER",
          "0590:MASS COSMETICS",
          "0604:PERSONAL CARE",
          "0982:SPIRITS",
          "0982:SPIRITS",
          "0991:TOBACCO",
          "0604:PERSONAL CARE",
          "0596:MENS PRESTIGE FRAG",
          "0640:TOYS",
          "0645:BIKES",
          "0554:TELECOMMUNICATIONS",
          "0859:iPAD",
          "0982:SPIRITS",
          "0984:BEER",
          "0984:BEER",
          "0598:BABY CARE",
          "0603:BEAUTY CARE",
          "0604:PERSONAL CARE",
          "0961:GENERAL GROCERIES",
          "0984:BEER",
          "0962:BEVERAGES",
          "0982:SPIRITS",
          "0640:TOYS",
          "0982:SPIRITS",
          "0991:TOBACCO",
          "0982:SPIRITS",
          "0879:PET SUPPLIES",
          "0983:WINE",
          "0597:HEALTH AIDS",
          "0644:SPORTS NUTRITION",
          "0973:CANDY",
          "0991:TOBACCO",
          "0962:BEVERAGES",
          "0982:SPIRITS",
          "0597:HEALTH AIDS",
          "0836:HOUSEHOLD CLEANING",
          "0961:GENERAL GROCERIES",
          "0982:SPIRITS",
          "0962:BEVERAGES",
          "0982:SPIRITS",
          "0991:TOBACCO",
          "0597:HEALTH AIDS",
          "0984:BEER",
          "0991:TOBACCO",
          "0826:SMALL ELECTRICS",
          "0879:PET SUPPLIES",
          "0639:TEAM SPORTING GOODS",
          "0983:WINE",
          "0597:HEALTH AIDS",
          "0962:BEVERAGES",
          "0982:SPIRITS",
          "0973:CANDY",
          "0982:SPIRITS",
          "0797:SEASONAL GIFTS",
          "0973:CANDY",
          "0982:SPIRITS",
          "0984:BEER",
          "0644:SPORTS NUTRITION",
          "0982:SPIRITS",
          "0597:HEALTH AIDS",
          "0603:BEAUTY CARE",
          "0604:PERSONAL CARE",
          "0836:HOUSEHOLD CLEANING",
          "0961:GENERAL GROCERIES",
          "0962:BEVERAGES",
          "0973:CANDY",
          "0982:SPIRITS",
          "0532:AMERICAN GREETINGS",
          "0604:PERSONAL CARE",
          "0879:PET SUPPLIES",
          "0991:TOBACCO",
          "0837:GENERAL HOUSEWARES",
          "0983:WINE",
          "0597:HEALTH AIDS",
          "0604:PERSONAL CARE",
          "0836:HOUSEHOLD CLEANING",
          "0962:BEVERAGES",
          "0982:SPIRITS",
          "0983:WINE",
          "0360:MENS FURNISHINGS",
          "0973:CANDY",
          "0173:JUNIOR BOTTOMS",
          "0178:DENIM COLLECTIONS",
          "0638:GEN SPORTING GOODS",
          "0380:MENS ACTIVEWEAR",
          "0879:PET SUPPLIES",
          "0991:TOBACCO",
          "0931:BATH",
          "0961:GENERAL GROCERIES",
          "0931:BATH",
          "0961:GENERAL GROCERIES",
          "0962:BEVERAGES",
          "0589:SUNGLASSES",
          "0593:PRESTIGE COSMETICS",
          "0595:HOME/BATH",
          "0961:GENERAL GROCERIES",
          "0962:BEVERAGES",
          "0973:CANDY",
          "0530:SCHOOL/OFFIC SUPP",
          "0982:SPIRITS",
          "0991:TOBACCO",
          "0836:HOUSEHOLD CLEANING",
          "0961:GENERAL GROCERIES",
          "0533:PAPYRUS",
          "0590:MASS COSMETICS",
          "0982:SPIRITS",
          "0983:WINE",
          "0359:MENS ACCESSORIES",
          "0826:SMALL ELECTRICS",
          "0836:HOUSEHOLD CLEANING",
          "0822:THIRD PARTY GIFTCARD",
          "0962:BEVERAGES",
          "0984:BEER",
          "0991:TOBACCO",
          "0353:MENS OUTDOOR",
          "0593:PRESTIGE COSMETICS",
          "0879:PET SUPPLIES",
          "0597:HEALTH AIDS",
          "0604:PERSONAL CARE",
          "0984:BEER",
          "0291:WOMENS FTWR:DRS/CAS",
          "0797:SEASONAL GIFTS",
          "0193:LADIES ACTIVEWEAR",
          "0595:HOME/BATH",
          "0815:AUDIO ELECTRONICS",
          "0837:GENERAL HOUSEWARES",
          "0554:TELECOMMUNICATIONS",
          "0597:HEALTH AIDS",
          "0638:GEN SPORTING GOODS",
          "0002:BARBER RETAIL",
          "0532:AMERICAN GREETINGS",
          "0646:SEASONAL",
          "0973:CANDY",
          "0962:BEVERAGES",
          "0973:CANDY",
          "0991:TOBACCO",
          "0421:TODDLER GIRL APPAREL",
          "0826:SMALL ELECTRICS",
          "0941:BEDDING",
          "0973:CANDY",
          "0991:TOBACCO",
          "0822:THIRD PARTY GIFTCARD",
          "0991:TOBACCO",
          "0353:MENS OUTDOOR",
          "0415:NEWBORN APPAREL",
          "0640:TOYS",
          "0646:SEASONAL",
          "0962:BEVERAGES",
          "0973:CANDY",
          "0991:TOBACCO",
          "0596:MENS PRESTIGE FRAG",
          "0240:SLEEPWEAR/LOUNGEWEAR",
          "0440:GIRLS 7-16 CLOTHING",
          "0470:BOYS 8-20 CLOTHING",
          "0982:SPIRITS",
          "0991:TOBACCO",
          "0530:SCHOOL/OFFIC SUPP",
          "0585:WATCHES",
          "0240:SLEEPWEAR/LOUNGEWEAR",
          "0261:HOSIERY",
          "0530:SCHOOL/OFFIC SUPP",
          "0532:AMERICAN GREETINGS",
          "0603:BEAUTY CARE",
          "0795:HOME DECOR",
          "0973:CANDY",
          "0991:TOBACCO",
          "0973:CANDY",
          "0597:HEALTH AIDS",
          "0597:HEALTH AIDS",
          "0604:PERSONAL CARE",
          "0638:GEN SPORTING GOODS",
          "0991:TOBACCO",
          "0973:CANDY",
          "0797:SEASONAL GIFTS",
          "0991:TOBACCO",
          "0530:SCHOOL/OFFIC SUPP",
          "0837:GENERAL HOUSEWARES",
          "0343:MENS DENIM JEANS",
          "0391:MENS SHOES",
          "0395:MENS ATHLETIC SHOES",
          "0646:SEASONAL",
          "0962:BEVERAGES",
          "0973:CANDY",
          "0991:TOBACCO",
          "0310:MENS OUTERWEAR",
          "0343:MENS DENIM JEANS",
          "0354:MENS MODERN COLLECT",
          "0962:BEVERAGES",
          "0973:CANDY",
          "0962:BEVERAGES",
          "0982:SPIRITS",
          "0984:BEER",
          "0991:TOBACCO",
          "0261:HOSIERY",
          "0816:VIDEO ELECTRONICS",
          "0826:SMALL ELECTRICS",
          "0962:BEVERAGES",
          "0973:CANDY",
          "0991:TOBACCO",
          "0343:MENS DENIM JEANS",
          "0353:MENS OUTDOOR",
          "0638:GEN SPORTING GOODS",
          "0532:AMERICAN GREETINGS",
          "0590:MASS COSMETICS",
          "0603:BEAUTY CARE",
          "0961:GENERAL GROCERIES",
          "0962:BEVERAGES",
          "0973:CANDY",
          "0983:WINE",
          "0962:BEVERAGES",
          "0982:SPIRITS",
          "0983:WINE",
          "0984:BEER",
          "0973:CANDY",
          "0973:CANDY",
          "0163:JUNIOR TOPS",
          "0826:SMALL ELECTRICS",
          "0291:WOMENS FTWR:DRS/CAS",
          "0320:MNS TAILORED CLOTHNG",
          "0340:MENS CASUAL SLACKS",
          "0358:MENS DRESS SHIRTS",
          "0359:MENS ACCESSORIES",
          "0593:PRESTIGE COSMETICS",
          "0991:TOBACCO",
          "0962:BEVERAGES",
          "0240:SLEEPWEAR/LOUNGEWEAR",
          "0486:CHILDRENS FOOTWEAR",
          "0532:AMERICAN GREETINGS",
          "0597:HEALTH AIDS",
          "0983:WINE",
          "0188:STYLE & CO",
          "0593:PRESTIGE COSMETICS",
          "0597:HEALTH AIDS",
          "0604:PERSONAL CARE",
          "0836:HOUSEHOLD CLEANING",
          "0991:TOBACCO",
          "0182:CLASSIC COLLECTIONS",
          "0343:MENS DENIM JEANS",
          "0411:PEGABLES",
          "0415:NEWBORN APPAREL",
          "0416:INFANT APPAREL",
          "0426:TODDLER BOY APPAREL",
          "0360:MENS FURNISHINGS",
          "0532:AMERICAN GREETINGS",
          "0604:PERSONAL CARE",
          "0797:SEASONAL GIFTS",
          "0822:THIRD PARTY GIFTCARD",
          "0837:GENERAL HOUSEWARES",
          "0838:FLOOR CARE",
          "0638:GEN SPORTING GOODS",
          "0167:MISSY TOPS",
          "0603:BEAUTY CARE",
          "0604:PERSONAL CARE",
          "0991:TOBACCO",
          "0991:TOBACCO",
          "0595:HOME/BATH",
          "0603:BEAUTY CARE",
          "0360:MENS FURNISHINGS",
          "0368:TRAD COLLECTIONS",
          "0991:TOBACCO",
          "0359:MENS ACCESSORIES",
          "0360:MENS FURNISHINGS",
          "0590:MASS COSMETICS",
          "0839:HOME ORG/SOLUTIONS",
          "0856:GLUES/TAPES/ACC",
          "0879:PET SUPPLIES",
          "0931:BATH",
          "0604:PERSONAL CARE",
          "0961:GENERAL GROCERIES",
          "0604:PERSONAL CARE",
          "0604:PERSONAL CARE",
          "0962:BEVERAGES",
          "0449:GIRLS ACCESSORIES",
          "0639:TEAM SPORTING GOODS",
          "0962:BEVERAGES",
          "0965:PERISHABLES",
          "0597:HEALTH AIDS",
          "0991:TOBACCO",
          "0991:TOBACCO",
          "0240:SLEEPWEAR/LOUNGEWEAR",
          "0469:BOYS ACCESSORIES",
          "0470:BOYS 8-20 CLOTHING",
          "0597:HEALTH AIDS",
          "0604:PERSONAL CARE",
          "0640:TOYS",
          "0836:HOUSEHOLD CLEANING",
          "0846:BATTERIES",
          "0879:PET SUPPLIES",
          "0973:CANDY",
          "0836:HOUSEHOLD CLEANING",
          "0597:HEALTH AIDS",
          "0598:BABY CARE",
          "0836:HOUSEHOLD CLEANING",
          "0861:GENERAL HARDWARE",
          "0961:GENERAL GROCERIES",
          "0962:BEVERAGES",
          "0991:TOBACCO",
          "0469:BOYS ACCESSORIES",
          "0470:BOYS 8-20 CLOTHING",
          "0973:CANDY",
          "0646:SEASONAL",
          "0680:AUTOMOTIVE",
          "0861:GENERAL HARDWARE",
          "0879:PET SUPPLIES",
          "0991:TOBACCO",
          "0161:MISSY KAREN SCOTT",
          "0182:CLASSIC COLLECTIONS",
          "0240:SLEEPWEAR/LOUNGEWEAR",
          "0531:STATIONERY SUNDRIES",
          "0597:HEALTH AIDS",
          "0603:BEAUTY CARE",
          "0826:SMALL ELECTRICS",
          "0836:HOUSEHOLD CLEANING",
          "0884:LAWN & GARDEN",
          "0983:WINE",
          "0358:MENS DRESS SHIRTS",
          "0359:MENS ACCESSORIES",
          "0991:TOBACCO",
          "0541:BOOKS AND MAPS",
          "0962:BEVERAGES",
          "0973:CANDY",
          "0593:PRESTIGE COSMETICS",
          "0604:PERSONAL CARE",
          "0646:SEASONAL",
          "0603:BEAUTY CARE",
          "0638:GEN SPORTING GOODS",
          "0836:HOUSEHOLD CLEANING",
          "0846:BATTERIES",
          "0532:AMERICAN GREETINGS",
          "0822:THIRD PARTY GIFTCARD",
          "0291:WOMENS FTWR:DRS/CAS",
          "0991:TOBACCO",
          "0540:PERIODICALS/COMICS",
          "0983:WINE",
          "0991:TOBACCO",
          "0359:MENS ACCESSORIES",
          "0604:PERSONAL CARE",
          "0973:CANDY",
          "0585:WATCHES",
          "0854:VIDEO GAMES",
          "0962:BEVERAGES",
          "0486:CHILDRENS FOOTWEAR",
          "0598:BABY CARE",
          "0603:BEAUTY CARE",
          "0604:PERSONAL CARE",
          "0991:TOBACCO",
          "0595:HOME/BATH",
          "0991:TOBACCO",
          "0644:SPORTS NUTRITION",
          "0859:iPAD",
          "0973:CANDY",
          "0110:LDS OUTERWEAR/OUTDR",
          "0991:TOBACCO",
          "0846:BATTERIES",
          "0879:PET SUPPLIES",
          "0962:BEVERAGES",
          "0261:HOSIERY",
          "0590:MASS COSMETICS",
          "0839:HOME ORG/SOLUTIONS",
          "0271:HANDBAGS",
          "0470:BOYS 8-20 CLOTHING",
          "0589:SUNGLASSES",
          "0532:AMERICAN GREETINGS",
          "0646:SEASONAL",
          "0973:CANDY",
          "0604:PERSONAL CARE",
          "0846:BATTERIES",
          "0982:SPIRITS",
          "0261:HOSIERY",
          "0826:SMALL ELECTRICS",
          "0837:GENERAL HOUSEWARES",
          "0359:MENS ACCESSORIES",
          "0360:MENS FURNISHINGS",
          "0837:GENERAL HOUSEWARES",
          "0597:HEALTH AIDS",
          "0603:BEAUTY CARE",
          "0846:BATTERIES",
          "0991:TOBACCO",
          "0188:STYLE & CO",
          "0240:SLEEPWEAR/LOUNGEWEAR",
          "0261:HOSIERY",
          "0826:SMALL ELECTRICS",
          "0836:HOUSEHOLD CLEANING",
          "0982:SPIRITS",
          "0991:TOBACCO",
          "0589:SUNGLASSES",
          "0962:BEVERAGES",
          "0604:PERSONAL CARE",
          "0646:SEASONAL",
          "0797:SEASONAL GIFTS",
          "0879:PET SUPPLIES",
          "0973:CANDY",
          "0360:MENS FURNISHINGS",
          "0416:INFANT APPAREL",
          "0439:JUVENILLE FURNITURE",
          "0554:TELECOMMUNICATIONS",
          "0589:SUNGLASSES",
          "0589:SUNGLASSES",
          "0360:MENS FURNISHINGS",
          "0604:PERSONAL CARE",
          "0836:HOUSEHOLD CLEANING",
          "0982:SPIRITS",
          "0358:MENS DRESS SHIRTS",
          "0163:JUNIOR TOPS",
          "0603:BEAUTY CARE",
          "0604:PERSONAL CARE",
          "0836:HOUSEHOLD CLEANING",
          "0962:BEVERAGES",
          "0983:WINE",
          "0984:BEER",
          "0819:PRE-RECORDED A/V",
          "0811:TELEVISION",
          "0530:SCHOOL/OFFIC SUPP",
          "0860:NETWORKING",
          "0991:TOBACCO",
          "0604:PERSONAL CARE",
          "0991:TOBACCO",
          "0644:SPORTS NUTRITION",
          "0815:AUDIO ELECTRONICS",
          "0837:GENERAL HOUSEWARES",
          "0879:PET SUPPLIES",
          "0973:CANDY",
          "0826:SMALL ELECTRICS",
          "0291:WOMENS FTWR:DRS/CAS",
          "0163:JUNIOR TOPS",
          "0826:SMALL ELECTRICS",
          "0991:TOBACCO",
          "0991:TOBACCO",
          "0836:HOUSEHOLD CLEANING",
          "0962:BEVERAGES",
          "0991:TOBACCO",
          "0358:MENS DRESS SHIRTS",
          "0597:HEALTH AIDS",
          "0416:INFANT APPAREL",
          "0532:AMERICAN GREETINGS",
          "0797:SEASONAL GIFTS",
          "0837:GENERAL HOUSEWARES",
          "0973:CANDY",
          "0982:SPIRITS",
          "0597:HEALTH AIDS",
          "0836:HOUSEHOLD CLEANING",
          "0846:BATTERIES",
          "0962:BEVERAGES",
          "0973:CANDY",
          "0991:TOBACCO",
          "0554:TELECOMMUNICATIONS",
          "0991:TOBACCO",
          "0486:CHILDRENS FOOTWEAR",
          "0369:YOUNG MENS",
          "0395:MENS ATHLETIC SHOES",
          "0261:HOSIERY",
          "0961:GENERAL GROCERIES",
          "0973:CANDY",
          "0984:BEER",
          "0530:SCHOOL/OFFIC SUPP",
          "0179:MODERATE DENIM",
          "0532:AMERICAN GREETINGS",
          "0931:BATH",
          "0598:BABY CARE",
          "0962:BEVERAGES",
          "0973:CANDY",
          "0982:SPIRITS",
          "0411:PEGABLES",
          "0430:GIRLS 4-6X CLOTHING",
          "0486:CHILDRENS FOOTWEAR",
          "0604:PERSONAL CARE",
          "0640:TOYS",
          "0991:TOBACCO",
          "0369:YOUNG MENS",
          "0603:BEAUTY CARE",
          "0646:SEASONAL",
          "0597:HEALTH AIDS",
          "0380:MENS ACTIVEWEAR",
          "0593:PRESTIGE COSMETICS",
          "0597:HEALTH AIDS",
          "0604:PERSONAL CARE",
          "0973:CANDY",
          "0531:STATIONERY SUNDRIES",
          "0597:HEALTH AIDS",
          "0879:PET SUPPLIES",
          "0962:BEVERAGES",
          "0973:CANDY",
          "0983:WINE",
          "0603:BEAUTY CARE",
          "0076:FLORAL RETAIL",
          "0411:PEGABLES",
          "0530:SCHOOL/OFFIC SUPP",
          "0531:STATIONERY SUNDRIES",
          "0532:AMERICAN GREETINGS",
          "0597:HEALTH AIDS",
          "0598:BABY CARE",
          "0603:BEAUTY CARE",
          "0646:SEASONAL",
          "0836:HOUSEHOLD CLEANING",
          "0962:BEVERAGES",
          "0098:WAREHOUSED EXPENSES",
          "0360:MENS FURNISHINGS",
          "0962:BEVERAGES",
          "0962:BEVERAGES",
          "0359:MENS ACCESSORIES",
          "0598:BABY CARE",
          "0603:BEAUTY CARE",
          "0604:PERSONAL CARE",
          "0411:PEGABLES",
          "0280:FASHION ACCESSORIES",
          "0532:AMERICAN GREETINGS",
          "0540:PERIODICALS/COMICS",
          "0590:MASS COSMETICS",
          "0597:HEALTH AIDS",
          "0603:BEAUTY CARE",
          "0961:GENERAL GROCERIES",
          "0962:BEVERAGES",
          "0965:PERISHABLES",
          "0973:CANDY",
          "0973:CANDY",
          "0359:MENS ACCESSORIES",
          "0973:CANDY",
          "0590:MASS COSMETICS",
          "0597:HEALTH AIDS",
          "0604:PERSONAL CARE",
          "0973:CANDY",
          "0983:WINE",
          "0193:LADIES ACTIVEWEAR",
          "0415:NEWBORN APPAREL",
          "0530:SCHOOL/OFFIC SUPP",
          "0597:HEALTH AIDS",
          "0856:GLUES/TAPES/ACC",
          "0415:NEWBORN APPAREL",
          "0449:GIRLS ACCESSORIES",
          "0973:CANDY",
          "0991:TOBACCO",
          "0991:TOBACCO",
          "0598:BABY CARE",
          "0638:GEN SPORTING GOODS",
          "0961:GENERAL GROCERIES",
          "0962:BEVERAGES",
          "0973:CANDY",
          "0991:TOBACCO",
          "0962:BEVERAGES",
          "0056:SOUVENIR",
          "0530:SCHOOL/OFFIC SUPP",
          "0856:GLUES/TAPES/ACC",
          "0973:CANDY",
          "0415:NEWBORN APPAREL",
          "0598:BABY CARE",
          "0991:TOBACCO",
          "0486:CHILDRENS FOOTWEAR",
          "0368:TRAD COLLECTIONS",
          "0973:CANDY",
          "0982:SPIRITS",
          "0983:WINE",
          "0991:TOBACCO",
          "0593:PRESTIGE COSMETICS",
          "0815:AUDIO ELECTRONICS",
          "0962:BEVERAGES",
          "0991:TOBACCO",
          "0961:GENERAL GROCERIES",
          "0962:BEVERAGES",
          "0177:PETITE SEPARATES",
          "0178:DENIM COLLECTIONS",
          "0531:STATIONERY SUNDRIES",
          "0532:AMERICAN GREETINGS",
          "0973:CANDY",
          "0983:WINE",
          "0593:PRESTIGE COSMETICS",
          "0280:FASHION ACCESSORIES",
          "0982:SPIRITS",
          "0167:MISSY TOPS",
          "0171:MISSY BOTTOMS",
          "0175:WOMENS SEPARATES",
          "0991:TOBACCO",
          "0271:HANDBAGS",
          "0598:BABY CARE",
          "0167:MISSY TOPS",
          "0353:MENS OUTDOOR",
          "0640:TOYS",
          "0973:CANDY",
          "0991:TOBACCO",
          "0002:BARBER RETAIL",
          "0359:MENS ACCESSORIES",
          "0811:TELEVISION",
          "0961:GENERAL GROCERIES",
          "0973:CANDY",
          "0991:TOBACCO",
          "0532:AMERICAN GREETINGS",
          "0593:PRESTIGE COSMETICS",
          "0991:TOBACCO",
          "0130:JUNIORS SURF",
          "0163:JUNIOR TOPS",
          "0597:HEALTH AIDS",
          "0604:PERSONAL CARE",
          "0961:GENERAL GROCERIES",
          "0973:CANDY",
          "0589:SUNGLASSES",
          "0530:SCHOOL/OFFIC SUPP",
          "0110:LDS OUTERWEAR/OUTDR",
          "0680:AUTOMOTIVE",
          "0962:BEVERAGES",
          "0511:NAVY PRIDE SOFTLINES",
          "0589:SUNGLASSES",
          "0592:WMNS PRESTIGE FRAG",
          "0596:MENS PRESTIGE FRAG",
          "0368:TRAD COLLECTIONS",
          "0973:CANDY",
          "0355:MENS SPORT SHIRTS",
          "0931:BATH",
          "0511:NAVY PRIDE SOFTLINES",
          "0581:BRIDGE JEWELRY",
          "0632:DIGITAL FITNESS",
          "0982:SPIRITS",
          "0991:TOBACCO",
          "0991:TOBACCO",
          "0991:TOBACCO",
          "0592:WMNS PRESTIGE FRAG",
          "0962:BEVERAGES",
          "0280:FASHION ACCESSORIES",
          "0358:MENS DRESS SHIRTS",
          "0421:TODDLER GIRL APPAREL",
          "0110:LDS OUTERWEAR/OUTDR",
          "0271:HANDBAGS",
          "0593:PRESTIGE COSMETICS",
          "0837:GENERAL HOUSEWARES",
          "0930:TABLE TOP & KITCHEN",
          "0973:CANDY",
          "0280:FASHION ACCESSORIES",
          "0991:TOBACCO",
          "0530:SCHOOL/OFFIC SUPP",
          "0973:CANDY",
          "0991:TOBACCO",
          "0597:HEALTH AIDS",
          "0646:SEASONAL",
          "0836:HOUSEHOLD CLEANING",
          "0634:VITAMINS & HLTH AIDS",
          "0636:FITNESS/EXERCISE",
          "0836:HOUSEHOLD CLEANING",
          "0850:PC HDWR & OFFICE EQP",
          "0163:JUNIOR TOPS",
          "0056:SOUVENIR",
          "0421:TODDLER GIRL APPAREL",
          "0595:HOME/BATH",
          "0640:TOYS",
          "0826:SMALL ELECTRICS",
          "0833:TABLETOP",
          "0837:GENERAL HOUSEWARES",
          "0991:TOBACCO",
          "0595:HOME/BATH",
          "0822:THIRD PARTY GIFTCARD",
          "0590:MASS COSMETICS",
          "0597:HEALTH AIDS",
          "0973:CANDY",
          "0603:BEAUTY CARE",
          "0604:PERSONAL CARE",
          "0962:BEVERAGES",
          "0261:HOSIERY",
          "0360:MENS FURNISHINGS",
          "0603:BEAUTY CARE",
          "0604:PERSONAL CARE",
          "0597:HEALTH AIDS",
          "0604:PERSONAL CARE",
          "0962:BEVERAGES",
          "0982:SPIRITS",
          "0962:BEVERAGES",
          "0597:HEALTH AIDS",
          "0850:PC HDWR & OFFICE EQP",
          "0879:PET SUPPLIES",
          "0983:WINE",
          "0449:GIRLS ACCESSORIES",
          "0991:TOBACCO",
          "0811:TELEVISION",
          "0230:DAYWEAR",
          "0261:HOSIERY",
          "0592:WMNS PRESTIGE FRAG",
          "0595:HOME/BATH",
          "0797:SEASONAL GIFTS",
          "0186:JUNIOR DRESSES",
          "0982:SPIRITS",
          "0991:TOBACCO",
          "0797:SEASONAL GIFTS",
          "0984:BEER",
          "0991:TOBACCO",
          "0861:GENERAL HARDWARE",
          "0962:BEVERAGES",
          "0973:CANDY",
          "0857:PC PERIPH/OFFICE ACC",
          "0391:MENS SHOES",
          "0486:CHILDRENS FOOTWEAR",
          "0469:BOYS ACCESSORIES",
          "0470:BOYS 8-20 CLOTHING",
          "0240:SLEEPWEAR/LOUNGEWEAR",
          "0353:MENS OUTDOOR",
          "0368:TRAD COLLECTIONS",
          "0415:NEWBORN APPAREL",
          "0460:BOYS 4-7 CLOTHING",
          "0530:SCHOOL/OFFIC SUPP",
          "0586:COSTUME JEWELRY",
          "0837:GENERAL HOUSEWARES",
          "0991:TOBACCO",
          "0961:GENERAL GROCERIES",
          "0962:BEVERAGES",
          "0991:TOBACCO",
          "0861:GENERAL HARDWARE",
          "0930:TABLE TOP & KITCHEN",
          "0071:BEAUTY RETAIL",
          "0261:HOSIERY",
          "0359:MENS ACCESSORIES",
          "0585:WATCHES",
          "0856:GLUES/TAPES/ACC",
          "0962:BEVERAGES",
          "0973:CANDY",
          "0991:TOBACCO",
          "0991:TOBACCO",
          "0230:DAYWEAR",
          "0291:WOMENS FTWR:DRS/CAS",
          "0589:SUNGLASSES",
          "0581:BRIDGE JEWELRY",
          "0590:MASS COSMETICS",
          "0593:PRESTIGE COSMETICS",
          "0603:BEAUTY CARE",
          "0836:HOUSEHOLD CLEANING",
          "0850:PC HDWR & OFFICE EQP",
          "0860:NETWORKING",
          "0962:BEVERAGES",
          "0380:MENS ACTIVEWEAR",
          "0598:BABY CARE",
          "0646:SEASONAL",
          "0815:AUDIO ELECTRONICS",
          "0941:BEDDING",
          "0589:SUNGLASSES",
          "0346:LIFE STYLE DENIM",
          "0056:SOUVENIR",
          "0532:AMERICAN GREETINGS",
          "0416:INFANT APPAREL",
          "0597:HEALTH AIDS",
          "0593:PRESTIGE COSMETICS",
          "0854:VIDEO GAMES",
          "0131:LADIES DRESSES",
          "0280:FASHION ACCESSORIES",
          "0369:YOUNG MENS",
          "0644:SPORTS NUTRITION",
          "0836:HOUSEHOLD CLEANING",
          "0991:TOBACCO",
          "0353:MENS OUTDOOR",
          "0632:DIGITAL FITNESS",
          "0991:TOBACCO",
          "0380:MENS ACTIVEWEAR",
          "0973:CANDY",
          "0983:WINE",
          "0510:NAVY PRIDE HARDLINES",
          "0554:TELECOMMUNICATIONS",
          "0167:MISSY TOPS",
          "0261:HOSIERY",
          "0280:FASHION ACCESSORIES",
          "0991:TOBACCO",
          "0991:TOBACCO",
          "0380:MENS ACTIVEWEAR",
          "0638:GEN SPORTING GOODS",
          "0845:AS SEEN ON TV",
          "0511:NAVY PRIDE SOFTLINES",
          "0110:LDS OUTERWEAR/OUTDR",
          "0161:MISSY KAREN SCOTT",
          "0271:HANDBAGS",
          "0593:PRESTIGE COSMETICS",
          "0380:MENS ACTIVEWEAR",
          "0839:HOME ORG/SOLUTIONS",
          "0353:MENS OUTDOOR",
          "0961:GENERAL GROCERIES",
          "0645:BIKES",
          "0836:HOUSEHOLD CLEANING",
          "0962:BEVERAGES",
          "0973:CANDY",
          "0161:MISSY KAREN SCOTT",
          "0416:INFANT APPAREL",
          "0640:TOYS",
          "0797:SEASONAL GIFTS",
          "0982:SPIRITS",
          "0354:MENS MODERN COLLECT",
          "0486:CHILDRENS FOOTWEAR",
          "0532:AMERICAN GREETINGS",
          "0603:BEAUTY CARE",
          "0826:SMALL ELECTRICS",
          "0271:HANDBAGS",
          "0826:SMALL ELECTRICS",
          "0961:GENERAL GROCERIES",
          "0173:JUNIOR BOTTOMS",
          "0178:DENIM COLLECTIONS",
          "0188:STYLE & CO",
          "0261:HOSIERY",
          "0291:WOMENS FTWR:DRS/CAS",
          "0586:COSTUME JEWELRY",
          "0646:SEASONAL",
          "0795:HOME DECOR",
          "0837:GENERAL HOUSEWARES",
          "0973:CANDY",
          "0826:SMALL ELECTRICS",
          "0837:GENERAL HOUSEWARES",
          "0930:TABLE TOP & KITCHEN",
          "0941:BEDDING",
          "0826:SMALL ELECTRICS",
          "0834:COOKWARE",
          "0973:CANDY",
          "0531:STATIONERY SUNDRIES",
          "0636:FITNESS/EXERCISE",
          "0640:TOYS",
          "0983:WINE",
          "0597:HEALTH AIDS",
          "0604:PERSONAL CARE",
          "0836:HOUSEHOLD CLEANING",
          "0439:JUVENILLE FURNITURE",
          "0415:NEWBORN APPAREL",
          "0416:INFANT APPAREL",
          "0845:AS SEEN ON TV",
          "0973:CANDY",
          "0982:SPIRITS",
          "0984:BEER",
          "0261:HOSIERY",
          "0430:GIRLS 4-6X CLOTHING",
          "0460:BOYS 4-7 CLOTHING",
          "0469:BOYS ACCESSORIES",
          "0603:BEAUTY CARE",
          "0931:BATH",
          "0982:SPIRITS",
          "0598:BABY CARE",
          "0598:BABY CARE",
          "0532:AMERICAN GREETINGS",
          "0879:PET SUPPLIES",
          "0983:WINE",
          "0210:FOUNDATIONS",
          "0415:NEWBORN APPAREL",
          "0421:TODDLER GIRL APPAREL",
          "0797:SEASONAL GIFTS",
          "0838:FLOOR CARE",
          "0240:SLEEPWEAR/LOUNGEWEAR",
          "0261:HOSIERY",
          "0271:HANDBAGS",
          "0415:NEWBORN APPAREL",
          "0426:TODDLER BOY APPAREL",
          "0430:GIRLS 4-6X CLOTHING",
          "0973:CANDY",
          "0411:PEGABLES",
          "0415:NEWBORN APPAREL",
          "0416:INFANT APPAREL",
          "0973:CANDY",
          "0983:WINE",
          "0353:MENS OUTDOOR",
          "0380:MENS ACTIVEWEAR",
          "0595:HOME/BATH",
          "0359:MENS ACCESSORIES",
          "0360:MENS FURNISHINGS",
          "0597:HEALTH AIDS",
          "0597:HEALTH AIDS",
          "0973:CANDY",
          "0597:HEALTH AIDS",
          "0836:HOUSEHOLD CLEANING",
          "0846:BATTERIES",
          "0983:WINE",
          "0532:AMERICAN GREETINGS",
          "0590:MASS COSMETICS",
          "0930:TABLE TOP & KITCHEN",
          "0973:CANDY",
          "0391:MENS SHOES",
          "0962:BEVERAGES",
          "0380:MENS ACTIVEWEAR",
          "0391:MENS SHOES",
          "0597:HEALTH AIDS",
          "0836:HOUSEHOLD CLEANING",
          "0961:GENERAL GROCERIES",
          "0973:CANDY",
          "0220:SHAPEWEAR",
          "0962:BEVERAGES",
          "0532:AMERICAN GREETINGS",
          "0592:WMNS PRESTIGE FRAG",
          "0604:PERSONAL CARE",
          "0486:CHILDRENS FOOTWEAR",
          "0999:UNSCANNED ITEMS",
          "0380:MENS ACTIVEWEAR",
          "0826:SMALL ELECTRICS",
          "0056:SOUVENIR",
          "0360:MENS FURNISHINGS",
          "0532:AMERICAN GREETINGS",
          "0590:MASS COSMETICS",
          "0597:HEALTH AIDS",
          "0884:LAWN & GARDEN",
          "0973:CANDY",
          "0510:NAVY PRIDE HARDLINES",
          "0973:CANDY",
          "0795:HOME DECOR",
          "0056:SOUVENIR",
          "0597:HEALTH AIDS",
          "0603:BEAUTY CARE",
          "0836:HOUSEHOLD CLEANING",
          "0999:UNSCANNED ITEMS",
          "0369:YOUNG MENS",
          "0836:HOUSEHOLD CLEANING",
          "0965:PERISHABLES",
          "0973:CANDY",
          "0982:SPIRITS",
          "0593:PRESTIGE COSMETICS",
          "0603:BEAUTY CARE",
          "0604:PERSONAL CARE",
          "0271:HANDBAGS",
          "0983:WINE",
          "0310:MENS OUTERWEAR",
          "0604:PERSONAL CARE",
          "0836:HOUSEHOLD CLEANING",
          "0962:BEVERAGES",
          "0982:SPIRITS",
          "0984:BEER",
          "0469:BOYS ACCESSORIES",
          "0795:HOME DECOR",
          "0836:HOUSEHOLD CLEANING",
          "0845:AS SEEN ON TV",
          "0240:SLEEPWEAR/LOUNGEWEAR",
          "0854:VIDEO GAMES",
          "0931:BATH",
          "0440:GIRLS 7-16 CLOTHING",
          "0469:BOYS ACCESSORIES",
          "0532:AMERICAN GREETINGS",
          "0603:BEAUTY CARE",
          "0604:PERSONAL CARE",
          "0822:THIRD PARTY GIFTCARD",
          "0421:TODDLER GIRL APPAREL",
          "0598:BABY CARE",
          "0836:HOUSEHOLD CLEANING",
          "0879:PET SUPPLIES",
          "0822:THIRD PARTY GIFTCARD",
          "0822:THIRD PARTY GIFTCARD",
          "0646:SEASONAL",
          "0973:CANDY",
          "0603:BEAUTY CARE",
          "0836:HOUSEHOLD CLEANING",
          "0879:PET SUPPLIES",
          "0984:BEER",
          "0597:HEALTH AIDS",
          "0836:HOUSEHOLD CLEANING",
          "0193:LADIES ACTIVEWEAR",
          "0590:MASS COSMETICS",
          "0961:GENERAL GROCERIES",
          "0973:CANDY",
          "0532:AMERICAN GREETINGS",
          "0646:SEASONAL",
          "0193:LADIES ACTIVEWEAR",
          "0380:MENS ACTIVEWEAR",
          "0646:SEASONAL",
          "0836:HOUSEHOLD CLEANING",
          "0846:BATTERIES",
          "0973:CANDY",
          "0163:JUNIOR TOPS",
          "0173:JUNIOR BOTTOMS",
          "0359:MENS ACCESSORIES",
          "0360:MENS FURNISHINGS",
          "0973:CANDY",
          "0532:AMERICAN GREETINGS",
          "0646:SEASONAL",
          "0797:SEASONAL GIFTS",
          "0991:TOBACCO",
          "0188:STYLE & CO",
          "0230:DAYWEAR",
          "0261:HOSIERY",
          "0210:FOUNDATIONS",
          "0359:MENS ACCESSORIES",
          "0261:HOSIERY",
          "0369:YOUNG MENS",
          "0590:MASS COSMETICS",
          "0595:HOME/BATH",
          "0603:BEAUTY CARE",
          "0836:HOUSEHOLD CLEANING",
          "0961:GENERAL GROCERIES",
          "0982:SPIRITS",
          "0837:GENERAL HOUSEWARES",
          "0973:CANDY",
          "0597:HEALTH AIDS",
          "0603:BEAUTY CARE",
          "0604:PERSONAL CARE",
          "0961:GENERAL GROCERIES",
          "0962:BEVERAGES",
          "0603:BEAUTY CARE",
          "0636:FITNESS/EXERCISE",
          "0826:SMALL ELECTRICS",
          "0597:HEALTH AIDS",
          "0823:SMART HOME",
          "0962:BEVERAGES",
          "0532:AMERICAN GREETINGS",
          "0551:CAMERAS & EQUIP",
          "0815:AUDIO ELECTRONICS",
          "0636:FITNESS/EXERCISE",
          "0991:TOBACCO",
          "0603:BEAUTY CARE",
          "0962:BEVERAGES",
          "0991:TOBACCO",
          "0532:AMERICAN GREETINGS",
          "0640:TOYS",
          "0973:CANDY",
          "0836:HOUSEHOLD CLEANING",
          "0962:BEVERAGES",
          "0837:GENERAL HOUSEWARES",
          "0360:MENS FURNISHINGS",
          "0369:YOUNG MENS",
          "0530:SCHOOL/OFFIC SUPP",
          "0661:LUGGAGE",
          "0530:SCHOOL/OFFIC SUPP",
          "0541:BOOKS AND MAPS",
          "0640:TOYS",
          "0982:SPIRITS",
          "0961:GENERAL GROCERIES",
          "0982:SPIRITS",
          "0360:MENS FURNISHINGS",
          "0597:HEALTH AIDS",
          "0603:BEAUTY CARE",
          "0836:HOUSEHOLD CLEANING",
          "0962:BEVERAGES",
          "0973:CANDY",
          "0532:AMERICAN GREETINGS",
          "0646:SEASONAL",
          "0846:BATTERIES",
          "0973:CANDY",
          "0271:HANDBAGS",
          "0346:LIFE STYLE DENIM",
          "0590:MASS COSMETICS",
          "0597:HEALTH AIDS",
          "0603:BEAUTY CARE",
          "0640:TOYS",
          "0836:HOUSEHOLD CLEANING",
          "0837:GENERAL HOUSEWARES",
          "0930:TABLE TOP & KITCHEN",
          "0931:BATH",
          "0973:CANDY",
          "0163:JUNIOR TOPS",
          "0280:FASHION ACCESSORIES",
          "0369:YOUNG MENS",
          "0411:PEGABLES",
          "0415:NEWBORN APPAREL",
          "0593:PRESTIGE COSMETICS",
          "0604:PERSONAL CARE",
          "0603:BEAUTY CARE",
          "0797:SEASONAL GIFTS",
          "0837:GENERAL HOUSEWARES",
          "0395:MENS ATHLETIC SHOES",
          "0973:CANDY",
          "0982:SPIRITS",
          "0983:WINE",
          "0530:SCHOOL/OFFIC SUPP",
          "0639:TEAM SPORTING GOODS",
          "0861:GENERAL HARDWARE",
          "0962:BEVERAGES",
          "0991:TOBACCO",
          "0353:MENS OUTDOOR",
          "0592:WMNS PRESTIGE FRAG",
          "0593:PRESTIGE COSMETICS",
          "0973:CANDY",
          "0340:MENS CASUAL SLACKS",
          "0380:MENS ACTIVEWEAR",
          "0161:MISSY KAREN SCOTT",
          "0271:HANDBAGS",
          "0644:SPORTS NUTRITION",
          "0962:BEVERAGES",
          "0965:PERISHABLES",
          "0161:MISSY KAREN SCOTT",
          "0177:PETITE SEPARATES",
          "0193:LADIES ACTIVEWEAR",
          "0360:MENS FURNISHINGS",
          "0532:AMERICAN GREETINGS",
          "0593:PRESTIGE COSMETICS",
          "0171:MISSY BOTTOMS",
          "0661:LUGGAGE",
          "0593:PRESTIGE COSMETICS",
          "0603:BEAUTY CARE",
          "0973:CANDY",
          "0590:MASS COSMETICS",
          "0597:HEALTH AIDS",
          "0603:BEAUTY CARE",
          "0604:PERSONAL CARE",
          "0530:SCHOOL/OFFIC SUPP",
          "0110:LDS OUTERWEAR/OUTDR",
          "0551:CAMERAS & EQUIP",
          "0632:DIGITAL FITNESS",
          "0982:SPIRITS",
          "0426:TODDLER BOY APPAREL",
          "0469:BOYS ACCESSORIES",
          "0640:TOYS",
          "0982:SPIRITS",
          "0604:PERSONAL CARE",
          "0634:VITAMINS & HLTH AIDS",
          "0961:GENERAL GROCERIES",
          "0634:VITAMINS & HLTH AIDS",
          "0836:HOUSEHOLD CLEANING",
          "0530:SCHOOL/OFFIC SUPP",
          "0837:GENERAL HOUSEWARES",
          "0930:TABLE TOP & KITCHEN",
          "0833:TABLETOP",
          "0837:GENERAL HOUSEWARES",
          "0931:BATH",
          "0056:SOUVENIR",
          "0510:NAVY PRIDE HARDLINES",
          "0532:AMERICAN GREETINGS",
          "0962:BEVERAGES",
          "0071:BEAUTY RETAIL",
          "0358:MENS DRESS SHIRTS",
          "0597:HEALTH AIDS",
          "0098:WAREHOUSED EXPENSES",
          "0430:GIRLS 4-6X CLOTHING",
          "0449:GIRLS ACCESSORIES",
          "0530:SCHOOL/OFFIC SUPP",
          "0646:SEASONAL",
          "0822:THIRD PARTY GIFTCARD",
          "0163:JUNIOR TOPS",
          "0167:MISSY TOPS",
          "0056:SOUVENIR",
          "0163:JUNIOR TOPS",
          "0965:PERISHABLES",
          "0962:BEVERAGES",
          "0640:TOYS",
          "0646:SEASONAL",
          "0822:THIRD PARTY GIFTCARD",
          "0962:BEVERAGES",
          "0369:YOUNG MENS",
          "0530:SCHOOL/OFFIC SUPP",
          "0826:SMALL ELECTRICS",
          "0590:MASS COSMETICS",
          "0603:BEAUTY CARE",
          "0604:PERSONAL CARE",
          "0857:PC PERIPH/OFFICE ACC",
          "0167:MISSY TOPS",
          "0171:MISSY BOTTOMS",
          "0271:HANDBAGS",
          "0360:MENS FURNISHINGS",
          "0369:YOUNG MENS",
          "0592:WMNS PRESTIGE FRAG",
          "0593:PRESTIGE COSMETICS",
          "0596:MENS PRESTIGE FRAG",
          "0795:HOME DECOR",
          "0984:BEER",
          "0586:COSTUME JEWELRY",
          "0973:CANDY",
          "0973:CANDY",
          "0982:SPIRITS",
          "0983:WINE",
          "0984:BEER",
          "0982:SPIRITS",
          "0360:MENS FURNISHINGS",
          "0532:AMERICAN GREETINGS",
          "0845:AS SEEN ON TV",
          "0973:CANDY",
          "0973:CANDY",
          "0597:HEALTH AIDS",
          "0961:GENERAL GROCERIES",
          "0973:CANDY",
          "0598:BABY CARE",
          "0962:BEVERAGES",
          "0973:CANDY",
          "0343:MENS DENIM JEANS",
          "0395:MENS ATHLETIC SHOES",
          "0973:CANDY",
          "0597:HEALTH AIDS",
          "0961:GENERAL GROCERIES",
          "0962:BEVERAGES",
          "0973:CANDY",
          "0962:BEVERAGES",
          "0359:MENS ACCESSORIES",
          "0589:SUNGLASSES",
          "0836:HOUSEHOLD CLEANING",
          "0240:SLEEPWEAR/LOUNGEWEAR",
          "0261:HOSIERY",
          "0486:CHILDRENS FOOTWEAR",
          "0395:MENS ATHLETIC SHOES",
          "0230:DAYWEAR",
          "0291:WOMENS FTWR:DRS/CAS",
          "0795:HOME DECOR",
          "0854:VIDEO GAMES",
          "0391:MENS SHOES",
          "0597:HEALTH AIDS",
          "0601:VALUE ZONE",
          "0604:PERSONAL CARE",
          "0280:FASHION ACCESSORIES",
          "0530:SCHOOL/OFFIC SUPP",
          "0836:HOUSEHOLD CLEANING",
          "0973:CANDY",
          "0380:MENS ACTIVEWEAR",
          "0836:HOUSEHOLD CLEANING",
          "0962:BEVERAGES",
          "0973:CANDY",
          "0595:HOME/BATH",
          "0644:SPORTS NUTRITION",
          "0962:BEVERAGES",
          "0421:TODDLER GIRL APPAREL",
          "0449:GIRLS ACCESSORIES",
          "0380:MENS ACTIVEWEAR",
          "0530:SCHOOL/OFFIC SUPP",
          "0354:MENS MODERN COLLECT",
          "0359:MENS ACCESSORIES",
          "0597:HEALTH AIDS",
          "0604:PERSONAL CARE",
          "0644:SPORTS NUTRITION",
          "0440:GIRLS 7-16 CLOTHING",
          "0973:CANDY",
          "0982:SPIRITS",
          "0590:MASS COSMETICS",
          "0598:BABY CARE",
          "0982:SPIRITS",
          "0597:HEALTH AIDS",
          "0604:PERSONAL CARE",
          "0962:BEVERAGES",
          "0295:WOMENS ATHLTIC SHOES",
          "0593:PRESTIGE COSMETICS",
          "0358:MENS DRESS SHIRTS",
          "0640:TOYS",
          "0722:OUTDOOR LIVING",
          "0826:SMALL ELECTRICS",
          "0845:AS SEEN ON TV",
          "0962:BEVERAGES",
          "0984:BEER",
          "0962:BEVERAGES",
          "0590:MASS COSMETICS",
          "0680:AUTOMOTIVE",
          "0722:OUTDOOR LIVING",
          "0531:STATIONERY SUNDRIES",
          "0532:AMERICAN GREETINGS",
          "0983:WINE",
          "0961:GENERAL GROCERIES",
          "0261:HOSIERY",
          "0597:HEALTH AIDS",
          "0598:BABY CARE",
          "0604:PERSONAL CARE",
          "0861:GENERAL HARDWARE",
          "0973:CANDY",
          "0962:BEVERAGES",
          "0973:CANDY",
          "0604:PERSONAL CARE",
          "0380:MENS ACTIVEWEAR",
          "0597:HEALTH AIDS",
          "0604:PERSONAL CARE",
          "0640:TOYS",
          "0973:CANDY",
          "0845:AS SEEN ON TV",
          "0193:LADIES ACTIVEWEAR",
          "0973:CANDY",
          "0343:MENS DENIM JEANS",
          "0380:MENS ACTIVEWEAR",
          "0603:BEAUTY CARE",
          "0604:PERSONAL CARE",
          "0836:HOUSEHOLD CLEANING",
          "0797:SEASONAL GIFTS",
          "0359:MENS ACCESSORIES",
          "0368:TRAD COLLECTIONS",
          "0391:MENS SHOES",
          "0411:PEGABLES",
          "0510:NAVY PRIDE HARDLINES",
          "0962:BEVERAGES",
          "0532:AMERICAN GREETINGS",
          "0590:MASS COSMETICS",
          "0604:PERSONAL CARE",
          "0634:VITAMINS & HLTH AIDS",
          "0640:TOYS",
          "0861:GENERAL HARDWARE",
          "0879:PET SUPPLIES",
          "0973:CANDY",
          "0983:WINE",
          "0680:AUTOMOTIVE",
          "0360:MENS FURNISHINGS",
          "0597:HEALTH AIDS",
          "0380:MENS ACTIVEWEAR",
          "0597:HEALTH AIDS",
          "0836:HOUSEHOLD CLEANING",
          "0982:SPIRITS",
          "0983:WINE",
          "0991:TOBACCO",
          "0380:MENS ACTIVEWEAR",
          "0595:HOME/BATH",
          "0597:HEALTH AIDS",
          "0879:PET SUPPLIES",
          "0884:LAWN & GARDEN",
          "0961:GENERAL GROCERIES",
          "0962:BEVERAGES",
          "0973:CANDY",
          "0961:GENERAL GROCERIES",
          "0962:BEVERAGES",
          "0973:CANDY",
          "0962:BEVERAGES",
          "0644:SPORTS NUTRITION",
          "0879:PET SUPPLIES",
          "0354:MENS MODERN COLLECT",
          "0470:BOYS 8-20 CLOTHING",
          "0991:TOBACCO",
          "0421:TODDLER GIRL APPAREL",
          "0179:MODERATE DENIM",
          "0368:TRAD COLLECTIONS",
          "0589:SUNGLASSES",
          "0603:BEAUTY CARE",
          "0850:PC HDWR & OFFICE EQP",
          "0973:CANDY",
          "0973:CANDY",
          "0603:BEAUTY CARE",
          "0391:MENS SHOES",
          "0597:HEALTH AIDS",
          "0604:PERSONAL CARE",
          "0638:GEN SPORTING GOODS",
          "0722:OUTDOOR LIVING",
          "0846:BATTERIES",
          "0962:BEVERAGES",
          "0595:HOME/BATH",
          "0836:HOUSEHOLD CLEANING",
          "0343:MENS DENIM JEANS",
          "0879:PET SUPPLIES",
          "0962:BEVERAGES",
          "0973:CANDY",
          "0797:SEASONAL GIFTS",
          "0837:GENERAL HOUSEWARES",
          "0973:CANDY",
          "0982:SPIRITS",
          "0962:BEVERAGES",
          "0962:BEVERAGES",
          "0530:SCHOOL/OFFIC SUPP",
          "0645:BIKES",
          "0837:GENERAL HOUSEWARES",
          "0857:PC PERIPH/OFFICE ACC",
          "0597:HEALTH AIDS",
          "0603:BEAUTY CARE",
          "0962:BEVERAGES",
          "0280:FASHION ACCESSORIES",
          "0640:TOYS",
          "0973:CANDY",
          "0530:SCHOOL/OFFIC SUPP",
          "0360:MENS FURNISHINGS",
          "0532:AMERICAN GREETINGS",
          "0597:HEALTH AIDS",
          "0604:PERSONAL CARE",
          "0861:GENERAL HARDWARE",
          "0982:SPIRITS",
          "0295:WOMENS ATHLTIC SHOES",
          "0380:MENS ACTIVEWEAR",
          "0593:PRESTIGE COSMETICS",
          "0597:HEALTH AIDS",
          "0603:BEAUTY CARE",
          "0634:VITAMINS & HLTH AIDS",
          "0661:LUGGAGE",
          "0012:LOCAL GIFTS/FOODS",
          "0597:HEALTH AIDS",
          "0604:PERSONAL CARE",
          "0597:HEALTH AIDS",
          "0982:SPIRITS",
          "0879:PET SUPPLIES",
          "0973:CANDY",
          "0597:HEALTH AIDS",
          "0836:HOUSEHOLD CLEANING",
          "0193:LADIES ACTIVEWEAR",
          "0604:PERSONAL CARE",
          "0973:CANDY",
          "0071:BEAUTY RETAIL",
          "0161:MISSY KAREN SCOTT",
          "0355:MENS SPORT SHIRTS",
          "0395:MENS ATHLETIC SHOES",
          "0585:WATCHES",
          "0973:CANDY",
          "0596:MENS PRESTIGE FRAG",
          "0973:CANDY",
          "0982:SPIRITS",
          "0596:MENS PRESTIGE FRAG",
          "0837:GENERAL HOUSEWARES",
          "0595:HOME/BATH",
          "0589:SUNGLASSES",
          "0193:LADIES ACTIVEWEAR",
          "0554:TELECOMMUNICATIONS",
          "0638:GEN SPORTING GOODS",
          "0360:MENS FURNISHINGS",
          "0826:SMALL ELECTRICS",
          "0839:HOME ORG/SOLUTIONS",
          "0597:HEALTH AIDS",
          "0593:PRESTIGE COSMETICS",
          "0585:WATCHES",
          "0837:GENERAL HOUSEWARES",
          "0295:WOMENS ATHLTIC SHOES",
          "0999:UNSCANNED ITEMS",
          "0637:FISHING",
          "0638:GEN SPORTING GOODS",
          "0962:BEVERAGES",
          "0973:CANDY",
          "0982:SPIRITS",
          "0353:MENS OUTDOOR",
          "0597:HEALTH AIDS",
          "0879:PET SUPPLIES",
          "0295:WOMENS ATHLTIC SHOES",
          "0395:MENS ATHLETIC SHOES",
          "0973:CANDY",
          "0271:HANDBAGS",
          "0585:WATCHES",
          "0590:MASS COSMETICS",
          "0593:PRESTIGE COSMETICS",
          "0595:HOME/BATH",
          "0597:HEALTH AIDS",
          "0603:BEAUTY CARE",
          "0646:SEASONAL",
          "0836:HOUSEHOLD CLEANING",
          "0973:CANDY",
          "0161:MISSY KAREN SCOTT",
          "0165:LIFE IS GOOD",
          "0177:PETITE SEPARATES",
          "0240:SLEEPWEAR/LOUNGEWEAR",
          "0353:MENS OUTDOOR",
          "0380:MENS ACTIVEWEAR",
          "0590:MASS COSMETICS",
          "0603:BEAUTY CARE",
          "0604:PERSONAL CARE",
          "0836:HOUSEHOLD CLEANING",
          "0360:MENS FURNISHINGS",
          "0380:MENS ACTIVEWEAR",
          "0982:SPIRITS",
          "0640:TOYS",
          "0962:BEVERAGES",
          "0532:AMERICAN GREETINGS",
          "0604:PERSONAL CARE",
          "0640:TOYS",
          "0884:LAWN & GARDEN",
          "0230:DAYWEAR",
          "0826:SMALL ELECTRICS",
          "0833:TABLETOP",
          "0597:HEALTH AIDS",
          "0836:HOUSEHOLD CLEANING",
          "0962:BEVERAGES",
          "0982:SPIRITS",
          "0360:MENS FURNISHINGS",
          "0510:NAVY PRIDE HARDLINES",
          "0836:HOUSEHOLD CLEANING",
          "0879:PET SUPPLIES",
          "0962:BEVERAGES",
          "0973:CANDY",
          "0597:HEALTH AIDS",
          "0961:GENERAL GROCERIES",
          "0411:PEGABLES",
          "0415:NEWBORN APPAREL",
          "0597:HEALTH AIDS",
          "0598:BABY CARE",
          "0604:PERSONAL CARE",
          "0836:HOUSEHOLD CLEANING",
          "0861:GENERAL HARDWARE",
          "0930:TABLE TOP & KITCHEN",
          "0962:BEVERAGES",
          "0973:CANDY",
          "0984:BEER",
          "0161:MISSY KAREN SCOTT",
          "0163:JUNIOR TOPS",
          "0354:MENS MODERN COLLECT",
          "0368:TRAD COLLECTIONS",
          "0973:CANDY",
          "0360:MENS FURNISHINGS",
          "0837:GENERAL HOUSEWARES",
          "0962:BEVERAGES",
          "0340:MENS CASUAL SLACKS",
          "0343:MENS DENIM JEANS",
          "0604:PERSONAL CARE",
          "0961:GENERAL GROCERIES",
          "0965:PERISHABLES",
          "0973:CANDY",
          "0983:WINE",
          "0590:MASS COSMETICS",
          "0597:HEALTH AIDS",
          "0603:BEAUTY CARE",
          "0604:PERSONAL CARE",
          "0931:BATH",
          "0421:TODDLER GIRL APPAREL",
          "0440:GIRLS 7-16 CLOTHING",
          "0449:GIRLS ACCESSORIES",
          "0973:CANDY",
          "0973:CANDY",
          "0360:MENS FURNISHINGS",
          "0532:AMERICAN GREETINGS",
          "0540:PERIODICALS/COMICS",
          "0541:BOOKS AND MAPS",
          "0589:SUNGLASSES",
          "0593:PRESTIGE COSMETICS",
          "0973:CANDY",
          "0982:SPIRITS",
          "0983:WINE",
          "0961:GENERAL GROCERIES",
          "0962:BEVERAGES",
          "0973:CANDY",
          "0181:LADIES MODERN COLLEC",
          "0261:HOSIERY",
          "0271:HANDBAGS",
          "0291:WOMENS FTWR:DRS/CAS",
          "0532:AMERICAN GREETINGS",
          "0941:BEDDING",
          "0554:TELECOMMUNICATIONS",
          "0646:SEASONAL",
          "0056:SOUVENIR",
          "0822:THIRD PARTY GIFTCARD",
          "0854:VIDEO GAMES",
          "0973:CANDY",
          "0071:BEAUTY RETAIL",
          "0179:MODERATE DENIM",
          "0634:VITAMINS & HLTH AIDS",
          "0597:HEALTH AIDS",
          "0634:VITAMINS & HLTH AIDS",
          "0879:PET SUPPLIES",
          "0353:MENS OUTDOOR",
          "0591:MASS FRAGRANCES",
          "0595:HOME/BATH",
          "0604:PERSONAL CARE",
          "0230:DAYWEAR",
          "0380:MENS ACTIVEWEAR",
          "0530:SCHOOL/OFFIC SUPP",
          "0603:BEAUTY CARE",
          "0857:PC PERIPH/OFFICE ACC",
          "0973:CANDY",
          "0430:GIRLS 4-6X CLOTHING",
          "0440:GIRLS 7-16 CLOTHING",
          "0597:HEALTH AIDS",
          "0603:BEAUTY CARE",
          "0604:PERSONAL CARE",
          "0640:TOYS",
          "0846:BATTERIES",
          "0511:NAVY PRIDE SOFTLINES",
          "0584:GEMSTONES",
          "0597:HEALTH AIDS",
          "0603:BEAUTY CARE",
          "0837:GENERAL HOUSEWARES",
          "0962:BEVERAGES",
          "0640:TOYS",
          "0530:SCHOOL/OFFIC SUPP",
          "0640:TOYS",
          "0962:BEVERAGES",
          "0973:CANDY",
          "0962:BEVERAGES",
          "0638:GEN SPORTING GOODS",
          "0163:JUNIOR TOPS",
          "0359:MENS ACCESSORIES",
          "0597:HEALTH AIDS",
          "0850:PC HDWR & OFFICE EQP",
          "0346:LIFE STYLE DENIM",
          "0355:MENS SPORT SHIRTS",
          "0369:YOUNG MENS",
          "0380:MENS ACTIVEWEAR",
          "0982:SPIRITS",
          "0983:WINE",
          "0984:BEER",
          "0530:SCHOOL/OFFIC SUPP",
          "0532:AMERICAN GREETINGS",
          "0983:WINE",
          "0984:BEER",
          "0640:TOYS",
          "0110:LDS OUTERWEAR/OUTDR",
          "0130:JUNIORS SURF",
          "0360:MENS FURNISHINGS",
          "0380:MENS ACTIVEWEAR",
          "0395:MENS ATHLETIC SHOES",
          "0973:CANDY",
          "0360:MENS FURNISHINGS",
          "0380:MENS ACTIVEWEAR",
          "0636:FITNESS/EXERCISE",
          "0836:HOUSEHOLD CLEANING",
          "0360:MENS FURNISHINGS",
          "0604:PERSONAL CARE",
          "0973:CANDY",
          "0636:FITNESS/EXERCISE",
          "0380:MENS ACTIVEWEAR",
          "0360:MENS FURNISHINGS",
          "0604:PERSONAL CARE",
          "0836:HOUSEHOLD CLEANING",
          "0845:AS SEEN ON TV",
          "0857:PC PERIPH/OFFICE ACC",
          "0962:BEVERAGES",
          "0931:BATH",
          "0603:BEAUTY CARE",
          "0836:HOUSEHOLD CLEANING",
          "0961:GENERAL GROCERIES",
          "0973:CANDY",
          "0320:MNS TAILORED CLOTHNG",
          "0340:MENS CASUAL SLACKS",
          "0355:MENS SPORT SHIRTS",
          "0826:SMALL ELECTRICS",
          "0280:FASHION ACCESSORIES",
          "0532:AMERICAN GREETINGS",
          "0541:BOOKS AND MAPS",
          "0833:TABLETOP",
          "0346:LIFE STYLE DENIM",
          "0369:YOUNG MENS",
          "0595:HOME/BATH",
          "0854:VIDEO GAMES",
          "0603:BEAUTY CARE",
          "0638:GEN SPORTING GOODS",
          "0597:HEALTH AIDS",
          "0879:PET SUPPLIES",
          "0973:CANDY",
          "0530:SCHOOL/OFFIC SUPP",
          "0597:HEALTH AIDS",
          "0598:BABY CARE",
          "0604:PERSONAL CARE",
          "0836:HOUSEHOLD CLEANING",
          "0961:GENERAL GROCERIES",
          "0962:BEVERAGES",
          "0973:CANDY",
          "0510:NAVY PRIDE HARDLINES",
          "0973:CANDY",
          "0110:LDS OUTERWEAR/OUTDR",
          "0962:BEVERAGES",
          "0795:HOME DECOR",
          "0261:HOSIERY",
          "0586:COSTUME JEWELRY",
          "0597:HEALTH AIDS",
          "0604:PERSONAL CARE",
          "0597:HEALTH AIDS",
          "0604:PERSONAL CARE",
          "0836:HOUSEHOLD CLEANING",
          "0962:BEVERAGES",
          "0973:CANDY",
          "0984:BEER",
          "0469:BOYS ACCESSORIES",
          "0486:CHILDRENS FOOTWEAR",
          "0982:SPIRITS",
          "0857:PC PERIPH/OFFICE ACC",
          "0391:MENS SHOES",
          "0603:BEAUTY CARE",
          "0984:BEER",
          "0071:BEAUTY RETAIL",
          "0593:PRESTIGE COSMETICS",
          "0603:BEAUTY CARE",
          "0593:PRESTIGE COSMETICS",
          "0884:LAWN & GARDEN",
          "0973:CANDY",
          "0984:BEER",
          "0532:AMERICAN GREETINGS",
          "0597:HEALTH AIDS",
          "0056:SOUVENIR",
          "0391:MENS SHOES",
          "0554:TELECOMMUNICATIONS",
          "0590:MASS COSMETICS",
          "0167:MISSY TOPS",
          "0171:MISSY BOTTOMS",
          "0646:SEASONAL",
          "0962:BEVERAGES",
          "0999:UNSCANNED ITEMS",
          "0532:AMERICAN GREETINGS",
          "0597:HEALTH AIDS",
          "0836:HOUSEHOLD CLEANING",
          "0962:BEVERAGES",
          "0532:AMERICAN GREETINGS",
          "0597:HEALTH AIDS",
          "0982:SPIRITS",
          "0983:WINE",
          "0368:TRAD COLLECTIONS",
          "0879:PET SUPPLIES",
          "0961:GENERAL GROCERIES",
          "0962:BEVERAGES",
          "0261:HOSIERY",
          "0822:THIRD PARTY GIFTCARD",
          "0110:LDS OUTERWEAR/OUTDR",
          "0353:MENS OUTDOOR",
          "0597:HEALTH AIDS",
          "0598:BABY CARE",
          "0962:BEVERAGES",
          "0380:MENS ACTIVEWEAR",
          "0271:HANDBAGS",
          "0845:AS SEEN ON TV",
          "0941:BEDDING",
          "0532:AMERICAN GREETINGS",
          "0836:HOUSEHOLD CLEANING",
          "0961:GENERAL GROCERIES",
          "0962:BEVERAGES",
          "0973:CANDY",
          "0826:SMALL ELECTRICS",
          "0380:MENS ACTIVEWEAR",
          "0530:SCHOOL/OFFIC SUPP",
          "0585:WATCHES",
          "0836:HOUSEHOLD CLEANING",
          "0973:CANDY",
          "0983:WINE",
          "0076:FLORAL RETAIL",
          "0188:STYLE & CO",
          "0240:SLEEPWEAR/LOUNGEWEAR",
          "0280:FASHION ACCESSORIES",
          "0597:HEALTH AIDS",
          "0603:BEAUTY CARE",
          "0646:SEASONAL",
          "0722:OUTDOOR LIVING",
          "0879:PET SUPPLIES",
          "0884:LAWN & GARDEN",
          "0973:CANDY",
          "0984:BEER",
          "0177:PETITE SEPARATES",
          "0973:CANDY",
          "0973:CANDY",
          "0369:YOUNG MENS",
          "0973:CANDY",
          "0597:HEALTH AIDS",
          "0604:PERSONAL CARE",
          "0638:GEN SPORTING GOODS",
          "0984:BEER",
          "0639:TEAM SPORTING GOODS",
          "0962:BEVERAGES",
          "0360:MENS FURNISHINGS",
          "0597:HEALTH AIDS",
          "0012:LOCAL GIFTS/FOODS",
          "0530:SCHOOL/OFFIC SUPP",
          "0532:AMERICAN GREETINGS",
          "0597:HEALTH AIDS",
          "0640:TOYS",
          "0646:SEASONAL",
          "0826:SMALL ELECTRICS",
          "0836:HOUSEHOLD CLEANING",
          "0850:PC HDWR & OFFICE EQP",
          "0961:GENERAL GROCERIES",
          "0973:CANDY",
          "0845:AS SEEN ON TV",
          "0380:MENS ACTIVEWEAR",
          "0532:AMERICAN GREETINGS",
          "0597:HEALTH AIDS",
          "0071:BEAUTY RETAIL",
          "0601:VALUE ZONE",
          "0603:BEAUTY CARE",
          "0240:SLEEPWEAR/LOUNGEWEAR",
          "0973:CANDY",
          "0836:HOUSEHOLD CLEANING",
          "0597:HEALTH AIDS",
          "0603:BEAUTY CARE",
          "0604:PERSONAL CARE",
          "0822:THIRD PARTY GIFTCARD",
          "0836:HOUSEHOLD CLEANING",
          "0343:MENS DENIM JEANS",
          "0531:STATIONERY SUNDRIES",
          "0380:MENS ACTIVEWEAR",
          "0532:AMERICAN GREETINGS",
          "0961:GENERAL GROCERIES",
          "0962:BEVERAGES",
          "0965:PERISHABLES",
          "0973:CANDY",
          "0597:HEALTH AIDS",
          "0604:PERSONAL CARE",
          "0634:VITAMINS & HLTH AIDS",
          "0879:PET SUPPLIES",
          "0962:BEVERAGES",
          "0601:VALUE ZONE",
          "0973:CANDY",
          "0973:CANDY",
          "0590:MASS COSMETICS",
          "0603:BEAUTY CARE",
          "0962:BEVERAGES",
          "0973:CANDY",
          "0343:MENS DENIM JEANS",
          "0360:MENS FURNISHINGS",
          "0368:TRAD COLLECTIONS",
          "0640:TOYS",
          "0846:BATTERIES",
          "0593:PRESTIGE COSMETICS",
          "0973:CANDY",
          "0240:SLEEPWEAR/LOUNGEWEAR",
          "0261:HOSIERY",
          "0636:FITNESS/EXERCISE",
          "0646:SEASONAL",
          "0884:LAWN & GARDEN",
          "0961:GENERAL GROCERIES",
          "0973:CANDY",
          "0532:AMERICAN GREETINGS",
          "0603:BEAUTY CARE",
          "0983:WINE",
          "0163:JUNIOR TOPS",
          "0532:AMERICAN GREETINGS",
          "0590:MASS COSMETICS",
          "0593:PRESTIGE COSMETICS",
          "0603:BEAUTY CARE",
          "0973:CANDY",
          "0982:SPIRITS",
          "0983:WINE",
          "0167:MISSY TOPS",
          "0175:WOMENS SEPARATES",
          "0639:TEAM SPORTING GOODS",
          "0982:SPIRITS",
          "0961:GENERAL GROCERIES",
          "0962:BEVERAGES",
          "0973:CANDY",
          "0360:MENS FURNISHINGS",
          "0369:YOUNG MENS",
          "0395:MENS ATHLETIC SHOES",
          "0421:TODDLER GIRL APPAREL",
          "0470:BOYS 8-20 CLOTHING",
          "0826:SMALL ELECTRICS",
          "0973:CANDY",
          "0510:NAVY PRIDE HARDLINES",
          "0593:PRESTIGE COSMETICS",
          "0603:BEAUTY CARE",
          "0639:TEAM SPORTING GOODS",
          "0822:THIRD PARTY GIFTCARD",
          "0836:HOUSEHOLD CLEANING",
          "0291:WOMENS FTWR:DRS/CAS",
          "0598:BABY CARE",
          "0530:SCHOOL/OFFIC SUPP",
          "0603:BEAUTY CARE",
          "0604:PERSONAL CARE",
          "0836:HOUSEHOLD CLEANING",
          "0845:AS SEEN ON TV",
          "0879:PET SUPPLIES",
          "0982:SPIRITS",
          "0991:TOBACCO",
          "0360:MENS FURNISHINGS",
          "0597:HEALTH AIDS",
          "0836:HOUSEHOLD CLEANING",
          "0879:PET SUPPLIES",
          "0941:BEDDING",
          "0240:SLEEPWEAR/LOUNGEWEAR",
          "0261:HOSIERY",
          "0530:SCHOOL/OFFIC SUPP",
          "0597:HEALTH AIDS",
          "0982:SPIRITS",
          "0983:WINE",
          "0177:PETITE SEPARATES",
          "0593:PRESTIGE COSMETICS",
          "0532:AMERICAN GREETINGS",
          "0603:BEAUTY CARE",
          "0962:BEVERAGES",
          "0230:DAYWEAR",
          "0797:SEASONAL GIFTS",
          "0826:SMALL ELECTRICS",
          "0355:MENS SPORT SHIRTS",
          "0310:MENS OUTERWEAR",
          "0355:MENS SPORT SHIRTS",
          "0359:MENS ACCESSORIES",
          "0368:TRAD COLLECTIONS",
          "0845:AS SEEN ON TV",
          "0983:WINE",
          "0360:MENS FURNISHINGS",
          "0369:YOUNG MENS",
          "0391:MENS SHOES",
          "0597:HEALTH AIDS",
          "0973:CANDY",
          "0983:WINE",
          "0098:WAREHOUSED EXPENSES",
          "0511:NAVY PRIDE SOFTLINES",
          "0532:AMERICAN GREETINGS",
          "0598:BABY CARE",
          "0110:LDS OUTERWEAR/OUTDR",
          "0193:LADIES ACTIVEWEAR",
          "0851:PC HARDWARE",
          "0598:BABY CARE",
          "0603:BEAUTY CARE",
          "0604:PERSONAL CARE",
          "0604:PERSONAL CARE",
          "0638:GEN SPORTING GOODS",
          "0879:PET SUPPLIES",
          "0962:BEVERAGES",
          "0597:HEALTH AIDS",
          "0603:BEAUTY CARE",
          "0604:PERSONAL CARE",
          "0973:CANDY",
          "0532:AMERICAN GREETINGS",
          "0603:BEAUTY CARE",
          "0982:SPIRITS",
          "0983:WINE",
          "0131:LADIES DRESSES",
          "0590:MASS COSMETICS",
          "0604:PERSONAL CARE",
          "0973:CANDY",
          "0597:HEALTH AIDS",
          "0009:FLORAL SERV/SUPPLIES",
          "0415:NEWBORN APPAREL",
          "0598:BABY CARE",
          "0836:HOUSEHOLD CLEANING",
          "0962:BEVERAGES",
          "0984:BEER",
          "0962:BEVERAGES",
          "0639:TEAM SPORTING GOODS",
          "0360:MENS FURNISHINGS",
          "0984:BEER",
          "0597:HEALTH AIDS",
          "0603:BEAUTY CARE",
          "0604:PERSONAL CARE",
          "0822:THIRD PARTY GIFTCARD",
          "0589:SUNGLASSES",
          "0110:LDS OUTERWEAR/OUTDR",
          "0586:COSTUME JEWELRY",
          "0961:GENERAL GROCERIES",
          "0380:MENS ACTIVEWEAR",
          "0320:MNS TAILORED CLOTHNG",
          "0368:TRAD COLLECTIONS",
          "0532:AMERICAN GREETINGS",
          "0359:MENS ACCESSORIES",
          "0532:AMERICAN GREETINGS",
          "0640:TOYS",
          "0846:BATTERIES",
          "0983:WINE",
          "0962:BEVERAGES",
          "0360:MENS FURNISHINGS",
          "0540:PERIODICALS/COMICS",
          "0595:HOME/BATH",
          "0510:NAVY PRIDE HARDLINES",
          "0638:GEN SPORTING GOODS",
          "0962:BEVERAGES",
          "0973:CANDY",
          "0532:AMERICAN GREETINGS",
          "0592:WMNS PRESTIGE FRAG",
          "0604:PERSONAL CARE",
          "0983:WINE",
          "0603:BEAUTY CARE",
          "0632:DIGITAL FITNESS",
          "0973:CANDY",
          "0962:BEVERAGES",
          "0585:WATCHES",
          "0593:PRESTIGE COSMETICS",
          "0973:CANDY",
          "0982:SPIRITS",
          "0360:MENS FURNISHINGS",
          "0597:HEALTH AIDS",
          "0638:GEN SPORTING GOODS",
          "0973:CANDY",
          "0837:GENERAL HOUSEWARES",
          "0965:PERISHABLES",
          "0510:NAVY PRIDE HARDLINES",
          "0163:JUNIOR TOPS",
          "0982:SPIRITS",
          "0983:WINE",
          "0973:CANDY",
          "0358:MENS DRESS SHIRTS",
          "0604:PERSONAL CARE",
          "0511:NAVY PRIDE SOFTLINES",
          "0597:HEALTH AIDS",
          "0604:PERSONAL CARE",
          "0416:INFANT APPAREL",
          "0598:BABY CARE",
          "0369:YOUNG MENS",
          "0836:HOUSEHOLD CLEANING",
          "0940:HOME TEXTILES",
          "0962:BEVERAGES",
          "0193:LADIES ACTIVEWEAR",
          "0416:INFANT APPAREL",
          "0440:GIRLS 7-16 CLOTHING",
          "0460:BOYS 4-7 CLOTHING",
          "0590:MASS COSMETICS",
          "0973:CANDY",
          "0839:HOME ORG/SOLUTIONS",
          "0931:BATH",
          "0395:MENS ATHLETIC SHOES",
          "0837:GENERAL HOUSEWARES",
          "0598:BABY CARE",
          "0604:PERSONAL CARE",
          "0009:FLORAL SERV/SUPPLIES",
          "0380:MENS ACTIVEWEAR",
          "0532:AMERICAN GREETINGS",
          "0360:MENS FURNISHINGS",
          "0395:MENS ATHLETIC SHOES",
          "0973:CANDY",
          "0110:LDS OUTERWEAR/OUTDR",
          "0973:CANDY",
          "0582:GOLD",
          "0585:WATCHES",
          "0597:HEALTH AIDS",
          "0603:BEAUTY CARE",
          "0604:PERSONAL CARE",
          "0836:HOUSEHOLD CLEANING",
          "0973:CANDY",
          "0585:WATCHES",
          "0603:BEAUTY CARE",
          "0836:HOUSEHOLD CLEANING",
          "0585:WATCHES",
          "0603:BEAUTY CARE",
          "0973:CANDY",
          "0360:MENS FURNISHINGS",
          "0973:CANDY",
          "0962:BEVERAGES",
          "0353:MENS OUTDOOR",
          "0638:GEN SPORTING GOODS",
          "0640:TOYS",
          "0280:FASHION ACCESSORIES",
          "0110:LDS OUTERWEAR/OUTDR",
          "0271:HANDBAGS",
          "0360:MENS FURNISHINGS",
          "0530:SCHOOL/OFFIC SUPP",
          "0532:AMERICAN GREETINGS",
          "0533:PAPYRUS",
          "0597:HEALTH AIDS",
          "0603:BEAUTY CARE",
          "0634:VITAMINS & HLTH AIDS",
          "0819:PRE-RECORDED A/V",
          "0826:SMALL ELECTRICS",
          "0836:HOUSEHOLD CLEANING",
          "0930:TABLE TOP & KITCHEN",
          "0973:CANDY",
          "0368:TRAD COLLECTIONS",
          "0603:BEAUTY CARE",
          "0604:PERSONAL CARE",
          "0826:SMALL ELECTRICS",
          "0884:LAWN & GARDEN",
          "0999:UNSCANNED ITEMS",
          "0181:LADIES MODERN COLLEC",
          "0261:HOSIERY",
          "0837:GENERAL HOUSEWARES",
          "0604:PERSONAL CARE",
          "0644:SPORTS NUTRITION",
          "0973:CANDY",
          "0634:VITAMINS & HLTH AIDS",
          "0380:MENS ACTIVEWEAR",
          "0603:BEAUTY CARE",
          "0486:CHILDRENS FOOTWEAR",
          "0486:CHILDRENS FOOTWEAR",
          "0163:JUNIOR TOPS",
          "0071:BEAUTY RETAIL",
          "0644:SPORTS NUTRITION",
          "0879:PET SUPPLIES",
          "0962:BEVERAGES",
          "0982:SPIRITS",
          "0071:BEAUTY RETAIL",
          "0532:AMERICAN GREETINGS",
          "0590:MASS COSMETICS",
          "0593:PRESTIGE COSMETICS",
          "0604:PERSONAL CARE",
          "0836:HOUSEHOLD CLEANING",
          "0884:LAWN & GARDEN",
          "0638:GEN SPORTING GOODS",
          "0941:BEDDING",
          "0982:SPIRITS",
          "0530:SCHOOL/OFFIC SUPP",
          "0532:AMERICAN GREETINGS",
          "0644:SPORTS NUTRITION",
          "0826:SMALL ELECTRICS",
          "0961:GENERAL GROCERIES",
          "0973:CANDY",
          "0941:BEDDING",
          "0597:HEALTH AIDS",
          "0603:BEAUTY CARE",
          "0861:GENERAL HARDWARE",
          "0340:MENS CASUAL SLACKS",
          "0380:MENS ACTIVEWEAR",
          "0962:BEVERAGES",
          "0961:GENERAL GROCERIES",
          "0962:BEVERAGES",
          "0973:CANDY",
          "0531:STATIONERY SUNDRIES",
          "0646:SEASONAL",
          "0638:GEN SPORTING GOODS",
          "0962:BEVERAGES",
          "0380:MENS ACTIVEWEAR",
          "0416:INFANT APPAREL",
          "0597:HEALTH AIDS",
          "0604:PERSONAL CARE",
          "0638:GEN SPORTING GOODS",
          "0836:HOUSEHOLD CLEANING",
          "0640:TOYS",
          "0646:SEASONAL",
          "0962:BEVERAGES",
          "0973:CANDY",
          "0597:HEALTH AIDS",
          "0836:HOUSEHOLD CLEANING",
          "0603:BEAUTY CARE",
          "0973:CANDY",
          "0598:BABY CARE",
          "0110:LDS OUTERWEAR/OUTDR",
          "0962:BEVERAGES",
          "0590:MASS COSMETICS",
          "0592:WMNS PRESTIGE FRAG",
          "0593:PRESTIGE COSMETICS",
          "0595:HOME/BATH",
          "0837:GENERAL HOUSEWARES",
          "0930:TABLE TOP & KITCHEN",
          "0941:BEDDING",
          "0973:CANDY",
          "0110:LDS OUTERWEAR/OUTDR",
          "0167:MISSY TOPS",
          "0240:SLEEPWEAR/LOUNGEWEAR",
          "0391:MENS SHOES",
          "0240:SLEEPWEAR/LOUNGEWEAR",
          "0826:SMALL ELECTRICS",
          "0973:CANDY",
          "0961:GENERAL GROCERIES",
          "0962:BEVERAGES",
          "0532:AMERICAN GREETINGS",
          "0795:HOME DECOR",
          "0797:SEASONAL GIFTS",
          "0822:THIRD PARTY GIFTCARD",
          "0984:BEER",
          "0551:CAMERAS & EQUIP",
          "0411:PEGABLES",
          "0415:NEWBORN APPAREL",
          "0416:INFANT APPAREL",
          "0598:BABY CARE",
          "0603:BEAUTY CARE",
          "0604:PERSONAL CARE",
          "0962:BEVERAGES",
          "0343:MENS DENIM JEANS",
          "0167:MISSY TOPS",
          "0071:BEAUTY RETAIL",
          "0531:STATIONERY SUNDRIES",
          "0532:AMERICAN GREETINGS",
          "0554:TELECOMMUNICATIONS",
          "0603:BEAUTY CARE",
          "0982:SPIRITS",
          "0590:MASS COSMETICS",
          "0597:HEALTH AIDS",
          "0603:BEAUTY CARE",
          "0604:PERSONAL CARE",
          "0861:GENERAL HARDWARE",
          "0962:BEVERAGES",
          "0530:SCHOOL/OFFIC SUPP",
          "0833:TABLETOP",
          "0836:HOUSEHOLD CLEANING",
          "0012:LOCAL GIFTS/FOODS",
          "0240:SLEEPWEAR/LOUNGEWEAR",
          "0261:HOSIERY",
          "0532:AMERICAN GREETINGS",
          "0822:THIRD PARTY GIFTCARD",
          "0845:AS SEEN ON TV",
          "0884:LAWN & GARDEN",
          "0973:CANDY",
          "0982:SPIRITS",
          "0962:BEVERAGES",
          "0973:CANDY",
          "0421:TODDLER GIRL APPAREL",
          "0638:GEN SPORTING GOODS",
          "0836:HOUSEHOLD CLEANING",
          "0261:HOSIERY",
          "0603:BEAUTY CARE",
          "0962:BEVERAGES",
          "0973:CANDY",
          "0416:INFANT APPAREL",
          "0585:WATCHES",
          "0598:BABY CARE",
          "0391:MENS SHOES",
          "0469:BOYS ACCESSORIES",
          "0597:HEALTH AIDS",
          "0604:PERSONAL CARE",
          "0640:TOYS",
          "0815:AUDIO ELECTRONICS",
          "0879:PET SUPPLIES",
          "0962:BEVERAGES",
          "0991:TOBACCO",
          "0585:WATCHES",
          "0597:HEALTH AIDS",
          "0836:HOUSEHOLD CLEANING",
          "0850:PC HDWR & OFFICE EQP",
          "0962:BEVERAGES",
          "0421:TODDLER GIRL APPAREL",
          "0460:BOYS 4-7 CLOTHING",
          "0469:BOYS ACCESSORIES",
          "0486:CHILDRENS FOOTWEAR",
          "0795:HOME DECOR",
          "0983:WINE",
          "0640:TOYS",
          "0359:MENS ACCESSORIES",
          "0837:GENERAL HOUSEWARES",
          "0931:BATH",
          "0167:MISSY TOPS",
          "0839:HOME ORG/SOLUTIONS",
          "0961:GENERAL GROCERIES",
          "0962:BEVERAGES",
          "0167:MISSY TOPS",
          "0680:AUTOMOTIVE",
          "0819:PRE-RECORDED A/V",
          "0962:BEVERAGES",
          "0973:CANDY",
          "0440:GIRLS 7-16 CLOTHING",
          "0640:TOYS",
          "0530:SCHOOL/OFFIC SUPP",
          "0167:MISSY TOPS",
          "0177:PETITE SEPARATES",
          "0056:SOUVENIR",
          "0595:HOME/BATH",
          "0597:HEALTH AIDS",
          "0879:PET SUPPLIES",
          "0962:BEVERAGES",
          "0973:CANDY",
          "0391:MENS SHOES",
          "0597:HEALTH AIDS",
          "0634:VITAMINS & HLTH AIDS",
          "0836:HOUSEHOLD CLEANING",
          "0230:DAYWEAR",
          "0590:MASS COSMETICS",
          "0593:PRESTIGE COSMETICS",
          "0646:SEASONAL",
          "0240:SLEEPWEAR/LOUNGEWEAR",
          "0604:PERSONAL CARE",
          "0680:AUTOMOTIVE",
          "0722:OUTDOOR LIVING",
          "0999:UNSCANNED ITEMS",
          "0590:MASS COSMETICS",
          "0597:HEALTH AIDS",
          "0836:HOUSEHOLD CLEANING",
          "0879:PET SUPPLIES",
          "0177:PETITE SEPARATES",
          "0261:HOSIERY",
          "0532:AMERICAN GREETINGS",
          "0836:HOUSEHOLD CLEANING",
          "0590:MASS COSMETICS",
          "0603:BEAUTY CARE",
          "0637:FISHING",
          "0962:BEVERAGES",
          "0973:CANDY",
          "0983:WINE",
          "0540:PERIODICALS/COMICS",
          "0836:HOUSEHOLD CLEANING",
          "0822:THIRD PARTY GIFTCARD",
          "0597:HEALTH AIDS",
          "0291:WOMENS FTWR:DRS/CAS",
          "0161:MISSY KAREN SCOTT",
          "0165:LIFE IS GOOD",
          "0470:BOYS 8-20 CLOTHING",
          "0586:COSTUME JEWELRY",
          "0590:MASS COSMETICS",
          "0603:BEAUTY CARE",
          "0640:TOYS",
          "0680:AUTOMOTIVE",
          "0962:BEVERAGES",
          "0973:CANDY",
          "0962:BEVERAGES",
          "0962:BEVERAGES",
          "0973:CANDY",
          "0961:GENERAL GROCERIES",
          "0962:BEVERAGES",
          "0532:AMERICAN GREETINGS",
          "0973:CANDY",
          "0850:PC HDWR & OFFICE EQP",
          "0532:AMERICAN GREETINGS",
          "0983:WINE",
          "0973:CANDY",
          "0983:WINE",
          "0271:HANDBAGS",
          "0280:FASHION ACCESSORIES",
          "0962:BEVERAGES",
          "0836:HOUSEHOLD CLEANING",
          "0597:HEALTH AIDS",
          "0604:PERSONAL CARE",
          "0961:GENERAL GROCERIES",
          "0962:BEVERAGES",
          "0973:CANDY",
          "0604:PERSONAL CARE",
          "0836:HOUSEHOLD CLEANING",
          "0961:GENERAL GROCERIES",
          "0193:LADIES ACTIVEWEAR",
          "0595:HOME/BATH",
          "0601:VALUE ZONE",
          "0836:HOUSEHOLD CLEANING",
          "0839:HOME ORG/SOLUTIONS",
          "0930:TABLE TOP & KITCHEN",
          "0839:HOME ORG/SOLUTIONS",
          "0861:GENERAL HARDWARE",
          "0863:POWER EQUIPMENT",
          "0941:BEDDING",
          "0982:SPIRITS",
          "0261:HOSIERY",
          "0280:FASHION ACCESSORIES",
          "0593:PRESTIGE COSMETICS",
          "0597:HEALTH AIDS",
          "0603:BEAUTY CARE",
          "0604:PERSONAL CARE",
          "0836:HOUSEHOLD CLEANING",
          "0984:BEER",
          "0554:TELECOMMUNICATIONS",
          "0639:TEAM SPORTING GOODS",
          "0836:HOUSEHOLD CLEANING",
          "0962:BEVERAGES",
          "0973:CANDY",
          "0982:SPIRITS",
          "0991:TOBACCO",
          "0646:SEASONAL",
          "0884:LAWN & GARDEN",
          "0973:CANDY",
          "0210:FOUNDATIONS",
          "0230:DAYWEAR",
          "0261:HOSIERY",
          "0449:GIRLS ACCESSORIES",
          "0510:NAVY PRIDE HARDLINES",
          "0590:MASS COSMETICS",
          "0603:BEAUTY CARE",
          "0634:VITAMINS & HLTH AIDS",
          "0795:HOME DECOR",
          "0797:SEASONAL GIFTS",
          "0836:HOUSEHOLD CLEANING",
          "0863:POWER EQUIPMENT",
          "0962:BEVERAGES",
          "0973:CANDY",
          "0982:SPIRITS",
          "0983:WINE",
          "0604:PERSONAL CARE",
          "0638:GEN SPORTING GOODS",
          "0962:BEVERAGES",
          "0595:HOME/BATH",
          "0962:BEVERAGES",
          "0982:SPIRITS",
          "0983:WINE",
          "0982:SPIRITS",
          "0179:MODERATE DENIM",
          "0391:MENS SHOES",
          "0486:CHILDRENS FOOTWEAR",
          "0590:MASS COSMETICS",
          "0597:HEALTH AIDS",
          "0603:BEAUTY CARE",
          "0604:PERSONAL CARE",
          "0795:HOME DECOR",
          "0856:GLUES/TAPES/ACC",
          "0973:CANDY",
          "0965:PERISHABLES",
          "0973:CANDY",
          "0984:BEER",
          "0604:PERSONAL CARE",
          "0836:HOUSEHOLD CLEANING",
          "0930:TABLE TOP & KITCHEN",
          "0940:HOME TEXTILES",
          "0961:GENERAL GROCERIES",
          "0962:BEVERAGES",
          "0604:PERSONAL CARE",
          "0680:AUTOMOTIVE",
          "0973:CANDY",
          "0603:BEAUTY CARE",
          "0833:TABLETOP",
          "0837:GENERAL HOUSEWARES",
          "0973:CANDY",
          "0983:WINE",
          "0604:PERSONAL CARE",
          "0973:CANDY",
          "0597:HEALTH AIDS",
          "0604:PERSONAL CARE",
          "0982:SPIRITS",
          "0597:HEALTH AIDS",
          "0604:PERSONAL CARE",
          "0836:HOUSEHOLD CLEANING",
          "0961:GENERAL GROCERIES",
          "0973:CANDY",
          "0391:MENS SHOES",
          "0415:NEWBORN APPAREL",
          "0421:TODDLER GIRL APPAREL",
          "0486:CHILDRENS FOOTWEAR",
          "0604:PERSONAL CARE",
          "0836:HOUSEHOLD CLEANING",
          "0879:PET SUPPLIES",
          "0554:TELECOMMUNICATIONS",
          "0962:BEVERAGES",
          "0604:PERSONAL CARE",
          "0836:HOUSEHOLD CLEANING",
          "0590:MASS COSMETICS",
          "0603:BEAUTY CARE",
          "0854:VIDEO GAMES",
          "0991:TOBACCO",
          "0380:MENS ACTIVEWEAR",
          "0597:HEALTH AIDS",
          "0638:GEN SPORTING GOODS",
          "0639:TEAM SPORTING GOODS",
          "0644:SPORTS NUTRITION",
          "0603:BEAUTY CARE",
          "0098:WAREHOUSED EXPENSES",
          "0836:HOUSEHOLD CLEANING",
          "0961:GENERAL GROCERIES",
          "0973:CANDY",
          "0421:TODDLER GIRL APPAREL",
          "0640:TOYS",
          "0532:AMERICAN GREETINGS",
          "0230:DAYWEAR",
          "0640:TOYS",
          "0646:SEASONAL",
          "0411:PEGABLES",
          "0532:AMERICAN GREETINGS",
          "0603:BEAUTY CARE",
          "0795:HOME DECOR",
          "0353:MENS OUTDOOR",
          "0962:BEVERAGES",
          "0973:CANDY",
          "0797:SEASONAL GIFTS",
          "0962:BEVERAGES",
          "0532:AMERICAN GREETINGS",
          "0822:THIRD PARTY GIFTCARD",
          "0962:BEVERAGES",
          "0982:SPIRITS",
          "0380:MENS ACTIVEWEAR",
          "0486:CHILDRENS FOOTWEAR",
          "0360:MENS FURNISHINGS",
          "0597:HEALTH AIDS",
          "0973:CANDY",
          "0836:HOUSEHOLD CLEANING",
          "0961:GENERAL GROCERIES",
          "0962:BEVERAGES",
          "0603:BEAUTY CARE",
          "0604:PERSONAL CARE",
          "0261:HOSIERY",
          "0834:COOKWARE",
          "0837:GENERAL HOUSEWARES",
          "0415:NEWBORN APPAREL",
          "0416:INFANT APPAREL",
          "0486:CHILDRENS FOOTWEAR",
          "0598:BABY CARE",
          "0646:SEASONAL",
          "0161:MISSY KAREN SCOTT",
          "0532:AMERICAN GREETINGS",
          "0837:GENERAL HOUSEWARES",
          "0603:BEAUTY CARE",
          "0973:CANDY",
          "0845:AS SEEN ON TV",
          "0861:GENERAL HARDWARE",
          "0962:BEVERAGES",
          "0965:PERISHABLES",
          "0962:BEVERAGES",
          "0640:TOYS",
          "0188:STYLE & CO",
          "0833:TABLETOP",
          "0973:CANDY",
          "0271:HANDBAGS",
          "0999:UNSCANNED ITEMS",
          "0593:PRESTIGE COSMETICS",
          "0596:MENS PRESTIGE FRAG",
          "0018:OTHER DIRECT SERVICE",
          "0983:WINE",
          "0469:BOYS ACCESSORIES",
          "0532:AMERICAN GREETINGS",
          "0797:SEASONAL GIFTS",
          "0359:MENS ACCESSORIES",
          "0016:FINANCIAL SERVICES",
          "0604:PERSONAL CARE",
          "0836:HOUSEHOLD CLEANING",
          "0530:SCHOOL/OFFIC SUPP",
          "0380:MENS ACTIVEWEAR",
          "0604:PERSONAL CARE",
          "0961:GENERAL GROCERIES",
          "0973:CANDY",
          "0597:HEALTH AIDS",
          "0603:BEAUTY CARE",
          "0604:PERSONAL CARE",
          "0646:SEASONAL",
          "0836:HOUSEHOLD CLEANING",
          "0973:CANDY",
          "0110:LDS OUTERWEAR/OUTDR",
          "0130:JUNIORS SURF",
          "0193:LADIES ACTIVEWEAR",
          "0646:SEASONAL",
          "0879:PET SUPPLIES",
          "0973:CANDY",
          "0380:MENS ACTIVEWEAR",
          "0098:WAREHOUSED EXPENSES",
          "0589:SUNGLASSES",
          "0999:UNSCANNED ITEMS",
          "0826:SMALL ELECTRICS",
          "0098:WAREHOUSED EXPENSES",
          "0973:CANDY",
          "0291:WOMENS FTWR:DRS/CAS",
          "0018:OTHER DIRECT SERVICE",
          "0449:GIRLS ACCESSORIES",
          "0460:BOYS 4-7 CLOTHING",
          "0982:SPIRITS",
          "0984:BEER",
          "0973:CANDY",
          "0098:WAREHOUSED EXPENSES",
          "0973:CANDY",
          "0962:BEVERAGES",
          "0982:SPIRITS",
          "0983:WINE",
          "0826:SMALL ELECTRICS",
          "0941:BEDDING",
          "0962:BEVERAGES",
          "0110:LDS OUTERWEAR/OUTDR",
          "0380:MENS ACTIVEWEAR",
          "0597:HEALTH AIDS",
          "0554:TELECOMMUNICATIONS",
          "0638:GEN SPORTING GOODS",
          "0826:SMALL ELECTRICS",
          "0982:SPIRITS",
          "0999:UNSCANNED ITEMS",
          "0879:PET SUPPLIES",
          "0962:BEVERAGES",
          "0982:SPIRITS",
          "0416:INFANT APPAREL",
          "0603:BEAUTY CARE",
          "0604:PERSONAL CARE",
          "0163:JUNIOR TOPS",
          "0173:JUNIOR BOTTOMS",
          "0261:HOSIERY",
          "0603:BEAUTY CARE",
          "0822:THIRD PARTY GIFTCARD",
          "0836:HOUSEHOLD CLEANING",
          "0836:HOUSEHOLD CLEANING",
          "0973:CANDY",
          "0486:CHILDRENS FOOTWEAR",
          "0430:GIRLS 4-6X CLOTHING",
          "0016:FINANCIAL SERVICES",
          "0016:FINANCIAL SERVICES",
          "0016:FINANCIAL SERVICES",
          "0589:SUNGLASSES",
          "0056:SOUVENIR",
          "0532:AMERICAN GREETINGS",
          "0595:HOME/BATH",
          "0532:AMERICAN GREETINGS",
          "0634:VITAMINS & HLTH AIDS",
          "0999:UNSCANNED ITEMS",
          "0018:OTHER DIRECT SERVICE",
          "0530:SCHOOL/OFFIC SUPP",
          "0369:YOUNG MENS",
          "0597:HEALTH AIDS",
          "0640:TOYS",
          "0962:BEVERAGES",
          "0016:FINANCIAL SERVICES",
          "0860:NETWORKING",
          "0161:MISSY KAREN SCOTT",
          "0973:CANDY",
          "0984:BEER",
          "0440:GIRLS 7-16 CLOTHING",
          "0449:GIRLS ACCESSORIES",
          "0411:PEGABLES",
          "0369:YOUNG MENS",
          "0380:MENS ACTIVEWEAR",
          "0962:BEVERAGES",
          "0838:FLOOR CARE",
          "0973:CANDY",
          "0016:FINANCIAL SERVICES",
          "0973:CANDY",
          "0962:BEVERAGES",
          "0395:MENS ATHLETIC SHOES",
          "0597:HEALTH AIDS",
          "0680:AUTOMOTIVE",
          "0016:FINANCIAL SERVICES",
          "0836:HOUSEHOLD CLEANING",
          "0879:PET SUPPLIES",
          "0962:BEVERAGES",
          "0016:FINANCIAL SERVICES",
          "0353:MENS OUTDOOR",
          "0646:SEASONAL",
          "0962:BEVERAGES",
          "0973:CANDY",
          "0815:AUDIO ELECTRONICS",
          "0604:PERSONAL CARE",
          "0884:LAWN & GARDEN",
          "0646:SEASONAL",
          "0884:LAWN & GARDEN",
          "0982:SPIRITS",
          "0983:WINE",
          "0983:WINE",
          "0532:AMERICAN GREETINGS",
          "0884:LAWN & GARDEN",
          "0531:STATIONERY SUNDRIES",
          "0646:SEASONAL",
          "0884:LAWN & GARDEN",
          "0603:BEAUTY CARE",
          "0646:SEASONAL",
          "0680:AUTOMOTIVE",
          "0982:SPIRITS",
          "0884:LAWN & GARDEN",
          "0597:HEALTH AIDS",
          "0973:CANDY",
          "0884:LAWN & GARDEN",
          "0646:SEASONAL",
          "0884:LAWN & GARDEN",
          "0962:BEVERAGES",
          "0982:SPIRITS",
          "0884:LAWN & GARDEN",
          "0982:SPIRITS",
          "0597:HEALTH AIDS",
          "0856:GLUES/TAPES/ACC",
          "0982:SPIRITS",
          "0645:BIKES",
          "0597:HEALTH AIDS",
          "0826:SMALL ELECTRICS",
          "0983:WINE",
          "0722:OUTDOOR LIVING",
          "0646:SEASONAL",
          "0999:UNSCANNED ITEMS",
          "0982:SPIRITS",
          "0646:SEASONAL",
          "0879:PET SUPPLIES",
          "0982:SPIRITS",
          "0982:SPIRITS",
          "0991:TOBACCO",
          "0646:SEASONAL",
          "0646:SEASONAL",
          "0819:PRE-RECORDED A/V",
          "0884:LAWN & GARDEN",
          "0962:BEVERAGES",
          "0982:SPIRITS",
          "0983:WINE",
          "0984:BEER",
          "0884:LAWN & GARDEN",
          "0884:LAWN & GARDEN",
          "0646:SEASONAL",
          "0845:AS SEEN ON TV",
          "0941:BEDDING",
          "0836:HOUSEHOLD CLEANING",
          "0646:SEASONAL",
          "0879:PET SUPPLIES",
          "0646:SEASONAL",
          "0884:LAWN & GARDEN",
          "0646:SEASONAL",
          "0982:SPIRITS",
          "0983:WINE",
          "0291:WOMENS FTWR:DRS/CAS",
          "0645:BIKES",
          "0646:SEASONAL",
          "0884:LAWN & GARDEN",
          "0646:SEASONAL",
          "0984:BEER",
          "0845:AS SEEN ON TV",
          "0984:BEER",
          "0646:SEASONAL",
          "0982:SPIRITS",
          "0983:WINE",
          "0884:LAWN & GARDEN",
          "0884:LAWN & GARDEN",
          "0983:WINE",
          "0722:OUTDOOR LIVING",
          "0982:SPIRITS",
          "0531:STATIONERY SUNDRIES",
          "0982:SPIRITS",
          "0531:STATIONERY SUNDRIES",
          "0590:MASS COSMETICS",
          "0646:SEASONAL",
          "0973:CANDY",
          "0639:TEAM SPORTING GOODS",
          "0982:SPIRITS",
          "0984:BEER",
          "0722:OUTDOOR LIVING",
          "0071:BEAUTY RETAIL",
          "0603:BEAUTY CARE",
          "0604:PERSONAL CARE",
          "0884:LAWN & GARDEN",
          "0640:TOYS",
          "0640:TOYS",
          "0973:CANDY",
          "0982:SPIRITS",
          "0597:HEALTH AIDS",
          "0640:TOYS",
          "0646:SEASONAL",
          "0722:OUTDOOR LIVING",
          "0856:GLUES/TAPES/ACC",
          "0861:GENERAL HARDWARE",
          "0845:AS SEEN ON TV",
          "0541:BOOKS AND MAPS",
          "0884:LAWN & GARDEN",
          "0879:PET SUPPLIES",
          "0646:SEASONAL",
          "0861:GENERAL HARDWARE",
          "0640:TOYS",
          "0861:GENERAL HARDWARE",
          "0884:LAWN & GARDEN",
          "0646:SEASONAL",
          "0884:LAWN & GARDEN",
          "0973:CANDY",
          "0646:SEASONAL",
          "0962:BEVERAGES",
          "0368:TRAD COLLECTIONS",
          "0590:MASS COSMETICS",
          "0593:PRESTIGE COSMETICS",
          "0597:HEALTH AIDS",
          "0603:BEAUTY CARE",
          "0604:PERSONAL CARE",
          "0982:SPIRITS",
          "0110:LDS OUTERWEAR/OUTDR",
          "0984:BEER",
          "0982:SPIRITS",
          "0982:SPIRITS",
          "0884:LAWN & GARDEN",
          "0961:GENERAL GROCERIES",
          "0640:TOYS",
          "0879:PET SUPPLIES",
          "0999:UNSCANNED ITEMS",
          "0982:SPIRITS",
          "0884:LAWN & GARDEN",
          "0884:LAWN & GARDEN",
          "0646:SEASONAL",
          "0861:GENERAL HARDWARE",
          "0884:LAWN & GARDEN",
          "0884:LAWN & GARDEN",
          "0884:LAWN & GARDEN",
          "0826:SMALL ELECTRICS",
          "0837:GENERAL HOUSEWARES",
          "0884:LAWN & GARDEN",
          "0982:SPIRITS",
          "0531:STATIONERY SUNDRIES",
          "0646:SEASONAL",
          "0640:TOYS",
          "0646:SEASONAL",
          "0646:SEASONAL",
          "0271:HANDBAGS",
          "0589:SUNGLASSES",
          "0585:WATCHES",
          "0585:WATCHES",
          "0585:WATCHES",
          "0585:WATCHES",
          "0962:BEVERAGES",
          "0973:CANDY",
          "0589:SUNGLASSES",
          "0014:REPAIRS",
          "0532:AMERICAN GREETINGS",
          "0581:BRIDGE JEWELRY",
          "0261:HOSIERY",
          "0581:BRIDGE JEWELRY",
          "0581:BRIDGE JEWELRY",
          "0581:BRIDGE JEWELRY",
          "0581:BRIDGE JEWELRY",
          "0368:TRAD COLLECTIONS",
          "0530:SCHOOL/OFFIC SUPP",
          "0532:AMERICAN GREETINGS",
          "0586:COSTUME JEWELRY",
          "0581:BRIDGE JEWELRY",
          "0583:DIAMONDS/BRIDAL",
          "0581:BRIDGE JEWELRY",
          "0581:BRIDGE JEWELRY",
          "0582:GOLD",
          "0584:GEMSTONES",
          "0581:BRIDGE JEWELRY",
          "0581:BRIDGE JEWELRY",
          "0583:DIAMONDS/BRIDAL",
          "0583:DIAMONDS/BRIDAL",
          "0581:BRIDGE JEWELRY",
          "0581:BRIDGE JEWELRY",
          "0583:DIAMONDS/BRIDAL",
          "0271:HANDBAGS",
          "0581:BRIDGE JEWELRY",
          "0583:DIAMONDS/BRIDAL",
          "0587:JEWELRY CONSIGNMENT",
          "0587:JEWELRY CONSIGNMENT",
          "0581:BRIDGE JEWELRY",
          "0584:GEMSTONES",
          "0582:GOLD",
          "0581:BRIDGE JEWELRY",
          "0584:GEMSTONES",
          "0581:BRIDGE JEWELRY",
          "0581:BRIDGE JEWELRY",
          "0581:BRIDGE JEWELRY",
          "0582:GOLD",
          "0583:DIAMONDS/BRIDAL",
          "0369:YOUNG MENS",
          "0581:BRIDGE JEWELRY",
          "0360:MENS FURNISHINGS",
          "0391:MENS SHOES",
          "0395:MENS ATHLETIC SHOES",
          "0469:BOYS ACCESSORIES",
          "0603:BEAUTY CARE",
          "0811:TELEVISION",
          "0845:AS SEEN ON TV",
          "0879:PET SUPPLIES",
          "0811:TELEVISION",
          "0815:AUDIO ELECTRONICS",
          "0551:CAMERAS & EQUIP",
          "0823:SMART HOME",
          "0395:MENS ATHLETIC SHOES",
          "0551:CAMERAS & EQUIP",
          "0838:FLOOR CARE",
          "0603:BEAUTY CARE",
          "0797:SEASONAL GIFTS",
          "0836:HOUSEHOLD CLEANING",
          "0530:SCHOOL/OFFIC SUPP",
          "0597:HEALTH AIDS",
          "0815:AUDIO ELECTRONICS",
          "0838:FLOOR CARE",
          "0826:SMALL ELECTRICS",
          "0811:TELEVISION",
          "0811:TELEVISION",
          "0816:VIDEO ELECTRONICS",
          "0230:DAYWEAR",
          "0833:TABLETOP",
          "0834:COOKWARE",
          "0930:TABLE TOP & KITCHEN",
          "0991:TOBACCO",
          "0815:AUDIO ELECTRONICS",
          "0850:PC HDWR & OFFICE EQP",
          "0530:SCHOOL/OFFIC SUPP",
          "0533:PAPYRUS",
          "0638:GEN SPORTING GOODS",
          "0826:SMALL ELECTRICS",
          "0846:BATTERIES",
          "0857:PC PERIPH/OFFICE ACC",
          "0962:BEVERAGES",
          "0353:MENS OUTDOOR",
          "0857:PC PERIPH/OFFICE ACC",
          "0859:iPAD",
          "0295:WOMENS ATHLTIC SHOES",
          "0391:MENS SHOES",
          "0853:DIMAGE/PHONE/GPS/ACC",
          "0811:TELEVISION",
          "0850:PC HDWR & OFFICE EQP",
          "0851:PC HARDWARE",
          "0220:SHAPEWEAR",
          "0230:DAYWEAR",
          "0532:AMERICAN GREETINGS",
          "0816:VIDEO ELECTRONICS",
          "0551:CAMERAS & EQUIP",
          "0554:TELECOMMUNICATIONS",
          "0819:PRE-RECORDED A/V",
          "0834:COOKWARE",
          "0837:GENERAL HOUSEWARES",
          "0811:TELEVISION",
          "0811:TELEVISION",
          "0819:PRE-RECORDED A/V",
          "0072:BARBER SERVICES",
          "0072:BARBER SERVICES",
          "0072:BARBER SERVICES",
          "0072:BARBER SERVICES",
          "0072:BARBER SERVICES",
          "0072:BARBER SERVICES",
          "0072:BARBER SERVICES",
          "0072:BARBER SERVICES",
          "0072:BARBER SERVICES",
          "0072:BARBER SERVICES",
          "0072:BARBER SERVICES",
          "0072:BARBER SERVICES",
          "0072:BARBER SERVICES",
          "0072:BARBER SERVICES",
          "0072:BARBER SERVICES",
          "0072:BARBER SERVICES",
          "0072:BARBER SERVICES",
          "0072:BARBER SERVICES",
          "0072:BARBER SERVICES",
          "0072:BARBER SERVICES",
          "0072:BARBER SERVICES",
          "0072:BARBER SERVICES",
          "0072:BARBER SERVICES",
          "0072:BARBER SERVICES",
          "0072:BARBER SERVICES",
          "0072:BARBER SERVICES",
          "0072:BARBER SERVICES",
          "0072:BARBER SERVICES",
          "0072:BARBER SERVICES",
          "0072:BARBER SERVICES",
          "0072:BARBER SERVICES",
          "0072:BARBER SERVICES",
          "0002:BARBER RETAIL",
          "0072:BARBER SERVICES",
          "0072:BARBER SERVICES",
          "0072:BARBER SERVICES",
          "0072:BARBER SERVICES",
          "0072:BARBER SERVICES",
          "0072:BARBER SERVICES",
          "0072:BARBER SERVICES",
          "0072:BARBER SERVICES",
          "0072:BARBER SERVICES",
          "0072:BARBER SERVICES",
          "0072:BARBER SERVICES",
          "0072:BARBER SERVICES",
          "0072:BARBER SERVICES",
          "0072:BARBER SERVICES",
          "0072:BARBER SERVICES",
          "0072:BARBER SERVICES",
          "0072:BARBER SERVICES",
          "0072:BARBER SERVICES",
          "0072:BARBER SERVICES",
          "0072:BARBER SERVICES",
          "0072:BARBER SERVICES",
          "0072:BARBER SERVICES",
          "0072:BARBER SERVICES",
          "0072:BARBER SERVICES",
          "0072:BARBER SERVICES",
          "0072:BARBER SERVICES",
          "0072:BARBER SERVICES",
          "0962:BEVERAGES",
          "0072:BARBER SERVICES",
          "0072:BARBER SERVICES",
          "0072:BARBER SERVICES",
          "0072:BARBER SERVICES",
          "0072:BARBER SERVICES",
          "0072:BARBER SERVICES",
          "0072:BARBER SERVICES",
          "0072:BARBER SERVICES",
          "0072:BARBER SERVICES",
          "0072:BARBER SERVICES",
          "0072:BARBER SERVICES",
          "0072:BARBER SERVICES",
          "0072:BARBER SERVICES",
          "0072:BARBER SERVICES",
          "0072:BARBER SERVICES",
          "0072:BARBER SERVICES",
          "0072:BARBER SERVICES",
          "0072:BARBER SERVICES",
          "0072:BARBER SERVICES",
          "0072:BARBER SERVICES",
          "0072:BARBER SERVICES",
          "0072:BARBER SERVICES",
          "0072:BARBER SERVICES",
          "0072:BARBER SERVICES",
          "0072:BARBER SERVICES",
          "0072:BARBER SERVICES",
          "0072:BARBER SERVICES",
          "0072:BARBER SERVICES",
          "0072:BARBER SERVICES",
          "0072:BARBER SERVICES",
          "0072:BARBER SERVICES",
          "0072:BARBER SERVICES",
          "0072:BARBER SERVICES",
          "0072:BARBER SERVICES",
          "0072:BARBER SERVICES",
          "0072:BARBER SERVICES",
          "0072:BARBER SERVICES",
          "0072:BARBER SERVICES",
          "0072:BARBER SERVICES",
          "0072:BARBER SERVICES",
          "0072:BARBER SERVICES",
          "0072:BARBER SERVICES",
          "0002:BARBER RETAIL",
          "0072:BARBER SERVICES",
          "0072:BARBER SERVICES",
          "0072:BARBER SERVICES",
          "0072:BARBER SERVICES",
          "0072:BARBER SERVICES",
          "0072:BARBER SERVICES",
          "0072:BARBER SERVICES",
          "0072:BARBER SERVICES",
          "0072:BARBER SERVICES",
          "0072:BARBER SERVICES",
          "0072:BARBER SERVICES",
          "0962:BEVERAGES",
          "0076:FLORAL RETAIL",
          "0076:FLORAL RETAIL",
          "0056:SOUVENIR",
          "0510:NAVY PRIDE HARDLINES",
          "0962:BEVERAGES",
          "0973:CANDY",
          "0018:OTHER DIRECT SERVICE",
          "0009:FLORAL SERV/SUPPLIES",
          "0961:GENERAL GROCERIES",
          "0962:BEVERAGES",
          "0962:BEVERAGES",
          "0076:FLORAL RETAIL",
          "0532:AMERICAN GREETINGS",
          "0593:PRESTIGE COSMETICS",
          "0884:LAWN & GARDEN",
          "0961:GENERAL GROCERIES",
          "0009:FLORAL SERV/SUPPLIES",
          "0009:FLORAL SERV/SUPPLIES",
          "0056:SOUVENIR",
          "0009:FLORAL SERV/SUPPLIES",
          "0532:AMERICAN GREETINGS",
          "0983:WINE",
          "0009:FLORAL SERV/SUPPLIES",
          "0861:GENERAL HARDWARE",
          "0962:BEVERAGES",
          "0009:FLORAL SERV/SUPPLIES",
          "0532:AMERICAN GREETINGS",
          "0469:BOYS ACCESSORIES",
          "0838:FLOOR CARE",
          "0395:MENS ATHLETIC SHOES",
          "0530:SCHOOL/OFFIC SUPP",
          "0797:SEASONAL GIFTS",
          "0837:GENERAL HOUSEWARES",
          "0826:SMALL ELECTRICS",
          "0962:BEVERAGES",
          "0973:CANDY",
          "0853:DIMAGE/PHONE/GPS/ACC",
          "0530:SCHOOL/OFFIC SUPP",
          "0815:AUDIO ELECTRONICS",
          "0551:CAMERAS & EQUIP",
          "0811:TELEVISION",
          "0795:HOME DECOR",
          "0551:CAMERAS & EQUIP",
          "0857:PC PERIPH/OFFICE ACC",
          "0449:GIRLS ACCESSORIES",
          "0415:NEWBORN APPAREL",
          "0850:PC HDWR & OFFICE EQP",
          "0851:PC HARDWARE",
          "0811:TELEVISION",
          "0815:AUDIO ELECTRONICS",
          "0597:HEALTH AIDS",
          "0604:PERSONAL CARE",
          "0826:SMALL ELECTRICS",
          "0836:HOUSEHOLD CLEANING",
          "0931:BATH",
          "0795:HOME DECOR",
          "0530:SCHOOL/OFFIC SUPP",
          "0854:VIDEO GAMES",
          "0854:VIDEO GAMES",
          "0836:HOUSEHOLD CLEANING",
          "0860:NETWORKING",
          "0839:HOME ORG/SOLUTIONS",
          "0167:MISSY TOPS",
          "0354:MENS MODERN COLLECT",
          "0380:MENS ACTIVEWEAR",
          "0837:GENERAL HOUSEWARES",
          "0859:iPAD",
          "0837:GENERAL HOUSEWARES",
          "0604:PERSONAL CARE",
          "0811:TELEVISION",
          "0815:AUDIO ELECTRONICS",
          "0823:SMART HOME",
          "0486:CHILDRENS FOOTWEAR",
          "0795:HOME DECOR",
          "0797:SEASONAL GIFTS",
          "0860:NETWORKING",
          "0530:SCHOOL/OFFIC SUPP",
          "0530:SCHOOL/OFFIC SUPP",
          "0839:HOME ORG/SOLUTIONS",
          "0822:THIRD PARTY GIFTCARD",
          "0854:VIDEO GAMES",
          "0530:SCHOOL/OFFIC SUPP",
          "0930:TABLE TOP & KITCHEN",
          "0815:AUDIO ELECTRONICS",
          "0439:JUVENILLE FURNITURE",
          "0530:SCHOOL/OFFIC SUPP",
          "0850:PC HDWR & OFFICE EQP",
          "0833:TABLETOP",
          "0836:HOUSEHOLD CLEANING",
          "0982:SPIRITS",
          "0811:TELEVISION",
          "0530:SCHOOL/OFFIC SUPP",
          "0597:HEALTH AIDS",
          "0836:HOUSEHOLD CLEANING",
          "0850:PC HDWR & OFFICE EQP",
          "0852:COMPUTER SOFTWARE",
          "0854:VIDEO GAMES",
          "0391:MENS SHOES",
          "0421:TODDLER GIRL APPAREL",
          "0426:TODDLER BOY APPAREL",
          "0460:BOYS 4-7 CLOTHING",
          "0469:BOYS ACCESSORIES",
          "0486:CHILDRENS FOOTWEAR",
          "0815:AUDIO ELECTRONICS",
          "0860:NETWORKING",
          "0210:FOUNDATIONS",
          "0230:DAYWEAR",
          "0391:MENS SHOES",
          "0857:PC PERIPH/OFFICE ACC",
          "0816:VIDEO ELECTRONICS",
          "0819:PRE-RECORDED A/V",
          "0850:PC HDWR & OFFICE EQP",
          "0837:GENERAL HOUSEWARES",
          "0597:HEALTH AIDS",
          "0598:BABY CARE",
          "0837:GENERAL HOUSEWARES",
          "0973:CANDY",
          "0811:TELEVISION",
          "0811:TELEVISION",
          "0815:AUDIO ELECTRONICS",
          "0811:TELEVISION",
          "0823:SMART HOME",
          "0815:AUDIO ELECTRONICS",
          "0554:TELECOMMUNICATIONS",
          "0358:MENS DRESS SHIRTS",
          "0554:TELECOMMUNICATIONS",
          "0817:WEARABLES",
          "0603:BEAUTY CARE",
          "0815:AUDIO ELECTRONICS",
          "0554:TELECOMMUNICATIONS",
          "0131:LADIES DRESSES",
          "0343:MENS DENIM JEANS",
          "0391:MENS SHOES",
          "0640:TOYS",
          "0826:SMALL ELECTRICS",
          "0411:PEGABLES",
          "0598:BABY CARE",
          "0860:NETWORKING",
          "0837:GENERAL HOUSEWARES",
          "0931:BATH",
          "0851:PC HARDWARE",
          "0551:CAMERAS & EQUIP",
          "0811:TELEVISION",
          "0815:AUDIO ELECTRONICS",
          "0851:PC HARDWARE",
          "0854:VIDEO GAMES",
          "0240:SLEEPWEAR/LOUNGEWEAR",
          "0837:GENERAL HOUSEWARES",
          "0845:AS SEEN ON TV",
          "0857:PC PERIPH/OFFICE ACC",
          "0931:BATH",
          "0941:BEDDING",
          "0991:TOBACCO",
          "0815:AUDIO ELECTRONICS",
          "0857:PC PERIPH/OFFICE ACC",
          "0395:MENS ATHLETIC SHOES",
          "0815:AUDIO ELECTRONICS",
          "0532:AMERICAN GREETINGS",
          "0066:VENDING/AMUSEMENT MA"
         ],
         "x0": " ",
         "xaxis": "x",
         "y": [
          2,
          1,
          2,
          2,
          1,
          4,
          2,
          1,
          5,
          1,
          1,
          1,
          3,
          2,
          4,
          1,
          16,
          1,
          2,
          1,
          1,
          1,
          1,
          1,
          7,
          1,
          1,
          1,
          1,
          1,
          1,
          2,
          1,
          1,
          1,
          2,
          1,
          1,
          1,
          1,
          1,
          3,
          1,
          4,
          2,
          1,
          1,
          1,
          2,
          2,
          1,
          1,
          1,
          1,
          2,
          2,
          1,
          1,
          1,
          1,
          2,
          1,
          3,
          1,
          1,
          2,
          3,
          1,
          3,
          5,
          3,
          1,
          1,
          1,
          1,
          2,
          1,
          1,
          1,
          1,
          1,
          1,
          3,
          1,
          1,
          2,
          1,
          4,
          2,
          1,
          1,
          1,
          2,
          1,
          2,
          1,
          1,
          1,
          2,
          1,
          1,
          1,
          1,
          2,
          2,
          2,
          2,
          1,
          1,
          1,
          2,
          5,
          1,
          3,
          4,
          2,
          1,
          1,
          1,
          1,
          1,
          1,
          3,
          4,
          1,
          11,
          2,
          2,
          1,
          1,
          1,
          1,
          24,
          1,
          1,
          1,
          1,
          2,
          1,
          1,
          8,
          2,
          1,
          1,
          2,
          1,
          2,
          1,
          2,
          1,
          1,
          1,
          4,
          4,
          1,
          1,
          1,
          6,
          3,
          3,
          1,
          1,
          2,
          3,
          3,
          6,
          1,
          2,
          2,
          9,
          6,
          1,
          2,
          2,
          1,
          1,
          1,
          1,
          2,
          1,
          1,
          1,
          2,
          3,
          3,
          4,
          1,
          2,
          2,
          1,
          1,
          1,
          3,
          1,
          2,
          1,
          9,
          1,
          3,
          1,
          1,
          1,
          1,
          1,
          2,
          1,
          2,
          1,
          2,
          2,
          2,
          1,
          1,
          4,
          3,
          1,
          1,
          1,
          2,
          2,
          1,
          1,
          3,
          1,
          1,
          1,
          2,
          3,
          1,
          2,
          5,
          2,
          2,
          1,
          1,
          2,
          1,
          3,
          2,
          3,
          2,
          1,
          3,
          2,
          2,
          2,
          2,
          1,
          1,
          1,
          4,
          2,
          1,
          1,
          13,
          1,
          1,
          2,
          4,
          1,
          1,
          1,
          2,
          3,
          1,
          2,
          1,
          1,
          4,
          1,
          2,
          3,
          3,
          1,
          1,
          4,
          2,
          1,
          2,
          1,
          1,
          3,
          4,
          4,
          5,
          1,
          1,
          1,
          2,
          1,
          1,
          1,
          1,
          2,
          1,
          3,
          1,
          2,
          4,
          1,
          2,
          1,
          4,
          1,
          3,
          1,
          1,
          1,
          2,
          2,
          1,
          1,
          6,
          1,
          4,
          3,
          2,
          2,
          1,
          8,
          1,
          2,
          2,
          1,
          3,
          2,
          2,
          3,
          4,
          4,
          2,
          1,
          3,
          1,
          1,
          2,
          1,
          1,
          8,
          1,
          1,
          1,
          1,
          2,
          1,
          3,
          2,
          1,
          2,
          1,
          7,
          2,
          1,
          1,
          1,
          1,
          2,
          1,
          1,
          2,
          1,
          2,
          2,
          3,
          1,
          2,
          1,
          1,
          1,
          1,
          1,
          2,
          3,
          3,
          1,
          1,
          1,
          1,
          3,
          1,
          3,
          2,
          4,
          3,
          2,
          2,
          1,
          3,
          1,
          4,
          2,
          4,
          4,
          1,
          2,
          1,
          3,
          1,
          1,
          1,
          1,
          1,
          1,
          2,
          1,
          2,
          1,
          4,
          3,
          10,
          3,
          2,
          8,
          1,
          1,
          1,
          1,
          1,
          1,
          1,
          1,
          1,
          4,
          1,
          1,
          1,
          2,
          1,
          4,
          6,
          3,
          1,
          3,
          1,
          11,
          3,
          3,
          1,
          1,
          1,
          2,
          12,
          1,
          3,
          2,
          10,
          3,
          3,
          1,
          7,
          1,
          1,
          1,
          1,
          1,
          2,
          1,
          12,
          2,
          1,
          2,
          2,
          1,
          1,
          2,
          2,
          1,
          1,
          1,
          1,
          1,
          3,
          1,
          1,
          7,
          1,
          1,
          1,
          1,
          1,
          1,
          1,
          1,
          1,
          1,
          1,
          7,
          2,
          3,
          1,
          1,
          1,
          5,
          2,
          5,
          1,
          2,
          3,
          2,
          4,
          1,
          2,
          1,
          2,
          6,
          1,
          6,
          1,
          1,
          1,
          2,
          1,
          1,
          1,
          1,
          1,
          1,
          5,
          4,
          1,
          4,
          2,
          1,
          1,
          2,
          1,
          1,
          3,
          1,
          2,
          1,
          6,
          1,
          1,
          1,
          1,
          3,
          1,
          1,
          2,
          5,
          3,
          2,
          1,
          2,
          7,
          1,
          2,
          6,
          1,
          1,
          3,
          3,
          1,
          1,
          1,
          3,
          1,
          6,
          4,
          1,
          1,
          2,
          5,
          2,
          3,
          1,
          1,
          1,
          12,
          2,
          2,
          1,
          1,
          1,
          1,
          1,
          1,
          1,
          1,
          1,
          1,
          1,
          3,
          12,
          2,
          1,
          1,
          1,
          1,
          4,
          1,
          1,
          4,
          1,
          2,
          2,
          1,
          1,
          1,
          1,
          3,
          1,
          3,
          1,
          1,
          2,
          1,
          1,
          1,
          3,
          1,
          1,
          2,
          1,
          1,
          1,
          7,
          1,
          1,
          3,
          1,
          1,
          1,
          1,
          1,
          6,
          1,
          1,
          1,
          1,
          1,
          1,
          1,
          2,
          1,
          2,
          1,
          5,
          1,
          4,
          7,
          1,
          2,
          3,
          1,
          1,
          1,
          1,
          1,
          1,
          7,
          1,
          2,
          1,
          1,
          1,
          1,
          1,
          1,
          1,
          2,
          2,
          2,
          1,
          1,
          1,
          2,
          2,
          1,
          3,
          1,
          1,
          2,
          2,
          3,
          2,
          2,
          1,
          1,
          2,
          1,
          2,
          1,
          1,
          1,
          1,
          1,
          2,
          3,
          2,
          1,
          1,
          2,
          1,
          1,
          2,
          1,
          2,
          3,
          1,
          1,
          1,
          1,
          1,
          3,
          1,
          1,
          1,
          3,
          1,
          1,
          1,
          2,
          2,
          6,
          2,
          1,
          1,
          1,
          2,
          4,
          1,
          1,
          2,
          1,
          1,
          1,
          2,
          3,
          1,
          1,
          1,
          1,
          1,
          1,
          5,
          1,
          1,
          1,
          1,
          4,
          2,
          1,
          2,
          2,
          4,
          2,
          1,
          1,
          1,
          1,
          2,
          1,
          2,
          1,
          1,
          1,
          2,
          1,
          2,
          2,
          1,
          1,
          1,
          1,
          2,
          1,
          1,
          2,
          1,
          3,
          1,
          1,
          1,
          2,
          1,
          1,
          1,
          1,
          2,
          2,
          1,
          3,
          1,
          1,
          1,
          6,
          2,
          1,
          1,
          1,
          1,
          3,
          3,
          1,
          1,
          1,
          1,
          2,
          1,
          3,
          3,
          3,
          1,
          2,
          1,
          3,
          3,
          2,
          1,
          1,
          2,
          1,
          3,
          1,
          1,
          1,
          1,
          1,
          1,
          24,
          1,
          1,
          1,
          1,
          4,
          1,
          2,
          1,
          1,
          2,
          2,
          1,
          1,
          2,
          2,
          1,
          1,
          2,
          1,
          1,
          2,
          2,
          1,
          2,
          1,
          2,
          1,
          1,
          1,
          5,
          1,
          5,
          1,
          1,
          1,
          6,
          2,
          1,
          2,
          1,
          2,
          1,
          2,
          4,
          2,
          1,
          9,
          2,
          1,
          1,
          1,
          2,
          4,
          1,
          1,
          1,
          8,
          1,
          1,
          2,
          3,
          5,
          3,
          2,
          1,
          2,
          1,
          6,
          1,
          1,
          2,
          2,
          3,
          2,
          2,
          2,
          3,
          5,
          2,
          1,
          2,
          2,
          1,
          1,
          22,
          2,
          2,
          1,
          1,
          1,
          2,
          5,
          1,
          1,
          1,
          3,
          1,
          1,
          1,
          2,
          1,
          6,
          4,
          2,
          6,
          2,
          1,
          2,
          1,
          1,
          1,
          1,
          1,
          3,
          1,
          1,
          1,
          1,
          2,
          1,
          1,
          2,
          1,
          1,
          1,
          3,
          2,
          2,
          1,
          2,
          1,
          1,
          7,
          2,
          1,
          14,
          1,
          3,
          4,
          2,
          1,
          1,
          1,
          4,
          1,
          1,
          3,
          1,
          1,
          2,
          1,
          1,
          2,
          1,
          1,
          2,
          2,
          1,
          1,
          1,
          1,
          1,
          1,
          1,
          2,
          4,
          1,
          1,
          2,
          2,
          1,
          1,
          1,
          2,
          3,
          2,
          4,
          1,
          12,
          7,
          4,
          1,
          1,
          1,
          1,
          1,
          4,
          1,
          1,
          1,
          1,
          1,
          1,
          1,
          1,
          1,
          2,
          1,
          2,
          1,
          1,
          3,
          3,
          2,
          1,
          1,
          1,
          1,
          1,
          3,
          1,
          5,
          2,
          6,
          4,
          2,
          2,
          1,
          2,
          3,
          1,
          1,
          2,
          2,
          3,
          2,
          2,
          1,
          1,
          4,
          1,
          2,
          1,
          2,
          2,
          1,
          2,
          2,
          1,
          1,
          1,
          1,
          1,
          2,
          1,
          1,
          1,
          4,
          9,
          4,
          1,
          1,
          3,
          3,
          6,
          1,
          2,
          5,
          1,
          1,
          1,
          3,
          2,
          2,
          1,
          1,
          5,
          1,
          2,
          1,
          3,
          2,
          1,
          1,
          1,
          1,
          2,
          1,
          2,
          2,
          1,
          1,
          4,
          4,
          1,
          1,
          1,
          4,
          3,
          1,
          1,
          1,
          3,
          1,
          5,
          1,
          1,
          3,
          4,
          1,
          1,
          1,
          1,
          2,
          2,
          2,
          1,
          2,
          2,
          3,
          2,
          1,
          2,
          1,
          1,
          2,
          3,
          2,
          1,
          1,
          1,
          2,
          1,
          2,
          1,
          2,
          1,
          1,
          2,
          2,
          1,
          5,
          4,
          4,
          3,
          1,
          1,
          1,
          1,
          3,
          3,
          1,
          1,
          1,
          1,
          1,
          2,
          1,
          1,
          1,
          2,
          2,
          3,
          1,
          7,
          1,
          3,
          3,
          6,
          2,
          1,
          1,
          3,
          1,
          1,
          2,
          1,
          1,
          2,
          1,
          6,
          1,
          1,
          1,
          2,
          3,
          2,
          1,
          3,
          1,
          2,
          2,
          1,
          1,
          5,
          8,
          2,
          1,
          2,
          2,
          1,
          1,
          3,
          2,
          1,
          2,
          1,
          1,
          2,
          2,
          2,
          1,
          2,
          1,
          2,
          5,
          4,
          4,
          1,
          1,
          1,
          2,
          1,
          2,
          3,
          2,
          1,
          1,
          1,
          4,
          1,
          1,
          3,
          1,
          3,
          3,
          5,
          2,
          1,
          1,
          2,
          1,
          2,
          1,
          3,
          1,
          1,
          1,
          1,
          1,
          1,
          2,
          13,
          1,
          1,
          1,
          4,
          1,
          1,
          1,
          1,
          1,
          2,
          1,
          1,
          1,
          1,
          1,
          1,
          1,
          1,
          1,
          2,
          2,
          1,
          1,
          1,
          3,
          1,
          1,
          2,
          1,
          1,
          1,
          2,
          1,
          1,
          1,
          1,
          3,
          1,
          2,
          1,
          1,
          2,
          1,
          2,
          2,
          1,
          1,
          2,
          2,
          5,
          1,
          2,
          2,
          4,
          1,
          4,
          3,
          1,
          1,
          1,
          2,
          2,
          1,
          2,
          1,
          1,
          1,
          7,
          4,
          3,
          4,
          1,
          1,
          2,
          1,
          2,
          1,
          1,
          3,
          2,
          1,
          4,
          1,
          3,
          2,
          1,
          1,
          2,
          1,
          15,
          1,
          1,
          1,
          1,
          3,
          1,
          1,
          1,
          2,
          1,
          1,
          2,
          1,
          2,
          6,
          2,
          1,
          1,
          1,
          2,
          2,
          4,
          1,
          1,
          2,
          1,
          2,
          1,
          6,
          1,
          5,
          1,
          1,
          2,
          1,
          1,
          1,
          1,
          1,
          1,
          2,
          1,
          3,
          2,
          1,
          4,
          1,
          1,
          2,
          1,
          2,
          2,
          2,
          1,
          6,
          4,
          1,
          1,
          1,
          2,
          1,
          2,
          2,
          2,
          2,
          1,
          1,
          1,
          3,
          1,
          1,
          1,
          1,
          1,
          1,
          1,
          1,
          3,
          1,
          1,
          1,
          1,
          1,
          1,
          1,
          1,
          1,
          1,
          1,
          4,
          2,
          2,
          2,
          1,
          1,
          1,
          1,
          1,
          1,
          1,
          2,
          1,
          1,
          1,
          1,
          1,
          1,
          1,
          4,
          1,
          1,
          2,
          1,
          1,
          1,
          2,
          1,
          1,
          1,
          1,
          1,
          1,
          1,
          2,
          1,
          1,
          1,
          1,
          1,
          1,
          3,
          1,
          1,
          5,
          1,
          1,
          2,
          1,
          1,
          1,
          1,
          1,
          9,
          2,
          1,
          4,
          4,
          2,
          1,
          2,
          1,
          1,
          1,
          1,
          1,
          3,
          1,
          1,
          2,
          2,
          5,
          1,
          1,
          4,
          1,
          1,
          1,
          3,
          3,
          1,
          1,
          2,
          1,
          1,
          2,
          1,
          2,
          1,
          1,
          4,
          2,
          8,
          3,
          2,
          1,
          1,
          1,
          2,
          1,
          1,
          1,
          1,
          1,
          1,
          4,
          1,
          1,
          2,
          6,
          1,
          2,
          1,
          5,
          2,
          2,
          1,
          1,
          3,
          1,
          1,
          1,
          1,
          1,
          8,
          1,
          1,
          3,
          2,
          2,
          1,
          3,
          1,
          1,
          2,
          2,
          2,
          4,
          1,
          2,
          1,
          1,
          2,
          2,
          1,
          2,
          1,
          2,
          1,
          2,
          1,
          1,
          1,
          1,
          1,
          2,
          2,
          2,
          1,
          1,
          2,
          1,
          1,
          2,
          4,
          1,
          4,
          2,
          3,
          2,
          1,
          1,
          2,
          1,
          2,
          1,
          1,
          1,
          1,
          3,
          2,
          2,
          1,
          4,
          1,
          3,
          1,
          1,
          2,
          1,
          6,
          3,
          2,
          1,
          1,
          1,
          2,
          3,
          4,
          2,
          4,
          4,
          6,
          1,
          1,
          1,
          1,
          2,
          1,
          7,
          1,
          2,
          1,
          1,
          1,
          2,
          3,
          2,
          2,
          4,
          1,
          1,
          1,
          2,
          3,
          6,
          1,
          1,
          1,
          1,
          1,
          1,
          1,
          4,
          1,
          1,
          1,
          2,
          1,
          1,
          2,
          1,
          1,
          1,
          1,
          1,
          1,
          1,
          2,
          2,
          2,
          1,
          3,
          1,
          1,
          1,
          1,
          1,
          1,
          3,
          2,
          1,
          1,
          1,
          9,
          2,
          1,
          1,
          1,
          1,
          1,
          1,
          2,
          1,
          1,
          2,
          2,
          1,
          1,
          1,
          1,
          1,
          2,
          4,
          2,
          2,
          1,
          1,
          1,
          1,
          3,
          1,
          1,
          2,
          2,
          2,
          1,
          1,
          1,
          1,
          1,
          1,
          1,
          5,
          1,
          2,
          1,
          1,
          1,
          2,
          2,
          4,
          1,
          1,
          1,
          1,
          1,
          5,
          1,
          1,
          1,
          1,
          3,
          1,
          2,
          1,
          1,
          1,
          3,
          1,
          1,
          1,
          1,
          2,
          1,
          5,
          1,
          1,
          4,
          3,
          1,
          2,
          1,
          2,
          1,
          1,
          6,
          1,
          1,
          1,
          2,
          1,
          3,
          1,
          6,
          3,
          1,
          1,
          1,
          1,
          1,
          1,
          1,
          5,
          1,
          1,
          1,
          1,
          1,
          1,
          1,
          1,
          1,
          1,
          1,
          1,
          1,
          2,
          1,
          1,
          1,
          3,
          3,
          3,
          1,
          2,
          1,
          1,
          2,
          1,
          4,
          2,
          1,
          2,
          2,
          6,
          1,
          2,
          2,
          1,
          1,
          1,
          1,
          1,
          1,
          1,
          1,
          2,
          1,
          1,
          2,
          1,
          2,
          1,
          1,
          2,
          1,
          1,
          3,
          3,
          1,
          3,
          5,
          1,
          1,
          2,
          1,
          1,
          1,
          3,
          2,
          1,
          1,
          1,
          1,
          7,
          3,
          2,
          5,
          2,
          4,
          1,
          3,
          2,
          1,
          1,
          1,
          2,
          1,
          1,
          3,
          3,
          2,
          1,
          2,
          1,
          1,
          1,
          1,
          1,
          2,
          1,
          1,
          6,
          2,
          1,
          3,
          2,
          1,
          2,
          1,
          2,
          4,
          1,
          1,
          3,
          1,
          2,
          1,
          2,
          1,
          1,
          1,
          8,
          14,
          2,
          1,
          1,
          4,
          1,
          1,
          1,
          1,
          1,
          1,
          1,
          8,
          1,
          1,
          1,
          1,
          2,
          1,
          1,
          2,
          1,
          1,
          2,
          1,
          2,
          1,
          2,
          3,
          1,
          1,
          1,
          1,
          1,
          1,
          1,
          1,
          1,
          2,
          2,
          1,
          1,
          1,
          1,
          1,
          1,
          1,
          1,
          1,
          1,
          1,
          1,
          3,
          1,
          1,
          1,
          1,
          4,
          1,
          1,
          3,
          1,
          2,
          3,
          1,
          1,
          1,
          3,
          1,
          1,
          2,
          3,
          4,
          2,
          1,
          1,
          1,
          1,
          1,
          1,
          2,
          1,
          1,
          4,
          1,
          1,
          1,
          2,
          7,
          2,
          1,
          1,
          1,
          1,
          2,
          3,
          3,
          1,
          1,
          2,
          1,
          1,
          1,
          1,
          1,
          1,
          1,
          1,
          2,
          3,
          1,
          4,
          1,
          2,
          1,
          2,
          2,
          2,
          1,
          2,
          1,
          1,
          1,
          1,
          1,
          2,
          1,
          1,
          1,
          2,
          1,
          1,
          1,
          1,
          2,
          7,
          1,
          2,
          1,
          1,
          3,
          1,
          1,
          2,
          2,
          1,
          1,
          1,
          1,
          1,
          3,
          1,
          1,
          1,
          1,
          2,
          1,
          1,
          2,
          1,
          1,
          2,
          2,
          1,
          1,
          1,
          1,
          2,
          1,
          1,
          1,
          1,
          1,
          1,
          1,
          2,
          1,
          1,
          1,
          1,
          1,
          2,
          1,
          5,
          1,
          3,
          1,
          1,
          2,
          4,
          1,
          3,
          2,
          3,
          1,
          1,
          2,
          2,
          1,
          1,
          1,
          2,
          3,
          1,
          1,
          2,
          1,
          1,
          1,
          4,
          20,
          2,
          2,
          1,
          2,
          3,
          1,
          1,
          1,
          2,
          2,
          1,
          2,
          1,
          2,
          1,
          6,
          1,
          1,
          1,
          3,
          1,
          5,
          1,
          2,
          2,
          1,
          6,
          2,
          2,
          2,
          2,
          1,
          5,
          1,
          1,
          1,
          1,
          1,
          3,
          2,
          1,
          2,
          1,
          1,
          1,
          1,
          1,
          1,
          1,
          2,
          1,
          1,
          4,
          1,
          3,
          2,
          1,
          1,
          1,
          1,
          1,
          1,
          5,
          1,
          9,
          5,
          1,
          1,
          1,
          1,
          2,
          3,
          1,
          1,
          1,
          1,
          1,
          1,
          3,
          1,
          1,
          1,
          4,
          1,
          1,
          1,
          1,
          1,
          2,
          1,
          1,
          1,
          1,
          1,
          8,
          5,
          1,
          1,
          1,
          1,
          1,
          1,
          1,
          1,
          1,
          1,
          1,
          4,
          1,
          1,
          2,
          1,
          1,
          1,
          8,
          1,
          10,
          1,
          2,
          1,
          1,
          1,
          1,
          1,
          3,
          3,
          1,
          2,
          2,
          1,
          1,
          5,
          1,
          1,
          1,
          1,
          2,
          4,
          1,
          1,
          1,
          5,
          3,
          1,
          4,
          1,
          1,
          1,
          2,
          1,
          1,
          1,
          6,
          1,
          1,
          1,
          1,
          2,
          1,
          7,
          2,
          1,
          1,
          1,
          1,
          2,
          1,
          1,
          1,
          4,
          3,
          2,
          1,
          2,
          1,
          1,
          1,
          1,
          3,
          3,
          1,
          1,
          1,
          1,
          1,
          1,
          1,
          1,
          1,
          1,
          1,
          1,
          1,
          1,
          1,
          1,
          1,
          1,
          1,
          5,
          1,
          1,
          1,
          1,
          3,
          1,
          9,
          1,
          1,
          1,
          1,
          7,
          1,
          1,
          1,
          1,
          8,
          2,
          1,
          3,
          1,
          1,
          1,
          1,
          3,
          2,
          6,
          2,
          2,
          3,
          3,
          1,
          6,
          1,
          2,
          1,
          1,
          5,
          1,
          1,
          1,
          2,
          1,
          1,
          1,
          1,
          1,
          1,
          1,
          1,
          1,
          1,
          1,
          1,
          1,
          3,
          2,
          3,
          1,
          1,
          1,
          1,
          1,
          2,
          1,
          1,
          2,
          3,
          1,
          1,
          1,
          1,
          1,
          1,
          4,
          2,
          2,
          1,
          2,
          1,
          1,
          1,
          1,
          1,
          3,
          3,
          1,
          5,
          1,
          1,
          1,
          1,
          1,
          1,
          1,
          3,
          2,
          5,
          1,
          1,
          1,
          1,
          1,
          2,
          1,
          1,
          1,
          1,
          4,
          1,
          1,
          1,
          1,
          1,
          1,
          1,
          1,
          1,
          7,
          5,
          1,
          1,
          7,
          1,
          1,
          2,
          9,
          1,
          1,
          1,
          1,
          3,
          1,
          1,
          1,
          1,
          1,
          3,
          1,
          1,
          1,
          1,
          1,
          2,
          1,
          1,
          2,
          3,
          2,
          1,
          1,
          2,
          1,
          1,
          5,
          1,
          1,
          1,
          1,
          1,
          1,
          1,
          1,
          4,
          2,
          1,
          1,
          2,
          1,
          1,
          1,
          1,
          1,
          1,
          2,
          1,
          3,
          1,
          2,
          1,
          2,
          1,
          11,
          1,
          1,
          4,
          1,
          2,
          1,
          1,
          1,
          8,
          1,
          1,
          1,
          2,
          4,
          1,
          1,
          3,
          2,
          1,
          1,
          1,
          1,
          2,
          3,
          1,
          1,
          1,
          1,
          1,
          2,
          1,
          1,
          2,
          1,
          1,
          2,
          1,
          2,
          2,
          3,
          3,
          2,
          1,
          1,
          1,
          1,
          2,
          2,
          1,
          1,
          1,
          2,
          2,
          1,
          1,
          1,
          3,
          2,
          1,
          1,
          1,
          1,
          2,
          2,
          1,
          1,
          1,
          1,
          1,
          2,
          7,
          5,
          1,
          2,
          1,
          4,
          1,
          4,
          2,
          3,
          2,
          1,
          1,
          1,
          1,
          1,
          3,
          1,
          2,
          2,
          4,
          1,
          2,
          1,
          1,
          1,
          3,
          1,
          1,
          2,
          4,
          10,
          1,
          1,
          1,
          2,
          1,
          1,
          1,
          1,
          2,
          2,
          2,
          7,
          1,
          1,
          9,
          5,
          5,
          1,
          1,
          1,
          2,
          3,
          2,
          1,
          1,
          1,
          8,
          3,
          4,
          5,
          1,
          1,
          4,
          1,
          1,
          1,
          3,
          2,
          1,
          3,
          1,
          2,
          3,
          1,
          4,
          4,
          1,
          1,
          1,
          2,
          3,
          1,
          2,
          4,
          3,
          3,
          2,
          1,
          1,
          1,
          1,
          4,
          1,
          2,
          1,
          4,
          1,
          1,
          1,
          1,
          2,
          1,
          1,
          1,
          1,
          8,
          9,
          1,
          3,
          7,
          1,
          1,
          1,
          3,
          1,
          1,
          1,
          2,
          2,
          1,
          2,
          1,
          1,
          1,
          1,
          1,
          1,
          2,
          1,
          1,
          2,
          1,
          1,
          4,
          1,
          2,
          1,
          1,
          4,
          2,
          2,
          10,
          2,
          1,
          5,
          1,
          1,
          1,
          1,
          2,
          5,
          2,
          1,
          2,
          1,
          2,
          3,
          2,
          2,
          1,
          1,
          2,
          1,
          1,
          1,
          1,
          1,
          2,
          2,
          1,
          1,
          2,
          6,
          2,
          3,
          6,
          1,
          1,
          2,
          5,
          2,
          1,
          1,
          2,
          1,
          1,
          2,
          4,
          1,
          6,
          1,
          1,
          1,
          1,
          1,
          1,
          1,
          1,
          1,
          2,
          1,
          1,
          1,
          3,
          1,
          2,
          2,
          5,
          1,
          2,
          1,
          1,
          2,
          1,
          1,
          3,
          1,
          1,
          2,
          4,
          13,
          1,
          18,
          1,
          2,
          1,
          2,
          1,
          1,
          1,
          2,
          1,
          1,
          13,
          1,
          4,
          2,
          2,
          1,
          1,
          1,
          1,
          4,
          2,
          1,
          3,
          2,
          1,
          1,
          1,
          2,
          5,
          2,
          1,
          2,
          2,
          2,
          3,
          1,
          1,
          1,
          1,
          1,
          1,
          1,
          1,
          1,
          1,
          1,
          1,
          1,
          1,
          5,
          3,
          1,
          1,
          1,
          1,
          1,
          3,
          1,
          1,
          2,
          2,
          2,
          5,
          1,
          1,
          1,
          1,
          1,
          1,
          1,
          1,
          1,
          1,
          2,
          2,
          2,
          1,
          1,
          2,
          1,
          1,
          1,
          1,
          2,
          4,
          1,
          1,
          2,
          3,
          2,
          4,
          1,
          2,
          1,
          1,
          1,
          1,
          2,
          1,
          1,
          1,
          1,
          1,
          2,
          1,
          1,
          4,
          1,
          2,
          2,
          1,
          1,
          1,
          1,
          1,
          8,
          2,
          2,
          1,
          2,
          1,
          1,
          1,
          2,
          1,
          1,
          2,
          1,
          1,
          1,
          1,
          2,
          1,
          2,
          1,
          1,
          2,
          1,
          1,
          1,
          1,
          2,
          1,
          1,
          1,
          1,
          2,
          2,
          1,
          1,
          1,
          1,
          4,
          1,
          1,
          7,
          4,
          1,
          1,
          2,
          1,
          1,
          3,
          2,
          1,
          2,
          1,
          2,
          3,
          1,
          1,
          1,
          1,
          1,
          1,
          1,
          1,
          1,
          2,
          1,
          1,
          2,
          10,
          1,
          2,
          2,
          1,
          2,
          3,
          1,
          1,
          9,
          2,
          3,
          1,
          1,
          1,
          1,
          1,
          23,
          2,
          4,
          1,
          2,
          1,
          2,
          5,
          2,
          1,
          2,
          1,
          4,
          1,
          2,
          1,
          1,
          3,
          1,
          1,
          15,
          7,
          1,
          1,
          2,
          3,
          8,
          2,
          1,
          5,
          1,
          1,
          2,
          2,
          2,
          1,
          2,
          1,
          1,
          8,
          2,
          2,
          1,
          1,
          1,
          1,
          1,
          2,
          2,
          1,
          3,
          2,
          1,
          2,
          3,
          1,
          2,
          1,
          1,
          1,
          1,
          2,
          1,
          1,
          1,
          2,
          7,
          1,
          5,
          2,
          1,
          1,
          1,
          1,
          1,
          9,
          1,
          1,
          2,
          6,
          1,
          1,
          1,
          3,
          2,
          1,
          2,
          4,
          5,
          1,
          1,
          1,
          1,
          1,
          1,
          1,
          2,
          1,
          1,
          1,
          1,
          1,
          1,
          2,
          1,
          3,
          1,
          1,
          1,
          10,
          1,
          1,
          2,
          1,
          3,
          8,
          1,
          4,
          1,
          2,
          1,
          8,
          1,
          2,
          1,
          3,
          2,
          1,
          1,
          1,
          3,
          1,
          1,
          2,
          1,
          1,
          2,
          1,
          1,
          1,
          1,
          2,
          1,
          1,
          1,
          3,
          6,
          4,
          1,
          4,
          1,
          1,
          1,
          1,
          2,
          1,
          2,
          2,
          2,
          1,
          2,
          4,
          3,
          1,
          20,
          2,
          4,
          3,
          3,
          3,
          3,
          2,
          1,
          2,
          1,
          1,
          1,
          1,
          2,
          1,
          1,
          1,
          1,
          1,
          1,
          2,
          1,
          1,
          1,
          1,
          1,
          1,
          1,
          2,
          1,
          1,
          2,
          4,
          1,
          4,
          2,
          1,
          2,
          3,
          2,
          3,
          1,
          1,
          1,
          2,
          3,
          1,
          3,
          2,
          3,
          1,
          2,
          1,
          2,
          1,
          4,
          1,
          1,
          2,
          3,
          6,
          1,
          1,
          9,
          1,
          1,
          1,
          2,
          2,
          3,
          4,
          2,
          1,
          1,
          1,
          1,
          1,
          1,
          2,
          1,
          2,
          1,
          2,
          2,
          1,
          1,
          1,
          1,
          1,
          2,
          1,
          1,
          1,
          2,
          2,
          1,
          1,
          1,
          2,
          1,
          1,
          1,
          4,
          1,
          1,
          1,
          3,
          1,
          2,
          1,
          1,
          2,
          1,
          1,
          4,
          1,
          5,
          4,
          1,
          1,
          1,
          2,
          1,
          1,
          2,
          7,
          1,
          3,
          8,
          6,
          4,
          1,
          1,
          1,
          4,
          1,
          4,
          4,
          1,
          1,
          1,
          1,
          1,
          1,
          5,
          1,
          1,
          1,
          1,
          3,
          1,
          2,
          1,
          1,
          1,
          1,
          1,
          5,
          4,
          1,
          3,
          1,
          1,
          1,
          1,
          1,
          1,
          1,
          1,
          1,
          1,
          1,
          5,
          1,
          2,
          4,
          1,
          2,
          2,
          1,
          1,
          1,
          1,
          2,
          1,
          8,
          5,
          8,
          1,
          1,
          3,
          1,
          1,
          2,
          6,
          1,
          2,
          5,
          1,
          1,
          2,
          1,
          1,
          4,
          1,
          1,
          2,
          1,
          1,
          2,
          3,
          4,
          3,
          1,
          5,
          3,
          2,
          3,
          1,
          2,
          1,
          1,
          1,
          1,
          1,
          1,
          2,
          1,
          3,
          1,
          2,
          5,
          1,
          1,
          4,
          2,
          1,
          1,
          1,
          1,
          1,
          1,
          1,
          2,
          1,
          2,
          4,
          2,
          1,
          1,
          2,
          1,
          1,
          4,
          6,
          1,
          1,
          1,
          1,
          1,
          2,
          4,
          2,
          1,
          1,
          1,
          1,
          2,
          2,
          2,
          1,
          2,
          4,
          1,
          1,
          1,
          1,
          1,
          1,
          3,
          1,
          1,
          2,
          2,
          1,
          1,
          5,
          1,
          3,
          3,
          1,
          1,
          1,
          10,
          4,
          2,
          1,
          1,
          3,
          2,
          1,
          1,
          2,
          1,
          2,
          1,
          1,
          1,
          12,
          3,
          1,
          1,
          1,
          1,
          1,
          1,
          1,
          1,
          2,
          1,
          1,
          1,
          3,
          1,
          1,
          1,
          2,
          1,
          1,
          1,
          1,
          1,
          1,
          1,
          6,
          1,
          1,
          1,
          3,
          2,
          2,
          4,
          4,
          1,
          2,
          1,
          2,
          1,
          1,
          1,
          1,
          2,
          4,
          4,
          1,
          1,
          3,
          1,
          1,
          1,
          1,
          1,
          1,
          1,
          1,
          1,
          1,
          23,
          3,
          2,
          3,
          6,
          1,
          2,
          4,
          1,
          3,
          1,
          3,
          6,
          2,
          1,
          3,
          1,
          2,
          1,
          1,
          1,
          4,
          1,
          1,
          2,
          1,
          1,
          2,
          5,
          4,
          2,
          1,
          1,
          3,
          3,
          4,
          1,
          1,
          3,
          4,
          1,
          1,
          5,
          1,
          7,
          1,
          2,
          5,
          3,
          3,
          1,
          1,
          2,
          2,
          5,
          1,
          1,
          3,
          1,
          9,
          3,
          4,
          2,
          1,
          1,
          1,
          1,
          1,
          1,
          2,
          1,
          1,
          1,
          1,
          1,
          1,
          1,
          3,
          2,
          1,
          2,
          1,
          1,
          1,
          3,
          2,
          2,
          1,
          1,
          1,
          1,
          1,
          1,
          1,
          1,
          1,
          2,
          3,
          2,
          1,
          2,
          1,
          4,
          4,
          2,
          1,
          2,
          2,
          1,
          1,
          1,
          2,
          1,
          1,
          2,
          1,
          2,
          1,
          5,
          1,
          1,
          1,
          4,
          2,
          1,
          1,
          1,
          1,
          1,
          4,
          1,
          1,
          1,
          2,
          1,
          1,
          2,
          6,
          1,
          1,
          2,
          1,
          1,
          2,
          2,
          1,
          1,
          1,
          1,
          2,
          2,
          1,
          1,
          2,
          1,
          2,
          1,
          1,
          1,
          1,
          2,
          1,
          2,
          1,
          1,
          1,
          4,
          1,
          2,
          3,
          1,
          1,
          1,
          1,
          1,
          1,
          1,
          1,
          1,
          2,
          3,
          1,
          2,
          1,
          1,
          1,
          4,
          1,
          1,
          1,
          1,
          2,
          1,
          1,
          2,
          1,
          2,
          5,
          2,
          1,
          2,
          2,
          1,
          3,
          6,
          2,
          1,
          1,
          1,
          5,
          1,
          8,
          3,
          2,
          1,
          1,
          2,
          1,
          1,
          1,
          1,
          1,
          1,
          1,
          2,
          4,
          1,
          1,
          5,
          1,
          1,
          3,
          5,
          1,
          1,
          2,
          1,
          1,
          1,
          3,
          2,
          1,
          2,
          1,
          2,
          1,
          1,
          2,
          2,
          2,
          2,
          1,
          1,
          1,
          2,
          4,
          1,
          1,
          1,
          2,
          2,
          2,
          2,
          1,
          1,
          3,
          1,
          6,
          1,
          1,
          1,
          2,
          1,
          1,
          4,
          2,
          2,
          1,
          1,
          1,
          4,
          2,
          2,
          1,
          1,
          1,
          1,
          1,
          1,
          2,
          1,
          2,
          1,
          1,
          1,
          2,
          1,
          4,
          1,
          2,
          1,
          1,
          1,
          1,
          1,
          1,
          2,
          7,
          1,
          3,
          1,
          3,
          3,
          5,
          7,
          4,
          1,
          1,
          2,
          1,
          2,
          1,
          1,
          2,
          3,
          4,
          3,
          1,
          4,
          1,
          3,
          2,
          1,
          1,
          2,
          1,
          1,
          2,
          2,
          1,
          1,
          1,
          10,
          1,
          4,
          1,
          2,
          4,
          4,
          1,
          1,
          1,
          3,
          4,
          2,
          2,
          1,
          1,
          1,
          2,
          4,
          6,
          2,
          1,
          4,
          3,
          2,
          1,
          2,
          1,
          1,
          1,
          1,
          3,
          1,
          1,
          10,
          2,
          1,
          2,
          1,
          2,
          3,
          1,
          1,
          1,
          4,
          1,
          1,
          4,
          1,
          1,
          3,
          2,
          2,
          1,
          1,
          1,
          3,
          1,
          1,
          1,
          1,
          1,
          3,
          1,
          1,
          1,
          1,
          2,
          3,
          1,
          3,
          1,
          1,
          1,
          2,
          2,
          2,
          1,
          1,
          1,
          2,
          1,
          1,
          2,
          3,
          1,
          1,
          1,
          1,
          1,
          1,
          1,
          2,
          1,
          1,
          1,
          1,
          1,
          1,
          7,
          1,
          1,
          1,
          1,
          1,
          2,
          1,
          2,
          4,
          3,
          3,
          3,
          1,
          1,
          1,
          1,
          2,
          1,
          1,
          2,
          1,
          1,
          1,
          1,
          2,
          1,
          4,
          2,
          1,
          1,
          1,
          2,
          2,
          1,
          1,
          1,
          6,
          4,
          1,
          2,
          2,
          1,
          2,
          2,
          1,
          1,
          1,
          1,
          2,
          1,
          1,
          1,
          2,
          1,
          2,
          1,
          1,
          1,
          1,
          2,
          1,
          1,
          2,
          2,
          1,
          2,
          1,
          2,
          1,
          1,
          1,
          3,
          2,
          1,
          2,
          1,
          1,
          3,
          1,
          2,
          2,
          1,
          1,
          1,
          1,
          1,
          1,
          1,
          3,
          1,
          1,
          1,
          1,
          6,
          1,
          3,
          1,
          3,
          1,
          1,
          1,
          1,
          1,
          1,
          1,
          1,
          1,
          1,
          1,
          1,
          1,
          1,
          1,
          1,
          1,
          1,
          1,
          3,
          1,
          1,
          1,
          2,
          1,
          1,
          1,
          1,
          1,
          1,
          1,
          1,
          1,
          1,
          1,
          1,
          1,
          1,
          1,
          1,
          1,
          1,
          1,
          1,
          1,
          1,
          1,
          1,
          1,
          1,
          1,
          1,
          1,
          1,
          1,
          3,
          1,
          1,
          1,
          1,
          1,
          1,
          1,
          1,
          1,
          1,
          1,
          1,
          1,
          1,
          1,
          1,
          1,
          1,
          1,
          1,
          1,
          1,
          1,
          1,
          1,
          1,
          1,
          1,
          1,
          1,
          1,
          1,
          1,
          1,
          1,
          1,
          1,
          1,
          1,
          1,
          1,
          1,
          1,
          1,
          1,
          1,
          1,
          1,
          1,
          1,
          2,
          1,
          1,
          1,
          1,
          1,
          1,
          1,
          1,
          1,
          1,
          1,
          1,
          2,
          1,
          1,
          1,
          1,
          1,
          1,
          1,
          1,
          1,
          1,
          1,
          1,
          1,
          2,
          1,
          1,
          1,
          1,
          1,
          1,
          1,
          1,
          1,
          3,
          2,
          2,
          1,
          2,
          1,
          1,
          1,
          1,
          1,
          2,
          1,
          1,
          1,
          1,
          1,
          1,
          1,
          4,
          1,
          1,
          1,
          1,
          1,
          1,
          1,
          1,
          1,
          1,
          1,
          3,
          3,
          2,
          1,
          1,
          3,
          1,
          1,
          1,
          1,
          2,
          1,
          1,
          1,
          4,
          2,
          1,
          1,
          1,
          1,
          1,
          1,
          2,
          1,
          1,
          1,
          1,
          2,
          2,
          1,
          1,
          1,
          2,
          2,
          1,
          1,
          1,
          2,
          3,
          1,
          1,
          1,
          1,
          2,
          2,
          1,
          1,
          1,
          1,
          1,
          1,
          2,
          1,
          1,
          1,
          1,
          2,
          1,
          4,
          1,
          1,
          1,
          1,
          2,
          1,
          1,
          1,
          1,
          1,
          1,
          3,
          3,
          1,
          1,
          1,
          7,
          10,
          1,
          1,
          1,
          2,
          3,
          1,
          2,
          2,
          1,
          2,
          1,
          1,
          1,
          2,
          1,
          4,
          1,
          1,
          1,
          1,
          1,
          1,
          1,
          3,
          2,
          1,
          1,
          1,
          1,
          4,
          1,
          1,
          2,
          1,
          1,
          1,
          9,
          3,
          2,
          2,
          6,
          1,
          1,
          1,
          1,
          1,
          1,
          1,
          1,
          1,
          1,
          1
         ],
         "y0": " ",
         "yaxis": "y"
        }
       ],
       "layout": {
        "boxmode": "group",
        "legend": {
         "tracegroupgap": 0
        },
        "template": {
         "data": {
          "bar": [
           {
            "error_x": {
             "color": "#f2f5fa"
            },
            "error_y": {
             "color": "#f2f5fa"
            },
            "marker": {
             "line": {
              "color": "rgb(17,17,17)",
              "width": 0.5
             },
             "pattern": {
              "fillmode": "overlay",
              "size": 10,
              "solidity": 0.2
             }
            },
            "type": "bar"
           }
          ],
          "barpolar": [
           {
            "marker": {
             "line": {
              "color": "rgb(17,17,17)",
              "width": 0.5
             },
             "pattern": {
              "fillmode": "overlay",
              "size": 10,
              "solidity": 0.2
             }
            },
            "type": "barpolar"
           }
          ],
          "carpet": [
           {
            "aaxis": {
             "endlinecolor": "#A2B1C6",
             "gridcolor": "#506784",
             "linecolor": "#506784",
             "minorgridcolor": "#506784",
             "startlinecolor": "#A2B1C6"
            },
            "baxis": {
             "endlinecolor": "#A2B1C6",
             "gridcolor": "#506784",
             "linecolor": "#506784",
             "minorgridcolor": "#506784",
             "startlinecolor": "#A2B1C6"
            },
            "type": "carpet"
           }
          ],
          "choropleth": [
           {
            "colorbar": {
             "outlinewidth": 0,
             "ticks": ""
            },
            "type": "choropleth"
           }
          ],
          "contour": [
           {
            "colorbar": {
             "outlinewidth": 0,
             "ticks": ""
            },
            "colorscale": [
             [
              0,
              "#0d0887"
             ],
             [
              0.1111111111111111,
              "#46039f"
             ],
             [
              0.2222222222222222,
              "#7201a8"
             ],
             [
              0.3333333333333333,
              "#9c179e"
             ],
             [
              0.4444444444444444,
              "#bd3786"
             ],
             [
              0.5555555555555556,
              "#d8576b"
             ],
             [
              0.6666666666666666,
              "#ed7953"
             ],
             [
              0.7777777777777778,
              "#fb9f3a"
             ],
             [
              0.8888888888888888,
              "#fdca26"
             ],
             [
              1,
              "#f0f921"
             ]
            ],
            "type": "contour"
           }
          ],
          "contourcarpet": [
           {
            "colorbar": {
             "outlinewidth": 0,
             "ticks": ""
            },
            "type": "contourcarpet"
           }
          ],
          "heatmap": [
           {
            "colorbar": {
             "outlinewidth": 0,
             "ticks": ""
            },
            "colorscale": [
             [
              0,
              "#0d0887"
             ],
             [
              0.1111111111111111,
              "#46039f"
             ],
             [
              0.2222222222222222,
              "#7201a8"
             ],
             [
              0.3333333333333333,
              "#9c179e"
             ],
             [
              0.4444444444444444,
              "#bd3786"
             ],
             [
              0.5555555555555556,
              "#d8576b"
             ],
             [
              0.6666666666666666,
              "#ed7953"
             ],
             [
              0.7777777777777778,
              "#fb9f3a"
             ],
             [
              0.8888888888888888,
              "#fdca26"
             ],
             [
              1,
              "#f0f921"
             ]
            ],
            "type": "heatmap"
           }
          ],
          "heatmapgl": [
           {
            "colorbar": {
             "outlinewidth": 0,
             "ticks": ""
            },
            "colorscale": [
             [
              0,
              "#0d0887"
             ],
             [
              0.1111111111111111,
              "#46039f"
             ],
             [
              0.2222222222222222,
              "#7201a8"
             ],
             [
              0.3333333333333333,
              "#9c179e"
             ],
             [
              0.4444444444444444,
              "#bd3786"
             ],
             [
              0.5555555555555556,
              "#d8576b"
             ],
             [
              0.6666666666666666,
              "#ed7953"
             ],
             [
              0.7777777777777778,
              "#fb9f3a"
             ],
             [
              0.8888888888888888,
              "#fdca26"
             ],
             [
              1,
              "#f0f921"
             ]
            ],
            "type": "heatmapgl"
           }
          ],
          "histogram": [
           {
            "marker": {
             "pattern": {
              "fillmode": "overlay",
              "size": 10,
              "solidity": 0.2
             }
            },
            "type": "histogram"
           }
          ],
          "histogram2d": [
           {
            "colorbar": {
             "outlinewidth": 0,
             "ticks": ""
            },
            "colorscale": [
             [
              0,
              "#0d0887"
             ],
             [
              0.1111111111111111,
              "#46039f"
             ],
             [
              0.2222222222222222,
              "#7201a8"
             ],
             [
              0.3333333333333333,
              "#9c179e"
             ],
             [
              0.4444444444444444,
              "#bd3786"
             ],
             [
              0.5555555555555556,
              "#d8576b"
             ],
             [
              0.6666666666666666,
              "#ed7953"
             ],
             [
              0.7777777777777778,
              "#fb9f3a"
             ],
             [
              0.8888888888888888,
              "#fdca26"
             ],
             [
              1,
              "#f0f921"
             ]
            ],
            "type": "histogram2d"
           }
          ],
          "histogram2dcontour": [
           {
            "colorbar": {
             "outlinewidth": 0,
             "ticks": ""
            },
            "colorscale": [
             [
              0,
              "#0d0887"
             ],
             [
              0.1111111111111111,
              "#46039f"
             ],
             [
              0.2222222222222222,
              "#7201a8"
             ],
             [
              0.3333333333333333,
              "#9c179e"
             ],
             [
              0.4444444444444444,
              "#bd3786"
             ],
             [
              0.5555555555555556,
              "#d8576b"
             ],
             [
              0.6666666666666666,
              "#ed7953"
             ],
             [
              0.7777777777777778,
              "#fb9f3a"
             ],
             [
              0.8888888888888888,
              "#fdca26"
             ],
             [
              1,
              "#f0f921"
             ]
            ],
            "type": "histogram2dcontour"
           }
          ],
          "mesh3d": [
           {
            "colorbar": {
             "outlinewidth": 0,
             "ticks": ""
            },
            "type": "mesh3d"
           }
          ],
          "parcoords": [
           {
            "line": {
             "colorbar": {
              "outlinewidth": 0,
              "ticks": ""
             }
            },
            "type": "parcoords"
           }
          ],
          "pie": [
           {
            "automargin": true,
            "type": "pie"
           }
          ],
          "scatter": [
           {
            "marker": {
             "line": {
              "color": "#283442"
             }
            },
            "type": "scatter"
           }
          ],
          "scatter3d": [
           {
            "line": {
             "colorbar": {
              "outlinewidth": 0,
              "ticks": ""
             }
            },
            "marker": {
             "colorbar": {
              "outlinewidth": 0,
              "ticks": ""
             }
            },
            "type": "scatter3d"
           }
          ],
          "scattercarpet": [
           {
            "marker": {
             "colorbar": {
              "outlinewidth": 0,
              "ticks": ""
             }
            },
            "type": "scattercarpet"
           }
          ],
          "scattergeo": [
           {
            "marker": {
             "colorbar": {
              "outlinewidth": 0,
              "ticks": ""
             }
            },
            "type": "scattergeo"
           }
          ],
          "scattergl": [
           {
            "marker": {
             "line": {
              "color": "#283442"
             }
            },
            "type": "scattergl"
           }
          ],
          "scattermapbox": [
           {
            "marker": {
             "colorbar": {
              "outlinewidth": 0,
              "ticks": ""
             }
            },
            "type": "scattermapbox"
           }
          ],
          "scatterpolar": [
           {
            "marker": {
             "colorbar": {
              "outlinewidth": 0,
              "ticks": ""
             }
            },
            "type": "scatterpolar"
           }
          ],
          "scatterpolargl": [
           {
            "marker": {
             "colorbar": {
              "outlinewidth": 0,
              "ticks": ""
             }
            },
            "type": "scatterpolargl"
           }
          ],
          "scatterternary": [
           {
            "marker": {
             "colorbar": {
              "outlinewidth": 0,
              "ticks": ""
             }
            },
            "type": "scatterternary"
           }
          ],
          "surface": [
           {
            "colorbar": {
             "outlinewidth": 0,
             "ticks": ""
            },
            "colorscale": [
             [
              0,
              "#0d0887"
             ],
             [
              0.1111111111111111,
              "#46039f"
             ],
             [
              0.2222222222222222,
              "#7201a8"
             ],
             [
              0.3333333333333333,
              "#9c179e"
             ],
             [
              0.4444444444444444,
              "#bd3786"
             ],
             [
              0.5555555555555556,
              "#d8576b"
             ],
             [
              0.6666666666666666,
              "#ed7953"
             ],
             [
              0.7777777777777778,
              "#fb9f3a"
             ],
             [
              0.8888888888888888,
              "#fdca26"
             ],
             [
              1,
              "#f0f921"
             ]
            ],
            "type": "surface"
           }
          ],
          "table": [
           {
            "cells": {
             "fill": {
              "color": "#506784"
             },
             "line": {
              "color": "rgb(17,17,17)"
             }
            },
            "header": {
             "fill": {
              "color": "#2a3f5f"
             },
             "line": {
              "color": "rgb(17,17,17)"
             }
            },
            "type": "table"
           }
          ]
         },
         "layout": {
          "annotationdefaults": {
           "arrowcolor": "#f2f5fa",
           "arrowhead": 0,
           "arrowwidth": 1
          },
          "autotypenumbers": "strict",
          "coloraxis": {
           "colorbar": {
            "outlinewidth": 0,
            "ticks": ""
           }
          },
          "colorscale": {
           "diverging": [
            [
             0,
             "#8e0152"
            ],
            [
             0.1,
             "#c51b7d"
            ],
            [
             0.2,
             "#de77ae"
            ],
            [
             0.3,
             "#f1b6da"
            ],
            [
             0.4,
             "#fde0ef"
            ],
            [
             0.5,
             "#f7f7f7"
            ],
            [
             0.6,
             "#e6f5d0"
            ],
            [
             0.7,
             "#b8e186"
            ],
            [
             0.8,
             "#7fbc41"
            ],
            [
             0.9,
             "#4d9221"
            ],
            [
             1,
             "#276419"
            ]
           ],
           "sequential": [
            [
             0,
             "#0d0887"
            ],
            [
             0.1111111111111111,
             "#46039f"
            ],
            [
             0.2222222222222222,
             "#7201a8"
            ],
            [
             0.3333333333333333,
             "#9c179e"
            ],
            [
             0.4444444444444444,
             "#bd3786"
            ],
            [
             0.5555555555555556,
             "#d8576b"
            ],
            [
             0.6666666666666666,
             "#ed7953"
            ],
            [
             0.7777777777777778,
             "#fb9f3a"
            ],
            [
             0.8888888888888888,
             "#fdca26"
            ],
            [
             1,
             "#f0f921"
            ]
           ],
           "sequentialminus": [
            [
             0,
             "#0d0887"
            ],
            [
             0.1111111111111111,
             "#46039f"
            ],
            [
             0.2222222222222222,
             "#7201a8"
            ],
            [
             0.3333333333333333,
             "#9c179e"
            ],
            [
             0.4444444444444444,
             "#bd3786"
            ],
            [
             0.5555555555555556,
             "#d8576b"
            ],
            [
             0.6666666666666666,
             "#ed7953"
            ],
            [
             0.7777777777777778,
             "#fb9f3a"
            ],
            [
             0.8888888888888888,
             "#fdca26"
            ],
            [
             1,
             "#f0f921"
            ]
           ]
          },
          "colorway": [
           "#636efa",
           "#EF553B",
           "#00cc96",
           "#ab63fa",
           "#FFA15A",
           "#19d3f3",
           "#FF6692",
           "#B6E880",
           "#FF97FF",
           "#FECB52"
          ],
          "font": {
           "color": "#f2f5fa"
          },
          "geo": {
           "bgcolor": "rgb(17,17,17)",
           "lakecolor": "rgb(17,17,17)",
           "landcolor": "rgb(17,17,17)",
           "showlakes": true,
           "showland": true,
           "subunitcolor": "#506784"
          },
          "hoverlabel": {
           "align": "left"
          },
          "hovermode": "closest",
          "mapbox": {
           "style": "dark"
          },
          "paper_bgcolor": "rgb(17,17,17)",
          "plot_bgcolor": "rgb(17,17,17)",
          "polar": {
           "angularaxis": {
            "gridcolor": "#506784",
            "linecolor": "#506784",
            "ticks": ""
           },
           "bgcolor": "rgb(17,17,17)",
           "radialaxis": {
            "gridcolor": "#506784",
            "linecolor": "#506784",
            "ticks": ""
           }
          },
          "scene": {
           "xaxis": {
            "backgroundcolor": "rgb(17,17,17)",
            "gridcolor": "#506784",
            "gridwidth": 2,
            "linecolor": "#506784",
            "showbackground": true,
            "ticks": "",
            "zerolinecolor": "#C8D4E3"
           },
           "yaxis": {
            "backgroundcolor": "rgb(17,17,17)",
            "gridcolor": "#506784",
            "gridwidth": 2,
            "linecolor": "#506784",
            "showbackground": true,
            "ticks": "",
            "zerolinecolor": "#C8D4E3"
           },
           "zaxis": {
            "backgroundcolor": "rgb(17,17,17)",
            "gridcolor": "#506784",
            "gridwidth": 2,
            "linecolor": "#506784",
            "showbackground": true,
            "ticks": "",
            "zerolinecolor": "#C8D4E3"
           }
          },
          "shapedefaults": {
           "line": {
            "color": "#f2f5fa"
           }
          },
          "sliderdefaults": {
           "bgcolor": "#C8D4E3",
           "bordercolor": "rgb(17,17,17)",
           "borderwidth": 1,
           "tickwidth": 0
          },
          "ternary": {
           "aaxis": {
            "gridcolor": "#506784",
            "linecolor": "#506784",
            "ticks": ""
           },
           "baxis": {
            "gridcolor": "#506784",
            "linecolor": "#506784",
            "ticks": ""
           },
           "bgcolor": "rgb(17,17,17)",
           "caxis": {
            "gridcolor": "#506784",
            "linecolor": "#506784",
            "ticks": ""
           }
          },
          "title": {
           "x": 0.05
          },
          "updatemenudefaults": {
           "bgcolor": "#506784",
           "borderwidth": 0
          },
          "xaxis": {
           "automargin": true,
           "gridcolor": "#283442",
           "linecolor": "#506784",
           "ticks": "",
           "title": {
            "standoff": 15
           },
           "zerolinecolor": "#283442",
           "zerolinewidth": 2
          },
          "yaxis": {
           "automargin": true,
           "gridcolor": "#283442",
           "linecolor": "#506784",
           "ticks": "",
           "title": {
            "standoff": 15
           },
           "zerolinecolor": "#283442",
           "zerolinewidth": 2
          }
         }
        },
        "title": {
         "text": "Distribution of units sold per department"
        },
        "xaxis": {
         "anchor": "y",
         "domain": [
          0,
          1
         ],
         "title": {
          "text": "department"
         }
        },
        "yaxis": {
         "anchor": "x",
         "domain": [
          0,
          1
         ],
         "title": {
          "text": "Units sold"
         }
        }
       }
      }
     },
     "metadata": {},
     "output_type": "display_data"
    }
   ],
   "source": [
    "# What is the distribution of units sold per department in the different transactions?\n",
    "px.box(\n",
    "    df_transactions,\n",
    "    x=\"department\",\n",
    "    y=\"units\",\n",
    "    title=\"Distribution of units sold per department\",\n",
    "    labels={\"units\": \"Units sold\"},\n",
    ")"
   ]
  },
  {
   "cell_type": "code",
   "execution_count": 17,
   "metadata": {},
   "outputs": [
    {
     "data": {
      "application/vnd.plotly.v1+json": {
       "config": {
        "plotlyServerURL": "https://plot.ly"
       },
       "data": [
        {
         "alignmentgroup": "True",
         "hovertemplate": "department=%{y}<br>mean=%{x}<extra></extra>",
         "legendgroup": "0210:FOUNDATIONS",
         "marker": {
          "color": "#636efa",
          "pattern": {
           "shape": ""
          }
         },
         "name": "0210:FOUNDATIONS",
         "offsetgroup": "0210:FOUNDATIONS",
         "orientation": "h",
         "showlegend": true,
         "textposition": "auto",
         "type": "bar",
         "x": [
          3.75
         ],
         "xaxis": "x",
         "y": [
          "0210:FOUNDATIONS"
         ],
         "yaxis": "y"
        },
        {
         "alignmentgroup": "True",
         "hovertemplate": "department=%{y}<br>mean=%{x}<extra></extra>",
         "legendgroup": "0646:SEASONAL",
         "marker": {
          "color": "#EF553B",
          "pattern": {
           "shape": ""
          }
         },
         "name": "0646:SEASONAL",
         "offsetgroup": "0646:SEASONAL",
         "orientation": "h",
         "showlegend": true,
         "textposition": "auto",
         "type": "bar",
         "x": [
          3.7471264367816093
         ],
         "xaxis": "x",
         "y": [
          "0646:SEASONAL"
         ],
         "yaxis": "y"
        },
        {
         "alignmentgroup": "True",
         "hovertemplate": "department=%{y}<br>mean=%{x}<extra></extra>",
         "legendgroup": "0533:PAPYRUS",
         "marker": {
          "color": "#00cc96",
          "pattern": {
           "shape": ""
          }
         },
         "name": "0533:PAPYRUS",
         "offsetgroup": "0533:PAPYRUS",
         "orientation": "h",
         "showlegend": true,
         "textposition": "auto",
         "type": "bar",
         "x": [
          3.3333333333333335
         ],
         "xaxis": "x",
         "y": [
          "0533:PAPYRUS"
         ],
         "yaxis": "y"
        },
        {
         "alignmentgroup": "True",
         "hovertemplate": "department=%{y}<br>mean=%{x}<extra></extra>",
         "legendgroup": "0591:MASS FRAGRANCES",
         "marker": {
          "color": "#ab63fa",
          "pattern": {
           "shape": ""
          }
         },
         "name": "0591:MASS FRAGRANCES",
         "offsetgroup": "0591:MASS FRAGRANCES",
         "orientation": "h",
         "showlegend": true,
         "textposition": "auto",
         "type": "bar",
         "x": [
          3
         ],
         "xaxis": "x",
         "y": [
          "0591:MASS FRAGRANCES"
         ],
         "yaxis": "y"
        },
        {
         "alignmentgroup": "True",
         "hovertemplate": "department=%{y}<br>mean=%{x}<extra></extra>",
         "legendgroup": "0983:WINE",
         "marker": {
          "color": "#FFA15A",
          "pattern": {
           "shape": ""
          }
         },
         "name": "0983:WINE",
         "offsetgroup": "0983:WINE",
         "orientation": "h",
         "showlegend": true,
         "textposition": "auto",
         "type": "bar",
         "x": [
          2.764397905759162
         ],
         "xaxis": "x",
         "y": [
          "0983:WINE"
         ],
         "yaxis": "y"
        },
        {
         "alignmentgroup": "True",
         "hovertemplate": "department=%{y}<br>mean=%{x}<extra></extra>",
         "legendgroup": "0440:GIRLS 7-16 CLOTHING",
         "marker": {
          "color": "#19d3f3",
          "pattern": {
           "shape": ""
          }
         },
         "name": "0440:GIRLS 7-16 CLOTHING",
         "offsetgroup": "0440:GIRLS 7-16 CLOTHING",
         "orientation": "h",
         "showlegend": true,
         "textposition": "auto",
         "type": "bar",
         "x": [
          2.7
         ],
         "xaxis": "x",
         "y": [
          "0440:GIRLS 7-16 CLOTHING"
         ],
         "yaxis": "y"
        },
        {
         "alignmentgroup": "True",
         "hovertemplate": "department=%{y}<br>mean=%{x}<extra></extra>",
         "legendgroup": "0644:SPORTS NUTRITION",
         "marker": {
          "color": "#FF6692",
          "pattern": {
           "shape": ""
          }
         },
         "name": "0644:SPORTS NUTRITION",
         "offsetgroup": "0644:SPORTS NUTRITION",
         "orientation": "h",
         "showlegend": true,
         "textposition": "auto",
         "type": "bar",
         "x": [
          2.5555555555555554
         ],
         "xaxis": "x",
         "y": [
          "0644:SPORTS NUTRITION"
         ],
         "yaxis": "y"
        },
        {
         "alignmentgroup": "True",
         "hovertemplate": "department=%{y}<br>mean=%{x}<extra></extra>",
         "legendgroup": "0530:SCHOOL/OFFIC SUPP",
         "marker": {
          "color": "#B6E880",
          "pattern": {
           "shape": ""
          }
         },
         "name": "0530:SCHOOL/OFFIC SUPP",
         "offsetgroup": "0530:SCHOOL/OFFIC SUPP",
         "orientation": "h",
         "showlegend": true,
         "textposition": "auto",
         "type": "bar",
         "x": [
          2.5283018867924527
         ],
         "xaxis": "x",
         "y": [
          "0530:SCHOOL/OFFIC SUPP"
         ],
         "yaxis": "y"
        },
        {
         "alignmentgroup": "True",
         "hovertemplate": "department=%{y}<br>mean=%{x}<extra></extra>",
         "legendgroup": "0531:STATIONERY SUNDRIES",
         "marker": {
          "color": "#FF97FF",
          "pattern": {
           "shape": ""
          }
         },
         "name": "0531:STATIONERY SUNDRIES",
         "offsetgroup": "0531:STATIONERY SUNDRIES",
         "orientation": "h",
         "showlegend": true,
         "textposition": "auto",
         "type": "bar",
         "x": [
          2.526315789473684
         ],
         "xaxis": "x",
         "y": [
          "0531:STATIONERY SUNDRIES"
         ],
         "yaxis": "y"
        },
        {
         "alignmentgroup": "True",
         "hovertemplate": "department=%{y}<br>mean=%{x}<extra></extra>",
         "legendgroup": "0165:LIFE IS GOOD",
         "marker": {
          "color": "#FECB52",
          "pattern": {
           "shape": ""
          }
         },
         "name": "0165:LIFE IS GOOD",
         "offsetgroup": "0165:LIFE IS GOOD",
         "orientation": "h",
         "showlegend": true,
         "textposition": "auto",
         "type": "bar",
         "x": [
          2.5
         ],
         "xaxis": "x",
         "y": [
          "0165:LIFE IS GOOD"
         ],
         "yaxis": "y"
        },
        {
         "alignmentgroup": "True",
         "hovertemplate": "department=%{y}<br>mean=%{x}<extra></extra>",
         "legendgroup": "0012:LOCAL GIFTS/FOODS",
         "marker": {
          "color": "#636efa",
          "pattern": {
           "shape": ""
          }
         },
         "name": "0012:LOCAL GIFTS/FOODS",
         "offsetgroup": "0012:LOCAL GIFTS/FOODS",
         "orientation": "h",
         "showlegend": true,
         "textposition": "auto",
         "type": "bar",
         "x": [
          2.5
         ],
         "xaxis": "x",
         "y": [
          "0012:LOCAL GIFTS/FOODS"
         ],
         "yaxis": "y"
        },
        {
         "alignmentgroup": "True",
         "hovertemplate": "department=%{y}<br>mean=%{x}<extra></extra>",
         "legendgroup": "0930:TABLE TOP & KITCHEN",
         "marker": {
          "color": "#EF553B",
          "pattern": {
           "shape": ""
          }
         },
         "name": "0930:TABLE TOP & KITCHEN",
         "offsetgroup": "0930:TABLE TOP & KITCHEN",
         "orientation": "h",
         "showlegend": true,
         "textposition": "auto",
         "type": "bar",
         "x": [
          2.4615384615384617
         ],
         "xaxis": "x",
         "y": [
          "0930:TABLE TOP & KITCHEN"
         ],
         "yaxis": "y"
        },
        {
         "alignmentgroup": "True",
         "hovertemplate": "department=%{y}<br>mean=%{x}<extra></extra>",
         "legendgroup": "0595:HOME/BATH",
         "marker": {
          "color": "#00cc96",
          "pattern": {
           "shape": ""
          }
         },
         "name": "0595:HOME/BATH",
         "offsetgroup": "0595:HOME/BATH",
         "orientation": "h",
         "showlegend": true,
         "textposition": "auto",
         "type": "bar",
         "x": [
          2.4166666666666665
         ],
         "xaxis": "x",
         "y": [
          "0595:HOME/BATH"
         ],
         "yaxis": "y"
        },
        {
         "alignmentgroup": "True",
         "hovertemplate": "department=%{y}<br>mean=%{x}<extra></extra>",
         "legendgroup": "0879:PET SUPPLIES",
         "marker": {
          "color": "#ab63fa",
          "pattern": {
           "shape": ""
          }
         },
         "name": "0879:PET SUPPLIES",
         "offsetgroup": "0879:PET SUPPLIES",
         "orientation": "h",
         "showlegend": true,
         "textposition": "auto",
         "type": "bar",
         "x": [
          2.405940594059406
         ],
         "xaxis": "x",
         "y": [
          "0879:PET SUPPLIES"
         ],
         "yaxis": "y"
        },
        {
         "alignmentgroup": "True",
         "hovertemplate": "department=%{y}<br>mean=%{x}<extra></extra>",
         "legendgroup": "0415:NEWBORN APPAREL",
         "marker": {
          "color": "#FFA15A",
          "pattern": {
           "shape": ""
          }
         },
         "name": "0415:NEWBORN APPAREL",
         "offsetgroup": "0415:NEWBORN APPAREL",
         "orientation": "h",
         "showlegend": true,
         "textposition": "auto",
         "type": "bar",
         "x": [
          2.388888888888889
         ],
         "xaxis": "x",
         "y": [
          "0415:NEWBORN APPAREL"
         ],
         "yaxis": "y"
        },
        {
         "alignmentgroup": "True",
         "hovertemplate": "department=%{y}<br>mean=%{x}<extra></extra>",
         "legendgroup": "0973:CANDY",
         "marker": {
          "color": "#19d3f3",
          "pattern": {
           "shape": ""
          }
         },
         "name": "0973:CANDY",
         "offsetgroup": "0973:CANDY",
         "orientation": "h",
         "showlegend": true,
         "textposition": "auto",
         "type": "bar",
         "x": [
          2.349090909090909
         ],
         "xaxis": "x",
         "y": [
          "0973:CANDY"
         ],
         "yaxis": "y"
        },
        {
         "alignmentgroup": "True",
         "hovertemplate": "department=%{y}<br>mean=%{x}<extra></extra>",
         "legendgroup": "0836:HOUSEHOLD CLEANING",
         "marker": {
          "color": "#FF6692",
          "pattern": {
           "shape": ""
          }
         },
         "name": "0836:HOUSEHOLD CLEANING",
         "offsetgroup": "0836:HOUSEHOLD CLEANING",
         "orientation": "h",
         "showlegend": true,
         "textposition": "auto",
         "type": "bar",
         "x": [
          2.348101265822785
         ],
         "xaxis": "x",
         "y": [
          "0836:HOUSEHOLD CLEANING"
         ],
         "yaxis": "y"
        },
        {
         "alignmentgroup": "True",
         "hovertemplate": "department=%{y}<br>mean=%{x}<extra></extra>",
         "legendgroup": "0240:SLEEPWEAR/LOUNGEWEAR",
         "marker": {
          "color": "#B6E880",
          "pattern": {
           "shape": ""
          }
         },
         "name": "0240:SLEEPWEAR/LOUNGEWEAR",
         "offsetgroup": "0240:SLEEPWEAR/LOUNGEWEAR",
         "orientation": "h",
         "showlegend": true,
         "textposition": "auto",
         "type": "bar",
         "x": [
          2.3333333333333335
         ],
         "xaxis": "x",
         "y": [
          "0240:SLEEPWEAR/LOUNGEWEAR"
         ],
         "yaxis": "y"
        },
        {
         "alignmentgroup": "True",
         "hovertemplate": "department=%{y}<br>mean=%{x}<extra></extra>",
         "legendgroup": "0449:GIRLS ACCESSORIES",
         "marker": {
          "color": "#FF97FF",
          "pattern": {
           "shape": ""
          }
         },
         "name": "0449:GIRLS ACCESSORIES",
         "offsetgroup": "0449:GIRLS ACCESSORIES",
         "orientation": "h",
         "showlegend": true,
         "textposition": "auto",
         "type": "bar",
         "x": [
          2.2142857142857144
         ],
         "xaxis": "x",
         "y": [
          "0449:GIRLS ACCESSORIES"
         ],
         "yaxis": "y"
        },
        {
         "alignmentgroup": "True",
         "hovertemplate": "department=%{y}<br>mean=%{x}<extra></extra>",
         "legendgroup": "0640:TOYS",
         "marker": {
          "color": "#FECB52",
          "pattern": {
           "shape": ""
          }
         },
         "name": "0640:TOYS",
         "offsetgroup": "0640:TOYS",
         "orientation": "h",
         "showlegend": true,
         "textposition": "auto",
         "type": "bar",
         "x": [
          2.1846153846153844
         ],
         "xaxis": "x",
         "y": [
          "0640:TOYS"
         ],
         "yaxis": "y"
        },
        {
         "alignmentgroup": "True",
         "hovertemplate": "department=%{y}<br>mean=%{x}<extra></extra>",
         "legendgroup": "0931:BATH",
         "marker": {
          "color": "#636efa",
          "pattern": {
           "shape": ""
          }
         },
         "name": "0931:BATH",
         "offsetgroup": "0931:BATH",
         "orientation": "h",
         "showlegend": true,
         "textposition": "auto",
         "type": "bar",
         "x": [
          2.176470588235294
         ],
         "xaxis": "x",
         "y": [
          "0931:BATH"
         ],
         "yaxis": "y"
        },
        {
         "alignmentgroup": "True",
         "hovertemplate": "department=%{y}<br>mean=%{x}<extra></extra>",
         "legendgroup": "0638:GEN SPORTING GOODS",
         "marker": {
          "color": "#EF553B",
          "pattern": {
           "shape": ""
          }
         },
         "name": "0638:GEN SPORTING GOODS",
         "offsetgroup": "0638:GEN SPORTING GOODS",
         "orientation": "h",
         "showlegend": true,
         "textposition": "auto",
         "type": "bar",
         "x": [
          2.1666666666666665
         ],
         "xaxis": "x",
         "y": [
          "0638:GEN SPORTING GOODS"
         ],
         "yaxis": "y"
        },
        {
         "alignmentgroup": "True",
         "hovertemplate": "department=%{y}<br>mean=%{x}<extra></extra>",
         "legendgroup": "0098:WAREHOUSED EXPENSES",
         "marker": {
          "color": "#00cc96",
          "pattern": {
           "shape": ""
          }
         },
         "name": "0098:WAREHOUSED EXPENSES",
         "offsetgroup": "0098:WAREHOUSED EXPENSES",
         "orientation": "h",
         "showlegend": true,
         "textposition": "auto",
         "type": "bar",
         "x": [
          2.142857142857143
         ],
         "xaxis": "x",
         "y": [
          "0098:WAREHOUSED EXPENSES"
         ],
         "yaxis": "y"
        },
        {
         "alignmentgroup": "True",
         "hovertemplate": "department=%{y}<br>mean=%{x}<extra></extra>",
         "legendgroup": "0982:SPIRITS",
         "marker": {
          "color": "#ab63fa",
          "pattern": {
           "shape": ""
          }
         },
         "name": "0982:SPIRITS",
         "offsetgroup": "0982:SPIRITS",
         "orientation": "h",
         "showlegend": true,
         "textposition": "auto",
         "type": "bar",
         "x": [
          2.105095541401274
         ],
         "xaxis": "x",
         "y": [
          "0982:SPIRITS"
         ],
         "yaxis": "y"
        },
        {
         "alignmentgroup": "True",
         "hovertemplate": "department=%{y}<br>mean=%{x}<extra></extra>",
         "legendgroup": "0469:BOYS ACCESSORIES",
         "marker": {
          "color": "#FFA15A",
          "pattern": {
           "shape": ""
          }
         },
         "name": "0469:BOYS ACCESSORIES",
         "offsetgroup": "0469:BOYS ACCESSORIES",
         "orientation": "h",
         "showlegend": true,
         "textposition": "auto",
         "type": "bar",
         "x": [
          2.0714285714285716
         ],
         "xaxis": "x",
         "y": [
          "0469:BOYS ACCESSORIES"
         ],
         "yaxis": "y"
        }
       ],
       "layout": {
        "barmode": "relative",
        "legend": {
         "title": {
          "text": "department"
         },
         "tracegroupgap": 0
        },
        "showlegend": false,
        "template": {
         "data": {
          "bar": [
           {
            "error_x": {
             "color": "#f2f5fa"
            },
            "error_y": {
             "color": "#f2f5fa"
            },
            "marker": {
             "line": {
              "color": "rgb(17,17,17)",
              "width": 0.5
             },
             "pattern": {
              "fillmode": "overlay",
              "size": 10,
              "solidity": 0.2
             }
            },
            "type": "bar"
           }
          ],
          "barpolar": [
           {
            "marker": {
             "line": {
              "color": "rgb(17,17,17)",
              "width": 0.5
             },
             "pattern": {
              "fillmode": "overlay",
              "size": 10,
              "solidity": 0.2
             }
            },
            "type": "barpolar"
           }
          ],
          "carpet": [
           {
            "aaxis": {
             "endlinecolor": "#A2B1C6",
             "gridcolor": "#506784",
             "linecolor": "#506784",
             "minorgridcolor": "#506784",
             "startlinecolor": "#A2B1C6"
            },
            "baxis": {
             "endlinecolor": "#A2B1C6",
             "gridcolor": "#506784",
             "linecolor": "#506784",
             "minorgridcolor": "#506784",
             "startlinecolor": "#A2B1C6"
            },
            "type": "carpet"
           }
          ],
          "choropleth": [
           {
            "colorbar": {
             "outlinewidth": 0,
             "ticks": ""
            },
            "type": "choropleth"
           }
          ],
          "contour": [
           {
            "colorbar": {
             "outlinewidth": 0,
             "ticks": ""
            },
            "colorscale": [
             [
              0,
              "#0d0887"
             ],
             [
              0.1111111111111111,
              "#46039f"
             ],
             [
              0.2222222222222222,
              "#7201a8"
             ],
             [
              0.3333333333333333,
              "#9c179e"
             ],
             [
              0.4444444444444444,
              "#bd3786"
             ],
             [
              0.5555555555555556,
              "#d8576b"
             ],
             [
              0.6666666666666666,
              "#ed7953"
             ],
             [
              0.7777777777777778,
              "#fb9f3a"
             ],
             [
              0.8888888888888888,
              "#fdca26"
             ],
             [
              1,
              "#f0f921"
             ]
            ],
            "type": "contour"
           }
          ],
          "contourcarpet": [
           {
            "colorbar": {
             "outlinewidth": 0,
             "ticks": ""
            },
            "type": "contourcarpet"
           }
          ],
          "heatmap": [
           {
            "colorbar": {
             "outlinewidth": 0,
             "ticks": ""
            },
            "colorscale": [
             [
              0,
              "#0d0887"
             ],
             [
              0.1111111111111111,
              "#46039f"
             ],
             [
              0.2222222222222222,
              "#7201a8"
             ],
             [
              0.3333333333333333,
              "#9c179e"
             ],
             [
              0.4444444444444444,
              "#bd3786"
             ],
             [
              0.5555555555555556,
              "#d8576b"
             ],
             [
              0.6666666666666666,
              "#ed7953"
             ],
             [
              0.7777777777777778,
              "#fb9f3a"
             ],
             [
              0.8888888888888888,
              "#fdca26"
             ],
             [
              1,
              "#f0f921"
             ]
            ],
            "type": "heatmap"
           }
          ],
          "heatmapgl": [
           {
            "colorbar": {
             "outlinewidth": 0,
             "ticks": ""
            },
            "colorscale": [
             [
              0,
              "#0d0887"
             ],
             [
              0.1111111111111111,
              "#46039f"
             ],
             [
              0.2222222222222222,
              "#7201a8"
             ],
             [
              0.3333333333333333,
              "#9c179e"
             ],
             [
              0.4444444444444444,
              "#bd3786"
             ],
             [
              0.5555555555555556,
              "#d8576b"
             ],
             [
              0.6666666666666666,
              "#ed7953"
             ],
             [
              0.7777777777777778,
              "#fb9f3a"
             ],
             [
              0.8888888888888888,
              "#fdca26"
             ],
             [
              1,
              "#f0f921"
             ]
            ],
            "type": "heatmapgl"
           }
          ],
          "histogram": [
           {
            "marker": {
             "pattern": {
              "fillmode": "overlay",
              "size": 10,
              "solidity": 0.2
             }
            },
            "type": "histogram"
           }
          ],
          "histogram2d": [
           {
            "colorbar": {
             "outlinewidth": 0,
             "ticks": ""
            },
            "colorscale": [
             [
              0,
              "#0d0887"
             ],
             [
              0.1111111111111111,
              "#46039f"
             ],
             [
              0.2222222222222222,
              "#7201a8"
             ],
             [
              0.3333333333333333,
              "#9c179e"
             ],
             [
              0.4444444444444444,
              "#bd3786"
             ],
             [
              0.5555555555555556,
              "#d8576b"
             ],
             [
              0.6666666666666666,
              "#ed7953"
             ],
             [
              0.7777777777777778,
              "#fb9f3a"
             ],
             [
              0.8888888888888888,
              "#fdca26"
             ],
             [
              1,
              "#f0f921"
             ]
            ],
            "type": "histogram2d"
           }
          ],
          "histogram2dcontour": [
           {
            "colorbar": {
             "outlinewidth": 0,
             "ticks": ""
            },
            "colorscale": [
             [
              0,
              "#0d0887"
             ],
             [
              0.1111111111111111,
              "#46039f"
             ],
             [
              0.2222222222222222,
              "#7201a8"
             ],
             [
              0.3333333333333333,
              "#9c179e"
             ],
             [
              0.4444444444444444,
              "#bd3786"
             ],
             [
              0.5555555555555556,
              "#d8576b"
             ],
             [
              0.6666666666666666,
              "#ed7953"
             ],
             [
              0.7777777777777778,
              "#fb9f3a"
             ],
             [
              0.8888888888888888,
              "#fdca26"
             ],
             [
              1,
              "#f0f921"
             ]
            ],
            "type": "histogram2dcontour"
           }
          ],
          "mesh3d": [
           {
            "colorbar": {
             "outlinewidth": 0,
             "ticks": ""
            },
            "type": "mesh3d"
           }
          ],
          "parcoords": [
           {
            "line": {
             "colorbar": {
              "outlinewidth": 0,
              "ticks": ""
             }
            },
            "type": "parcoords"
           }
          ],
          "pie": [
           {
            "automargin": true,
            "type": "pie"
           }
          ],
          "scatter": [
           {
            "marker": {
             "line": {
              "color": "#283442"
             }
            },
            "type": "scatter"
           }
          ],
          "scatter3d": [
           {
            "line": {
             "colorbar": {
              "outlinewidth": 0,
              "ticks": ""
             }
            },
            "marker": {
             "colorbar": {
              "outlinewidth": 0,
              "ticks": ""
             }
            },
            "type": "scatter3d"
           }
          ],
          "scattercarpet": [
           {
            "marker": {
             "colorbar": {
              "outlinewidth": 0,
              "ticks": ""
             }
            },
            "type": "scattercarpet"
           }
          ],
          "scattergeo": [
           {
            "marker": {
             "colorbar": {
              "outlinewidth": 0,
              "ticks": ""
             }
            },
            "type": "scattergeo"
           }
          ],
          "scattergl": [
           {
            "marker": {
             "line": {
              "color": "#283442"
             }
            },
            "type": "scattergl"
           }
          ],
          "scattermapbox": [
           {
            "marker": {
             "colorbar": {
              "outlinewidth": 0,
              "ticks": ""
             }
            },
            "type": "scattermapbox"
           }
          ],
          "scatterpolar": [
           {
            "marker": {
             "colorbar": {
              "outlinewidth": 0,
              "ticks": ""
             }
            },
            "type": "scatterpolar"
           }
          ],
          "scatterpolargl": [
           {
            "marker": {
             "colorbar": {
              "outlinewidth": 0,
              "ticks": ""
             }
            },
            "type": "scatterpolargl"
           }
          ],
          "scatterternary": [
           {
            "marker": {
             "colorbar": {
              "outlinewidth": 0,
              "ticks": ""
             }
            },
            "type": "scatterternary"
           }
          ],
          "surface": [
           {
            "colorbar": {
             "outlinewidth": 0,
             "ticks": ""
            },
            "colorscale": [
             [
              0,
              "#0d0887"
             ],
             [
              0.1111111111111111,
              "#46039f"
             ],
             [
              0.2222222222222222,
              "#7201a8"
             ],
             [
              0.3333333333333333,
              "#9c179e"
             ],
             [
              0.4444444444444444,
              "#bd3786"
             ],
             [
              0.5555555555555556,
              "#d8576b"
             ],
             [
              0.6666666666666666,
              "#ed7953"
             ],
             [
              0.7777777777777778,
              "#fb9f3a"
             ],
             [
              0.8888888888888888,
              "#fdca26"
             ],
             [
              1,
              "#f0f921"
             ]
            ],
            "type": "surface"
           }
          ],
          "table": [
           {
            "cells": {
             "fill": {
              "color": "#506784"
             },
             "line": {
              "color": "rgb(17,17,17)"
             }
            },
            "header": {
             "fill": {
              "color": "#2a3f5f"
             },
             "line": {
              "color": "rgb(17,17,17)"
             }
            },
            "type": "table"
           }
          ]
         },
         "layout": {
          "annotationdefaults": {
           "arrowcolor": "#f2f5fa",
           "arrowhead": 0,
           "arrowwidth": 1
          },
          "autotypenumbers": "strict",
          "coloraxis": {
           "colorbar": {
            "outlinewidth": 0,
            "ticks": ""
           }
          },
          "colorscale": {
           "diverging": [
            [
             0,
             "#8e0152"
            ],
            [
             0.1,
             "#c51b7d"
            ],
            [
             0.2,
             "#de77ae"
            ],
            [
             0.3,
             "#f1b6da"
            ],
            [
             0.4,
             "#fde0ef"
            ],
            [
             0.5,
             "#f7f7f7"
            ],
            [
             0.6,
             "#e6f5d0"
            ],
            [
             0.7,
             "#b8e186"
            ],
            [
             0.8,
             "#7fbc41"
            ],
            [
             0.9,
             "#4d9221"
            ],
            [
             1,
             "#276419"
            ]
           ],
           "sequential": [
            [
             0,
             "#0d0887"
            ],
            [
             0.1111111111111111,
             "#46039f"
            ],
            [
             0.2222222222222222,
             "#7201a8"
            ],
            [
             0.3333333333333333,
             "#9c179e"
            ],
            [
             0.4444444444444444,
             "#bd3786"
            ],
            [
             0.5555555555555556,
             "#d8576b"
            ],
            [
             0.6666666666666666,
             "#ed7953"
            ],
            [
             0.7777777777777778,
             "#fb9f3a"
            ],
            [
             0.8888888888888888,
             "#fdca26"
            ],
            [
             1,
             "#f0f921"
            ]
           ],
           "sequentialminus": [
            [
             0,
             "#0d0887"
            ],
            [
             0.1111111111111111,
             "#46039f"
            ],
            [
             0.2222222222222222,
             "#7201a8"
            ],
            [
             0.3333333333333333,
             "#9c179e"
            ],
            [
             0.4444444444444444,
             "#bd3786"
            ],
            [
             0.5555555555555556,
             "#d8576b"
            ],
            [
             0.6666666666666666,
             "#ed7953"
            ],
            [
             0.7777777777777778,
             "#fb9f3a"
            ],
            [
             0.8888888888888888,
             "#fdca26"
            ],
            [
             1,
             "#f0f921"
            ]
           ]
          },
          "colorway": [
           "#636efa",
           "#EF553B",
           "#00cc96",
           "#ab63fa",
           "#FFA15A",
           "#19d3f3",
           "#FF6692",
           "#B6E880",
           "#FF97FF",
           "#FECB52"
          ],
          "font": {
           "color": "#f2f5fa"
          },
          "geo": {
           "bgcolor": "rgb(17,17,17)",
           "lakecolor": "rgb(17,17,17)",
           "landcolor": "rgb(17,17,17)",
           "showlakes": true,
           "showland": true,
           "subunitcolor": "#506784"
          },
          "hoverlabel": {
           "align": "left"
          },
          "hovermode": "closest",
          "mapbox": {
           "style": "dark"
          },
          "paper_bgcolor": "rgb(17,17,17)",
          "plot_bgcolor": "rgb(17,17,17)",
          "polar": {
           "angularaxis": {
            "gridcolor": "#506784",
            "linecolor": "#506784",
            "ticks": ""
           },
           "bgcolor": "rgb(17,17,17)",
           "radialaxis": {
            "gridcolor": "#506784",
            "linecolor": "#506784",
            "ticks": ""
           }
          },
          "scene": {
           "xaxis": {
            "backgroundcolor": "rgb(17,17,17)",
            "gridcolor": "#506784",
            "gridwidth": 2,
            "linecolor": "#506784",
            "showbackground": true,
            "ticks": "",
            "zerolinecolor": "#C8D4E3"
           },
           "yaxis": {
            "backgroundcolor": "rgb(17,17,17)",
            "gridcolor": "#506784",
            "gridwidth": 2,
            "linecolor": "#506784",
            "showbackground": true,
            "ticks": "",
            "zerolinecolor": "#C8D4E3"
           },
           "zaxis": {
            "backgroundcolor": "rgb(17,17,17)",
            "gridcolor": "#506784",
            "gridwidth": 2,
            "linecolor": "#506784",
            "showbackground": true,
            "ticks": "",
            "zerolinecolor": "#C8D4E3"
           }
          },
          "shapedefaults": {
           "line": {
            "color": "#f2f5fa"
           }
          },
          "sliderdefaults": {
           "bgcolor": "#C8D4E3",
           "bordercolor": "rgb(17,17,17)",
           "borderwidth": 1,
           "tickwidth": 0
          },
          "ternary": {
           "aaxis": {
            "gridcolor": "#506784",
            "linecolor": "#506784",
            "ticks": ""
           },
           "baxis": {
            "gridcolor": "#506784",
            "linecolor": "#506784",
            "ticks": ""
           },
           "bgcolor": "rgb(17,17,17)",
           "caxis": {
            "gridcolor": "#506784",
            "linecolor": "#506784",
            "ticks": ""
           }
          },
          "title": {
           "x": 0.05
          },
          "updatemenudefaults": {
           "bgcolor": "#506784",
           "borderwidth": 0
          },
          "xaxis": {
           "automargin": true,
           "gridcolor": "#283442",
           "linecolor": "#506784",
           "ticks": "",
           "title": {
            "standoff": 15
           },
           "zerolinecolor": "#283442",
           "zerolinewidth": 2
          },
          "yaxis": {
           "automargin": true,
           "gridcolor": "#283442",
           "linecolor": "#506784",
           "ticks": "",
           "title": {
            "standoff": 15
           },
           "zerolinecolor": "#283442",
           "zerolinewidth": 2
          }
         }
        },
        "title": {
         "text": "Top 25 departments with the highest mean in units sold"
        },
        "xaxis": {
         "anchor": "y",
         "domain": [
          0,
          1
         ],
         "title": {
          "text": "mean"
         }
        },
        "yaxis": {
         "anchor": "x",
         "categoryarray": [
          "0469:BOYS ACCESSORIES",
          "0982:SPIRITS",
          "0098:WAREHOUSED EXPENSES",
          "0638:GEN SPORTING GOODS",
          "0931:BATH",
          "0640:TOYS",
          "0449:GIRLS ACCESSORIES",
          "0240:SLEEPWEAR/LOUNGEWEAR",
          "0836:HOUSEHOLD CLEANING",
          "0973:CANDY",
          "0415:NEWBORN APPAREL",
          "0879:PET SUPPLIES",
          "0595:HOME/BATH",
          "0930:TABLE TOP & KITCHEN",
          "0012:LOCAL GIFTS/FOODS",
          "0165:LIFE IS GOOD",
          "0531:STATIONERY SUNDRIES",
          "0530:SCHOOL/OFFIC SUPP",
          "0644:SPORTS NUTRITION",
          "0440:GIRLS 7-16 CLOTHING",
          "0983:WINE",
          "0591:MASS FRAGRANCES",
          "0533:PAPYRUS",
          "0646:SEASONAL",
          "0210:FOUNDATIONS"
         ],
         "categoryorder": "array",
         "domain": [
          0,
          1
         ],
         "title": {
          "text": "department"
         }
        }
       }
      }
     },
     "metadata": {},
     "output_type": "display_data"
    }
   ],
   "source": [
    "# Which departments have the highest mean in the number of units sold?\n",
    "units_sold_mean = (\n",
    "    df_transactions.groupby(\"department\")[\"units\"]\n",
    "    .mean()\n",
    "    .sort_values(ascending=False)\n",
    "    .head(25)\n",
    ")\n",
    "\n",
    "units_sold_mean_fig = px.bar(\n",
    "    units_sold_mean,\n",
    "    color=units_sold_mean.index,\n",
    "    title=\"Top 25 departments with the highest mean in units sold\",\n",
    "    labels={\"value\": \"mean\"},\n",
    "    orientation=\"h\",\n",
    ")\n",
    "units_sold_mean_fig.update_layout(showlegend=False)\n",
    "units_sold_mean_fig.show()"
   ]
  },
  {
   "cell_type": "markdown",
   "metadata": {},
   "source": [
    "## Create pivot table for the transactions\n"
   ]
  },
  {
   "cell_type": "code",
   "execution_count": 18,
   "metadata": {},
   "outputs": [
    {
     "data": {
      "text/html": [
       "<div>\n",
       "<style scoped>\n",
       "    .dataframe tbody tr th:only-of-type {\n",
       "        vertical-align: middle;\n",
       "    }\n",
       "\n",
       "    .dataframe tbody tr th {\n",
       "        vertical-align: top;\n",
       "    }\n",
       "\n",
       "    .dataframe thead th {\n",
       "        text-align: right;\n",
       "    }\n",
       "</style>\n",
       "<table border=\"1\" class=\"dataframe\">\n",
       "  <thead>\n",
       "    <tr style=\"text-align: right;\">\n",
       "      <th>department</th>\n",
       "      <th>0002:BARBER RETAIL</th>\n",
       "      <th>0009:FLORAL SERV/SUPPLIES</th>\n",
       "      <th>0012:LOCAL GIFTS/FOODS</th>\n",
       "      <th>0014:REPAIRS</th>\n",
       "      <th>0016:FINANCIAL SERVICES</th>\n",
       "      <th>0018:OTHER DIRECT SERVICE</th>\n",
       "      <th>0033:VENDING RETAIL</th>\n",
       "      <th>0056:SOUVENIR</th>\n",
       "      <th>0066:VENDING/AMUSEMENT MA</th>\n",
       "      <th>0071:BEAUTY RETAIL</th>\n",
       "      <th>...</th>\n",
       "      <th>0941:BEDDING</th>\n",
       "      <th>0961:GENERAL GROCERIES</th>\n",
       "      <th>0962:BEVERAGES</th>\n",
       "      <th>0965:PERISHABLES</th>\n",
       "      <th>0973:CANDY</th>\n",
       "      <th>0982:SPIRITS</th>\n",
       "      <th>0983:WINE</th>\n",
       "      <th>0984:BEER</th>\n",
       "      <th>0991:TOBACCO</th>\n",
       "      <th>0999:UNSCANNED ITEMS</th>\n",
       "    </tr>\n",
       "    <tr>\n",
       "      <th>transaction_id</th>\n",
       "      <th></th>\n",
       "      <th></th>\n",
       "      <th></th>\n",
       "      <th></th>\n",
       "      <th></th>\n",
       "      <th></th>\n",
       "      <th></th>\n",
       "      <th></th>\n",
       "      <th></th>\n",
       "      <th></th>\n",
       "      <th></th>\n",
       "      <th></th>\n",
       "      <th></th>\n",
       "      <th></th>\n",
       "      <th></th>\n",
       "      <th></th>\n",
       "      <th></th>\n",
       "      <th></th>\n",
       "      <th></th>\n",
       "      <th></th>\n",
       "      <th></th>\n",
       "    </tr>\n",
       "  </thead>\n",
       "  <tbody>\n",
       "    <tr>\n",
       "      <th>16120100160021008773</th>\n",
       "      <td>False</td>\n",
       "      <td>False</td>\n",
       "      <td>False</td>\n",
       "      <td>False</td>\n",
       "      <td>False</td>\n",
       "      <td>False</td>\n",
       "      <td>False</td>\n",
       "      <td>False</td>\n",
       "      <td>False</td>\n",
       "      <td>False</td>\n",
       "      <td>...</td>\n",
       "      <td>False</td>\n",
       "      <td>False</td>\n",
       "      <td>False</td>\n",
       "      <td>False</td>\n",
       "      <td>True</td>\n",
       "      <td>True</td>\n",
       "      <td>True</td>\n",
       "      <td>False</td>\n",
       "      <td>True</td>\n",
       "      <td>False</td>\n",
       "    </tr>\n",
       "    <tr>\n",
       "      <th>16120100160021008774</th>\n",
       "      <td>False</td>\n",
       "      <td>False</td>\n",
       "      <td>False</td>\n",
       "      <td>False</td>\n",
       "      <td>False</td>\n",
       "      <td>False</td>\n",
       "      <td>False</td>\n",
       "      <td>False</td>\n",
       "      <td>False</td>\n",
       "      <td>False</td>\n",
       "      <td>...</td>\n",
       "      <td>False</td>\n",
       "      <td>False</td>\n",
       "      <td>False</td>\n",
       "      <td>False</td>\n",
       "      <td>False</td>\n",
       "      <td>False</td>\n",
       "      <td>False</td>\n",
       "      <td>False</td>\n",
       "      <td>False</td>\n",
       "      <td>False</td>\n",
       "    </tr>\n",
       "    <tr>\n",
       "      <th>16120100160021008775</th>\n",
       "      <td>False</td>\n",
       "      <td>False</td>\n",
       "      <td>False</td>\n",
       "      <td>False</td>\n",
       "      <td>False</td>\n",
       "      <td>False</td>\n",
       "      <td>False</td>\n",
       "      <td>False</td>\n",
       "      <td>False</td>\n",
       "      <td>False</td>\n",
       "      <td>...</td>\n",
       "      <td>False</td>\n",
       "      <td>False</td>\n",
       "      <td>False</td>\n",
       "      <td>False</td>\n",
       "      <td>False</td>\n",
       "      <td>True</td>\n",
       "      <td>False</td>\n",
       "      <td>False</td>\n",
       "      <td>False</td>\n",
       "      <td>False</td>\n",
       "    </tr>\n",
       "    <tr>\n",
       "      <th>16120100160021008776</th>\n",
       "      <td>False</td>\n",
       "      <td>False</td>\n",
       "      <td>False</td>\n",
       "      <td>False</td>\n",
       "      <td>False</td>\n",
       "      <td>False</td>\n",
       "      <td>False</td>\n",
       "      <td>False</td>\n",
       "      <td>False</td>\n",
       "      <td>False</td>\n",
       "      <td>...</td>\n",
       "      <td>False</td>\n",
       "      <td>True</td>\n",
       "      <td>False</td>\n",
       "      <td>False</td>\n",
       "      <td>False</td>\n",
       "      <td>False</td>\n",
       "      <td>False</td>\n",
       "      <td>False</td>\n",
       "      <td>False</td>\n",
       "      <td>False</td>\n",
       "    </tr>\n",
       "    <tr>\n",
       "      <th>16120100160021008777</th>\n",
       "      <td>False</td>\n",
       "      <td>False</td>\n",
       "      <td>False</td>\n",
       "      <td>False</td>\n",
       "      <td>False</td>\n",
       "      <td>False</td>\n",
       "      <td>False</td>\n",
       "      <td>False</td>\n",
       "      <td>False</td>\n",
       "      <td>False</td>\n",
       "      <td>...</td>\n",
       "      <td>False</td>\n",
       "      <td>False</td>\n",
       "      <td>False</td>\n",
       "      <td>False</td>\n",
       "      <td>False</td>\n",
       "      <td>True</td>\n",
       "      <td>False</td>\n",
       "      <td>False</td>\n",
       "      <td>False</td>\n",
       "      <td>False</td>\n",
       "    </tr>\n",
       "  </tbody>\n",
       "</table>\n",
       "<p>5 rows × 156 columns</p>\n",
       "</div>"
      ],
      "text/plain": [
       "department            0002:BARBER RETAIL  0009:FLORAL SERV/SUPPLIES  \\\n",
       "transaction_id                                                        \n",
       "16120100160021008773               False                      False   \n",
       "16120100160021008774               False                      False   \n",
       "16120100160021008775               False                      False   \n",
       "16120100160021008776               False                      False   \n",
       "16120100160021008777               False                      False   \n",
       "\n",
       "department            0012:LOCAL GIFTS/FOODS  0014:REPAIRS  \\\n",
       "transaction_id                                               \n",
       "16120100160021008773                   False         False   \n",
       "16120100160021008774                   False         False   \n",
       "16120100160021008775                   False         False   \n",
       "16120100160021008776                   False         False   \n",
       "16120100160021008777                   False         False   \n",
       "\n",
       "department            0016:FINANCIAL SERVICES  0018:OTHER DIRECT SERVICE  \\\n",
       "transaction_id                                                             \n",
       "16120100160021008773                    False                      False   \n",
       "16120100160021008774                    False                      False   \n",
       "16120100160021008775                    False                      False   \n",
       "16120100160021008776                    False                      False   \n",
       "16120100160021008777                    False                      False   \n",
       "\n",
       "department            0033:VENDING RETAIL  0056:SOUVENIR  \\\n",
       "transaction_id                                             \n",
       "16120100160021008773                False          False   \n",
       "16120100160021008774                False          False   \n",
       "16120100160021008775                False          False   \n",
       "16120100160021008776                False          False   \n",
       "16120100160021008777                False          False   \n",
       "\n",
       "department            0066:VENDING/AMUSEMENT MA  0071:BEAUTY RETAIL  ...  \\\n",
       "transaction_id                                                       ...   \n",
       "16120100160021008773                      False               False  ...   \n",
       "16120100160021008774                      False               False  ...   \n",
       "16120100160021008775                      False               False  ...   \n",
       "16120100160021008776                      False               False  ...   \n",
       "16120100160021008777                      False               False  ...   \n",
       "\n",
       "department            0941:BEDDING  0961:GENERAL GROCERIES  0962:BEVERAGES  \\\n",
       "transaction_id                                                               \n",
       "16120100160021008773         False                   False           False   \n",
       "16120100160021008774         False                   False           False   \n",
       "16120100160021008775         False                   False           False   \n",
       "16120100160021008776         False                    True           False   \n",
       "16120100160021008777         False                   False           False   \n",
       "\n",
       "department            0965:PERISHABLES  0973:CANDY  0982:SPIRITS  0983:WINE  \\\n",
       "transaction_id                                                                \n",
       "16120100160021008773             False        True          True       True   \n",
       "16120100160021008774             False       False         False      False   \n",
       "16120100160021008775             False       False          True      False   \n",
       "16120100160021008776             False       False         False      False   \n",
       "16120100160021008777             False       False          True      False   \n",
       "\n",
       "department            0984:BEER  0991:TOBACCO  0999:UNSCANNED ITEMS  \n",
       "transaction_id                                                       \n",
       "16120100160021008773      False          True                 False  \n",
       "16120100160021008774      False         False                 False  \n",
       "16120100160021008775      False         False                 False  \n",
       "16120100160021008776      False         False                 False  \n",
       "16120100160021008777      False         False                 False  \n",
       "\n",
       "[5 rows x 156 columns]"
      ]
     },
     "execution_count": 18,
     "metadata": {},
     "output_type": "execute_result"
    }
   ],
   "source": [
    "# Create a pivot table with the transactions and departments\n",
    "df_transactions_pivot = df_transactions.pivot_table(\n",
    "    index=\"transaction_id\", columns=\"department\", values=\"units\", aggfunc=\"sum\"\n",
    ")\n",
    "\n",
    "# Convert the pivot table to a binary matrix\n",
    "df_transactions_pivot = df_transactions_pivot.map(lambda x: True if x > 0 else False)\n",
    "\n",
    "df_transactions_pivot.head()"
   ]
  },
  {
   "cell_type": "code",
   "execution_count": 19,
   "metadata": {},
   "outputs": [
    {
     "data": {
      "text/html": [
       "<div>\n",
       "<style scoped>\n",
       "    .dataframe tbody tr th:only-of-type {\n",
       "        vertical-align: middle;\n",
       "    }\n",
       "\n",
       "    .dataframe tbody tr th {\n",
       "        vertical-align: top;\n",
       "    }\n",
       "\n",
       "    .dataframe thead th {\n",
       "        text-align: right;\n",
       "    }\n",
       "</style>\n",
       "<table border=\"1\" class=\"dataframe\">\n",
       "  <thead>\n",
       "    <tr style=\"text-align: right;\">\n",
       "      <th></th>\n",
       "      <th>0002:BARBER RETAIL</th>\n",
       "      <th>0009:FLORAL SERV/SUPPLIES</th>\n",
       "      <th>0012:LOCAL GIFTS/FOODS</th>\n",
       "      <th>0014:REPAIRS</th>\n",
       "      <th>0016:FINANCIAL SERVICES</th>\n",
       "      <th>0018:OTHER DIRECT SERVICE</th>\n",
       "      <th>0033:VENDING RETAIL</th>\n",
       "      <th>0056:SOUVENIR</th>\n",
       "      <th>0066:VENDING/AMUSEMENT MA</th>\n",
       "      <th>0071:BEAUTY RETAIL</th>\n",
       "      <th>...</th>\n",
       "      <th>0941:BEDDING</th>\n",
       "      <th>0961:GENERAL GROCERIES</th>\n",
       "      <th>0962:BEVERAGES</th>\n",
       "      <th>0965:PERISHABLES</th>\n",
       "      <th>0973:CANDY</th>\n",
       "      <th>0982:SPIRITS</th>\n",
       "      <th>0983:WINE</th>\n",
       "      <th>0984:BEER</th>\n",
       "      <th>0991:TOBACCO</th>\n",
       "      <th>0999:UNSCANNED ITEMS</th>\n",
       "    </tr>\n",
       "  </thead>\n",
       "  <tbody>\n",
       "    <tr>\n",
       "      <th>0</th>\n",
       "      <td>False</td>\n",
       "      <td>False</td>\n",
       "      <td>False</td>\n",
       "      <td>False</td>\n",
       "      <td>False</td>\n",
       "      <td>False</td>\n",
       "      <td>False</td>\n",
       "      <td>False</td>\n",
       "      <td>False</td>\n",
       "      <td>False</td>\n",
       "      <td>...</td>\n",
       "      <td>False</td>\n",
       "      <td>False</td>\n",
       "      <td>False</td>\n",
       "      <td>False</td>\n",
       "      <td>True</td>\n",
       "      <td>True</td>\n",
       "      <td>True</td>\n",
       "      <td>False</td>\n",
       "      <td>True</td>\n",
       "      <td>False</td>\n",
       "    </tr>\n",
       "    <tr>\n",
       "      <th>1</th>\n",
       "      <td>False</td>\n",
       "      <td>False</td>\n",
       "      <td>False</td>\n",
       "      <td>False</td>\n",
       "      <td>False</td>\n",
       "      <td>False</td>\n",
       "      <td>False</td>\n",
       "      <td>False</td>\n",
       "      <td>False</td>\n",
       "      <td>False</td>\n",
       "      <td>...</td>\n",
       "      <td>False</td>\n",
       "      <td>False</td>\n",
       "      <td>False</td>\n",
       "      <td>False</td>\n",
       "      <td>False</td>\n",
       "      <td>False</td>\n",
       "      <td>False</td>\n",
       "      <td>False</td>\n",
       "      <td>False</td>\n",
       "      <td>False</td>\n",
       "    </tr>\n",
       "    <tr>\n",
       "      <th>2</th>\n",
       "      <td>False</td>\n",
       "      <td>False</td>\n",
       "      <td>False</td>\n",
       "      <td>False</td>\n",
       "      <td>False</td>\n",
       "      <td>False</td>\n",
       "      <td>False</td>\n",
       "      <td>False</td>\n",
       "      <td>False</td>\n",
       "      <td>False</td>\n",
       "      <td>...</td>\n",
       "      <td>False</td>\n",
       "      <td>False</td>\n",
       "      <td>False</td>\n",
       "      <td>False</td>\n",
       "      <td>False</td>\n",
       "      <td>True</td>\n",
       "      <td>False</td>\n",
       "      <td>False</td>\n",
       "      <td>False</td>\n",
       "      <td>False</td>\n",
       "    </tr>\n",
       "    <tr>\n",
       "      <th>3</th>\n",
       "      <td>False</td>\n",
       "      <td>False</td>\n",
       "      <td>False</td>\n",
       "      <td>False</td>\n",
       "      <td>False</td>\n",
       "      <td>False</td>\n",
       "      <td>False</td>\n",
       "      <td>False</td>\n",
       "      <td>False</td>\n",
       "      <td>False</td>\n",
       "      <td>...</td>\n",
       "      <td>False</td>\n",
       "      <td>True</td>\n",
       "      <td>False</td>\n",
       "      <td>False</td>\n",
       "      <td>False</td>\n",
       "      <td>False</td>\n",
       "      <td>False</td>\n",
       "      <td>False</td>\n",
       "      <td>False</td>\n",
       "      <td>False</td>\n",
       "    </tr>\n",
       "    <tr>\n",
       "      <th>4</th>\n",
       "      <td>False</td>\n",
       "      <td>False</td>\n",
       "      <td>False</td>\n",
       "      <td>False</td>\n",
       "      <td>False</td>\n",
       "      <td>False</td>\n",
       "      <td>False</td>\n",
       "      <td>False</td>\n",
       "      <td>False</td>\n",
       "      <td>False</td>\n",
       "      <td>...</td>\n",
       "      <td>False</td>\n",
       "      <td>False</td>\n",
       "      <td>False</td>\n",
       "      <td>False</td>\n",
       "      <td>False</td>\n",
       "      <td>True</td>\n",
       "      <td>False</td>\n",
       "      <td>False</td>\n",
       "      <td>False</td>\n",
       "      <td>False</td>\n",
       "    </tr>\n",
       "  </tbody>\n",
       "</table>\n",
       "<p>5 rows × 156 columns</p>\n",
       "</div>"
      ],
      "text/plain": [
       "   0002:BARBER RETAIL  0009:FLORAL SERV/SUPPLIES  0012:LOCAL GIFTS/FOODS  \\\n",
       "0               False                      False                   False   \n",
       "1               False                      False                   False   \n",
       "2               False                      False                   False   \n",
       "3               False                      False                   False   \n",
       "4               False                      False                   False   \n",
       "\n",
       "   0014:REPAIRS  0016:FINANCIAL SERVICES  0018:OTHER DIRECT SERVICE  \\\n",
       "0         False                    False                      False   \n",
       "1         False                    False                      False   \n",
       "2         False                    False                      False   \n",
       "3         False                    False                      False   \n",
       "4         False                    False                      False   \n",
       "\n",
       "   0033:VENDING RETAIL  0056:SOUVENIR  0066:VENDING/AMUSEMENT MA  \\\n",
       "0                False          False                      False   \n",
       "1                False          False                      False   \n",
       "2                False          False                      False   \n",
       "3                False          False                      False   \n",
       "4                False          False                      False   \n",
       "\n",
       "   0071:BEAUTY RETAIL  ...  0941:BEDDING  0961:GENERAL GROCERIES  \\\n",
       "0               False  ...         False                   False   \n",
       "1               False  ...         False                   False   \n",
       "2               False  ...         False                   False   \n",
       "3               False  ...         False                    True   \n",
       "4               False  ...         False                   False   \n",
       "\n",
       "   0962:BEVERAGES  0965:PERISHABLES  0973:CANDY  0982:SPIRITS  0983:WINE  \\\n",
       "0           False             False        True          True       True   \n",
       "1           False             False       False         False      False   \n",
       "2           False             False       False          True      False   \n",
       "3           False             False       False         False      False   \n",
       "4           False             False       False          True      False   \n",
       "\n",
       "   0984:BEER  0991:TOBACCO  0999:UNSCANNED ITEMS  \n",
       "0      False          True                 False  \n",
       "1      False         False                 False  \n",
       "2      False         False                 False  \n",
       "3      False         False                 False  \n",
       "4      False         False                 False  \n",
       "\n",
       "[5 rows x 156 columns]"
      ]
     },
     "execution_count": 19,
     "metadata": {},
     "output_type": "execute_result"
    }
   ],
   "source": [
    "# Remove the name of the columns\n",
    "df_transactions_pivot = (\n",
    "    df_transactions_pivot.rename_axis(None, axis=1)\n",
    "    .reset_index()\n",
    "    .drop(columns=\"transaction_id\")\n",
    ")\n",
    "df_transactions_pivot.head()"
   ]
  },
  {
   "cell_type": "code",
   "execution_count": 20,
   "metadata": {},
   "outputs": [
    {
     "name": "stdout",
     "output_type": "stream",
     "text": [
      "<class 'pandas.core.frame.DataFrame'>\n",
      "RangeIndex: 1943 entries, 0 to 1942\n",
      "Columns: 156 entries, 0002:BARBER RETAIL to 0999:UNSCANNED ITEMS\n",
      "dtypes: bool(156)\n",
      "memory usage: 296.1 KB\n"
     ]
    }
   ],
   "source": [
    "df_transactions_pivot.info()"
   ]
  },
  {
   "cell_type": "code",
   "execution_count": 21,
   "metadata": {},
   "outputs": [
    {
     "data": {
      "image/png": "[encoded data removed]",
      "text/plain": [
       "<Figure size 1200x1000 with 2 Axes>"
      ]
     },
     "metadata": {},
     "output_type": "display_data"
    }
   ],
   "source": [
    "# Show the correlation between the departments\n",
    "plt.figure(figsize=(12, 10))\n",
    "sns.heatmap(df_transactions_pivot.corr(), center=0, vmin=-1, vmax=1, annot=False)\n",
    "plt.title(\"Correlation between departments\")\n",
    "plt.show()"
   ]
  },
  {
   "cell_type": "markdown",
   "metadata": {},
   "source": [
    "## Market Basket Analysis with Apriori Algorithm\n"
   ]
  },
  {
   "cell_type": "code",
   "execution_count": 22,
   "metadata": {},
   "outputs": [
    {
     "name": "stdout",
     "output_type": "stream",
     "text": [
      "Processing 165 combinations | Sampling itemset size 3\n"
     ]
    }
   ],
   "source": [
    "# Generate a list of frequent itemsets, with a support between 2% and 5%. Based on previous tests,\n",
    "# this support results in 40 to 100 transactions, which is a reasonable number for the association\n",
    "# rules. A bigger support would result in a smaller number of transactions, which would make the\n",
    "# association rules less interesting.\n",
    "frequent_itemsets = apriori(\n",
    "    df_transactions_pivot, min_support=0.02, use_colnames=True, verbose=1\n",
    ")"
   ]
  },
  {
   "cell_type": "code",
   "execution_count": 23,
   "metadata": {},
   "outputs": [
    {
     "name": "stdout",
     "output_type": "stream",
     "text": [
      "Number of frequent itemsets: 36\n"
     ]
    }
   ],
   "source": [
    "# How many frequent itemsets were generated?\n",
    "print(f\"Number of frequent itemsets: {len(frequent_itemsets)}\")"
   ]
  },
  {
   "cell_type": "code",
   "execution_count": 24,
   "metadata": {},
   "outputs": [],
   "source": [
    "# Add a \"size\" column for the number of items in the itemset\n",
    "frequent_itemsets[\"size\"] = frequent_itemsets[\"itemsets\"].apply(len)"
   ]
  },
  {
   "cell_type": "code",
   "execution_count": 25,
   "metadata": {},
   "outputs": [
    {
     "data": {
      "text/html": [
       "<div>\n",
       "<style scoped>\n",
       "    .dataframe tbody tr th:only-of-type {\n",
       "        vertical-align: middle;\n",
       "    }\n",
       "\n",
       "    .dataframe tbody tr th {\n",
       "        vertical-align: top;\n",
       "    }\n",
       "\n",
       "    .dataframe thead th {\n",
       "        text-align: right;\n",
       "    }\n",
       "</style>\n",
       "<table border=\"1\" class=\"dataframe\">\n",
       "  <thead>\n",
       "    <tr style=\"text-align: right;\">\n",
       "      <th></th>\n",
       "      <th>support</th>\n",
       "      <th>itemsets</th>\n",
       "      <th>size</th>\n",
       "    </tr>\n",
       "  </thead>\n",
       "  <tbody>\n",
       "    <tr>\n",
       "      <th>0</th>\n",
       "      <td>0.057643</td>\n",
       "      <td>(0072:BARBER SERVICES)</td>\n",
       "      <td>1</td>\n",
       "    </tr>\n",
       "    <tr>\n",
       "      <th>1</th>\n",
       "      <td>0.024704</td>\n",
       "      <td>(0360:MENS FURNISHINGS)</td>\n",
       "      <td>1</td>\n",
       "    </tr>\n",
       "    <tr>\n",
       "      <th>2</th>\n",
       "      <td>0.024189</td>\n",
       "      <td>(0380:MENS ACTIVEWEAR)</td>\n",
       "      <td>1</td>\n",
       "    </tr>\n",
       "    <tr>\n",
       "      <th>3</th>\n",
       "      <td>0.027277</td>\n",
       "      <td>(0530:SCHOOL/OFFIC SUPP)</td>\n",
       "      <td>1</td>\n",
       "    </tr>\n",
       "    <tr>\n",
       "      <th>4</th>\n",
       "      <td>0.053011</td>\n",
       "      <td>(0532:AMERICAN GREETINGS)</td>\n",
       "      <td>1</td>\n",
       "    </tr>\n",
       "    <tr>\n",
       "      <th>5</th>\n",
       "      <td>0.026248</td>\n",
       "      <td>(0590:MASS COSMETICS)</td>\n",
       "      <td>1</td>\n",
       "    </tr>\n",
       "    <tr>\n",
       "      <th>6</th>\n",
       "      <td>0.022645</td>\n",
       "      <td>(0593:PRESTIGE COSMETICS)</td>\n",
       "      <td>1</td>\n",
       "    </tr>\n",
       "    <tr>\n",
       "      <th>7</th>\n",
       "      <td>0.102934</td>\n",
       "      <td>(0597:HEALTH AIDS)</td>\n",
       "      <td>1</td>\n",
       "    </tr>\n",
       "    <tr>\n",
       "      <th>8</th>\n",
       "      <td>0.067936</td>\n",
       "      <td>(0603:BEAUTY CARE)</td>\n",
       "      <td>1</td>\n",
       "    </tr>\n",
       "    <tr>\n",
       "      <th>9</th>\n",
       "      <td>0.077200</td>\n",
       "      <td>(0604:PERSONAL CARE)</td>\n",
       "      <td>1</td>\n",
       "    </tr>\n",
       "    <tr>\n",
       "      <th>10</th>\n",
       "      <td>0.033453</td>\n",
       "      <td>(0640:TOYS)</td>\n",
       "      <td>1</td>\n",
       "    </tr>\n",
       "    <tr>\n",
       "      <th>11</th>\n",
       "      <td>0.044776</td>\n",
       "      <td>(0646:SEASONAL)</td>\n",
       "      <td>1</td>\n",
       "    </tr>\n",
       "    <tr>\n",
       "      <th>12</th>\n",
       "      <td>0.024704</td>\n",
       "      <td>(0826:SMALL ELECTRICS)</td>\n",
       "      <td>1</td>\n",
       "    </tr>\n",
       "    <tr>\n",
       "      <th>13</th>\n",
       "      <td>0.081318</td>\n",
       "      <td>(0836:HOUSEHOLD CLEANING)</td>\n",
       "      <td>1</td>\n",
       "    </tr>\n",
       "    <tr>\n",
       "      <th>14</th>\n",
       "      <td>0.025733</td>\n",
       "      <td>(0837:GENERAL HOUSEWARES)</td>\n",
       "      <td>1</td>\n",
       "    </tr>\n",
       "    <tr>\n",
       "      <th>15</th>\n",
       "      <td>0.051981</td>\n",
       "      <td>(0879:PET SUPPLIES)</td>\n",
       "      <td>1</td>\n",
       "    </tr>\n",
       "    <tr>\n",
       "      <th>16</th>\n",
       "      <td>0.024704</td>\n",
       "      <td>(0884:LAWN &amp; GARDEN)</td>\n",
       "      <td>1</td>\n",
       "    </tr>\n",
       "    <tr>\n",
       "      <th>17</th>\n",
       "      <td>0.050952</td>\n",
       "      <td>(0961:GENERAL GROCERIES)</td>\n",
       "      <td>1</td>\n",
       "    </tr>\n",
       "    <tr>\n",
       "      <th>18</th>\n",
       "      <td>0.130211</td>\n",
       "      <td>(0962:BEVERAGES)</td>\n",
       "      <td>1</td>\n",
       "    </tr>\n",
       "    <tr>\n",
       "      <th>19</th>\n",
       "      <td>0.141534</td>\n",
       "      <td>(0973:CANDY)</td>\n",
       "      <td>1</td>\n",
       "    </tr>\n",
       "    <tr>\n",
       "      <th>20</th>\n",
       "      <td>0.161606</td>\n",
       "      <td>(0982:SPIRITS)</td>\n",
       "      <td>1</td>\n",
       "    </tr>\n",
       "    <tr>\n",
       "      <th>21</th>\n",
       "      <td>0.098302</td>\n",
       "      <td>(0983:WINE)</td>\n",
       "      <td>1</td>\n",
       "    </tr>\n",
       "    <tr>\n",
       "      <th>22</th>\n",
       "      <td>0.067936</td>\n",
       "      <td>(0984:BEER)</td>\n",
       "      <td>1</td>\n",
       "    </tr>\n",
       "    <tr>\n",
       "      <th>23</th>\n",
       "      <td>0.095214</td>\n",
       "      <td>(0991:TOBACCO)</td>\n",
       "      <td>1</td>\n",
       "    </tr>\n",
       "    <tr>\n",
       "      <th>24</th>\n",
       "      <td>0.021616</td>\n",
       "      <td>(0603:BEAUTY CARE, 0597:HEALTH AIDS)</td>\n",
       "      <td>2</td>\n",
       "    </tr>\n",
       "    <tr>\n",
       "      <th>25</th>\n",
       "      <td>0.032939</td>\n",
       "      <td>(0604:PERSONAL CARE, 0597:HEALTH AIDS)</td>\n",
       "      <td>2</td>\n",
       "    </tr>\n",
       "    <tr>\n",
       "      <th>26</th>\n",
       "      <td>0.031395</td>\n",
       "      <td>(0836:HOUSEHOLD CLEANING, 0597:HEALTH AIDS)</td>\n",
       "      <td>2</td>\n",
       "    </tr>\n",
       "    <tr>\n",
       "      <th>27</th>\n",
       "      <td>0.023160</td>\n",
       "      <td>(0973:CANDY, 0597:HEALTH AIDS)</td>\n",
       "      <td>2</td>\n",
       "    </tr>\n",
       "    <tr>\n",
       "      <th>28</th>\n",
       "      <td>0.021101</td>\n",
       "      <td>(0603:BEAUTY CARE, 0604:PERSONAL CARE)</td>\n",
       "      <td>2</td>\n",
       "    </tr>\n",
       "    <tr>\n",
       "      <th>29</th>\n",
       "      <td>0.022131</td>\n",
       "      <td>(0961:GENERAL GROCERIES, 0962:BEVERAGES)</td>\n",
       "      <td>2</td>\n",
       "    </tr>\n",
       "    <tr>\n",
       "      <th>30</th>\n",
       "      <td>0.020072</td>\n",
       "      <td>(0961:GENERAL GROCERIES, 0973:CANDY)</td>\n",
       "      <td>2</td>\n",
       "    </tr>\n",
       "    <tr>\n",
       "      <th>31</th>\n",
       "      <td>0.034483</td>\n",
       "      <td>(0962:BEVERAGES, 0973:CANDY)</td>\n",
       "      <td>2</td>\n",
       "    </tr>\n",
       "    <tr>\n",
       "      <th>32</th>\n",
       "      <td>0.025219</td>\n",
       "      <td>(0962:BEVERAGES, 0982:SPIRITS)</td>\n",
       "      <td>2</td>\n",
       "    </tr>\n",
       "    <tr>\n",
       "      <th>33</th>\n",
       "      <td>0.039629</td>\n",
       "      <td>(0983:WINE, 0982:SPIRITS)</td>\n",
       "      <td>2</td>\n",
       "    </tr>\n",
       "    <tr>\n",
       "      <th>34</th>\n",
       "      <td>0.025733</td>\n",
       "      <td>(0984:BEER, 0982:SPIRITS)</td>\n",
       "      <td>2</td>\n",
       "    </tr>\n",
       "    <tr>\n",
       "      <th>35</th>\n",
       "      <td>0.026763</td>\n",
       "      <td>(0982:SPIRITS, 0991:TOBACCO)</td>\n",
       "      <td>2</td>\n",
       "    </tr>\n",
       "  </tbody>\n",
       "</table>\n",
       "</div>"
      ],
      "text/plain": [
       "     support                                     itemsets  size\n",
       "0   0.057643                       (0072:BARBER SERVICES)     1\n",
       "1   0.024704                      (0360:MENS FURNISHINGS)     1\n",
       "2   0.024189                       (0380:MENS ACTIVEWEAR)     1\n",
       "3   0.027277                     (0530:SCHOOL/OFFIC SUPP)     1\n",
       "4   0.053011                    (0532:AMERICAN GREETINGS)     1\n",
       "5   0.026248                        (0590:MASS COSMETICS)     1\n",
       "6   0.022645                    (0593:PRESTIGE COSMETICS)     1\n",
       "7   0.102934                           (0597:HEALTH AIDS)     1\n",
       "8   0.067936                           (0603:BEAUTY CARE)     1\n",
       "9   0.077200                         (0604:PERSONAL CARE)     1\n",
       "10  0.033453                                  (0640:TOYS)     1\n",
       "11  0.044776                              (0646:SEASONAL)     1\n",
       "12  0.024704                       (0826:SMALL ELECTRICS)     1\n",
       "13  0.081318                    (0836:HOUSEHOLD CLEANING)     1\n",
       "14  0.025733                    (0837:GENERAL HOUSEWARES)     1\n",
       "15  0.051981                          (0879:PET SUPPLIES)     1\n",
       "16  0.024704                         (0884:LAWN & GARDEN)     1\n",
       "17  0.050952                     (0961:GENERAL GROCERIES)     1\n",
       "18  0.130211                             (0962:BEVERAGES)     1\n",
       "19  0.141534                                 (0973:CANDY)     1\n",
       "20  0.161606                               (0982:SPIRITS)     1\n",
       "21  0.098302                                  (0983:WINE)     1\n",
       "22  0.067936                                  (0984:BEER)     1\n",
       "23  0.095214                               (0991:TOBACCO)     1\n",
       "24  0.021616         (0603:BEAUTY CARE, 0597:HEALTH AIDS)     2\n",
       "25  0.032939       (0604:PERSONAL CARE, 0597:HEALTH AIDS)     2\n",
       "26  0.031395  (0836:HOUSEHOLD CLEANING, 0597:HEALTH AIDS)     2\n",
       "27  0.023160               (0973:CANDY, 0597:HEALTH AIDS)     2\n",
       "28  0.021101       (0603:BEAUTY CARE, 0604:PERSONAL CARE)     2\n",
       "29  0.022131     (0961:GENERAL GROCERIES, 0962:BEVERAGES)     2\n",
       "30  0.020072         (0961:GENERAL GROCERIES, 0973:CANDY)     2\n",
       "31  0.034483                 (0962:BEVERAGES, 0973:CANDY)     2\n",
       "32  0.025219               (0962:BEVERAGES, 0982:SPIRITS)     2\n",
       "33  0.039629                    (0983:WINE, 0982:SPIRITS)     2\n",
       "34  0.025733                    (0984:BEER, 0982:SPIRITS)     2\n",
       "35  0.026763                 (0982:SPIRITS, 0991:TOBACCO)     2"
      ]
     },
     "execution_count": 25,
     "metadata": {},
     "output_type": "execute_result"
    }
   ],
   "source": [
    "frequent_itemsets"
   ]
  },
  {
   "cell_type": "code",
   "execution_count": 26,
   "metadata": {},
   "outputs": [
    {
     "name": "stdout",
     "output_type": "stream",
     "text": [
      "Support for 0982:SPIRITS: 0.161606\n"
     ]
    }
   ],
   "source": [
    "# Example: calculate the support for the itemset {0982:SPIRITS}\n",
    "spirts_support = df_transactions_pivot[\"0982:SPIRITS\"].sum() / len(\n",
    "    df_transactions_pivot\n",
    ")\n",
    "print(f\"Support for 0982:SPIRITS: {spirts_support:.6f}\")"
   ]
  },
  {
   "cell_type": "code",
   "execution_count": 27,
   "metadata": {},
   "outputs": [
    {
     "data": {
      "text/html": [
       "<div>\n",
       "<style scoped>\n",
       "    .dataframe tbody tr th:only-of-type {\n",
       "        vertical-align: middle;\n",
       "    }\n",
       "\n",
       "    .dataframe tbody tr th {\n",
       "        vertical-align: top;\n",
       "    }\n",
       "\n",
       "    .dataframe thead th {\n",
       "        text-align: right;\n",
       "    }\n",
       "</style>\n",
       "<table border=\"1\" class=\"dataframe\">\n",
       "  <thead>\n",
       "    <tr style=\"text-align: right;\">\n",
       "      <th></th>\n",
       "      <th>support</th>\n",
       "      <th>itemsets</th>\n",
       "      <th>size</th>\n",
       "    </tr>\n",
       "  </thead>\n",
       "  <tbody>\n",
       "    <tr>\n",
       "      <th>24</th>\n",
       "      <td>0.021616</td>\n",
       "      <td>(0603:BEAUTY CARE, 0597:HEALTH AIDS)</td>\n",
       "      <td>2</td>\n",
       "    </tr>\n",
       "    <tr>\n",
       "      <th>25</th>\n",
       "      <td>0.032939</td>\n",
       "      <td>(0604:PERSONAL CARE, 0597:HEALTH AIDS)</td>\n",
       "      <td>2</td>\n",
       "    </tr>\n",
       "    <tr>\n",
       "      <th>26</th>\n",
       "      <td>0.031395</td>\n",
       "      <td>(0836:HOUSEHOLD CLEANING, 0597:HEALTH AIDS)</td>\n",
       "      <td>2</td>\n",
       "    </tr>\n",
       "    <tr>\n",
       "      <th>27</th>\n",
       "      <td>0.023160</td>\n",
       "      <td>(0973:CANDY, 0597:HEALTH AIDS)</td>\n",
       "      <td>2</td>\n",
       "    </tr>\n",
       "    <tr>\n",
       "      <th>28</th>\n",
       "      <td>0.021101</td>\n",
       "      <td>(0603:BEAUTY CARE, 0604:PERSONAL CARE)</td>\n",
       "      <td>2</td>\n",
       "    </tr>\n",
       "    <tr>\n",
       "      <th>29</th>\n",
       "      <td>0.022131</td>\n",
       "      <td>(0961:GENERAL GROCERIES, 0962:BEVERAGES)</td>\n",
       "      <td>2</td>\n",
       "    </tr>\n",
       "    <tr>\n",
       "      <th>30</th>\n",
       "      <td>0.020072</td>\n",
       "      <td>(0961:GENERAL GROCERIES, 0973:CANDY)</td>\n",
       "      <td>2</td>\n",
       "    </tr>\n",
       "    <tr>\n",
       "      <th>31</th>\n",
       "      <td>0.034483</td>\n",
       "      <td>(0962:BEVERAGES, 0973:CANDY)</td>\n",
       "      <td>2</td>\n",
       "    </tr>\n",
       "    <tr>\n",
       "      <th>32</th>\n",
       "      <td>0.025219</td>\n",
       "      <td>(0962:BEVERAGES, 0982:SPIRITS)</td>\n",
       "      <td>2</td>\n",
       "    </tr>\n",
       "    <tr>\n",
       "      <th>33</th>\n",
       "      <td>0.039629</td>\n",
       "      <td>(0983:WINE, 0982:SPIRITS)</td>\n",
       "      <td>2</td>\n",
       "    </tr>\n",
       "    <tr>\n",
       "      <th>34</th>\n",
       "      <td>0.025733</td>\n",
       "      <td>(0984:BEER, 0982:SPIRITS)</td>\n",
       "      <td>2</td>\n",
       "    </tr>\n",
       "    <tr>\n",
       "      <th>35</th>\n",
       "      <td>0.026763</td>\n",
       "      <td>(0982:SPIRITS, 0991:TOBACCO)</td>\n",
       "      <td>2</td>\n",
       "    </tr>\n",
       "  </tbody>\n",
       "</table>\n",
       "</div>"
      ],
      "text/plain": [
       "     support                                     itemsets  size\n",
       "24  0.021616         (0603:BEAUTY CARE, 0597:HEALTH AIDS)     2\n",
       "25  0.032939       (0604:PERSONAL CARE, 0597:HEALTH AIDS)     2\n",
       "26  0.031395  (0836:HOUSEHOLD CLEANING, 0597:HEALTH AIDS)     2\n",
       "27  0.023160               (0973:CANDY, 0597:HEALTH AIDS)     2\n",
       "28  0.021101       (0603:BEAUTY CARE, 0604:PERSONAL CARE)     2\n",
       "29  0.022131     (0961:GENERAL GROCERIES, 0962:BEVERAGES)     2\n",
       "30  0.020072         (0961:GENERAL GROCERIES, 0973:CANDY)     2\n",
       "31  0.034483                 (0962:BEVERAGES, 0973:CANDY)     2\n",
       "32  0.025219               (0962:BEVERAGES, 0982:SPIRITS)     2\n",
       "33  0.039629                    (0983:WINE, 0982:SPIRITS)     2\n",
       "34  0.025733                    (0984:BEER, 0982:SPIRITS)     2\n",
       "35  0.026763                 (0982:SPIRITS, 0991:TOBACCO)     2"
      ]
     },
     "execution_count": 27,
     "metadata": {},
     "output_type": "execute_result"
    }
   ],
   "source": [
    "# Filter itemsets with at least 2 items\n",
    "frequent_itemsets[frequent_itemsets[\"size\"] >= 2]"
   ]
  },
  {
   "cell_type": "code",
   "execution_count": 31,
   "metadata": {},
   "outputs": [
    {
     "data": {
      "text/html": [
       "<div>\n",
       "<style scoped>\n",
       "    .dataframe tbody tr th:only-of-type {\n",
       "        vertical-align: middle;\n",
       "    }\n",
       "\n",
       "    .dataframe tbody tr th {\n",
       "        vertical-align: top;\n",
       "    }\n",
       "\n",
       "    .dataframe thead th {\n",
       "        text-align: right;\n",
       "    }\n",
       "</style>\n",
       "<table border=\"1\" class=\"dataframe\">\n",
       "  <thead>\n",
       "    <tr style=\"text-align: right;\">\n",
       "      <th></th>\n",
       "      <th>antecedents</th>\n",
       "      <th>consequents</th>\n",
       "      <th>antecedent support</th>\n",
       "      <th>consequent support</th>\n",
       "      <th>support</th>\n",
       "      <th>confidence</th>\n",
       "      <th>lift</th>\n",
       "      <th>leverage</th>\n",
       "      <th>conviction</th>\n",
       "      <th>zhangs_metric</th>\n",
       "    </tr>\n",
       "  </thead>\n",
       "  <tbody>\n",
       "    <tr>\n",
       "      <th>0</th>\n",
       "      <td>(0603:BEAUTY CARE)</td>\n",
       "      <td>(0597:HEALTH AIDS)</td>\n",
       "      <td>0.067936</td>\n",
       "      <td>0.102934</td>\n",
       "      <td>0.021616</td>\n",
       "      <td>0.318182</td>\n",
       "      <td>3.091136</td>\n",
       "      <td>0.014623</td>\n",
       "      <td>1.315697</td>\n",
       "      <td>0.725803</td>\n",
       "    </tr>\n",
       "    <tr>\n",
       "      <th>1</th>\n",
       "      <td>(0604:PERSONAL CARE)</td>\n",
       "      <td>(0597:HEALTH AIDS)</td>\n",
       "      <td>0.077200</td>\n",
       "      <td>0.102934</td>\n",
       "      <td>0.032939</td>\n",
       "      <td>0.426667</td>\n",
       "      <td>4.145067</td>\n",
       "      <td>0.024992</td>\n",
       "      <td>1.564651</td>\n",
       "      <td>0.822225</td>\n",
       "    </tr>\n",
       "    <tr>\n",
       "      <th>2</th>\n",
       "      <td>(0597:HEALTH AIDS)</td>\n",
       "      <td>(0604:PERSONAL CARE)</td>\n",
       "      <td>0.102934</td>\n",
       "      <td>0.077200</td>\n",
       "      <td>0.032939</td>\n",
       "      <td>0.320000</td>\n",
       "      <td>4.145067</td>\n",
       "      <td>0.024992</td>\n",
       "      <td>1.357059</td>\n",
       "      <td>0.845812</td>\n",
       "    </tr>\n",
       "    <tr>\n",
       "      <th>3</th>\n",
       "      <td>(0836:HOUSEHOLD CLEANING)</td>\n",
       "      <td>(0597:HEALTH AIDS)</td>\n",
       "      <td>0.081318</td>\n",
       "      <td>0.102934</td>\n",
       "      <td>0.031395</td>\n",
       "      <td>0.386076</td>\n",
       "      <td>3.750728</td>\n",
       "      <td>0.023024</td>\n",
       "      <td>1.461201</td>\n",
       "      <td>0.798301</td>\n",
       "    </tr>\n",
       "    <tr>\n",
       "      <th>4</th>\n",
       "      <td>(0597:HEALTH AIDS)</td>\n",
       "      <td>(0836:HOUSEHOLD CLEANING)</td>\n",
       "      <td>0.102934</td>\n",
       "      <td>0.081318</td>\n",
       "      <td>0.031395</td>\n",
       "      <td>0.305000</td>\n",
       "      <td>3.750728</td>\n",
       "      <td>0.023024</td>\n",
       "      <td>1.321845</td>\n",
       "      <td>0.817537</td>\n",
       "    </tr>\n",
       "    <tr>\n",
       "      <th>5</th>\n",
       "      <td>(0603:BEAUTY CARE)</td>\n",
       "      <td>(0604:PERSONAL CARE)</td>\n",
       "      <td>0.067936</td>\n",
       "      <td>0.077200</td>\n",
       "      <td>0.021101</td>\n",
       "      <td>0.310606</td>\n",
       "      <td>4.023384</td>\n",
       "      <td>0.015857</td>\n",
       "      <td>1.338567</td>\n",
       "      <td>0.806225</td>\n",
       "    </tr>\n",
       "    <tr>\n",
       "      <th>6</th>\n",
       "      <td>(0961:GENERAL GROCERIES)</td>\n",
       "      <td>(0962:BEVERAGES)</td>\n",
       "      <td>0.050952</td>\n",
       "      <td>0.130211</td>\n",
       "      <td>0.022131</td>\n",
       "      <td>0.434343</td>\n",
       "      <td>3.335689</td>\n",
       "      <td>0.015496</td>\n",
       "      <td>1.537663</td>\n",
       "      <td>0.737805</td>\n",
       "    </tr>\n",
       "    <tr>\n",
       "      <th>7</th>\n",
       "      <td>(0961:GENERAL GROCERIES)</td>\n",
       "      <td>(0973:CANDY)</td>\n",
       "      <td>0.050952</td>\n",
       "      <td>0.141534</td>\n",
       "      <td>0.020072</td>\n",
       "      <td>0.393939</td>\n",
       "      <td>2.783361</td>\n",
       "      <td>0.012861</td>\n",
       "      <td>1.416469</td>\n",
       "      <td>0.675121</td>\n",
       "    </tr>\n",
       "    <tr>\n",
       "      <th>8</th>\n",
       "      <td>(0983:WINE)</td>\n",
       "      <td>(0982:SPIRITS)</td>\n",
       "      <td>0.098302</td>\n",
       "      <td>0.161606</td>\n",
       "      <td>0.039629</td>\n",
       "      <td>0.403141</td>\n",
       "      <td>2.494598</td>\n",
       "      <td>0.023743</td>\n",
       "      <td>1.404678</td>\n",
       "      <td>0.664450</td>\n",
       "    </tr>\n",
       "    <tr>\n",
       "      <th>9</th>\n",
       "      <td>(0984:BEER)</td>\n",
       "      <td>(0982:SPIRITS)</td>\n",
       "      <td>0.067936</td>\n",
       "      <td>0.161606</td>\n",
       "      <td>0.025733</td>\n",
       "      <td>0.378788</td>\n",
       "      <td>2.343901</td>\n",
       "      <td>0.014755</td>\n",
       "      <td>1.349610</td>\n",
       "      <td>0.615152</td>\n",
       "    </tr>\n",
       "  </tbody>\n",
       "</table>\n",
       "</div>"
      ],
      "text/plain": [
       "                 antecedents                consequents  antecedent support  \\\n",
       "0         (0603:BEAUTY CARE)         (0597:HEALTH AIDS)            0.067936   \n",
       "1       (0604:PERSONAL CARE)         (0597:HEALTH AIDS)            0.077200   \n",
       "2         (0597:HEALTH AIDS)       (0604:PERSONAL CARE)            0.102934   \n",
       "3  (0836:HOUSEHOLD CLEANING)         (0597:HEALTH AIDS)            0.081318   \n",
       "4         (0597:HEALTH AIDS)  (0836:HOUSEHOLD CLEANING)            0.102934   \n",
       "5         (0603:BEAUTY CARE)       (0604:PERSONAL CARE)            0.067936   \n",
       "6   (0961:GENERAL GROCERIES)           (0962:BEVERAGES)            0.050952   \n",
       "7   (0961:GENERAL GROCERIES)               (0973:CANDY)            0.050952   \n",
       "8                (0983:WINE)             (0982:SPIRITS)            0.098302   \n",
       "9                (0984:BEER)             (0982:SPIRITS)            0.067936   \n",
       "\n",
       "   consequent support   support  confidence      lift  leverage  conviction  \\\n",
       "0            0.102934  0.021616    0.318182  3.091136  0.014623    1.315697   \n",
       "1            0.102934  0.032939    0.426667  4.145067  0.024992    1.564651   \n",
       "2            0.077200  0.032939    0.320000  4.145067  0.024992    1.357059   \n",
       "3            0.102934  0.031395    0.386076  3.750728  0.023024    1.461201   \n",
       "4            0.081318  0.031395    0.305000  3.750728  0.023024    1.321845   \n",
       "5            0.077200  0.021101    0.310606  4.023384  0.015857    1.338567   \n",
       "6            0.130211  0.022131    0.434343  3.335689  0.015496    1.537663   \n",
       "7            0.141534  0.020072    0.393939  2.783361  0.012861    1.416469   \n",
       "8            0.161606  0.039629    0.403141  2.494598  0.023743    1.404678   \n",
       "9            0.161606  0.025733    0.378788  2.343901  0.014755    1.349610   \n",
       "\n",
       "   zhangs_metric  \n",
       "0       0.725803  \n",
       "1       0.822225  \n",
       "2       0.845812  \n",
       "3       0.798301  \n",
       "4       0.817537  \n",
       "5       0.806225  \n",
       "6       0.737805  \n",
       "7       0.675121  \n",
       "8       0.664450  \n",
       "9       0.615152  "
      ]
     },
     "execution_count": 31,
     "metadata": {},
     "output_type": "execute_result"
    }
   ],
   "source": [
    "# Create association rules based on the frequent itemsets\n",
    "rules = association_rules(frequent_itemsets, metric=\"confidence\", min_threshold=0.3)\n",
    "rules"
   ]
  }
 ],
 "metadata": {
  "kernelspec": {
   "display_name": "ignite-ai-15-apriori-z8f0zv_U",
   "language": "python",
   "name": "python3"
  },
  "language_info": {
   "codemirror_mode": {
    "name": "ipython",
    "version": 3
   },
   "file_extension": ".py",
   "mimetype": "text/x-python",
   "name": "python",
   "nbconvert_exporter": "python",
   "pygments_lexer": "ipython3",
   "version": "3.11.9"
  }
 },
 "nbformat": 4,
 "nbformat_minor": 2
}
